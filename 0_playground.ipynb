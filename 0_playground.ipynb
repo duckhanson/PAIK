{
 "cells": [
  {
   "cell_type": "code",
   "execution_count": 1,
   "metadata": {},
   "outputs": [],
   "source": [
    "\n",
    "# Import required packages\n",
    "from os import path \n",
    "import time\n",
    "# import numpy as np\n",
    "import pandas as pd\n",
    "import torch\n",
    "from tqdm import tqdm, trange\n",
    "from zuko.flows import CNF, NSF\n",
    "from utils.settings import config as cfg\n",
    "from utils.utils import *\n",
    "from utils.model import *\n",
    "from utils.robot import Robot\n",
    "from spatialmath.base import r2q\n",
    "from klampt.math import so3\n",
    "import numpy as np\n",
    "import quaternion"
   ]
  },
  {
   "cell_type": "code",
   "execution_count": 2,
   "metadata": {},
   "outputs": [
    {
     "name": "stdout",
     "output_type": "stream",
     "text": [
      "/home/luca/ikpflow/data/panda/train/J-2500000-7-7-7.npy: file not exist and return empty np array.\n",
      "/home/luca/ikpflow/data/panda/train/P-2500000-7-7-7.npy: file not exist and return empty np array.\n",
      "Start sample 2500000 data.\n"
     ]
    },
    {
     "name": "stderr",
     "output_type": "stream",
     "text": [
      "100%|██████████| 2500000/2500000 [01:16<00:00, 32614.52it/s]\n"
     ]
    },
    {
     "name": "stdout",
     "output_type": "stream",
     "text": [
      "/home/luca/ikpflow/data/panda/val/J-20000-7-7-7.npy: file not exist and return empty np array.\n",
      "/home/luca/ikpflow/data/panda/val/P-20000-7-7-7.npy: file not exist and return empty np array.\n",
      "Start sample 20000 data.\n"
     ]
    },
    {
     "name": "stderr",
     "output_type": "stream",
     "text": [
      "100%|██████████| 20000/20000 [00:00<00:00, 32636.27it/s]\n",
      "100%|██████████| 2500000/2500000 [07:06<00:00, 5865.88it/s]\n"
     ]
    },
    {
     "name": "stdout",
     "output_type": "stream",
     "text": [
      "F load successfully from /home/luca/ikpflow/data/panda/train/F-2500000-7-7-7.npy\n",
      "/home/luca/ikpflow/data/panda/train/knn-2500000-7-7-7-normFalse.pickle: file not exist and return None.\n",
      "Create and save knn at /home/luca/ikpflow/data/panda/train/knn-2500000-7-7-7-normFalse.pickle.\n"
     ]
    }
   ],
   "source": [
    "robot = Robot(verbose=False)\n",
    "J_tr, P_tr, P_ts, F = load_all_data(robot, enable_normalize=False)\n",
    "knn = get_knn(P_tr=P_tr)"
   ]
  },
  {
   "cell_type": "code",
   "execution_count": 10,
   "metadata": {},
   "outputs": [
    {
     "data": {
      "text/plain": [
       "(3.752499384755315,\n",
       " 1.2791284119963353,\n",
       " 0.9893250005756266,\n",
       " -3.0717990766488277,\n",
       " -0.9466926462430354,\n",
       " -0.9960560941393313)"
      ]
     },
     "execution_count": 10,
     "metadata": {},
     "output_type": "execute_result"
    }
   ],
   "source": [
    "np.max(J_tr), np.max(P_tr), np.max(F), np.min(J_tr), np.min(P_tr), np.min(F)"
   ]
  },
  {
   "cell_type": "code",
   "execution_count": null,
   "metadata": {},
   "outputs": [],
   "source": [
    "config = {\n",
    "        'subnet_width': 1400,\n",
    "        'subnet_num_layers': 3,\n",
    "        'num_transforms': 9,\n",
    "        'lr': 2.1e-4,\n",
    "        'lr_weight_decay': 2.7e-2,\n",
    "        'decay_step_size': 4e4,\n",
    "        'gamma': 5e-2,\n",
    "        'batch_size': 128,\n",
    "        'num_epochs': 10,\n",
    "    }\n",
    "\n",
    "solver, optimizer, scheduler = get_flow_model(\n",
    "        enable_load_model=cfg.use_pretrained,\n",
    "        num_transforms=config[\"num_transforms\"],\n",
    "        subnet_width=config[\"subnet_width\"],\n",
    "        subnet_num_layers=config[\"subnet_num_layers\"],\n",
    "        lr=config[\"lr\"],\n",
    "        lr_weight_decay=config[\"lr_weight_decay\"],\n",
    "        decay_step_size=config[\"decay_step_size\"],\n",
    "        gamma=config[\"gamma\"],\n",
    "        device='cuda')\n",
    "\n",
    "# flow = NSF(\n",
    "#             features=cfg.n,\n",
    "#             context=cfg.num_conditions,\n",
    "#             transforms=config[\"num_transforms\"],\n",
    "#             randperm=True,\n",
    "#             bins=10,\n",
    "#             activation=cfg.activation,\n",
    "#             hidden_features=[config[\"subnet_width\"]] * config[\"subnet_num_layers\"],\n",
    "#         ).to('cuda')\n",
    "\n",
    "# state = torch.load(cfg.path_solver)\n",
    "# flow.load_state_dict(state_dict=state['solver'])"
   ]
  },
  {
   "cell_type": "code",
   "execution_count": 4,
   "metadata": {},
   "outputs": [],
   "source": [
    "def null_space_motion_single(robot, q):\n",
    "    \"\"\"\n",
    "    return null space motion = (1-Jt@J)@Jm with normalize\n",
    "\n",
    "    Parameters\n",
    "    ----------\n",
    "    robot : Robot\n",
    "        abstract class of Robot\n",
    "    q : np.array\n",
    "        joint configuration\n",
    "\n",
    "    Returns\n",
    "    -------\n",
    "    np.array\n",
    "        normalized null space motion that maximize manipulability\n",
    "    \"\"\"\n",
    "    jacob = robot.robot.jacob0(q)\n",
    "    null_projection = (1 - jacob.T@jacob)\n",
    "    null_space_policy = robot.robot.jacobm(q)\n",
    "    null_space_motion = null_projection@null_space_policy\n",
    "    norm_motion = null_space_motion / np.linalg.norm(null_space_motion)\n",
    "    return norm_motion.reshape((cfg.n))"
   ]
  },
  {
   "cell_type": "code",
   "execution_count": 5,
   "metadata": {},
   "outputs": [],
   "source": [
    "def null_space_motion_array(robot, qs):\n",
    "    null_motion_array = np.zeros_like(qs)\n",
    "    i = 0\n",
    "    for q in tqdm(qs):\n",
    "        null_motion_array[i] = null_space_motion_single(robot, q)\n",
    "        i += 1\n",
    "    return null_motion_array"
   ]
  },
  {
   "cell_type": "code",
   "execution_count": 6,
   "metadata": {},
   "outputs": [],
   "source": [
    "q = J_tr[0]"
   ]
  },
  {
   "cell_type": "code",
   "execution_count": 7,
   "metadata": {},
   "outputs": [
    {
     "data": {
      "text/plain": [
       "array([-0.24278462, -0.78070367, -0.04409422,  0.34172538, -0.2935072 ,\n",
       "        0.27256217, -0.22891103])"
      ]
     },
     "execution_count": 7,
     "metadata": {},
     "output_type": "execute_result"
    }
   ],
   "source": [
    "NS = null_space_motion_single(robot, q)\n",
    "NS"
   ]
  },
  {
   "cell_type": "code",
   "execution_count": 8,
   "metadata": {},
   "outputs": [
    {
     "data": {
      "text/plain": [
       "array([-0.24278462, -0.78070367, -0.04409422,  0.34172538, -0.2935072 ,\n",
       "        0.27256217, -0.22891103])"
      ]
     },
     "execution_count": 8,
     "metadata": {},
     "output_type": "execute_result"
    }
   ],
   "source": [
    "F[0]"
   ]
  },
  {
   "cell_type": "code",
   "execution_count": 21,
   "metadata": {},
   "outputs": [
    {
     "name": "stdout",
     "output_type": "stream",
     "text": [
      "(1000, 7)\n"
     ]
    },
    {
     "name": "stderr",
     "output_type": "stream",
     "text": [
      "100%|██████████| 1000/1000 [00:00<00:00, 3021.22it/s]\n"
     ]
    },
    {
     "data": {
      "text/plain": [
       "(1000, 7)"
      ]
     },
     "execution_count": 21,
     "metadata": {},
     "output_type": "execute_result"
    }
   ],
   "source": [
    "NM = null_space_motion_array(robot, J_tr[:1000])\n",
    "NM.shape"
   ]
  },
  {
   "cell_type": "code",
   "execution_count": null,
   "metadata": {},
   "outputs": [],
   "source": [
    "i, j = np.random.randint(low=0, high=len(J_tr), size=2)\n",
    "p, q = J_tr[i], J_tr[j]\n",
    "p_n = null_space_motion(robot, p)\n",
    "q_n = null_space_motion(robot, q)\n",
    "p_n.shape, p_n, np.linalg.norm(p_n)"
   ]
  },
  {
   "cell_type": "code",
   "execution_count": null,
   "metadata": {},
   "outputs": [],
   "source": [
    "# NUM_STEPS = 250_0000 // 2\n",
    "NUM_STEPS = 2000\n",
    "\n",
    "position_distance = np.empty((NUM_STEPS))\n",
    "null_distance = np.empty((NUM_STEPS))\n",
    "\n",
    "from tqdm import trange\n",
    "for step in trange(NUM_STEPS):\n",
    "    i, j = np.random.randint(low=0, high=len(J_tr), size=2)\n",
    "    p, q = J_tr[i], J_tr[j]\n",
    "    p_n = null_space_motion(robot, p)\n",
    "    q_n = null_space_motion(robot, q)\n",
    "    \n",
    "    position_distance[step] = np.linalg.norm(p - q)\n",
    "    null_distance[step] = np.linalg.norm(p_n - q_n)"
   ]
  },
  {
   "cell_type": "code",
   "execution_count": null,
   "metadata": {},
   "outputs": [],
   "source": [
    "df = pd.DataFrame({'position_distance': position_distance,\n",
    "                   'null_distance': null_distance})\n",
    "plot = df.plot.scatter(x='position_distance', y='null_distance')"
   ]
  },
  {
   "cell_type": "code",
   "execution_count": null,
   "metadata": {},
   "outputs": [],
   "source": [
    "robot.robot.jacob0(q)\n"
   ]
  },
  {
   "cell_type": "code",
   "execution_count": null,
   "metadata": {},
   "outputs": [],
   "source": [
    "robot.robot.jacob0(q).shape"
   ]
  },
  {
   "cell_type": "code",
   "execution_count": null,
   "metadata": {},
   "outputs": [],
   "source": [
    "robot.robot.jacobm(q)"
   ]
  },
  {
   "cell_type": "code",
   "execution_count": null,
   "metadata": {},
   "outputs": [],
   "source": [
    "mu = torch.zeros(size=(cfg.n,))\n",
    "NUM_DATA = 100\n",
    "NUM_SAMPLES = 1000\n",
    "df = test(robot=robot, P_ts=P_ts[:NUM_DATA], F=F, solver=solver, knn=knn, K=NUM_SAMPLES, print_report=True)"
   ]
  },
  {
   "cell_type": "code",
   "execution_count": null,
   "metadata": {},
   "outputs": [],
   "source": [
    "iflow = get_iflow_model(solver, init_sample=mu, shrink_ratio=0.11)\n",
    "test(robot=robot, P_ts=P_ts[:NUM_DATA], F=F, solver=iflow, knn=knn, K=NUM_SAMPLES, print_report=True)"
   ]
  },
  {
   "cell_type": "code",
   "execution_count": null,
   "metadata": {},
   "outputs": [],
   "source": [
    "# public final void set(Matrix4f m1) {\n",
    "# \tw = Math.sqrt(1.0 + m1.m00 + m1.m11 + m1.m22) / 2.0;\n",
    "# \tdouble w4 = (4.0 * w);\n",
    "# \tx = (m1.m21 - m1.m12) / w4 ;\n",
    "# \ty = (m1.m02 - m1.m20) / w4 ;\n",
    "# \tz = (m1.m10 - m1.m01) / w4 ;\n",
    "# }\n",
    "\n",
    "def rot2qua(R):\n",
    "    w = np.sqrt(1.0 + R[0, 0] + R[1, 1] + R[2, 2]) / 2.0\n",
    "    w4 = 4.0 * w\n",
    "    \n",
    "    x = (R[2, 1] - R[1, 2]) / w4\n",
    "    y = (R[0, 2] - R[2, 0]) / w4\n",
    "    z = (R[1, 0] - R[0, 1]) / w4\n",
    "    \n",
    "    return (w, x, y, z)"
   ]
  },
  {
   "cell_type": "code",
   "execution_count": null,
   "metadata": {},
   "outputs": [],
   "source": [
    "rot2qua(T.R)"
   ]
  },
  {
   "cell_type": "code",
   "execution_count": null,
   "metadata": {},
   "outputs": [],
   "source": [
    "i = 6\n",
    "neigh_idx = knn.kneighbors([P_ts_norm[i, :3]], n_neighbors=2, return_distance=False)\n",
    "neigh_idx = neigh_idx.flatten()\n",
    "neigh_idx, P_tr_norm[neigh_idx], P_ts_norm[i]"
   ]
  },
  {
   "cell_type": "code",
   "execution_count": null,
   "metadata": {},
   "outputs": [],
   "source": [
    "i = 6\n",
    "neigh_idx = knn.kneighbors([P_ts[i, :3]], n_neighbors=2, return_distance=False)\n",
    "neigh_idx = neigh_idx.flatten()\n",
    "neigh_idx, P_tr[neigh_idx], P_ts[i]"
   ]
  },
  {
   "cell_type": "code",
   "execution_count": null,
   "metadata": {},
   "outputs": [],
   "source": [
    "neigh_idx = [2078302, 1221060]\n",
    "neigh_idx, P_tr[neigh_idx], P_ts[i]"
   ]
  },
  {
   "cell_type": "code",
   "execution_count": null,
   "metadata": {},
   "outputs": [],
   "source": [
    "i = 6\n",
    "neigh_idx = knn.kneighbors([P_ts[i, :3]], n_neighbors=2, return_distance=False)\n",
    "neigh_idx = neigh_idx.flatten()\n",
    "neigh_idx, P_tr[neigh_idx], P_ts[i]"
   ]
  },
  {
   "cell_type": "code",
   "execution_count": null,
   "metadata": {},
   "outputs": [],
   "source": [
    "i = 0\n",
    "robot.position_orientation_errors_Arr_Inputs([J_tr_norm[i]], P_tr_norm[i])"
   ]
  },
  {
   "cell_type": "code",
   "execution_count": null,
   "metadata": {},
   "outputs": [],
   "source": [
    "from pprint import pprint\n",
    "def show_stat(arr):\n",
    "    min = arr.min(axis=0)\n",
    "    mean = arr.mean(axis=0)\n",
    "    max = arr.max(axis=0)\n",
    "    pprint((min, mean, max))"
   ]
  },
  {
   "cell_type": "code",
   "execution_count": null,
   "metadata": {},
   "outputs": [],
   "source": [
    "show_stat(F)"
   ]
  },
  {
   "cell_type": "code",
   "execution_count": null,
   "metadata": {},
   "outputs": [],
   "source": [
    "robot.joint_min, robot.joint_max"
   ]
  },
  {
   "cell_type": "code",
   "execution_count": null,
   "metadata": {},
   "outputs": [],
   "source": [
    "J_norm = normalize(J_tr)\n",
    "J_denorm = denormalize(J_norm, robot.joint_min, robot.joint_max)"
   ]
  },
  {
   "cell_type": "code",
   "execution_count": null,
   "metadata": {},
   "outputs": [],
   "source": [
    "J_tr.min(axis=0), J_tr.max(axis=0), J_tr.mean(axis=0)"
   ]
  },
  {
   "cell_type": "code",
   "execution_count": null,
   "metadata": {},
   "outputs": [],
   "source": [
    "J_denorm.min(axis=0), J_denorm.max(axis=0), J_denorm.mean(axis=0)"
   ]
  },
  {
   "cell_type": "code",
   "execution_count": null,
   "metadata": {},
   "outputs": [],
   "source": [
    "J_norm.max(axis=0)"
   ]
  },
  {
   "cell_type": "code",
   "execution_count": null,
   "metadata": {},
   "outputs": [],
   "source": [
    "df = pd.DataFrame(P_tr)\n",
    "df.min().to_numpy(), df.max().to_numpy()"
   ]
  },
  {
   "cell_type": "code",
   "execution_count": null,
   "metadata": {},
   "outputs": [],
   "source": [
    "df = pd.DataFrame(J_tr)\n",
    "df.min(), df.max()"
   ]
  },
  {
   "cell_type": "code",
   "execution_count": null,
   "metadata": {},
   "outputs": [],
   "source": [
    "df.min().to_numpy(), df.max().to_numpy()"
   ]
  },
  {
   "cell_type": "code",
   "execution_count": null,
   "metadata": {},
   "outputs": [],
   "source": [
    "train_loader = get_train_loader(J=J_tr,\n",
    "                                    P=P_tr,\n",
    "                                    F=F,\n",
    "                                    device='cuda',\n",
    "                                    batch_size=128)\n",
    "\n",
    "# Build Generative model, NSF\n",
    "# Neural spline flow (NSF) with 3 sample features and 5 context features\n",
    "solver, optimizer, scheduler = get_flow_model(\n",
    "    load_model=cfg.use_pretrained,\n",
    "    num_transforms=7,\n",
    "    subnet_width=1024,\n",
    "    subnet_num_layers=3,\n",
    "    lr=4.8e-4,\n",
    "    lr_weight_decay=5e-3,\n",
    "    decay_step_size=4e4,\n",
    "    gamma=0.5,\n",
    "    device='cuda')"
   ]
  },
  {
   "cell_type": "code",
   "execution_count": null,
   "metadata": {},
   "outputs": [],
   "source": [
    "rand = np.random.randint(low=0, high=len(P_ts), size=cfg.num_eval_size)\n",
    "_, position_errors, _, _ = test(\n",
    "    robot=robot,\n",
    "    P_ts=P_ts[rand],\n",
    "    F=F,\n",
    "    solver=solver,\n",
    "    knn=knn,\n",
    "    K=cfg.K,\n",
    "    print_report=False,\n",
    ")"
   ]
  },
  {
   "cell_type": "code",
   "execution_count": null,
   "metadata": {},
   "outputs": [],
   "source": [
    "com_pos = np.zeros((100, 7))"
   ]
  },
  {
   "cell_type": "code",
   "execution_count": null,
   "metadata": {},
   "outputs": [],
   "source": [
    "com_pos[:, :3]"
   ]
  },
  {
   "cell_type": "code",
   "execution_count": null,
   "metadata": {},
   "outputs": [],
   "source": [
    "position_errors"
   ]
  },
  {
   "cell_type": "code",
   "execution_count": null,
   "metadata": {},
   "outputs": [],
   "source": [
    "class Net(nn.Module):\n",
    "    def __init__(self, l1=120, l2=84):\n",
    "        super(Net, self).__init__()\n",
    "        self.conv1 = nn.Conv2d(3, 6, 5)\n",
    "        self.pool = nn.MaxPool2d(2, 2)\n",
    "        self.conv2 = nn.Conv2d(6, 16, 5)\n",
    "        self.fc1 = nn.Linear(16 * 5 * 5, l1)\n",
    "        self.fc2 = nn.Linear(l1, l2)\n",
    "        self.fc3 = nn.Linear(l2, 10)\n",
    "\n",
    "    def forward(self, x):\n",
    "        x = self.pool(F.relu(self.conv1(x)))\n",
    "        x = self.pool(F.relu(self.conv2(x)))\n",
    "        x = x.view(-1, 16 * 5 * 5)\n",
    "        x = F.relu(self.fc1(x))\n",
    "        x = F.relu(self.fc2(x))\n",
    "        x = self.fc3(x)\n",
    "        return x"
   ]
  },
  {
   "cell_type": "code",
   "execution_count": null,
   "metadata": {},
   "outputs": [],
   "source": [
    "def train_cifar(config):\n",
    "    net = Net(config[\"l1\"], config[\"l2\"])\n",
    "\n",
    "    device = \"cpu\"\n",
    "    if torch.cuda.is_available():\n",
    "        device = \"cuda:0\"\n",
    "        if torch.cuda.device_count() > 1:\n",
    "            net = nn.DataParallel(net)\n",
    "    net.to(device)\n",
    "\n",
    "    criterion = nn.CrossEntropyLoss()\n",
    "    optimizer = optim.SGD(net.parameters(), lr=config[\"lr\"], momentum=0.9)\n",
    "\n",
    "    # To restore a checkpoint, use `session.get_checkpoint()`.\n",
    "    loaded_checkpoint = session.get_checkpoint()\n",
    "    if loaded_checkpoint:\n",
    "        with loaded_checkpoint.as_directory() as loaded_checkpoint_dir:\n",
    "           model_state, optimizer_state = torch.load(os.path.join(loaded_checkpoint_dir, \"checkpoint.pt\"))\n",
    "        net.load_state_dict(model_state)\n",
    "        optimizer.load_state_dict(optimizer_state)\n",
    "\n",
    "    data_dir = os.path.abspath(\"./data\")\n",
    "    trainset, testset = load_data(data_dir)\n",
    "\n",
    "    test_abs = int(len(trainset) * 0.8)\n",
    "    train_subset, val_subset = random_split(\n",
    "        trainset, [test_abs, len(trainset) - test_abs])\n",
    "\n",
    "    trainloader = torch.utils.data.DataLoader(\n",
    "        train_subset,\n",
    "        batch_size=int(config[\"batch_size\"]),\n",
    "        shuffle=True,\n",
    "        num_workers=8)\n",
    "    valloader = torch.utils.data.DataLoader(\n",
    "        val_subset,\n",
    "        batch_size=int(config[\"batch_size\"]),\n",
    "        shuffle=True,\n",
    "        num_workers=8)\n",
    "\n",
    "    for epoch in range(10):  # loop over the dataset multiple times\n",
    "        running_loss = 0.0\n",
    "        epoch_steps = 0\n",
    "        for i, data in enumerate(trainloader, 0):\n",
    "            # get the inputs; data is a list of [inputs, labels]\n",
    "            inputs, labels = data\n",
    "            inputs, labels = inputs.to(device), labels.to(device)\n",
    "\n",
    "            # zero the parameter gradients\n",
    "            optimizer.zero_grad()\n",
    "\n",
    "            # forward + backward + optimize\n",
    "            outputs = net(inputs)\n",
    "            loss = criterion(outputs, labels)\n",
    "            loss.backward()\n",
    "            optimizer.step()\n",
    "\n",
    "            # print statistics\n",
    "            running_loss += loss.item()\n",
    "            epoch_steps += 1\n",
    "            if i % 2000 == 1999:  # print every 2000 mini-batches\n",
    "                print(\"[%d, %5d] loss: %.3f\" % (epoch + 1, i + 1,\n",
    "                                                running_loss / epoch_steps))\n",
    "                running_loss = 0.0\n",
    "\n",
    "        # Validation loss\n",
    "        val_loss = 0.0\n",
    "        val_steps = 0\n",
    "        total = 0\n",
    "        correct = 0\n",
    "        for i, data in enumerate(valloader, 0):\n",
    "            with torch.no_grad():\n",
    "                inputs, labels = data\n",
    "                inputs, labels = inputs.to(device), labels.to(device)\n",
    "\n",
    "                outputs = net(inputs)\n",
    "                _, predicted = torch.max(outputs.data, 1)\n",
    "                total += labels.size(0)\n",
    "                correct += (predicted == labels).sum().item()\n",
    "\n",
    "                loss = criterion(outputs, labels)\n",
    "                val_loss += loss.cpu().numpy()\n",
    "                val_steps += 1\n",
    "\n",
    "        # Here we save a checkpoint. It is automatically registered with\n",
    "        # Ray Tune and can be accessed through `session.get_checkpoint()`\n",
    "        # API in future iterations.\n",
    "        os.makedirs(\"my_model\", exist_ok=True)\n",
    "        torch.save(\n",
    "            (net.state_dict(), optimizer.state_dict()), \"my_model/checkpoint.pt\")\n",
    "        checkpoint = Checkpoint.from_directory(\"my_model\")\n",
    "        session.report({\"loss\": (val_loss / val_steps), \"accuracy\": correct / total}, checkpoint=checkpoint)\n",
    "    print(\"Finished Training\")"
   ]
  },
  {
   "cell_type": "code",
   "execution_count": null,
   "metadata": {},
   "outputs": [],
   "source": [
    "def _test_accuracy(net, device=\"cpu\"):\n",
    "    trainset, testset = load_data()\n",
    "\n",
    "    testloader = torch.utils.data.DataLoader(\n",
    "        testset, batch_size=4, shuffle=False, num_workers=2)\n",
    "\n",
    "    correct = 0\n",
    "    total = 0\n",
    "    with torch.no_grad():\n",
    "        for data in testloader:\n",
    "            images, labels = data\n",
    "            images, labels = images.to(device), labels.to(device)\n",
    "            outputs = net(images)\n",
    "            _, predicted = torch.max(outputs.data, 1)\n",
    "            total += labels.size(0)\n",
    "            correct += (predicted == labels).sum().item()\n",
    "\n",
    "    return correct / total"
   ]
  },
  {
   "cell_type": "code",
   "execution_count": null,
   "metadata": {},
   "outputs": [],
   "source": [
    "def test_best_model(best_result):\n",
    "    best_trained_model = Net(best_result.config[\"l1\"], best_result.config[\"l2\"])\n",
    "    device = \"cuda:0\" if torch.cuda.is_available() else \"cpu\"\n",
    "    best_trained_model.to(device)\n",
    "\n",
    "    checkpoint_path = os.path.join(best_result.checkpoint.to_directory(), \"checkpoint.pt\")\n",
    "\n",
    "    model_state, optimizer_state = torch.load(checkpoint_path)\n",
    "    best_trained_model.load_state_dict(model_state)\n",
    "\n",
    "    trainset, testset = load_data()\n",
    "\n",
    "    testloader = torch.utils.data.DataLoader(\n",
    "        testset, batch_size=4, shuffle=False, num_workers=2)\n",
    "\n",
    "    correct = 0\n",
    "    total = 0\n",
    "    with torch.no_grad():\n",
    "        for data in testloader:\n",
    "            images, labels = data\n",
    "            images, labels = images.to(device), labels.to(device)\n",
    "            outputs = best_trained_model(images)\n",
    "            _, predicted = torch.max(outputs.data, 1)\n",
    "            total += labels.size(0)\n",
    "            correct += (predicted == labels).sum().item()\n",
    "\n",
    "\n",
    "    print(\"Best trial test set accuracy: {}\".format(correct / total))"
   ]
  },
  {
   "cell_type": "code",
   "execution_count": null,
   "metadata": {},
   "outputs": [],
   "source": [
    "config = {\n",
    "    \"l1\": tune.sample_from(lambda _: 2**np.random.randint(2, 9)),\n",
    "    \"l2\": tune.sample_from(lambda _: 2**np.random.randint(2, 9)),\n",
    "    \"lr\": tune.loguniform(1e-4, 1e-1),\n",
    "    \"batch_size\": tune.choice([2, 4, 8, 16]),\n",
    "}"
   ]
  },
  {
   "cell_type": "code",
   "execution_count": null,
   "metadata": {},
   "outputs": [],
   "source": [
    "def main(num_samples=10, max_num_epochs=10, gpus_per_trial=2):\n",
    "    config = {\n",
    "        \"l1\": tune.sample_from(lambda _: 2 ** np.random.randint(2, 9)),\n",
    "        \"l2\": tune.sample_from(lambda _: 2 ** np.random.randint(2, 9)),\n",
    "        \"lr\": tune.loguniform(1e-4, 1e-1),\n",
    "        \"batch_size\": tune.choice([2, 4, 8, 16])\n",
    "    }\n",
    "    scheduler = ASHAScheduler(\n",
    "        max_t=max_num_epochs,\n",
    "        grace_period=1,\n",
    "        reduction_factor=2)\n",
    "    \n",
    "    tuner = tune.Tuner(\n",
    "        tune.with_resources(\n",
    "            tune.with_parameters(train_cifar),\n",
    "            resources={\"cpu\": 2, \"gpu\": gpus_per_trial}\n",
    "        ),\n",
    "        tune_config=tune.TuneConfig(\n",
    "            metric=\"loss\",\n",
    "            mode=\"min\",\n",
    "            scheduler=scheduler,\n",
    "            num_samples=num_samples,\n",
    "        ),\n",
    "        param_space=config,\n",
    "    )\n",
    "    results = tuner.fit()\n",
    "    \n",
    "    best_result = results.get_best_result(\"loss\", \"min\")\n",
    "\n",
    "    print(\"Best trial config: {}\".format(best_result.config))\n",
    "    print(\"Best trial final validation loss: {}\".format(\n",
    "        best_result.metrics[\"loss\"]))\n",
    "    print(\"Best trial final validation accuracy: {}\".format(\n",
    "        best_result.metrics[\"accuracy\"]))\n",
    "\n",
    "    test_best_model(best_result)\n",
    "\n",
    "main(num_samples=2, max_num_epochs=2, gpus_per_trial=0)"
   ]
  },
  {
   "cell_type": "code",
   "execution_count": null,
   "metadata": {},
   "outputs": [],
   "source": [
    "print(f\"#trials={len(result.trials)}\")\n",
    "print(f\"time={time.time()-start_time}\")\n",
    "best_trial = result.get_best_trial(\"loss\", \"min\", \"all\")\n",
    "print(\"Best trial config: {}\".format(best_trial.config))\n",
    "print(\"Best trial final validation loss: {}\".format(\n",
    "    best_trial.metric_analysis[\"loss\"][\"min\"]))\n",
    "print(\"Best trial final validation accuracy: {}\".format(\n",
    "    best_trial.metric_analysis[\"accuracy\"][\"max\"]))\n",
    "\n",
    "best_trained_model = Net(2**best_trial.config[\"l1\"],\n",
    "                         2**best_trial.config[\"l2\"])\n",
    "device = \"cpu\"\n",
    "if torch.cuda.is_available():\n",
    "    device = \"cuda:0\"\n",
    "    if gpus_per_trial > 1:\n",
    "        best_trained_model = nn.DataParallel(best_trained_model)\n",
    "best_trained_model.to(device)\n",
    "\n",
    "checkpoint_value = getattr(best_trial.checkpoint, \"dir_or_data\", None) or best_trial.checkpoint.value\n",
    "checkpoint_path = os.path.join(checkpoint_value, \"checkpoint\")\n",
    "\n",
    "model_state, optimizer_state = torch.load(checkpoint_path)\n",
    "best_trained_model.load_state_dict(model_state)\n",
    "\n",
    "test_acc = _test_accuracy(best_trained_model, device)\n",
    "print(\"Best trial test set accuracy: {}\".format(test_acc))"
   ]
  }
 ],
 "metadata": {
  "kernelspec": {
   "display_name": "base",
   "language": "python",
   "name": "python3"
  },
  "language_info": {
   "codemirror_mode": {
    "name": "ipython",
    "version": 3
   },
   "file_extension": ".py",
   "mimetype": "text/x-python",
   "name": "python",
   "nbconvert_exporter": "python",
   "pygments_lexer": "ipython3",
   "version": "3.9.12"
  }
 },
 "nbformat": 4,
 "nbformat_minor": 4
}
