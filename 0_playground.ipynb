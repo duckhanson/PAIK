{
 "cells": [
  {
   "cell_type": "code",
   "execution_count": 1,
   "metadata": {},
   "outputs": [],
   "source": [
    "# Import required packages\n",
    "from os import path \n",
    "import time\n",
    "import numpy as np\n",
    "import pandas as pd\n",
    "import torch\n",
    "\n",
    "from utils.settings import config as cfg\n",
    "from utils.utils import *\n",
    "from utils.model import *\n",
    "from utils.robot import Robot"
   ]
  },
  {
   "cell_type": "code",
   "execution_count": 2,
   "metadata": {},
   "outputs": [
    {
     "name": "stdout",
     "output_type": "stream",
     "text": [
      "F load successfully from /home/luca/ikpflow/data/panda/train/F-2500000-7-7-1.npy\n",
      "Load normalize data. [NOTICE] Please check out denormalize works !\n",
      "knn load successfully from /home/luca/ikpflow/data/panda/train/knn-2500000-7-7-1-normTrue.pickle\n"
     ]
    }
   ],
   "source": [
    "robot = Robot(verbose=False)\n",
    "J_tr, P_tr, P_ts, F = load_all_data(robot)\n",
    "# P_tr_norm = normalize(P_tr, P_tr.min(axis=0), P_tr.max(axis=0))\n",
    "# P_ts_norm = normalize(P_ts, P_tr.min(axis=0), P_tr.max(axis=0))\n",
    "\n",
    "knn = get_knn(P_tr=P_tr)\n",
    "# knn = NearestNeighbors(n_neighbors=1)  \n",
    "# P_tr = np.atleast_2d(P_tr)\n",
    "# knn.fit(P_tr[:, :3])  \n",
    "# knn = NearestNeighbors(n_neighbors=1)  \n",
    "# P_tr = np.atleast_2d(P_tr_norm)\n",
    "# knn.fit(P_tr_norm[:, :3])  "
   ]
  },
  {
   "cell_type": "code",
   "execution_count": 3,
   "metadata": {},
   "outputs": [
    {
     "ename": "NameError",
     "evalue": "name 'P_ts_norm' is not defined",
     "output_type": "error",
     "traceback": [
      "\u001b[0;31m---------------------------------------------------------------------------\u001b[0m",
      "\u001b[0;31mNameError\u001b[0m                                 Traceback (most recent call last)",
      "Cell \u001b[0;32mIn[3], line 2\u001b[0m\n\u001b[1;32m      1\u001b[0m i \u001b[39m=\u001b[39m \u001b[39m6\u001b[39m\n\u001b[0;32m----> 2\u001b[0m neigh_idx \u001b[39m=\u001b[39m knn\u001b[39m.\u001b[39mkneighbors([P_ts_norm[i, :\u001b[39m3\u001b[39m]], n_neighbors\u001b[39m=\u001b[39m\u001b[39m2\u001b[39m, return_distance\u001b[39m=\u001b[39m\u001b[39mFalse\u001b[39;00m)\n\u001b[1;32m      3\u001b[0m neigh_idx \u001b[39m=\u001b[39m neigh_idx\u001b[39m.\u001b[39mflatten()\n\u001b[1;32m      4\u001b[0m neigh_idx, P_tr_norm[neigh_idx], P_ts_norm[i]\n",
      "\u001b[0;31mNameError\u001b[0m: name 'P_ts_norm' is not defined"
     ]
    }
   ],
   "source": [
    "i = 6\n",
    "neigh_idx = knn.kneighbors([P_ts_norm[i, :3]], n_neighbors=2, return_distance=False)\n",
    "neigh_idx = neigh_idx.flatten()\n",
    "neigh_idx, P_tr_norm[neigh_idx], P_ts_norm[i]"
   ]
  },
  {
   "cell_type": "code",
   "execution_count": 4,
   "metadata": {},
   "outputs": [
    {
     "data": {
      "text/plain": [
       "(array([2078302, 1221060]),\n",
       " array([[0.39744597, 0.42838209, 0.89795131, 0.88631925, 0.7313085 ,\n",
       "         0.54633286, 0.46100377],\n",
       "        [0.39733193, 0.42771371, 0.89680901, 0.7236206 , 0.32421786,\n",
       "         0.32113036, 0.89453593]]),\n",
       " array([0.39790795, 0.43234051, 0.89847622, 0.49660702, 0.59821684,\n",
       "        0.06233364, 0.83701947]))"
      ]
     },
     "execution_count": 4,
     "metadata": {},
     "output_type": "execute_result"
    }
   ],
   "source": [
    "i = 6\n",
    "neigh_idx = knn.kneighbors([P_ts[i, :3]], n_neighbors=2, return_distance=False)\n",
    "neigh_idx = neigh_idx.flatten()\n",
    "neigh_idx, P_tr[neigh_idx], P_ts[i]"
   ]
  },
  {
   "cell_type": "code",
   "execution_count": 5,
   "metadata": {},
   "outputs": [
    {
     "data": {
      "text/plain": [
       "([2078302, 1221060],\n",
       " array([[0.39744597, 0.42838209, 0.89795131, 0.88631925, 0.7313085 ,\n",
       "         0.54633286, 0.46100377],\n",
       "        [0.39733193, 0.42771371, 0.89680901, 0.7236206 , 0.32421786,\n",
       "         0.32113036, 0.89453593]]),\n",
       " array([-0.19348079, -0.12859001,  1.10623691,  0.14079012,  0.31426428,\n",
       "        -0.6003596 ,  0.72179253]))"
      ]
     },
     "execution_count": 5,
     "metadata": {},
     "output_type": "execute_result"
    }
   ],
   "source": [
    "neigh_idx = [2078302, 1221060]\n",
    "neigh_idx, P_tr[neigh_idx], P_ts[i]"
   ]
  },
  {
   "cell_type": "code",
   "execution_count": 3,
   "metadata": {},
   "outputs": [
    {
     "data": {
      "text/plain": [
       "(array([2078302, 1221060]),\n",
       " array([[-0.19435528, -0.13607637,  1.105343  ,  0.8059281 ,  0.54138928,\n",
       "          0.22569237,  0.08025277],\n",
       "        [-0.19457114, -0.13734044,  1.10339769,  0.52824359, -0.15332338,\n",
       "         -0.15866561,  0.81992431]]),\n",
       " array([-0.19348079, -0.12859001,  1.10623691,  0.14079012,  0.31426428,\n",
       "        -0.6003596 ,  0.72179253]))"
      ]
     },
     "execution_count": 3,
     "metadata": {},
     "output_type": "execute_result"
    }
   ],
   "source": [
    "i = 6\n",
    "neigh_idx = knn.kneighbors([P_ts[i, :3]], n_neighbors=2, return_distance=False)\n",
    "neigh_idx = neigh_idx.flatten()\n",
    "neigh_idx, P_tr[neigh_idx], P_ts[i]"
   ]
  },
  {
   "cell_type": "code",
   "execution_count": 7,
   "metadata": {},
   "outputs": [
    {
     "data": {
      "text/plain": [
       "(array([1.24126708e-16]), 0.0)"
      ]
     },
     "execution_count": 7,
     "metadata": {},
     "output_type": "execute_result"
    }
   ],
   "source": [
    "i = 0\n",
    "robot.position_orientation_errors_Arr_Inputs([J_tr_norm[i]], P_tr_norm[i])"
   ]
  },
  {
   "cell_type": "code",
   "execution_count": 4,
   "metadata": {},
   "outputs": [],
   "source": [
    "from pprint import pprint\n",
    "def show_stat(arr):\n",
    "    min = arr.min(axis=0)\n",
    "    mean = arr.mean(axis=0)\n",
    "    max = arr.max(axis=0)\n",
    "    pprint((min, mean, max))"
   ]
  },
  {
   "cell_type": "code",
   "execution_count": 7,
   "metadata": {},
   "outputs": [
    {
     "name": "stdout",
     "output_type": "stream",
     "text": [
      "(array([0.]), array([0.54738835]), array([1.]))\n"
     ]
    }
   ],
   "source": [
    "show_stat(F)"
   ]
  },
  {
   "cell_type": "code",
   "execution_count": 6,
   "metadata": {},
   "outputs": [
    {
     "data": {
      "text/plain": [
       "(array([-2.8973, -1.7628, -2.8973, -3.0718, -2.8973, -0.0175, -2.8973]),\n",
       " array([ 2.8973,  1.7628,  2.8973, -0.0698,  2.8973,  3.7525,  2.8973]))"
      ]
     },
     "execution_count": 6,
     "metadata": {},
     "output_type": "execute_result"
    }
   ],
   "source": [
    "robot.joint_min, robot.joint_max"
   ]
  },
  {
   "cell_type": "code",
   "execution_count": 7,
   "metadata": {},
   "outputs": [],
   "source": [
    "J_norm = normalize(J_tr)\n",
    "J_denorm = denormalize(J_norm, robot.joint_min, robot.joint_max)"
   ]
  },
  {
   "cell_type": "code",
   "execution_count": 9,
   "metadata": {},
   "outputs": [
    {
     "data": {
      "text/plain": [
       "(array([-2.8972988 , -1.76279956, -2.89729915, -3.07179908, -2.89729985,\n",
       "        -0.0174998 , -2.89729994]),\n",
       " array([ 2.89729953,  1.76279993,  2.89729921, -0.06980014,  2.89729721,\n",
       "         3.75249938,  2.89729969]),\n",
       " array([-1.17417604e-03, -3.56074026e-04, -1.09437393e-03, -1.57046052e+00,\n",
       "        -1.30458994e-04,  1.86740027e+00, -3.81040592e-04]))"
      ]
     },
     "execution_count": 9,
     "metadata": {},
     "output_type": "execute_result"
    }
   ],
   "source": [
    "J_tr.min(axis=0), J_tr.max(axis=0), J_tr.mean(axis=0)"
   ]
  },
  {
   "cell_type": "code",
   "execution_count": 8,
   "metadata": {},
   "outputs": [
    {
     "data": {
      "text/plain": [
       "(array([-2.8973, -1.7628, -2.8973, -3.0718, -2.8973, -0.0175, -2.8973]),\n",
       " array([ 2.8973,  1.7628,  2.8973, -0.0698,  2.8973,  3.7525,  2.8973]),\n",
       " array([-1.17454119e-03, -3.56258561e-04, -1.09440177e-03, -1.57046091e+00,\n",
       "        -1.29134591e-04,  1.86740048e+00, -3.80915211e-04]))"
      ]
     },
     "execution_count": 8,
     "metadata": {},
     "output_type": "execute_result"
    }
   ],
   "source": [
    "J_denorm.min(axis=0), J_denorm.max(axis=0), J_denorm.mean(axis=0)"
   ]
  },
  {
   "cell_type": "code",
   "execution_count": 7,
   "metadata": {},
   "outputs": [
    {
     "data": {
      "text/plain": [
       "array([1., 1., 1., 1., 1., 1., 1.])"
      ]
     },
     "execution_count": 7,
     "metadata": {},
     "output_type": "execute_result"
    }
   ],
   "source": [
    "J_norm.max(axis=0)"
   ]
  },
  {
   "cell_type": "code",
   "execution_count": 10,
   "metadata": {},
   "outputs": [
    {
     "data": {
      "text/plain": [
       "(array([-0.94669265, -0.94625296, -0.42561229, -0.70678959, -0.7066111 ,\n",
       "        -0.70674576, -0.70672505]),\n",
       " array([0.94692272, 0.94610024, 1.27938532, 0.99995172, 0.99994679,\n",
       "        0.9999765 , 0.99991066]))"
      ]
     },
     "execution_count": 10,
     "metadata": {},
     "output_type": "execute_result"
    }
   ],
   "source": [
    "df = pd.DataFrame(P_tr)\n",
    "df.min().to_numpy(), df.max().to_numpy()"
   ]
  },
  {
   "cell_type": "code",
   "execution_count": 11,
   "metadata": {},
   "outputs": [
    {
     "data": {
      "text/plain": [
       "(0   -2.897299\n",
       " 1   -1.762800\n",
       " 2   -2.897299\n",
       " 3   -3.071799\n",
       " 4   -2.897300\n",
       " 5   -0.017500\n",
       " 6   -2.897300\n",
       " dtype: float64,\n",
       " 0    2.897300\n",
       " 1    1.762800\n",
       " 2    2.897299\n",
       " 3   -0.069800\n",
       " 4    2.897297\n",
       " 5    3.752499\n",
       " 6    2.897300\n",
       " dtype: float64)"
      ]
     },
     "execution_count": 11,
     "metadata": {},
     "output_type": "execute_result"
    }
   ],
   "source": [
    "df = pd.DataFrame(J_tr)\n",
    "df.min(), df.max()"
   ]
  },
  {
   "cell_type": "code",
   "execution_count": 9,
   "metadata": {},
   "outputs": [
    {
     "data": {
      "text/plain": [
       "(array([-2.8972988 , -1.76279956, -2.89729915, -3.07179908, -2.89729985,\n",
       "        -0.0174998 , -2.89729994]),\n",
       " array([ 2.89729953,  1.76279993,  2.89729921, -0.06980014,  2.89729721,\n",
       "         3.75249938,  2.89729969]))"
      ]
     },
     "execution_count": 9,
     "metadata": {},
     "output_type": "execute_result"
    }
   ],
   "source": [
    "df.min().to_numpy(), df.max().to_numpy()"
   ]
  },
  {
   "cell_type": "code",
   "execution_count": 2,
   "metadata": {},
   "outputs": [
    {
     "data": {
      "text/plain": [
       "NSF(\n",
       "  (transforms): ModuleList(\n",
       "    (0): MaskedAutoregressiveTransform(\n",
       "      (base): MonotonicRQSTransform(bins=10)\n",
       "      (order): [6, 2, 4, 0, 3, 5, 1]\n",
       "      (hyper): MaskedMLP(\n",
       "        (0): MaskedLinear(in_features=16, out_features=1024, bias=True)\n",
       "        (1): LeakyReLU(negative_slope=0.01)\n",
       "        (2): MaskedLinear(in_features=1024, out_features=1024, bias=True)\n",
       "        (3): LeakyReLU(negative_slope=0.01)\n",
       "        (4): MaskedLinear(in_features=1024, out_features=1024, bias=True)\n",
       "        (5): LeakyReLU(negative_slope=0.01)\n",
       "        (6): MaskedLinear(in_features=1024, out_features=203, bias=True)\n",
       "      )\n",
       "    )\n",
       "    (1): MaskedAutoregressiveTransform(\n",
       "      (base): MonotonicRQSTransform(bins=10)\n",
       "      (order): [5, 0, 6, 2, 1, 3, 4]\n",
       "      (hyper): MaskedMLP(\n",
       "        (0): MaskedLinear(in_features=16, out_features=1024, bias=True)\n",
       "        (1): LeakyReLU(negative_slope=0.01)\n",
       "        (2): MaskedLinear(in_features=1024, out_features=1024, bias=True)\n",
       "        (3): LeakyReLU(negative_slope=0.01)\n",
       "        (4): MaskedLinear(in_features=1024, out_features=1024, bias=True)\n",
       "        (5): LeakyReLU(negative_slope=0.01)\n",
       "        (6): MaskedLinear(in_features=1024, out_features=203, bias=True)\n",
       "      )\n",
       "    )\n",
       "    (2): MaskedAutoregressiveTransform(\n",
       "      (base): MonotonicRQSTransform(bins=10)\n",
       "      (order): [3, 1, 5, 0, 6, 4, 2]\n",
       "      (hyper): MaskedMLP(\n",
       "        (0): MaskedLinear(in_features=16, out_features=1024, bias=True)\n",
       "        (1): LeakyReLU(negative_slope=0.01)\n",
       "        (2): MaskedLinear(in_features=1024, out_features=1024, bias=True)\n",
       "        (3): LeakyReLU(negative_slope=0.01)\n",
       "        (4): MaskedLinear(in_features=1024, out_features=1024, bias=True)\n",
       "        (5): LeakyReLU(negative_slope=0.01)\n",
       "        (6): MaskedLinear(in_features=1024, out_features=203, bias=True)\n",
       "      )\n",
       "    )\n",
       "    (3): MaskedAutoregressiveTransform(\n",
       "      (base): MonotonicRQSTransform(bins=10)\n",
       "      (order): [6, 3, 0, 4, 2, 5, 1]\n",
       "      (hyper): MaskedMLP(\n",
       "        (0): MaskedLinear(in_features=16, out_features=1024, bias=True)\n",
       "        (1): LeakyReLU(negative_slope=0.01)\n",
       "        (2): MaskedLinear(in_features=1024, out_features=1024, bias=True)\n",
       "        (3): LeakyReLU(negative_slope=0.01)\n",
       "        (4): MaskedLinear(in_features=1024, out_features=1024, bias=True)\n",
       "        (5): LeakyReLU(negative_slope=0.01)\n",
       "        (6): MaskedLinear(in_features=1024, out_features=203, bias=True)\n",
       "      )\n",
       "    )\n",
       "    (4): MaskedAutoregressiveTransform(\n",
       "      (base): MonotonicRQSTransform(bins=10)\n",
       "      (order): [4, 3, 0, 2, 6, 5, 1]\n",
       "      (hyper): MaskedMLP(\n",
       "        (0): MaskedLinear(in_features=16, out_features=1024, bias=True)\n",
       "        (1): LeakyReLU(negative_slope=0.01)\n",
       "        (2): MaskedLinear(in_features=1024, out_features=1024, bias=True)\n",
       "        (3): LeakyReLU(negative_slope=0.01)\n",
       "        (4): MaskedLinear(in_features=1024, out_features=1024, bias=True)\n",
       "        (5): LeakyReLU(negative_slope=0.01)\n",
       "        (6): MaskedLinear(in_features=1024, out_features=203, bias=True)\n",
       "      )\n",
       "    )\n",
       "    (5): MaskedAutoregressiveTransform(\n",
       "      (base): MonotonicRQSTransform(bins=10)\n",
       "      (order): [5, 1, 3, 0, 6, 4, 2]\n",
       "      (hyper): MaskedMLP(\n",
       "        (0): MaskedLinear(in_features=16, out_features=1024, bias=True)\n",
       "        (1): LeakyReLU(negative_slope=0.01)\n",
       "        (2): MaskedLinear(in_features=1024, out_features=1024, bias=True)\n",
       "        (3): LeakyReLU(negative_slope=0.01)\n",
       "        (4): MaskedLinear(in_features=1024, out_features=1024, bias=True)\n",
       "        (5): LeakyReLU(negative_slope=0.01)\n",
       "        (6): MaskedLinear(in_features=1024, out_features=203, bias=True)\n",
       "      )\n",
       "    )\n",
       "    (6): MaskedAutoregressiveTransform(\n",
       "      (base): MonotonicRQSTransform(bins=10)\n",
       "      (order): [1, 3, 5, 4, 2, 6, 0]\n",
       "      (hyper): MaskedMLP(\n",
       "        (0): MaskedLinear(in_features=16, out_features=1024, bias=True)\n",
       "        (1): LeakyReLU(negative_slope=0.01)\n",
       "        (2): MaskedLinear(in_features=1024, out_features=1024, bias=True)\n",
       "        (3): LeakyReLU(negative_slope=0.01)\n",
       "        (4): MaskedLinear(in_features=1024, out_features=1024, bias=True)\n",
       "        (5): LeakyReLU(negative_slope=0.01)\n",
       "        (6): MaskedLinear(in_features=1024, out_features=203, bias=True)\n",
       "      )\n",
       "    )\n",
       "  )\n",
       "  (base): DiagNormal(loc: torch.Size([7]), scale: torch.Size([7]))\n",
       ")"
      ]
     },
     "execution_count": 2,
     "metadata": {},
     "output_type": "execute_result"
    }
   ],
   "source": [
    "from zuko.flows import CNF, NSF, FlowModule, Unconditional\n",
    "from utils.settings import config\n",
    "\n",
    "flow = NSF(\n",
    "            features=config.n,\n",
    "            context=config.num_conditions,\n",
    "            transforms=config.num_transforms,\n",
    "            randperm=True,\n",
    "            # bound=3.5,\n",
    "            bins=10,\n",
    "            activation=config.activation,\n",
    "            hidden_features=[config.subnet_width] * config.subnet_num_layers,\n",
    "        ).to(config.device)\n",
    "\n",
    "flow"
   ]
  },
  {
   "cell_type": "code",
   "execution_count": null,
   "metadata": {},
   "outputs": [],
   "source": [
    "train_loader = get_train_loader(J=J_tr,\n",
    "                                    P=P_tr,\n",
    "                                    F=F,\n",
    "                                    device='cuda',\n",
    "                                    batch_size=128)\n",
    "\n",
    "# Build Generative model, NSF\n",
    "# Neural spline flow (NSF) with 3 sample features and 5 context features\n",
    "solver, optimizer, scheduler = get_flow_model(\n",
    "    load_model=cfg.use_pretrained,\n",
    "    num_transforms=7,\n",
    "    subnet_width=1024,\n",
    "    subnet_num_layers=3,\n",
    "    lr=4.8e-4,\n",
    "    lr_weight_decay=5e-3,\n",
    "    decay_step_size=4e4,\n",
    "    gamma=0.5,\n",
    "    device='cuda')"
   ]
  },
  {
   "cell_type": "code",
   "execution_count": null,
   "metadata": {},
   "outputs": [],
   "source": [
    "rand = np.random.randint(low=0, high=len(P_ts), size=cfg.num_eval_size)\n",
    "_, position_errors, _, _ = test(\n",
    "    robot=robot,\n",
    "    P_ts=P_ts[rand],\n",
    "    F=F,\n",
    "    solver=solver,\n",
    "    knn=knn,\n",
    "    K=cfg.K,\n",
    "    print_report=False,\n",
    ")"
   ]
  },
  {
   "cell_type": "code",
   "execution_count": null,
   "metadata": {},
   "outputs": [],
   "source": [
    "com_pos = np.zeros((100, 7))"
   ]
  },
  {
   "cell_type": "code",
   "execution_count": null,
   "metadata": {},
   "outputs": [],
   "source": [
    "com_pos[:, :3]"
   ]
  },
  {
   "cell_type": "code",
   "execution_count": null,
   "metadata": {},
   "outputs": [],
   "source": [
    "position_errors"
   ]
  },
  {
   "cell_type": "code",
   "execution_count": null,
   "metadata": {},
   "outputs": [],
   "source": [
    "class Net(nn.Module):\n",
    "    def __init__(self, l1=120, l2=84):\n",
    "        super(Net, self).__init__()\n",
    "        self.conv1 = nn.Conv2d(3, 6, 5)\n",
    "        self.pool = nn.MaxPool2d(2, 2)\n",
    "        self.conv2 = nn.Conv2d(6, 16, 5)\n",
    "        self.fc1 = nn.Linear(16 * 5 * 5, l1)\n",
    "        self.fc2 = nn.Linear(l1, l2)\n",
    "        self.fc3 = nn.Linear(l2, 10)\n",
    "\n",
    "    def forward(self, x):\n",
    "        x = self.pool(F.relu(self.conv1(x)))\n",
    "        x = self.pool(F.relu(self.conv2(x)))\n",
    "        x = x.view(-1, 16 * 5 * 5)\n",
    "        x = F.relu(self.fc1(x))\n",
    "        x = F.relu(self.fc2(x))\n",
    "        x = self.fc3(x)\n",
    "        return x"
   ]
  },
  {
   "cell_type": "code",
   "execution_count": null,
   "metadata": {},
   "outputs": [],
   "source": [
    "def train_cifar(config):\n",
    "    net = Net(config[\"l1\"], config[\"l2\"])\n",
    "\n",
    "    device = \"cpu\"\n",
    "    if torch.cuda.is_available():\n",
    "        device = \"cuda:0\"\n",
    "        if torch.cuda.device_count() > 1:\n",
    "            net = nn.DataParallel(net)\n",
    "    net.to(device)\n",
    "\n",
    "    criterion = nn.CrossEntropyLoss()\n",
    "    optimizer = optim.SGD(net.parameters(), lr=config[\"lr\"], momentum=0.9)\n",
    "\n",
    "    # To restore a checkpoint, use `session.get_checkpoint()`.\n",
    "    loaded_checkpoint = session.get_checkpoint()\n",
    "    if loaded_checkpoint:\n",
    "        with loaded_checkpoint.as_directory() as loaded_checkpoint_dir:\n",
    "           model_state, optimizer_state = torch.load(os.path.join(loaded_checkpoint_dir, \"checkpoint.pt\"))\n",
    "        net.load_state_dict(model_state)\n",
    "        optimizer.load_state_dict(optimizer_state)\n",
    "\n",
    "    data_dir = os.path.abspath(\"./data\")\n",
    "    trainset, testset = load_data(data_dir)\n",
    "\n",
    "    test_abs = int(len(trainset) * 0.8)\n",
    "    train_subset, val_subset = random_split(\n",
    "        trainset, [test_abs, len(trainset) - test_abs])\n",
    "\n",
    "    trainloader = torch.utils.data.DataLoader(\n",
    "        train_subset,\n",
    "        batch_size=int(config[\"batch_size\"]),\n",
    "        shuffle=True,\n",
    "        num_workers=8)\n",
    "    valloader = torch.utils.data.DataLoader(\n",
    "        val_subset,\n",
    "        batch_size=int(config[\"batch_size\"]),\n",
    "        shuffle=True,\n",
    "        num_workers=8)\n",
    "\n",
    "    for epoch in range(10):  # loop over the dataset multiple times\n",
    "        running_loss = 0.0\n",
    "        epoch_steps = 0\n",
    "        for i, data in enumerate(trainloader, 0):\n",
    "            # get the inputs; data is a list of [inputs, labels]\n",
    "            inputs, labels = data\n",
    "            inputs, labels = inputs.to(device), labels.to(device)\n",
    "\n",
    "            # zero the parameter gradients\n",
    "            optimizer.zero_grad()\n",
    "\n",
    "            # forward + backward + optimize\n",
    "            outputs = net(inputs)\n",
    "            loss = criterion(outputs, labels)\n",
    "            loss.backward()\n",
    "            optimizer.step()\n",
    "\n",
    "            # print statistics\n",
    "            running_loss += loss.item()\n",
    "            epoch_steps += 1\n",
    "            if i % 2000 == 1999:  # print every 2000 mini-batches\n",
    "                print(\"[%d, %5d] loss: %.3f\" % (epoch + 1, i + 1,\n",
    "                                                running_loss / epoch_steps))\n",
    "                running_loss = 0.0\n",
    "\n",
    "        # Validation loss\n",
    "        val_loss = 0.0\n",
    "        val_steps = 0\n",
    "        total = 0\n",
    "        correct = 0\n",
    "        for i, data in enumerate(valloader, 0):\n",
    "            with torch.no_grad():\n",
    "                inputs, labels = data\n",
    "                inputs, labels = inputs.to(device), labels.to(device)\n",
    "\n",
    "                outputs = net(inputs)\n",
    "                _, predicted = torch.max(outputs.data, 1)\n",
    "                total += labels.size(0)\n",
    "                correct += (predicted == labels).sum().item()\n",
    "\n",
    "                loss = criterion(outputs, labels)\n",
    "                val_loss += loss.cpu().numpy()\n",
    "                val_steps += 1\n",
    "\n",
    "        # Here we save a checkpoint. It is automatically registered with\n",
    "        # Ray Tune and can be accessed through `session.get_checkpoint()`\n",
    "        # API in future iterations.\n",
    "        os.makedirs(\"my_model\", exist_ok=True)\n",
    "        torch.save(\n",
    "            (net.state_dict(), optimizer.state_dict()), \"my_model/checkpoint.pt\")\n",
    "        checkpoint = Checkpoint.from_directory(\"my_model\")\n",
    "        session.report({\"loss\": (val_loss / val_steps), \"accuracy\": correct / total}, checkpoint=checkpoint)\n",
    "    print(\"Finished Training\")"
   ]
  },
  {
   "cell_type": "code",
   "execution_count": null,
   "metadata": {},
   "outputs": [],
   "source": [
    "def _test_accuracy(net, device=\"cpu\"):\n",
    "    trainset, testset = load_data()\n",
    "\n",
    "    testloader = torch.utils.data.DataLoader(\n",
    "        testset, batch_size=4, shuffle=False, num_workers=2)\n",
    "\n",
    "    correct = 0\n",
    "    total = 0\n",
    "    with torch.no_grad():\n",
    "        for data in testloader:\n",
    "            images, labels = data\n",
    "            images, labels = images.to(device), labels.to(device)\n",
    "            outputs = net(images)\n",
    "            _, predicted = torch.max(outputs.data, 1)\n",
    "            total += labels.size(0)\n",
    "            correct += (predicted == labels).sum().item()\n",
    "\n",
    "    return correct / total"
   ]
  },
  {
   "cell_type": "code",
   "execution_count": null,
   "metadata": {},
   "outputs": [],
   "source": [
    "def test_best_model(best_result):\n",
    "    best_trained_model = Net(best_result.config[\"l1\"], best_result.config[\"l2\"])\n",
    "    device = \"cuda:0\" if torch.cuda.is_available() else \"cpu\"\n",
    "    best_trained_model.to(device)\n",
    "\n",
    "    checkpoint_path = os.path.join(best_result.checkpoint.to_directory(), \"checkpoint.pt\")\n",
    "\n",
    "    model_state, optimizer_state = torch.load(checkpoint_path)\n",
    "    best_trained_model.load_state_dict(model_state)\n",
    "\n",
    "    trainset, testset = load_data()\n",
    "\n",
    "    testloader = torch.utils.data.DataLoader(\n",
    "        testset, batch_size=4, shuffle=False, num_workers=2)\n",
    "\n",
    "    correct = 0\n",
    "    total = 0\n",
    "    with torch.no_grad():\n",
    "        for data in testloader:\n",
    "            images, labels = data\n",
    "            images, labels = images.to(device), labels.to(device)\n",
    "            outputs = best_trained_model(images)\n",
    "            _, predicted = torch.max(outputs.data, 1)\n",
    "            total += labels.size(0)\n",
    "            correct += (predicted == labels).sum().item()\n",
    "\n",
    "\n",
    "    print(\"Best trial test set accuracy: {}\".format(correct / total))"
   ]
  },
  {
   "cell_type": "code",
   "execution_count": null,
   "metadata": {},
   "outputs": [],
   "source": [
    "config = {\n",
    "    \"l1\": tune.sample_from(lambda _: 2**np.random.randint(2, 9)),\n",
    "    \"l2\": tune.sample_from(lambda _: 2**np.random.randint(2, 9)),\n",
    "    \"lr\": tune.loguniform(1e-4, 1e-1),\n",
    "    \"batch_size\": tune.choice([2, 4, 8, 16]),\n",
    "}"
   ]
  },
  {
   "cell_type": "code",
   "execution_count": null,
   "metadata": {},
   "outputs": [],
   "source": [
    "def main(num_samples=10, max_num_epochs=10, gpus_per_trial=2):\n",
    "    config = {\n",
    "        \"l1\": tune.sample_from(lambda _: 2 ** np.random.randint(2, 9)),\n",
    "        \"l2\": tune.sample_from(lambda _: 2 ** np.random.randint(2, 9)),\n",
    "        \"lr\": tune.loguniform(1e-4, 1e-1),\n",
    "        \"batch_size\": tune.choice([2, 4, 8, 16])\n",
    "    }\n",
    "    scheduler = ASHAScheduler(\n",
    "        max_t=max_num_epochs,\n",
    "        grace_period=1,\n",
    "        reduction_factor=2)\n",
    "    \n",
    "    tuner = tune.Tuner(\n",
    "        tune.with_resources(\n",
    "            tune.with_parameters(train_cifar),\n",
    "            resources={\"cpu\": 2, \"gpu\": gpus_per_trial}\n",
    "        ),\n",
    "        tune_config=tune.TuneConfig(\n",
    "            metric=\"loss\",\n",
    "            mode=\"min\",\n",
    "            scheduler=scheduler,\n",
    "            num_samples=num_samples,\n",
    "        ),\n",
    "        param_space=config,\n",
    "    )\n",
    "    results = tuner.fit()\n",
    "    \n",
    "    best_result = results.get_best_result(\"loss\", \"min\")\n",
    "\n",
    "    print(\"Best trial config: {}\".format(best_result.config))\n",
    "    print(\"Best trial final validation loss: {}\".format(\n",
    "        best_result.metrics[\"loss\"]))\n",
    "    print(\"Best trial final validation accuracy: {}\".format(\n",
    "        best_result.metrics[\"accuracy\"]))\n",
    "\n",
    "    test_best_model(best_result)\n",
    "\n",
    "main(num_samples=2, max_num_epochs=2, gpus_per_trial=0)"
   ]
  },
  {
   "cell_type": "code",
   "execution_count": null,
   "metadata": {},
   "outputs": [],
   "source": [
    "print(f\"#trials={len(result.trials)}\")\n",
    "print(f\"time={time.time()-start_time}\")\n",
    "best_trial = result.get_best_trial(\"loss\", \"min\", \"all\")\n",
    "print(\"Best trial config: {}\".format(best_trial.config))\n",
    "print(\"Best trial final validation loss: {}\".format(\n",
    "    best_trial.metric_analysis[\"loss\"][\"min\"]))\n",
    "print(\"Best trial final validation accuracy: {}\".format(\n",
    "    best_trial.metric_analysis[\"accuracy\"][\"max\"]))\n",
    "\n",
    "best_trained_model = Net(2**best_trial.config[\"l1\"],\n",
    "                         2**best_trial.config[\"l2\"])\n",
    "device = \"cpu\"\n",
    "if torch.cuda.is_available():\n",
    "    device = \"cuda:0\"\n",
    "    if gpus_per_trial > 1:\n",
    "        best_trained_model = nn.DataParallel(best_trained_model)\n",
    "best_trained_model.to(device)\n",
    "\n",
    "checkpoint_value = getattr(best_trial.checkpoint, \"dir_or_data\", None) or best_trial.checkpoint.value\n",
    "checkpoint_path = os.path.join(checkpoint_value, \"checkpoint\")\n",
    "\n",
    "model_state, optimizer_state = torch.load(checkpoint_path)\n",
    "best_trained_model.load_state_dict(model_state)\n",
    "\n",
    "test_acc = _test_accuracy(best_trained_model, device)\n",
    "print(\"Best trial test set accuracy: {}\".format(test_acc))"
   ]
  }
 ],
 "metadata": {
  "kernelspec": {
   "display_name": "base",
   "language": "python",
   "name": "python3"
  },
  "language_info": {
   "codemirror_mode": {
    "name": "ipython",
    "version": 3
   },
   "file_extension": ".py",
   "mimetype": "text/x-python",
   "name": "python",
   "nbconvert_exporter": "python",
   "pygments_lexer": "ipython3",
   "version": "3.9.12"
  }
 },
 "nbformat": 4,
 "nbformat_minor": 4
}
