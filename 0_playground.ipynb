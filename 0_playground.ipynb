{
 "cells": [
  {
   "cell_type": "code",
   "execution_count": 1,
   "metadata": {},
   "outputs": [],
   "source": [
    "\n",
    "from pymoo.algorithms.moo.dnsga2 import DNSGA2\n",
    "from pymoo.algorithms.moo.nsga2 import NSGA2\n",
    "from pymoo.core.callback import CallbackCollection, Callback\n",
    "from pymoo.core.problem import ElementwiseProblem, Problem\n",
    "from pymoo.problems.functional import FunctionalProblem, func_return_none\n",
    "from pymoo.optimize import minimize\n",
    "from pymoo.problems.dyn import TimeSimulation\n",
    "from pymoo.problems.dynamic.df import DF1\n",
    "from pymoo.problems.multi import CTP3\n",
    "from pymoo.problems.multi.srn import SRN\n",
    "import matplotlib.pyplot as plt\n",
    "\n",
    "import zuko\n",
    "from zuko.flows import GMM\n",
    "import numpy as np\n",
    "import torch\n",
    "\n",
    "from utils.settings import config\n",
    "from utils.utils import *\n",
    "from utils.model import *\n",
    "from utils.robot import Robot"
   ]
  },
  {
   "cell_type": "code",
   "execution_count": 2,
   "metadata": {},
   "outputs": [
    {
     "name": "stdout",
     "output_type": "stream",
     "text": [
      "ERobot: kuka_lbr_iiwa_14_r820 (by Kuka), 7 joints (RRRRRRR), 2 branches, geometry, collision\n",
      "┌─────┬───────────┬───────┬───────────┬───────────────────────────────────┐\n",
      "│link │   link    │ joint │  parent   │        ETS: parent to link        │\n",
      "├─────┼───────────┼───────┼───────────┼───────────────────────────────────┤\n",
      "│   0\u001b[0m │ \u001b[38;5;4mbase_link\u001b[0m │      \u001b[0m │ BASE\u001b[0m      │ SE3()\u001b[0m                             │\n",
      "│   1\u001b[0m │ link_1\u001b[0m    │     0\u001b[0m │ base_link\u001b[0m │ SE3() ⊕ Rz(q0)\u001b[0m                    │\n",
      "│   2\u001b[0m │ link_2\u001b[0m    │     1\u001b[0m │ link_1\u001b[0m    │ SE3(-0.0004362, 0, 0.36) ⊕ Ry(q1)\u001b[0m │\n",
      "│   3\u001b[0m │ link_3\u001b[0m    │     2\u001b[0m │ link_2\u001b[0m    │ SE3() ⊕ Rz(q2)\u001b[0m                    │\n",
      "│   4\u001b[0m │ link_4\u001b[0m    │     3\u001b[0m │ link_3\u001b[0m    │ SE3(0.0004362, 0, 0.42) ⊕ Ry(-q3)\u001b[0m │\n",
      "│   5\u001b[0m │ link_5\u001b[0m    │     4\u001b[0m │ link_4\u001b[0m    │ SE3() ⊕ Rz(q4)\u001b[0m                    │\n",
      "│   6\u001b[0m │ link_6\u001b[0m    │     5\u001b[0m │ link_5\u001b[0m    │ SE3(0, 0, 0.4) ⊕ Ry(q5)\u001b[0m           │\n",
      "│   7\u001b[0m │ link_7\u001b[0m    │     6\u001b[0m │ link_6\u001b[0m    │ SE3() ⊕ Rz(q6)\u001b[0m                    │\n",
      "│   8\u001b[0m │ \u001b[38;5;4m@tool0\u001b[0m    │      \u001b[0m │ link_7\u001b[0m    │ SE3(0, 0, 0.126)\u001b[0m                  │\n",
      "│   9\u001b[0m │ \u001b[38;5;4m@base\u001b[0m     │      \u001b[0m │ base_link\u001b[0m │ SE3()\u001b[0m                             │\n",
      "└─────┴───────────┴───────┴───────────┴───────────────────────────────────┘\n",
      "\n",
      "┌─────┬─────┬────────┬─────┬───────┬─────┬────────┬──────┐\n",
      "│name │ q0  │ q1     │ q2  │ q3    │ q4  │ q5     │ q6   │\n",
      "├─────┼─────┼────────┼─────┼───────┼─────┼────────┼──────┤\n",
      "│  qr\u001b[0m │  0°\u001b[0m │ -17.2°\u001b[0m │  0°\u001b[0m │ -109°\u001b[0m │  0°\u001b[0m │  85.9°\u001b[0m │  45°\u001b[0m │\n",
      "│  qz\u001b[0m │  0°\u001b[0m │  0°\u001b[0m    │  0°\u001b[0m │  0°\u001b[0m   │  0°\u001b[0m │  0°\u001b[0m    │  0°\u001b[0m  │\n",
      "└─────┴─────┴────────┴─────┴───────┴─────┴────────┴──────┘\n",
      "\n"
     ]
    }
   ],
   "source": [
    "robot = Robot(True)"
   ]
  },
  {
   "cell_type": "code",
   "execution_count": 2,
   "metadata": {},
   "outputs": [
    {
     "name": "stdout",
     "output_type": "stream",
     "text": [
      "hnne load successfully from /home/luca/ikpflow/weights/panda/hnne.pickle\n",
      "Model load successfully from /home/luca/ikpflow/weights/panda/nsf.pth\n"
     ]
    }
   ],
   "source": [
    "panda = Robot(verbose=False)\n",
    "# data generation\n",
    "X, y = load_data(robot=panda, num_samples=config.num_train_size)\n",
    "# build dimension reduction model\n",
    "hnne = get_hnne_model(X, y)\n",
    "# get loader\n",
    "loader = get_loader(X, y, hnne=hnne)\n",
    "# get val loader\n",
    "val_loader = get_val_loader(robot=panda, hnne=hnne)\n",
    "# Build Generative model, NSF\n",
    "# Neural spline flow (NSF) with 3 sample features and 5 context features\n",
    "flow, optimizer, scheduler = get_flow_model()"
   ]
  },
  {
   "cell_type": "code",
   "execution_count": 3,
   "metadata": {},
   "outputs": [
    {
     "name": "stdout",
     "output_type": "stream",
     "text": [
      "tensor([ 3.1589,  0.2793, -0.3395,  0.8086,  0.4431, -0.9373,  1.9431])\n"
     ]
    }
   ],
   "source": [
    "mu = torch.randn(size=(7,))\n",
    "print(mu)\n",
    "iflow = get_iflow_model(flow, init_sample=mu, shrink_ratio=0)\n",
    "df, err = test_l2_err(robot=panda, \n",
    "                      loader=val_loader, \n",
    "                      model=iflow, \n",
    "                      num_data=1, \n",
    "                      num_samples=1000)"
   ]
  },
  {
   "cell_type": "code",
   "execution_count": 4,
   "metadata": {},
   "outputs": [],
   "source": [
    "nflow = get_nflow_model(flow=flow)\n",
    "df, err = test_l2_err(robot=panda, \n",
    "                      loader=val_loader, \n",
    "                      model=nflow, \n",
    "                      num_data=100, \n",
    "                      num_samples=1000)\n",
    "# ax1 = df.plot.scatter(x='log_prob', y='l2_err')"
   ]
  },
  {
   "cell_type": "code",
   "execution_count": 29,
   "metadata": {},
   "outputs": [],
   "source": [
    "class ProblemWrapper(Problem):\n",
    "    \n",
    "    def __init__(self, \n",
    "                 end_effector_path,\n",
    "                 model,\n",
    "                 step_mod = 10,\n",
    "                 l2_love_ratio = 0.3,\n",
    "                 num_samples = 3,\n",
    "                 **kwargs):\n",
    "        self.end_effector_path = end_effector_path\n",
    "        self.model = model\n",
    "        self.step = 0\n",
    "        self.step_mod = step_mod\n",
    "        self.l2_love_ratio = l2_love_ratio\n",
    "        self.constr_ieq = []\n",
    "        self.num_samples = num_samples\n",
    "        self.robot = Robot(verbose=False)\n",
    "        self.solutions = np.zeros((len(end_effector_path), self.robot.dof))\n",
    "        xl, xu = self.__x_bounds()\n",
    "        super().__init__(n_var=len(xl),\n",
    "                         n_obj=2,\n",
    "                         n_ieq_constr=len(self.constr_ieq),\n",
    "                         n_eq_constr=0,\n",
    "                         xl=xl,\n",
    "                         xu=xu,\n",
    "                         **kwargs)\n",
    "        \n",
    "    def iksols(self, x):\n",
    "        # need to check the output shapes for generating solutions\n",
    "        pos = np.atleast_2d(self.pos()).repeat(repeats=len(x), axis=0)\n",
    "        noise = np.zeros((len(pos),))\n",
    "        x = torch.tensor(np.column_stack((pos, x, noise)), dtype=torch.float32).to(config.device)\n",
    "        out = self.model(x).sample((self.num_samples,))\n",
    "        out = out.detach().cpu().numpy()\n",
    "        out = out.reshape((-1, self.robot.dof))\n",
    "        return out\n",
    "        \n",
    "    def l2_err(self, iksols):\n",
    "        errs = self.robot.l2_err_func_array(qs=iksols, ee_pos=self.pos())\n",
    "        return errs\n",
    "    \n",
    "    def ang_jump(self, iksols):\n",
    "        if self.index() == 0:\n",
    "            return np.zeros((len(iksols), ))\n",
    "        errs = (np.abs(iksols - self.solutions[self.index()-1])).sum(axis=1)\n",
    "        return errs\n",
    "\n",
    "    def __x_bounds(self):\n",
    "        X_trans = load_numpy(file_path=config.x_trans_train_path)\n",
    "        df = pd.DataFrame(data=X_trans)\n",
    "        return df.min(axis=0).values, df.max(axis=0).values\n",
    "    \n",
    "    def pos(self):\n",
    "        return self.end_effector_path[self.index()]\n",
    "    \n",
    "    def index(self):\n",
    "        return self.step // self.step_mod\n",
    "    \n",
    "    def tic(self):\n",
    "        self.step += 1\n",
    "    \n",
    "    def prune_samples(self, iksols, errs):\n",
    "        ik_boxes = iksols.reshape((self.num_samples, -1, iksols.shape[-1]))\n",
    "        err_boxes = errs.reshape((self.num_samples, -1, errs.shape[-1]))\n",
    "        \n",
    "        pop_size = ik_boxes.shape[1]\n",
    "        survivors = np.zeros((pop_size, iksols.shape[-1]))\n",
    "        surv_errs = np.zeros((pop_size, errs.shape[-1]))\n",
    "        \n",
    "        for pi in range(pop_size):\n",
    "            survivors[pi], surv_errs[pi] = self.__get_best_iksols(iksols=ik_boxes[:, pi], errs=err_boxes[:, pi])\n",
    "        return survivors, surv_errs\n",
    "            \n",
    "    def __get_best_iksols(self, iksols, errs):\n",
    "        idx = np.argmin(self.love_index(errs))\n",
    "        return iksols[idx], errs[idx]\n",
    "    \n",
    "    def love_index(self, errs):\n",
    "        return errs[:, 0] * self.l2_love_ratio + errs[:, 1] * (1 - self.l2_love_ratio)\n",
    "        \n",
    "    def __set_best_iksols(self, iksols, errs):\n",
    "        self.solutions[self.index()], _ = self.__get_best_iksols(iksols, errs)\n",
    "\n",
    "    def _evaluate(self, x, out, *args, **kwargs):\n",
    "        iksols = self.iksols(x)\n",
    "        l2err = self.l2_err(iksols)\n",
    "        ang_jump = self.ang_jump(iksols)\n",
    "        errs = np.column_stack((l2err.reshape(-1, 1), ang_jump.reshape(-1, 1)))\n",
    "        iksols, errs = self.prune_samples(iksols, errs)\n",
    "        self.__set_best_iksols(iksols, errs)\n",
    "        out[\"F\"] = errs"
   ]
  },
  {
   "cell_type": "code",
   "execution_count": 30,
   "metadata": {},
   "outputs": [
    {
     "name": "stderr",
     "output_type": "stream",
     "text": [
      "100%|██████████| 20/20 [00:00<00:00, 15293.72it/s]"
     ]
    },
    {
     "name": "stdout",
     "output_type": "stream",
     "text": [
      "mkdir /home/luca/ikpflow/data/panda/trajectory/06032319\n",
      "/home/luca/ikpflow/data/panda/trajectory/06032319/ load successfully.\n"
     ]
    },
    {
     "name": "stderr",
     "output_type": "stream",
     "text": [
      "\n"
     ]
    }
   ],
   "source": [
    "traj_dir = sample_ee_traj(robot=panda, load_time='')\n",
    "ee_traj = load_numpy(file_path=traj_dir + 'ee_traj.npy')\n",
    "q_traj = load_numpy(file_path=traj_dir + 'q_traj.npy')"
   ]
  },
  {
   "cell_type": "code",
   "execution_count": 33,
   "metadata": {},
   "outputs": [
    {
     "name": "stdout",
     "output_type": "stream",
     "text": [
      "==========================================================\n",
      "n_gen  |  n_eval  | n_nds  |      eps      |   indicator  \n",
      "==========================================================\n",
      "     1 |       20 |      1 |             - |             -\n",
      "     2 |       82 |      1 |  0.0004196973 |             f\n",
      "     3 |      144 |      1 |  0.0007720587 |             f\n",
      "     4 |      206 |      1 |  0.0007959580 |             f\n",
      "     5 |      268 |      1 |  0.0006378504 |             f\n",
      "     6 |      330 |      1 |  0.0006164345 |             f\n",
      "     7 |      392 |      1 |  0.0006491318 |             f\n",
      "     8 |      454 |      1 |  0.0007686029 |             f\n",
      "     9 |      516 |      1 |  0.0007898105 |             f\n",
      "    10 |      578 |      1 |  0.0007417715 |             f\n",
      "    11 |      640 |      3 |  0.9296457154 |         ideal\n",
      "    12 |      702 |      6 |  0.1797334654 |         ideal\n",
      "    13 |      764 |      4 |  0.0321935268 |         ideal\n",
      "    14 |      826 |      2 |  0.7673639788 |         ideal\n",
      "    15 |      888 |      4 |  0.0378279629 |         ideal\n",
      "    16 |      950 |      3 |  0.0680980926 |         ideal\n",
      "    17 |     1012 |      7 |  0.0749975610 |         ideal\n",
      "    18 |     1074 |      6 |  0.0316080027 |         ideal\n",
      "    19 |     1136 |      6 |  0.1828109492 |         ideal\n",
      "    20 |     1198 |      4 |  0.4101831451 |         ideal\n",
      "    21 |     1260 |      7 |  0.4524445288 |         ideal\n",
      "    22 |     1322 |      3 |  0.1423882611 |         ideal\n",
      "    23 |     1384 |      6 |  0.0522521620 |         ideal\n",
      "    24 |     1446 |      4 |  0.0528405234 |         ideal\n",
      "    25 |     1508 |      3 |  0.4208754205 |         ideal\n",
      "    26 |     1570 |      4 |  0.1875568648 |         ideal\n",
      "    27 |     1632 |      4 |  0.4039064710 |         ideal\n",
      "    28 |     1694 |      3 |  0.3704651635 |         ideal\n",
      "    29 |     1756 |      6 |  0.1518396361 |         ideal\n",
      "    30 |     1818 |      7 |  0.2454149421 |         ideal\n",
      "    31 |     1880 |      4 |  0.0919411031 |         ideal\n",
      "    32 |     1942 |      5 |  0.5191476166 |         ideal\n",
      "    33 |     2004 |      4 |  0.1477472579 |         ideal\n",
      "    34 |     2066 |      6 |  0.0320815400 |         ideal\n",
      "    35 |     2128 |      7 |  0.0514581062 |         ideal\n",
      "    36 |     2190 |      6 |  0.0539208588 |         ideal\n",
      "    37 |     2252 |      8 |  0.0338808713 |         ideal\n",
      "    38 |     2314 |      6 |  0.0499548587 |         ideal\n",
      "    39 |     2376 |      4 |  0.2420502476 |         ideal\n",
      "    40 |     2438 |      6 |  0.2374957612 |         ideal\n",
      "    41 |     2500 |      7 |  0.0557449069 |         ideal\n",
      "    42 |     2562 |      5 |  0.0532828628 |         ideal\n",
      "    43 |     2624 |      2 |  0.8417790086 |         ideal\n",
      "    44 |     2686 |      4 |  0.2559670409 |         ideal\n",
      "    45 |     2748 |      4 |  0.0450841625 |         ideal\n",
      "    46 |     2810 |      4 |  0.6401293242 |         ideal\n",
      "    47 |     2872 |      5 |  0.1491204392 |         ideal\n",
      "    48 |     2934 |      6 |  0.1158977919 |         ideal\n",
      "    49 |     2996 |      5 |  0.0861003765 |         ideal\n",
      "    50 |     3058 |      4 |  0.1095768861 |         ideal\n",
      "    51 |     3120 |      4 |  0.0332052628 |         ideal\n",
      "    52 |     3182 |      3 |  0.4681750065 |         ideal\n",
      "    53 |     3244 |      7 |  0.0087614908 |         ideal\n",
      "    54 |     3306 |      4 |  0.8406738805 |         ideal\n",
      "    55 |     3368 |      4 |  0.3885080282 |         ideal\n",
      "    56 |     3430 |      3 |  0.3770112392 |         ideal\n",
      "    57 |     3492 |      4 |  0.1010804962 |         ideal\n",
      "    58 |     3554 |      7 |  0.2905667955 |         ideal\n",
      "    59 |     3616 |      5 |  0.1738330476 |         ideal\n",
      "    60 |     3678 |      6 |  0.1845037326 |         ideal\n",
      "    61 |     3740 |      2 |  1.7282095631 |         ideal\n",
      "    62 |     3802 |      9 |  0.0335452215 |         ideal\n",
      "    63 |     3864 |      4 |  0.0941515248 |         ideal\n",
      "    64 |     3926 |      6 |  0.0804752491 |         ideal\n",
      "    65 |     3988 |      5 |  0.0195718122 |         ideal\n",
      "    66 |     4050 |      2 |  0.6477705615 |         ideal\n",
      "    67 |     4112 |      2 |  0.4834167786 |         ideal\n",
      "    68 |     4174 |      4 |  0.1197019974 |         ideal\n",
      "    69 |     4236 |      3 |  0.1672165827 |         ideal\n",
      "    70 |     4298 |      3 |  0.4499116445 |         ideal\n",
      "    71 |     4360 |      5 |  0.0254841144 |         ideal\n",
      "    72 |     4422 |      4 |  0.0609878161 |         ideal\n",
      "    73 |     4484 |      4 |  0.0707904382 |         ideal\n",
      "    74 |     4546 |      3 |  0.3675527108 |         ideal\n",
      "    75 |     4608 |      6 |  0.0586729658 |         ideal\n",
      "    76 |     4670 |      2 |  0.7311478686 |         ideal\n",
      "    77 |     4732 |      5 |  0.3292642890 |         ideal\n",
      "    78 |     4794 |      3 |  0.3120152965 |         ideal\n",
      "    79 |     4856 |      4 |  0.2004349188 |         ideal\n",
      "    80 |     4918 |      6 |  0.3902693899 |         ideal\n",
      "    81 |     4980 |      4 |  0.1851402936 |         ideal\n",
      "    82 |     5042 |      3 |  0.0778455110 |         ideal\n",
      "    83 |     5104 |      5 |  0.0593199916 |         ideal\n",
      "    84 |     5166 |      2 |  0.4163782814 |         ideal\n",
      "    85 |     5228 |      5 |  0.0495501757 |         ideal\n",
      "    86 |     5290 |      4 |  0.2429828135 |         ideal\n",
      "    87 |     5352 |      3 |  0.0501628559 |         ideal\n",
      "    88 |     5414 |      5 |  0.5358977534 |         ideal\n",
      "    89 |     5476 |      6 |  0.1690727119 |         ideal\n",
      "    90 |     5538 |      4 |  0.5400585278 |         ideal\n",
      "    91 |     5600 |      5 |  0.0601392331 |         ideal\n",
      "    92 |     5662 |      5 |  0.1838732351 |         ideal\n",
      "    93 |     5724 |      4 |  0.0613045675 |         ideal\n",
      "    94 |     5786 |      4 |  0.0738147803 |         ideal\n",
      "    95 |     5848 |      5 |  0.0130079590 |         ideal\n",
      "    96 |     5910 |      3 |  0.4154114945 |         ideal\n",
      "    97 |     5972 |      4 |  0.0764716730 |         ideal\n",
      "    98 |     6034 |      6 |  0.3257010890 |         ideal\n",
      "    99 |     6096 |      4 |  0.1153452388 |         ideal\n",
      "   100 |     6158 |      4 |  0.2568839004 |         ideal\n",
      "   101 |     6220 |      4 |  0.1257764310 |         ideal\n",
      "   102 |     6282 |      2 |  0.8913724932 |         ideal\n",
      "   103 |     6344 |      5 |  0.1732192150 |         ideal\n",
      "   104 |     6406 |      6 |  0.0392682482 |         ideal\n",
      "   105 |     6468 |      3 |  0.5481654958 |         ideal\n",
      "   106 |     6530 |      4 |  0.1506287621 |         ideal\n",
      "   107 |     6592 |      2 |  2.2232567665 |         ideal\n",
      "   108 |     6654 |      4 |  0.0651522836 |         ideal\n",
      "   109 |     6716 |      5 |  0.0890341185 |         ideal\n",
      "   110 |     6778 |      3 |  0.6391386149 |         ideal\n",
      "   111 |     6840 |      5 |  0.0378518766 |         ideal\n",
      "   112 |     6902 |      3 |  0.0834755732 |         ideal\n",
      "   113 |     6964 |      2 |  4.6867166228 |         ideal\n",
      "   114 |     7026 |      1 |  0.1218729019 |         ideal\n",
      "   115 |     7088 |      5 |  0.0383496879 |         ideal\n",
      "   116 |     7150 |      5 |  0.0555550821 |         ideal\n",
      "   117 |     7212 |      6 |  0.0561366752 |         ideal\n",
      "   118 |     7274 |      4 |  0.1821374715 |         ideal\n",
      "   119 |     7336 |      3 |  0.1825723347 |         ideal\n",
      "   120 |     7398 |      9 |  0.3805645073 |         ideal\n",
      "   121 |     7460 |     10 |  0.4412918371 |         ideal\n",
      "   122 |     7522 |     10 |  0.0291954120 |         ideal\n",
      "   123 |     7584 |      7 |  0.0678587770 |         ideal\n",
      "   124 |     7646 |      7 |  0.2618525134 |         ideal\n",
      "   125 |     7708 |     10 |  0.1312798818 |         ideal\n",
      "   126 |     7770 |      5 |  0.0181165936 |         ideal\n",
      "   127 |     7832 |      8 |  0.0428464905 |         ideal\n",
      "   128 |     7894 |     11 |  0.0146002522 |         ideal\n",
      "   129 |     7956 |      7 |  0.1673205414 |         ideal\n",
      "   130 |     8018 |      9 |  0.0933020676 |         ideal\n",
      "   131 |     8080 |      7 |  0.0720455323 |         ideal\n",
      "   132 |     8142 |      6 |  0.0359409312 |         ideal\n",
      "   133 |     8204 |      4 |  0.1825691121 |         ideal\n",
      "   134 |     8266 |      3 |  0.2292672150 |         ideal\n",
      "   135 |     8328 |      8 |  0.1615027187 |         ideal\n",
      "   136 |     8390 |      6 |  0.1181095873 |         ideal\n",
      "   137 |     8452 |      5 |  0.2618832762 |         ideal\n",
      "   138 |     8514 |      6 |  0.2420637377 |         ideal\n",
      "   139 |     8576 |      5 |  0.0648975465 |         ideal\n",
      "   140 |     8638 |      2 |  1.6586196167 |         ideal\n",
      "   141 |     8700 |      8 |  0.0981407760 |         ideal\n",
      "   142 |     8762 |      3 |  0.0942013263 |         ideal\n",
      "   143 |     8824 |      4 |  0.0717809157 |         ideal\n",
      "   144 |     8886 |      5 |  0.0475944372 |         ideal\n",
      "   145 |     8948 |      4 |  0.1506588452 |         ideal\n",
      "   146 |     9010 |      3 |  0.0999889795 |         ideal\n",
      "   147 |     9072 |      6 |  0.2019322278 |         ideal\n",
      "   148 |     9134 |      4 |  0.0622124721 |         ideal\n",
      "   149 |     9196 |      2 |  0.4103872953 |         ideal\n",
      "   150 |     9258 |     10 |  0.0530132958 |         ideal\n",
      "   151 |     9320 |      7 |  0.1593851781 |         ideal\n",
      "   152 |     9382 |      5 |  0.0332959748 |         ideal\n",
      "   153 |     9444 |      6 |  0.0228780087 |         ideal\n",
      "   154 |     9506 |      8 |  0.0032741537 |         ideal\n",
      "   155 |     9568 |      7 |  0.0559168563 |         ideal\n",
      "   156 |     9630 |      8 |  0.0200724880 |         ideal\n",
      "   157 |     9692 |      5 |  0.0464667472 |         ideal\n",
      "   158 |     9754 |      4 |  0.2117306441 |         ideal\n",
      "   159 |     9816 |      7 |  0.0813072089 |         ideal\n",
      "   160 |     9878 |      5 |  0.0672731518 |         ideal\n",
      "   161 |     9940 |      6 |  0.1538526505 |         ideal\n",
      "   162 |    10002 |      6 |  0.0973204173 |         ideal\n",
      "   163 |    10064 |      6 |  0.0356897665 |         ideal\n",
      "   164 |    10126 |      6 |  0.0166376597 |         ideal\n",
      "   165 |    10188 |      7 |  0.0196297329 |         ideal\n",
      "   166 |    10250 |      5 |  0.0297585759 |         ideal\n",
      "   167 |    10312 |      8 |  0.0477989312 |         ideal\n",
      "   168 |    10374 |      5 |  0.1216706830 |         ideal\n",
      "   169 |    10436 |      5 |  0.0709232442 |         ideal\n",
      "   170 |    10498 |      5 |  0.1800038944 |         ideal\n",
      "   171 |    10560 |      5 |  1.4747213707 |         ideal\n",
      "   172 |    10622 |      4 |  0.1130602458 |         ideal\n",
      "   173 |    10684 |      3 |  0.4746416088 |         ideal\n",
      "   174 |    10746 |      5 |  0.0509449251 |         ideal\n",
      "   175 |    10808 |      4 |  0.4307033279 |         ideal\n",
      "   176 |    10870 |      3 |  0.2708592414 |         ideal\n",
      "   177 |    10932 |      5 |  0.0562552399 |         ideal\n",
      "   178 |    10994 |      5 |  0.2415697127 |         ideal\n",
      "   179 |    11056 |      5 |  0.2425064445 |         ideal\n",
      "   180 |    11118 |      6 |  0.3237184593 |         ideal\n",
      "   181 |    11180 |      3 |  0.4271619604 |         ideal\n",
      "   182 |    11242 |      7 |  0.0900087529 |         ideal\n",
      "   183 |    11304 |      4 |  0.1326423457 |         ideal\n",
      "   184 |    11366 |      7 |  0.0736293451 |         ideal\n",
      "   185 |    11428 |      6 |  0.0465911359 |         ideal\n",
      "   186 |    11490 |      7 |  0.0720564336 |         ideal\n",
      "   187 |    11552 |      3 |  0.2193405530 |         ideal\n",
      "   188 |    11614 |      5 |  0.2334084105 |         ideal\n",
      "   189 |    11676 |      4 |  1.0954026858 |         ideal\n",
      "   190 |    11738 |      4 |  0.4323223542 |         ideal\n",
      "   191 |    11800 |      3 |  0.8208868901 |         ideal\n",
      "   192 |    11862 |      5 |  0.1760104932 |         ideal\n",
      "   193 |    11924 |      3 |  1.0999556037 |         ideal\n",
      "   194 |    11986 |      7 |  0.0282031728 |         ideal\n",
      "   195 |    12048 |      5 |  0.2870077172 |         ideal\n",
      "   196 |    12110 |      7 |  0.0698116415 |         ideal\n",
      "   197 |    12172 |      5 |  0.1681365142 |         ideal\n",
      "   198 |    12234 |      6 |  0.0938408220 |         ideal\n",
      "   199 |    12296 |      6 |  0.0529164337 |         ideal\n",
      "   200 |    12358 |      4 |  0.4399266624 |         ideal\n"
     ]
    }
   ],
   "source": [
    "from pymoo.algorithms.moo.dnsga2 import DNSGA2\n",
    "from pymoo.core.callback import CallbackCollection, Callback\n",
    "from pymoo.optimize import minimize\n",
    "from pymoo.problems.dyn import TimeSimulation\n",
    "from pymoo.problems.dynamic.df import DF1\n",
    "import matplotlib.pyplot as plt\n",
    "\n",
    "\n",
    "problem = ProblemWrapper(end_effector_path=ee_traj, \n",
    "                         model=nflow, \n",
    "                         step_mod=10,\n",
    "                         l2_love_ratio=0.1)\n",
    "\n",
    "algorithm = DNSGA2(pop_size=20)\n",
    "\n",
    "simulation = TimeSimulation()\n",
    "\n",
    "res = minimize(problem,\n",
    "               algorithm,\n",
    "               termination=('n_gen', len(ee_traj)*problem.step_mod),\n",
    "               callback=CallbackCollection(simulation),\n",
    "               seed=1,\n",
    "               verbose=True)"
   ]
  },
  {
   "cell_type": "code",
   "execution_count": 35,
   "metadata": {},
   "outputs": [
    {
     "name": "stdout",
     "output_type": "stream",
     "text": [
      "          l2_err  ang_errs(sum)\n",
      "count  20.000000      20.000000\n",
      "mean    0.005115      79.052103\n",
      "std     0.006266      53.771811\n",
      "min     0.000530      18.118501\n",
      "25%     0.002128      49.221672\n",
      "50%     0.003435      70.894992\n",
      "75%     0.005656      79.912182\n",
      "max     0.029479     231.791509\n"
     ]
    }
   ],
   "source": [
    "def cal_errs(robot = problem.robot, path = ee_traj, iksols = problem.solutions):\n",
    "    errs = np.zeros((len(path),))\n",
    "    ang_errs = np.zeros_like(errs)\n",
    "    step = 0\n",
    "    for q, ee_pos in zip(iksols, path):\n",
    "        if step != 0:\n",
    "            ang_errs[step] = np.sum(np.abs(iksols[step-1] - q))\n",
    "        errs[step] = robot.l2_err_func(q=q, ee_pos=ee_pos)\n",
    "        step += 1\n",
    "    ang_errs[0] = np.average(ang_errs[1:])\n",
    "    ang_errs = np.rad2deg(ang_errs)\n",
    "    df = pd.DataFrame(np.column_stack((errs, ang_errs)), columns=['l2_err', 'ang_errs(sum)'])\n",
    "    return df\n",
    "df = cal_errs()\n",
    "print(df.describe())"
   ]
  },
  {
   "cell_type": "code",
   "execution_count": null,
   "metadata": {},
   "outputs": [],
   "source": [
    "z_dim = 3\n",
    "c_dim = 3\n",
    "model = GMM(features=z_dim, context=c_dim, hidden_features=[10], components=5)\n",
    "print(model)\n",
    "bs = 100\n",
    "input_z = torch.zeros((bs, z_dim,))\n",
    "input_c = torch.zeros((bs, c_dim,))\n",
    "ans = model(input_c).sample((2,)).numpy()\n",
    "print(ans.shape)\n",
    "print(ans)\n",
    "reshape = ans.reshape((-1, ans.shape[-1]))\n",
    "print(reshape.shape)\n",
    "print(reshape)"
   ]
  },
  {
   "cell_type": "code",
   "execution_count": null,
   "metadata": {},
   "outputs": [],
   "source": [
    "pos = np.array([[1, 2, 3], [4, 5, 6]])"
   ]
  },
  {
   "cell_type": "code",
   "execution_count": null,
   "metadata": {},
   "outputs": [],
   "source": [
    "np.atleast_2d(pos).repeat(repeats=len(reshape), axis=0)"
   ]
  },
  {
   "cell_type": "code",
   "execution_count": null,
   "metadata": {},
   "outputs": [],
   "source": [
    "problem = FunctionalProblem(z_dim,\n",
    "                            objs,\n",
    "                            xl=np.array([-10, -5, -10]),\n",
    "                            xu=np.array([10, 5, 10])\n",
    "                            )\n",
    "\n",
    "algorithm = NSGA2()\n",
    "\n",
    "res = minimize(problem,\n",
    "               algorithm,\n",
    "               termination=('n_gen', 200),\n",
    "               seed=1,\n",
    "               verbose=True)"
   ]
  },
  {
   "cell_type": "code",
   "execution_count": null,
   "metadata": {},
   "outputs": [],
   "source": []
  },
  {
   "cell_type": "code",
   "execution_count": null,
   "metadata": {},
   "outputs": [],
   "source": []
  },
  {
   "cell_type": "code",
   "execution_count": null,
   "metadata": {},
   "outputs": [],
   "source": []
  },
  {
   "cell_type": "code",
   "execution_count": null,
   "metadata": {},
   "outputs": [],
   "source": []
  },
  {
   "cell_type": "code",
   "execution_count": null,
   "metadata": {},
   "outputs": [],
   "source": [
    "flow = MAF(3, 4, transforms=3, passes=2) # coupling layers\n",
    "flow"
   ]
  },
  {
   "cell_type": "code",
   "execution_count": null,
   "metadata": {},
   "outputs": [],
   "source": [
    "flow = MAF(features=config.num_features, \n",
    "            context=config.num_conditions, \n",
    "            transforms=config.num_transforms, \n",
    "            passes=2,\n",
    "            randperm=True, \n",
    "            activation=config.activation, \n",
    "            hidden_features=config.subnet_shape).to(config.device)\n",
    "flow"
   ]
  },
  {
   "cell_type": "code",
   "execution_count": null,
   "metadata": {},
   "outputs": [],
   "source": [
    "import roboticstoolbox as rbt"
   ]
  },
  {
   "cell_type": "code",
   "execution_count": null,
   "metadata": {},
   "outputs": [],
   "source": [
    "import spatialmath as spm"
   ]
  },
  {
   "cell_type": "code",
   "execution_count": null,
   "metadata": {},
   "outputs": [],
   "source": [
    "p = spm.SE3(*[1, 4, 2])\n",
    "p"
   ]
  },
  {
   "cell_type": "code",
   "execution_count": null,
   "metadata": {},
   "outputs": [],
   "source": [
    "p.angvec()"
   ]
  },
  {
   "cell_type": "code",
   "execution_count": null,
   "metadata": {},
   "outputs": [],
   "source": [
    "os.path.dirname(p)"
   ]
  },
  {
   "cell_type": "code",
   "execution_count": null,
   "metadata": {},
   "outputs": [],
   "source": [
    "def load_numpy(file_path):\n",
    "    if os.path.exists(path=file_path):\n",
    "        return np.load(file_path)\n",
    "    else:\n",
    "        print('file not exist and return empty np array.')\n",
    "        return np.array([])"
   ]
  },
  {
   "cell_type": "code",
   "execution_count": null,
   "metadata": {},
   "outputs": [],
   "source": [
    "from utils.utils import create_robot_dirs, remove_empty_robot_dirs"
   ]
  },
  {
   "cell_type": "code",
   "execution_count": null,
   "metadata": {},
   "outputs": [],
   "source": [
    "create_robot_dirs()"
   ]
  },
  {
   "cell_type": "code",
   "execution_count": null,
   "metadata": {},
   "outputs": [],
   "source": [
    "remove_empty_robot_dirs()"
   ]
  },
  {
   "cell_type": "code",
   "execution_count": null,
   "metadata": {},
   "outputs": [],
   "source": [
    "import numpy as np"
   ]
  },
  {
   "cell_type": "code",
   "execution_count": null,
   "metadata": {},
   "outputs": [],
   "source": [
    "k = np.zeros(shape=(4, 4))"
   ]
  },
  {
   "cell_type": "code",
   "execution_count": null,
   "metadata": {},
   "outputs": [],
   "source": [
    "k.shape == (4,4)"
   ]
  },
  {
   "cell_type": "code",
   "execution_count": null,
   "metadata": {},
   "outputs": [],
   "source": [
    "from utils.robot import Robot"
   ]
  },
  {
   "cell_type": "code",
   "execution_count": null,
   "metadata": {},
   "outputs": [],
   "source": [
    "rbt = Robot(verbose=False)"
   ]
  },
  {
   "cell_type": "code",
   "execution_count": null,
   "metadata": {},
   "outputs": [],
   "source": [
    "rbt.robot.name"
   ]
  },
  {
   "cell_type": "code",
   "execution_count": null,
   "metadata": {},
   "outputs": [],
   "source": [
    "print(rbt.robot)"
   ]
  },
  {
   "cell_type": "code",
   "execution_count": null,
   "metadata": {},
   "outputs": [],
   "source": [
    "q = rbt.robot.qrandom\n",
    "rbt.plot(q=q, p=q)"
   ]
  },
  {
   "cell_type": "code",
   "execution_count": null,
   "metadata": {},
   "outputs": [],
   "source": [
    "import roboticstoolbox as rtb"
   ]
  },
  {
   "cell_type": "code",
   "execution_count": null,
   "metadata": {},
   "outputs": [],
   "source": [
    "rtb.models.DH.__all__"
   ]
  },
  {
   "cell_type": "code",
   "execution_count": null,
   "metadata": {},
   "outputs": [],
   "source": [
    "robot = rtb.models.DH.KR5()"
   ]
  },
  {
   "cell_type": "code",
   "execution_count": null,
   "metadata": {},
   "outputs": [],
   "source": [
    "robot.qlim"
   ]
  },
  {
   "cell_type": "code",
   "execution_count": null,
   "metadata": {},
   "outputs": [],
   "source": [
    "robot.qlim.shape"
   ]
  },
  {
   "cell_type": "code",
   "execution_count": null,
   "metadata": {},
   "outputs": [],
   "source": [
    "its = .7\n",
    "robot.plot(q=robot.qrandom, jointaxes=False, limits=[-its, its] * 3)"
   ]
  },
  {
   "cell_type": "code",
   "execution_count": null,
   "metadata": {},
   "outputs": [],
   "source": [
    "import time"
   ]
  },
  {
   "cell_type": "code",
   "execution_count": null,
   "metadata": {},
   "outputs": [],
   "source": [
    "b = time.time()"
   ]
  },
  {
   "cell_type": "code",
   "execution_count": null,
   "metadata": {},
   "outputs": [],
   "source": [
    "e = time.time()"
   ]
  },
  {
   "cell_type": "code",
   "execution_count": null,
   "metadata": {},
   "outputs": [],
   "source": [
    "round(e - b, 2)"
   ]
  },
  {
   "cell_type": "code",
   "execution_count": null,
   "metadata": {},
   "outputs": [],
   "source": [
    "import numpy as np\n",
    "k = np.zeros((7, 7))"
   ]
  },
  {
   "cell_type": "code",
   "execution_count": null,
   "metadata": {},
   "outputs": [],
   "source": [
    "u = k.reshape(-1)"
   ]
  },
  {
   "cell_type": "code",
   "execution_count": null,
   "metadata": {},
   "outputs": [],
   "source": [
    "u.shape"
   ]
  },
  {
   "cell_type": "code",
   "execution_count": 1,
   "metadata": {},
   "outputs": [],
   "source": [
    "import swift\n",
    "import roboticstoolbox as rtb\n",
    "import spatialmath as sm\n",
    "import numpy as np\n",
    "\n",
    "env = swift.Swift()\n",
    "env.launch(realtime=True)\n",
    "\n",
    "panda = rtb.models.Panda()\n",
    "panda.q = panda.qr\n",
    "\n",
    "Tep = panda.fkine(panda.q) * sm.SE3.Trans(0.2, 0.2, 0.45)\n",
    "\n",
    "arrived = False\n",
    "env.add(panda)\n",
    "\n",
    "dt = 0.05\n",
    "\n",
    "while not arrived:\n",
    "\n",
    "    v, arrived = rtb.p_servo(panda.fkine(panda.q), Tep, 1)\n",
    "    panda.qd = np.linalg.pinv(panda.jacobe(panda.q)) @ v\n",
    "    env.step(dt)\n",
    "\n",
    "# Uncomment to stop the browser tab from closing\n",
    "# env.hold()"
   ]
  },
  {
   "cell_type": "code",
   "execution_count": 11,
   "metadata": {},
   "outputs": [],
   "source": [
    "def run(robot, steps=20):\n",
    "    env = swift.Swift()\n",
    "    env.launch(realtime=True)\n",
    "    env.add(robot)\n",
    "    \n",
    "    robot.q = robot.qr\n",
    "    \n",
    "    q = robot.q\n",
    "    p = robot.random_q()\n",
    "    \n",
    "    qt = rtb.tools.trajectory.jtraj(q, p, t=steps)\n",
    "    \n",
    "    # robot.plot(qt.q)\n",
    "    dt = 0.05\n",
    "\n",
    "    for q in qt.q:\n",
    "        robot.q = q\n",
    "        env.step(dt)\n",
    "    "
   ]
  },
  {
   "cell_type": "code",
   "execution_count": 10,
   "metadata": {},
   "outputs": [],
   "source": [
    "panda = rtb.models.Panda()\n",
    "\n",
    "run(panda)"
   ]
  },
  {
   "cell_type": "code",
   "execution_count": null,
   "metadata": {},
   "outputs": [],
   "source": [
    "robot.plot()"
   ]
  }
 ],
 "metadata": {
  "kernelspec": {
   "display_name": "base",
   "language": "python",
   "name": "python3"
  },
  "language_info": {
   "codemirror_mode": {
    "name": "ipython",
    "version": 3
   },
   "file_extension": ".py",
   "mimetype": "text/x-python",
   "name": "python",
   "nbconvert_exporter": "python",
   "pygments_lexer": "ipython3",
   "version": "3.9.12"
  },
  "orig_nbformat": 4
 },
 "nbformat": 4,
 "nbformat_minor": 2
}
