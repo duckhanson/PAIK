{
 "cells": [
  {
   "cell_type": "code",
   "execution_count": null,
   "metadata": {},
   "outputs": [],
   "source": [
    "# Import required packages\n",
    "import time\n",
    "import numpy as np\n",
    "import pandas as pd\n",
    "from tabulate import tabulate\n",
    "import torch\n",
    "from tqdm import trange\n",
    "from paik.solver import Solver\n",
    "from paik.settings import (\n",
    "    DEFAULT_NSF,\n",
    "    DEFULT_SOLVER,\n",
    ")"
   ]
  },
  {
   "cell_type": "code",
   "execution_count": null,
   "metadata": {},
   "outputs": [],
   "source": [
    "WORKDIR = \"/home/luca/paik\"\n",
    "\n",
    "solver_param = DEFULT_SOLVER\n",
    "solver_param.workdir = WORKDIR\n",
    "solver = Solver(solver_param=solver_param)\n",
    "\n",
    "num_seeds = 2000\n",
    "num_sols = num_seeds\n",
    "num_poses = 1000\n",
    "base_stds = np.arange(0.1, 1.5, 0.1)  # start, stop, step"
   ]
  },
  {
   "cell_type": "code",
   "execution_count": null,
   "metadata": {},
   "outputs": [],
   "source": [
    "def get_numerical_ik_sols(target_pose, num_seeds):\n",
    "    seeds, _ = solver._robot.sample_joint_angles_and_poses(\n",
    "        n=num_seeds, return_torch=False\n",
    "    )\n",
    "    numer_ik = np.empty((num_seeds, solver.n))\n",
    "    for i in range(num_seeds):\n",
    "        numer_ik[i] = solver.robot.inverse_kinematics_klampt(\n",
    "            pose=target_pose, seed=seeds[i]\n",
    "        )\n",
    "    return numer_ik\n",
    "\n",
    "\n",
    "_, P = solver._robot.sample_joint_angles_and_poses(n=num_poses, return_torch=False)\n",
    "\n",
    "J_ground_truth = np.empty((num_poses, num_sols, solver.n))\n",
    "for i in trange(num_poses):\n",
    "    J_ground_truth[i] = get_numerical_ik_sols(P[i], num_seeds)"
   ]
  },
  {
   "cell_type": "code",
   "execution_count": null,
   "metadata": {},
   "outputs": [],
   "source": [
    "from example.mmd import mmd_evaluate_multiple_poses\n",
    "\n",
    "l2_mean = np.empty((len(base_stds)))\n",
    "ang_mean = np.empty((len(base_stds)))\n",
    "mmd_mean = np.empty((len(base_stds)))\n",
    "\n",
    "for i, std in enumerate(base_stds):\n",
    "    solver.base_std = std\n",
    "    P_expand_dim = (\n",
    "        np.expand_dims(P, axis=1).repeat(num_sols, axis=1).reshape(-1, P.shape[-1])\n",
    "    )\n",
    "\n",
    "    F = solver.F[\n",
    "        solver.P_knn.kneighbors(\n",
    "            np.atleast_2d(P), n_neighbors=num_sols, return_distance=False\n",
    "        ).flatten()\n",
    "    ]\n",
    "    J_hat = solver.solve_batch(P_expand_dim, F, 1)\n",
    "    l2, ang = solver.evaluate_pose_error_J3d_P2d(J_hat, P_expand_dim, return_all=True)\n",
    "    J_hat = J_hat.reshape(num_poses, num_sols, -1)\n",
    "    l2_mean[i] = l2.mean()\n",
    "    ang_mean[i] = ang.mean()\n",
    "    mmd_mean[i] = mmd_evaluate_multiple_poses(\n",
    "        J_hat, J_ground_truth, num_poses=num_poses\n",
    "    )\n",
    "    assert not np.isnan(mmd_mean[i])\n",
    "\n",
    "df = pd.DataFrame({\"l2\": l2_mean, \"ang\": ang_mean, \"mmd\": mmd_mean, \"std\": base_stds})\n",
    "df.plot(x=\"std\", y=[\"l2\"], title=\"l2 vs. Base Std\", grid=True)\n",
    "df.plot(x=\"std\", y=[\"ang\"], title=\"ang vs. Base Std\", grid=True)\n",
    "df.plot(x=\"std\", y=[\"mmd\"], title=\"mmd vs. Base Std\", grid=True)\n",
    "df.describe()"
   ]
  },
  {
   "cell_type": "code",
   "execution_count": null,
   "metadata": {},
   "outputs": [],
   "source": [
    "from ikflow.utils import set_seed\n",
    "from ikflow.model_loading import get_ik_solver\n",
    "\n",
    "set_seed()\n",
    "# Build IKFlowSolver and set weights\n",
    "ik_solver, _ = get_ik_solver(\"panda__full__lp191_5.25m\")\n",
    "l2_flow = np.empty((len(base_stds)))\n",
    "ang_flow = np.empty((len(base_stds)))\n",
    "mmd_flow = np.empty((len(base_stds)))\n",
    "\n",
    "for i, std in enumerate(base_stds):\n",
    "    J_flow = np.array(\n",
    "        [ik_solver.solve(p, n=num_sols, latent_scale=std).cpu().numpy() for p in P]\n",
    "    )\n",
    "    J_flow = J_flow.transpose(1, 0, 2)  # (num_sols, num_poses, n)\n",
    "    l2, ang = solver.evaluate_pose_error_J3d_P2d(J_flow, P, return_all=True)\n",
    "    l2_flow[i] = l2.mean()\n",
    "    ang_flow[i] = ang.mean()\n",
    "    mmd_flow[i] = mmd_evaluate_multiple_poses(\n",
    "        J_flow.transpose(1, 0, 2), J_ground_truth, num_poses=num_poses\n",
    "    )\n",
    "\n",
    "\n",
    "df_flow = pd.DataFrame(\n",
    "    {\"l2\": l2_flow, \"ang\": ang_flow, \"mmd\": mmd_flow, \"std\": base_stds}\n",
    ")\n",
    "df_flow.plot(x=\"std\", y=[\"l2\"], title=\"l2 vs. Base Std\", grid=True)\n",
    "df_flow.plot(x=\"std\", y=[\"ang\"], title=\"ang vs. Base Std\", grid=True)\n",
    "df_flow.plot(x=\"std\", y=[\"mmd\"], title=\"mmd vs. Base Std\", grid=True)\n",
    "df_flow.describe()"
   ]
  },
  {
   "cell_type": "code",
   "execution_count": null,
   "metadata": {},
   "outputs": [],
   "source": [
    "df_l2 = pd.DataFrame({\"l2_paik\": l2_mean, \"l2_ikflow\": l2_flow, \"std\": base_stds})\n",
    "df_ang = pd.DataFrame({\"ang_paik\": ang_mean, \"ang_ikflow\": ang_flow, \"std\": base_stds})\n",
    "df_mmd = pd.DataFrame({\"mmd_paik\": mmd_mean, \"mmd_ikflow\": mmd_flow, \"std\": base_stds})\n",
    "\n",
    "df_l2.plot(x=\"std\", y=[\"l2_paik\", \"l2_ikflow\"], title=\"l2 vs. Base Std\", grid=True)\n",
    "df_ang.plot(x=\"std\", y=[\"ang_paik\", \"ang_ikflow\"], title=\"ang vs. Base Std\", grid=True)\n",
    "df_mmd.plot(x=\"std\", y=[\"mmd_paik\", \"mmd_ikflow\"], title=\"mmd vs. Base Std\", grid=True)"
   ]
  },
  {
   "cell_type": "code",
   "execution_count": null,
   "metadata": {},
   "outputs": [],
   "source": [
    "import os\n",
    "from datetime import datetime\n",
    "\n",
    "record_dir = f\"{WORKDIR}/record/{datetime.today().strftime('%Y_%m_%d')}\"\n",
    "os.makedirs(record_dir, exist_ok=True)\n",
    "df.to_pickle(f\"{record_dir}/paik_posture_mmd_std.pkl\")\n",
    "df_flow.to_pickle(f\"{record_dir}/ikflow_posture_mmd_std.pkl\")"
   ]
  },
  {
   "cell_type": "code",
   "execution_count": null,
   "metadata": {},
   "outputs": [],
   "source": [
    "import numpy as np\n",
    "\n",
    "batch_size = 20\n",
    "arr = np.arange(301)\n",
    "brr = np.split(arr, np.arange(batch_size, arr.shape[0], batch_size))"
   ]
  },
  {
   "cell_type": "code",
   "execution_count": null,
   "metadata": {},
   "outputs": [],
   "source": [
    "brr"
   ]
  },
  {
   "cell_type": "code",
   "execution_count": null,
   "metadata": {},
   "outputs": [],
   "source": []
  }
 ],
 "metadata": {
  "kernelspec": {
   "display_name": "base",
   "language": "python",
   "name": "python3"
  },
  "language_info": {
   "codemirror_mode": {
    "name": "ipython",
    "version": 3
   },
   "file_extension": ".py",
   "mimetype": "text/x-python",
   "name": "python",
   "nbconvert_exporter": "python",
   "pygments_lexer": "ipython3",
   "version": "3.9.12"
  }
 },
 "nbformat": 4,
 "nbformat_minor": 4
}
