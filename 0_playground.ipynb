{
 "cells": [
  {
   "cell_type": "code",
   "execution_count": null,
   "metadata": {},
   "outputs": [],
   "source": [
    "import os\n",
    "import numpy\n",
    "# os.path.exists(os.path.join(os.getcwd(), 'new_folder', 'file.txt'))\n",
    "p = os.path.join(os.getcwd(), 'weights')"
   ]
  },
  {
   "cell_type": "code",
   "execution_count": null,
   "metadata": {},
   "outputs": [],
   "source": [
    "dir_path = \"./hello/world\""
   ]
  },
  {
   "cell_type": "code",
   "execution_count": null,
   "metadata": {},
   "outputs": [],
   "source": [
    "if not os.path.exists(path=dir_path):\n",
    "    os.makedirs(name=dir_path)"
   ]
  },
  {
   "cell_type": "code",
   "execution_count": null,
   "metadata": {},
   "outputs": [],
   "source": [
    "os.path.dirname(p)"
   ]
  },
  {
   "cell_type": "code",
   "execution_count": null,
   "metadata": {},
   "outputs": [],
   "source": [
    "def load_numpy(file_path):\n",
    "    if os.path.exists(path=file_path):\n",
    "        return np.load(file_path)\n",
    "    else:\n",
    "        print('file not exist and return empty np array.')\n",
    "        return np.array([])"
   ]
  },
  {
   "cell_type": "code",
   "execution_count": null,
   "metadata": {},
   "outputs": [],
   "source": [
    "from utils.utils import create_robot_dirs, remove_empty_robot_dirs"
   ]
  },
  {
   "cell_type": "code",
   "execution_count": null,
   "metadata": {},
   "outputs": [],
   "source": [
    "create_robot_dirs()"
   ]
  },
  {
   "cell_type": "code",
   "execution_count": null,
   "metadata": {},
   "outputs": [],
   "source": [
    "remove_empty_robot_dirs()"
   ]
  },
  {
   "cell_type": "code",
   "execution_count": null,
   "metadata": {},
   "outputs": [],
   "source": [
    "import numpy as np"
   ]
  },
  {
   "cell_type": "code",
   "execution_count": null,
   "metadata": {},
   "outputs": [],
   "source": [
    "k = np.zeros(shape=(4, 4))"
   ]
  },
  {
   "cell_type": "code",
   "execution_count": null,
   "metadata": {},
   "outputs": [],
   "source": [
    "k.shape == (4,4)"
   ]
  },
  {
   "cell_type": "code",
   "execution_count": 1,
   "metadata": {},
   "outputs": [],
   "source": [
    "from utils.robot import Robot"
   ]
  },
  {
   "cell_type": "code",
   "execution_count": 2,
   "metadata": {},
   "outputs": [
    {
     "name": "stdout",
     "output_type": "stream",
     "text": [
      "Create ./data/lbr/\n",
      "Create ./weights/lbr/\n",
      "Create ./data/lbr/trajectory/\n",
      "Create ./data/lbr/show_pose/\n"
     ]
    }
   ],
   "source": [
    "rbt = Robot(verbose=False)"
   ]
  },
  {
   "cell_type": "code",
   "execution_count": 3,
   "metadata": {},
   "outputs": [
    {
     "data": {
      "text/plain": [
       "'kuka_lbr_iiwa_14_r820'"
      ]
     },
     "execution_count": 3,
     "metadata": {},
     "output_type": "execute_result"
    }
   ],
   "source": [
    "rbt.robot.name"
   ]
  },
  {
   "cell_type": "code",
   "execution_count": 4,
   "metadata": {},
   "outputs": [
    {
     "name": "stdout",
     "output_type": "stream",
     "text": [
      "ERobot: kuka_lbr_iiwa_14_r820 (by Kuka), 7 joints (RRRRRRR), 2 branches, geometry, collision\n",
      "┌─────┬───────────┬───────┬───────────┬───────────────────────────────────┐\n",
      "│link │   link    │ joint │  parent   │        ETS: parent to link        │\n",
      "├─────┼───────────┼───────┼───────────┼───────────────────────────────────┤\n",
      "│   0\u001b[0m │ \u001b[38;5;4mbase_link\u001b[0m │      \u001b[0m │ BASE\u001b[0m      │ \u001b[0m                                  │\n",
      "│   1\u001b[0m │ link_1\u001b[0m    │     0\u001b[0m │ base_link\u001b[0m │ SE3() ⊕ Rz(q0)\u001b[0m                    │\n",
      "│   2\u001b[0m │ link_2\u001b[0m    │     1\u001b[0m │ link_1\u001b[0m    │ SE3(-0.0004362, 0, 0.36) ⊕ Ry(q1)\u001b[0m │\n",
      "│   3\u001b[0m │ link_3\u001b[0m    │     2\u001b[0m │ link_2\u001b[0m    │ SE3() ⊕ Rz(q2)\u001b[0m                    │\n",
      "│   4\u001b[0m │ link_4\u001b[0m    │     3\u001b[0m │ link_3\u001b[0m    │ SE3(0.0004362, 0, 0.42) ⊕ Ry(-q3)\u001b[0m │\n",
      "│   5\u001b[0m │ link_5\u001b[0m    │     4\u001b[0m │ link_4\u001b[0m    │ SE3() ⊕ Rz(q4)\u001b[0m                    │\n",
      "│   6\u001b[0m │ link_6\u001b[0m    │     5\u001b[0m │ link_5\u001b[0m    │ SE3(0, 0, 0.4) ⊕ Ry(q5)\u001b[0m           │\n",
      "│   7\u001b[0m │ link_7\u001b[0m    │     6\u001b[0m │ link_6\u001b[0m    │ SE3() ⊕ Rz(q6)\u001b[0m                    │\n",
      "│   8\u001b[0m │ \u001b[38;5;4m@tool0\u001b[0m    │      \u001b[0m │ link_7\u001b[0m    │ SE3(0, 0, 0.126)\u001b[0m                  │\n",
      "│   9\u001b[0m │ \u001b[38;5;4m@base\u001b[0m     │      \u001b[0m │ base_link\u001b[0m │ SE3()\u001b[0m                             │\n",
      "└─────┴───────────┴───────┴───────────┴───────────────────────────────────┘\n",
      "\n",
      "┌─────┬─────┬────────┬─────┬───────┬─────┬────────┬──────┐\n",
      "│name │ q0  │ q1     │ q2  │ q3    │ q4  │ q5     │ q6   │\n",
      "├─────┼─────┼────────┼─────┼───────┼─────┼────────┼──────┤\n",
      "│  qr\u001b[0m │  0°\u001b[0m │ -17.2°\u001b[0m │  0°\u001b[0m │ -109°\u001b[0m │  0°\u001b[0m │  85.9°\u001b[0m │  45°\u001b[0m │\n",
      "│  qz\u001b[0m │  0°\u001b[0m │  0°\u001b[0m    │  0°\u001b[0m │  0°\u001b[0m   │  0°\u001b[0m │  0°\u001b[0m    │  0°\u001b[0m  │\n",
      "└─────┴─────┴────────┴─────┴───────┴─────┴────────┴──────┘\n",
      "\n"
     ]
    }
   ],
   "source": [
    "print(rbt.robot)"
   ]
  },
  {
   "cell_type": "code",
   "execution_count": 5,
   "metadata": {},
   "outputs": [],
   "source": [
    "q = rbt.robot.qrandom\n",
    "rbt.plot(q=q, p=q)"
   ]
  },
  {
   "cell_type": "code",
   "execution_count": 6,
   "metadata": {},
   "outputs": [],
   "source": [
    "import roboticstoolbox as rtb"
   ]
  },
  {
   "cell_type": "code",
   "execution_count": 7,
   "metadata": {},
   "outputs": [
    {
     "data": {
      "text/plain": [
       "['Panda',\n",
       " 'Puma560',\n",
       " 'Stanford',\n",
       " 'Ball',\n",
       " 'Coil',\n",
       " 'Hyper',\n",
       " 'Hyper3d',\n",
       " 'Cobra600',\n",
       " 'IRB140',\n",
       " 'KR5',\n",
       " 'Orion5',\n",
       " 'Planar3',\n",
       " 'Planar2',\n",
       " 'LWR4',\n",
       " 'UR3',\n",
       " 'UR5',\n",
       " 'UR10',\n",
       " 'Sawyer',\n",
       " 'Mico',\n",
       " 'Jaco',\n",
       " 'Baxter',\n",
       " 'TwoLink',\n",
       " 'P8',\n",
       " 'AL5D']"
      ]
     },
     "execution_count": 7,
     "metadata": {},
     "output_type": "execute_result"
    }
   ],
   "source": [
    "rtb.models.DH.__all__"
   ]
  },
  {
   "cell_type": "code",
   "execution_count": 75,
   "metadata": {},
   "outputs": [],
   "source": [
    "robot = rtb.models.DH.KR5()"
   ]
  },
  {
   "cell_type": "code",
   "execution_count": 76,
   "metadata": {},
   "outputs": [
    {
     "data": {
      "text/plain": [
       "array([[-2.70526034, -3.14159265, -0.26179939, -6.10865238, -2.26892803,\n",
       "        -6.10865238],\n",
       "       [ 2.70526034,  1.13446401,  2.75762022,  6.10865238,  2.26892803,\n",
       "         6.10865238]])"
      ]
     },
     "execution_count": 76,
     "metadata": {},
     "output_type": "execute_result"
    }
   ],
   "source": [
    "robot.qlim"
   ]
  },
  {
   "cell_type": "code",
   "execution_count": 77,
   "metadata": {},
   "outputs": [
    {
     "data": {
      "text/plain": [
       "(2, 6)"
      ]
     },
     "execution_count": 77,
     "metadata": {},
     "output_type": "execute_result"
    }
   ],
   "source": [
    "robot.qlim.shape"
   ]
  },
  {
   "cell_type": "code",
   "execution_count": 80,
   "metadata": {},
   "outputs": [
    {
     "data": {
      "image/png": "[encoded data removed]",
      "text/plain": [
       "<Figure size 640x480 with 1 Axes>"
      ]
     },
     "metadata": {},
     "output_type": "display_data"
    },
    {
     "data": {
      "text/plain": [
       "PyPlot3D backend, t = 0.05, scene:\n",
       "  KR5"
      ]
     },
     "execution_count": 80,
     "metadata": {},
     "output_type": "execute_result"
    },
    {
     "data": {
      "text/plain": [
       "<Figure size 640x480 with 0 Axes>"
      ]
     },
     "metadata": {},
     "output_type": "display_data"
    }
   ],
   "source": [
    "its = .7\n",
    "robot.plot(q=robot.qrandom, jointaxes=False, limits=[-its, its] * 3)"
   ]
  },
  {
   "cell_type": "code",
   "execution_count": null,
   "metadata": {},
   "outputs": [],
   "source": []
  }
 ],
 "metadata": {
  "kernelspec": {
   "display_name": "base",
   "language": "python",
   "name": "python3"
  },
  "language_info": {
   "codemirror_mode": {
    "name": "ipython",
    "version": 3
   },
   "file_extension": ".py",
   "mimetype": "text/x-python",
   "name": "python",
   "nbconvert_exporter": "python",
   "pygments_lexer": "ipython3",
   "version": "3.9.12"
  },
  "orig_nbformat": 4
 },
 "nbformat": 4,
 "nbformat_minor": 2
}
