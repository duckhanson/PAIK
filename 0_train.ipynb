{
 "cells": [
  {
   "cell_type": "code",
   "execution_count": 1,
   "metadata": {},
   "outputs": [],
   "source": [
    "# Import required packages\n",
    "import time\n",
    "import os\n",
    "\n",
    "import torch\n",
    "from tqdm import tqdm\n",
    "\n",
    "import wandb\n",
    "from utils.model import *\n",
    "from utils.robot import Robot\n",
    "from utils.settings import config as cfg\n",
    "from utils.utils import *\n",
    "from pprint import pprint"
   ]
  },
  {
   "cell_type": "code",
   "execution_count": 2,
   "metadata": {},
   "outputs": [],
   "source": [
    "def train_step(model, batch, optimizer, scheduler):\n",
    "    \"\"\"\n",
    "    _summary_\n",
    "\n",
    "    Args:\n",
    "        model (_type_): _description_\n",
    "        batch (_type_): _description_\n",
    "        optimizer (_type_): _description_\n",
    "        scheduler (_type_): _description_\n",
    "\n",
    "    Returns:\n",
    "        _type_: _description_\n",
    "    \"\"\"\n",
    "    x, y = add_noise(batch)\n",
    "\n",
    "    loss = -model(y).log_prob(x)  # -log p(x | y)\n",
    "    loss = loss.mean()\n",
    "\n",
    "    optimizer.zero_grad()\n",
    "    loss.backward()\n",
    "    optimizer.step()\n",
    "    scheduler.step()\n",
    "\n",
    "    return loss.item()"
   ]
  },
  {
   "cell_type": "code",
   "execution_count": 9,
   "metadata": {},
   "outputs": [],
   "source": [
    "def mini_train(\n",
    "    config=None,\n",
    "    robot=None,\n",
    "    J_tr=None, \n",
    "    P_tr=None, \n",
    "    J_ts=None, \n",
    "    P_ts=None, \n",
    "    F=None, \n",
    "    knn=None):\n",
    "    # data generation\n",
    "    if torch.cuda.is_available():\n",
    "        device = 'cuda'\n",
    "    else:\n",
    "        device = 'cpu'\n",
    "    \n",
    "    train_loader = get_train_loader(\n",
    "        J=J_tr, \n",
    "        P=P_tr, \n",
    "        F=F, \n",
    "        device=device, \n",
    "        batch_size=config[\"batch_size\"])\n",
    "    \n",
    "    # Build Generative model, NSF\n",
    "    # Neural spline flow (NSF) with 3 sample features and 5 context features\n",
    "    solver, optimizer, scheduler = get_flow_model(\n",
    "        load_model=cfg.use_pretrained,\n",
    "        num_transforms=config[\"num_transforms\"],\n",
    "        subnet_width=config[\"subnet_width\"],\n",
    "        subnet_num_layers=config[\"subnet_num_layers\"],\n",
    "        lr=config[\"lr\"],\n",
    "        lr_weight_decay=config[\"lr_weight_decay\"],\n",
    "        decay_step_size=config[\"decay_step_size\"],\n",
    "        gamma=config[\"gamma\"],\n",
    "        device=device)\n",
    "    \n",
    "    solver.train()\n",
    "\n",
    "    for ep in range(config[\"num_epochs\"]):\n",
    "        t = tqdm(train_loader)\n",
    "        step = 0\n",
    "        batch_loss = np.zeros((len(train_loader)))\n",
    "        for batch in t:\n",
    "            loss = train_step(\n",
    "                model=solver, batch=batch, optimizer=optimizer, scheduler=scheduler\n",
    "            )\n",
    "            batch_loss[step] = loss\n",
    "            bar = {\"loss\": f\"{np.round(loss, 3)}\"}\n",
    "            t.set_postfix(bar, refresh=True)\n",
    "\n",
    "            step += 1\n",
    "\n",
    "        rand = np.random.randint(low=0, high=len(P_ts), size=cfg.num_eval_size)\n",
    "        _, position_errors, _ = test(\n",
    "            robot=robot,\n",
    "            P_ts=P_ts[rand],\n",
    "            F=F,\n",
    "            solver=solver,\n",
    "            knn=knn,\n",
    "            K=cfg.K,\n",
    "            print_report=False,\n",
    "        )\n",
    "        wandb.log({\n",
    "            'epoch': ep, \n",
    "            'position_errors': position_errors.mean(),\n",
    "            'train_loss': batch_loss.mean(), \n",
    "        })\n",
    "        \n",
    "    print(\"Finished Training\")"
   ]
  },
  {
   "cell_type": "code",
   "execution_count": 14,
   "metadata": {},
   "outputs": [],
   "source": [
    "sweep_config = {\n",
    "    'name': 'sweep',\n",
    "    'method': 'random',\n",
    "    'metric' : {\n",
    "        'name': 'position_errors',\n",
    "        'goal': 'minimize'   \n",
    "    },\n",
    "    'parameters' : {\n",
    "        'subnet_width': {\n",
    "            'values': [128, 256, 512, 1024, 2048]\n",
    "            },\n",
    "        'subnet_num_layers': {\n",
    "            'values': [int(i * 2) for i in range(2, 5)]\n",
    "            },\n",
    "        'num_transforms': {\n",
    "            'values': [int(i * 2) for i in range(2, 10)]\n",
    "        },\n",
    "        'lr': {\n",
    "            # a flat distribution between 0 and 0.1\n",
    "            'distribution': 'q_uniform',\n",
    "            'q': 1e-8,\n",
    "            'min': 1e-8,\n",
    "            'max': 1e-4,\n",
    "        },\n",
    "        'lr_weight_decay': {\n",
    "            # a flat distribution between 0 and 0.1\n",
    "            'distribution': 'q_uniform',\n",
    "            'q': 1e-2,\n",
    "            'min': 1e-2,\n",
    "            'max': 9e-1,\n",
    "        },\n",
    "        'decay_step_size': {\n",
    "            'values': [int(i * 2e3) for i in range(1, 20)],\n",
    "        },\n",
    "        'gamma': {\n",
    "            'distribution': 'q_uniform',\n",
    "            'q': 1e-2,\n",
    "            'min': 1e-2,\n",
    "            'max': 1,\n",
    "        },\n",
    "        'batch_size': {\n",
    "            'values': [512, 1024, 2048]\n",
    "        },\n",
    "        'num_epochs': {\n",
    "            'value': 5\n",
    "        },\n",
    "    },\n",
    "}"
   ]
  },
  {
   "cell_type": "code",
   "execution_count": 15,
   "metadata": {},
   "outputs": [
    {
     "name": "stdout",
     "output_type": "stream",
     "text": [
      "Create sweep with ID: 0h4h1h61\n",
      "Sweep URL: https://wandb.ai/luca_nthu/sdik_sweep/sweeps/0h4h1h61\n"
     ]
    }
   ],
   "source": [
    "sweep_id = wandb.sweep(\n",
    "    sweep=sweep_config, \n",
    "    project='sdik_sweep',\n",
    "    entity='luca_nthu')"
   ]
  },
  {
   "cell_type": "code",
   "execution_count": 16,
   "metadata": {},
   "outputs": [
    {
     "name": "stdout",
     "output_type": "stream",
     "text": [
      "hnne load successfully from /home/luca/ikpflow/weights/panda/hnne.pickle\n"
     ]
    }
   ],
   "source": [
    "robot = Robot(verbose=False)\n",
    "J_tr, P_tr = data_collection(robot=robot, N=cfg.N_train)\n",
    "J_ts, P_ts = data_collection(robot=robot, N=cfg.N_test)\n",
    "F = posture_feature_extraction(J_tr)\n",
    "knn = load_pickle(file_path=cfg.path_knn)"
   ]
  },
  {
   "cell_type": "code",
   "execution_count": 17,
   "metadata": {},
   "outputs": [],
   "source": [
    "def main():\n",
    "    # note that we define values from `wandb.config`  \n",
    "    # instead of defining hard values\n",
    "    run = wandb.init()\n",
    "\n",
    "    # note that we define values from `wandb.config`  \n",
    "    # instead of defining hard values\n",
    "    config = {\n",
    "        'subnet_width': wandb.config.subnet_width,\n",
    "        'subnet_num_layers': wandb.config.subnet_num_layers,\n",
    "        'num_transforms': wandb.config.num_transforms,\n",
    "        'lr': wandb.config.lr,\n",
    "        'lr_weight_decay': wandb.config.lr_weight_decay,\n",
    "        'decay_step_size': wandb.config.decay_step_size,\n",
    "        'gamma': wandb.config.gamma,\n",
    "        'batch_size': wandb.config.batch_size,\n",
    "        'num_epochs': wandb.config.num_epochs,\n",
    "    }\n",
    "\n",
    "    mini_train(\n",
    "        config=config,\n",
    "        robot=robot,\n",
    "        J_tr=J_tr,\n",
    "        P_tr=P_tr,\n",
    "        J_ts=J_ts,\n",
    "        P_ts=P_ts,\n",
    "        F=F,\n",
    "        knn=knn\n",
    "    )\n"
   ]
  },
  {
   "cell_type": "code",
   "execution_count": 18,
   "metadata": {},
   "outputs": [
    {
     "name": "stderr",
     "output_type": "stream",
     "text": [
      "\u001b[34m\u001b[1mwandb\u001b[0m: Agent Starting Run: jtxk9sgi with config:\n",
      "\u001b[34m\u001b[1mwandb\u001b[0m: \tbatch_size: 2048\n",
      "\u001b[34m\u001b[1mwandb\u001b[0m: \tdecay_step_size: 14000\n",
      "\u001b[34m\u001b[1mwandb\u001b[0m: \tgamma: 0.89\n",
      "\u001b[34m\u001b[1mwandb\u001b[0m: \tlr: 2.035e-05\n",
      "\u001b[34m\u001b[1mwandb\u001b[0m: \tlr_weight_decay: 0.19\n",
      "\u001b[34m\u001b[1mwandb\u001b[0m: \tnum_epochs: 5\n",
      "\u001b[34m\u001b[1mwandb\u001b[0m: \tnum_transforms: 18\n",
      "\u001b[34m\u001b[1mwandb\u001b[0m: \tsubnet_num_layers: 4\n",
      "\u001b[34m\u001b[1mwandb\u001b[0m: \tsubnet_width: 256\n",
      "Failed to detect the name of this notebook, you can set it manually with the WANDB_NOTEBOOK_NAME environment variable to enable code saving.\n"
     ]
    },
    {
     "data": {
      "text/html": [
       "wandb version 0.15.7 is available!  To upgrade, please run:\n",
       " $ pip install wandb --upgrade"
      ],
      "text/plain": [
       "<IPython.core.display.HTML object>"
      ]
     },
     "metadata": {},
     "output_type": "display_data"
    },
    {
     "data": {
      "text/html": [
       "Tracking run with wandb version 0.15.2"
      ],
      "text/plain": [
       "<IPython.core.display.HTML object>"
      ]
     },
     "metadata": {},
     "output_type": "display_data"
    },
    {
     "data": {
      "text/html": [
       "Run data is saved locally in <code>/home/luca/ikpflow/wandb/run-20230731_001331-jtxk9sgi</code>"
      ],
      "text/plain": [
       "<IPython.core.display.HTML object>"
      ]
     },
     "metadata": {},
     "output_type": "display_data"
    },
    {
     "data": {
      "text/html": [
       "Syncing run <strong><a href='https://wandb.ai/luca_nthu/sdik_sweep/runs/jtxk9sgi' target=\"_blank\">crimson-sweep-1</a></strong> to <a href='https://wandb.ai/luca_nthu/sdik_sweep' target=\"_blank\">Weights & Biases</a> (<a href='https://wandb.me/run' target=\"_blank\">docs</a>)<br/>Sweep page: <a href='https://wandb.ai/luca_nthu/sdik_sweep/sweeps/0h4h1h61' target=\"_blank\">https://wandb.ai/luca_nthu/sdik_sweep/sweeps/0h4h1h61</a>"
      ],
      "text/plain": [
       "<IPython.core.display.HTML object>"
      ]
     },
     "metadata": {},
     "output_type": "display_data"
    },
    {
     "data": {
      "text/html": [
       " View project at <a href='https://wandb.ai/luca_nthu/sdik_sweep' target=\"_blank\">https://wandb.ai/luca_nthu/sdik_sweep</a>"
      ],
      "text/plain": [
       "<IPython.core.display.HTML object>"
      ]
     },
     "metadata": {},
     "output_type": "display_data"
    },
    {
     "data": {
      "text/html": [
       " View sweep at <a href='https://wandb.ai/luca_nthu/sdik_sweep/sweeps/0h4h1h61' target=\"_blank\">https://wandb.ai/luca_nthu/sdik_sweep/sweeps/0h4h1h61</a>"
      ],
      "text/plain": [
       "<IPython.core.display.HTML object>"
      ]
     },
     "metadata": {},
     "output_type": "display_data"
    },
    {
     "data": {
      "text/html": [
       " View run at <a href='https://wandb.ai/luca_nthu/sdik_sweep/runs/jtxk9sgi' target=\"_blank\">https://wandb.ai/luca_nthu/sdik_sweep/runs/jtxk9sgi</a>"
      ],
      "text/plain": [
       "<IPython.core.display.HTML object>"
      ]
     },
     "metadata": {},
     "output_type": "display_data"
    },
    {
     "name": "stdout",
     "output_type": "stream",
     "text": [
      "Create a new model and start training.\n"
     ]
    },
    {
     "name": "stderr",
     "output_type": "stream",
     "text": [
      "100%|██████████| 1220/1220 [01:48<00:00, 11.21it/s, loss=7.376]\n",
      "100%|██████████| 1220/1220 [01:48<00:00, 11.22it/s, loss=4.95] \n",
      "100%|██████████| 1220/1220 [01:49<00:00, 11.17it/s, loss=3.774]\n",
      "100%|██████████| 1220/1220 [01:48<00:00, 11.20it/s, loss=3.205]\n",
      "100%|██████████| 1220/1220 [01:51<00:00, 10.97it/s, loss=2.712]\n"
     ]
    },
    {
     "name": "stdout",
     "output_type": "stream",
     "text": [
      "Finished Training\n"
     ]
    },
    {
     "data": {
      "text/html": [
       "Waiting for W&B process to finish... <strong style=\"color:green\">(success).</strong>"
      ],
      "text/plain": [
       "<IPython.core.display.HTML object>"
      ]
     },
     "metadata": {},
     "output_type": "display_data"
    },
    {
     "data": {
      "text/html": [
       "<style>\n",
       "    table.wandb td:nth-child(1) { padding: 0 10px; text-align: left ; width: auto;} td:nth-child(2) {text-align: left ; width: 100%}\n",
       "    .wandb-row { display: flex; flex-direction: row; flex-wrap: wrap; justify-content: flex-start; width: 100% }\n",
       "    .wandb-col { display: flex; flex-direction: column; flex-basis: 100%; flex: 1; padding: 10px; }\n",
       "    </style>\n",
       "<div class=\"wandb-row\"><div class=\"wandb-col\"><h3>Run history:</h3><br/><table class=\"wandb\"><tr><td>epoch</td><td>▁▃▅▆█</td></tr><tr><td>position_errors</td><td>█▃▃▂▁</td></tr><tr><td>train_loss</td><td>█▄▂▁▁</td></tr></table><br/></div><div class=\"wandb-col\"><h3>Run summary:</h3><br/><table class=\"wandb\"><tr><td>epoch</td><td>4</td></tr><tr><td>position_errors</td><td>0.23065</td></tr><tr><td>train_loss</td><td>2.98964</td></tr></table><br/></div></div>"
      ],
      "text/plain": [
       "<IPython.core.display.HTML object>"
      ]
     },
     "metadata": {},
     "output_type": "display_data"
    },
    {
     "data": {
      "text/html": [
       " View run <strong style=\"color:#cdcd00\">crimson-sweep-1</strong> at: <a href='https://wandb.ai/luca_nthu/sdik_sweep/runs/jtxk9sgi' target=\"_blank\">https://wandb.ai/luca_nthu/sdik_sweep/runs/jtxk9sgi</a><br/>Synced 6 W&B file(s), 0 media file(s), 0 artifact file(s) and 0 other file(s)"
      ],
      "text/plain": [
       "<IPython.core.display.HTML object>"
      ]
     },
     "metadata": {},
     "output_type": "display_data"
    },
    {
     "data": {
      "text/html": [
       "Find logs at: <code>./wandb/run-20230731_001331-jtxk9sgi/logs</code>"
      ],
      "text/plain": [
       "<IPython.core.display.HTML object>"
      ]
     },
     "metadata": {},
     "output_type": "display_data"
    },
    {
     "name": "stderr",
     "output_type": "stream",
     "text": [
      "\u001b[34m\u001b[1mwandb\u001b[0m: Agent Starting Run: 39s84yc1 with config:\n",
      "\u001b[34m\u001b[1mwandb\u001b[0m: \tbatch_size: 1024\n",
      "\u001b[34m\u001b[1mwandb\u001b[0m: \tdecay_step_size: 16000\n",
      "\u001b[34m\u001b[1mwandb\u001b[0m: \tgamma: 0.4\n",
      "\u001b[34m\u001b[1mwandb\u001b[0m: \tlr: 8.647e-05\n",
      "\u001b[34m\u001b[1mwandb\u001b[0m: \tlr_weight_decay: 0.6\n",
      "\u001b[34m\u001b[1mwandb\u001b[0m: \tnum_epochs: 5\n",
      "\u001b[34m\u001b[1mwandb\u001b[0m: \tnum_transforms: 16\n",
      "\u001b[34m\u001b[1mwandb\u001b[0m: \tsubnet_num_layers: 4\n",
      "\u001b[34m\u001b[1mwandb\u001b[0m: \tsubnet_width: 128\n",
      "Failed to detect the name of this notebook, you can set it manually with the WANDB_NOTEBOOK_NAME environment variable to enable code saving.\n"
     ]
    }
   ],
   "source": [
    "# Start sweep job.\n",
    "wandb.agent(sweep_id, function=main, count=100)"
   ]
  },
  {
   "cell_type": "code",
   "execution_count": null,
   "metadata": {},
   "outputs": [],
   "source": []
  }
 ],
 "metadata": {
  "kernelspec": {
   "display_name": "base",
   "language": "python",
   "name": "python3"
  },
  "language_info": {
   "codemirror_mode": {
    "name": "ipython",
    "version": 3
   },
   "file_extension": ".py",
   "mimetype": "text/x-python",
   "name": "python",
   "nbconvert_exporter": "python",
   "pygments_lexer": "ipython3",
   "version": "3.9.12"
  },
  "orig_nbformat": 4
 },
 "nbformat": 4,
 "nbformat_minor": 2
}
