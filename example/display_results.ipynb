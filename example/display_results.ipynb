{
 "cells": [
  {
   "cell_type": "code",
   "execution_count": null,
   "metadata": {},
   "outputs": [],
   "source": [
    "from common.display import display_posture_all\n",
    "from common.config import ConfigPosture\n",
    "\n",
    "config = ConfigPosture()\n",
    "config.date = \"2024_03_02\"  # default: \"2024_03_02\"\n",
    "\n",
    "display_posture_all(\n",
    "    config.iksolver_names, config.record_dir, config.success_distance_thresholds\n",
    ")"
   ]
  },
  {
   "cell_type": "code",
   "execution_count": null,
   "metadata": {},
   "outputs": [],
   "source": [
    "from common.display import display_diversity_all\n",
    "from common.config import ConfigDiversity\n",
    "\n",
    "config = ConfigDiversity()\n",
    "config.date = \"2024_03_04\"  # default: \"2024_03_04\n",
    "\n",
    "display_diversity_all(config.iksolver_names, config.record_dir)"
   ]
  }
 ],
 "metadata": {
  "kernelspec": {
   "display_name": "base",
   "language": "python",
   "name": "python3"
  },
  "language_info": {
   "codemirror_mode": {
    "name": "ipython",
    "version": 3
   },
   "file_extension": ".py",
   "mimetype": "text/x-python",
   "name": "python",
   "nbconvert_exporter": "python",
   "pygments_lexer": "ipython3",
   "version": "3.9.12"
  }
 },
 "nbformat": 4,
 "nbformat_minor": 2
}
