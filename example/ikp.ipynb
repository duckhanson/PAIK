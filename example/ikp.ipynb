{
 "cells": [
  {
   "cell_type": "code",
   "execution_count": 1,
   "metadata": {},
   "outputs": [
    {
     "name": "stdout",
     "output_type": "stream",
     "text": [
      "ikflow/config.py | Using device: 'cuda:0'\n"
     ]
    }
   ],
   "source": [
    "from typing import Any\n",
    "import numpy as np\n",
    "from time import time\n",
    "\n",
    "import pandas as pd\n",
    "import scipy\n",
    "from tqdm import tqdm\n",
    "\n",
    "from common.evaluate import evaluate_pose_error_J3d_P2d, mmd_J3d_J3d\n",
    "from paik.solver import NSF, PAIK, Solver, get_solver\n",
    "from sklearn.cluster import DBSCAN\n",
    "from common.config import Config_IKP\n",
    "from common.display import save_ikp\n",
    "from scipy.spatial.distance import cdist\n",
    "\n",
    "\n",
    "import os\n",
    "\n",
    "from ikflow.model import IkflowModelParameters\n",
    "from ikflow.ikflow_solver import IKFlowSolver\n",
    "import jrl.robots as jrlib\n",
    "import paik.klampt_robot as chlib\n",
    "\n",
    "import torch\n",
    "from ikflow.training.lt_model import IkfLitModel\n",
    "from experiments_ikflow import get_ikflow_solver\n",
    "\n",
    "# set the same random seed for reproducibility\n",
    "np.random.seed(0)\n",
    "torch.manual_seed(0)\n",
    "\n",
    "DEFAULT_WEIGHTS_PATH = {\n",
    "    'atlas_arm': '/home/luca/ikflow/training_logs/atlas_arm--Sep.11.2024_07:52:PM/ikflow-checkpoint-step=90000.ckpt',\n",
    "    'atlas_waist_arm': '/home/luca/ikflow/training_logs/atlas_waist_arm--Sep.10.2024_11:3:PM/ikflow-checkpoint-step=270000.ckpt',\n",
    "    'baxter_arm': '/home/luca/ikflow/training_logs/baxter--Sep.12.2024_09:27:AM/ikflow-checkpoint-step=960000.ckpt',\n",
    "}"
   ]
  },
  {
   "cell_type": "code",
   "execution_count": 2,
   "metadata": {},
   "outputs": [
    {
     "name": "stdout",
     "output_type": "stream",
     "text": [
      "WorldModel::LoadRobot: /home/luca/.cache/jrl/temp_urdfs/panda_arm_hand_formatted_link_filepaths_absolute.urdf\n",
      "joint mimic: no multiplier, using default value of 1 \n",
      "joint mimic: no offset, using default value of 0 \n",
      "URDFParser: Link size: 17\n",
      "URDFParser: Joint size: 12\n",
      "LoadAssimp: Loaded model /home/luca/miniconda3/lib/python3.9/site-packages/jrl/urdfs/panda/meshes/visual/link0.dae (59388 verts, 20478 tris)\n",
      "LoadAssimp: Loaded model /home/luca/miniconda3/lib/python3.9/site-packages/jrl/urdfs/panda/meshes/visual/link1.dae (37309 verts, 12516 tris)\n",
      "LoadAssimp: Loaded model /home/luca/miniconda3/lib/python3.9/site-packages/jrl/urdfs/panda/meshes/visual/link2.dae (37892 verts, 12716 tris)\n",
      "LoadAssimp: Loaded model /home/luca/miniconda3/lib/python3.9/site-packages/jrl/urdfs/panda/meshes/visual/link3.dae (42512 verts, 14233 tris)\n",
      "LoadAssimp: Loaded model /home/luca/miniconda3/lib/python3.9/site-packages/jrl/urdfs/panda/meshes/visual/link4.dae (43520 verts, 14620 tris)\n",
      "LoadAssimp: Loaded model /home/luca/miniconda3/lib/python3.9/site-packages/jrl/urdfs/panda/meshes/visual/link5.dae (54770 verts, 18327 tris)\n",
      "LoadAssimp: Loaded model /home/luca/miniconda3/lib/python3.9/site-packages/jrl/urdfs/panda/meshes/visual/link6.dae (64086 verts, 21620 tris)\n",
      "LoadAssimp: Loaded model /home/luca/miniconda3/lib/python3.9/site-packages/jrl/urdfs/panda/meshes/visual/link7.dae (35829 verts, 12077 tris)\n",
      "LoadAssimp: Loaded model /home/luca/miniconda3/lib/python3.9/site-packages/jrl/urdfs/panda/meshes/visual/hand.dae (20896 verts, 7078 tris)\n",
      "LoadAssimp: Loaded model /home/luca/miniconda3/lib/python3.9/site-packages/jrl/urdfs/panda/meshes/visual/finger.dae (1849 verts, 624 tris)\n",
      "LoadAssimp: Loaded model /home/luca/miniconda3/lib/python3.9/site-packages/jrl/urdfs/panda/meshes/visual/finger.dae (1849 verts, 624 tris)\n",
      "URDFParser: Done loading robot file /home/luca/.cache/jrl/temp_urdfs/panda_arm_hand_formatted_link_filepaths_absolute.urdf\n",
      "Initialized robot collision data structures in time 0.408851\n",
      "[Warning] Error(s) in loading state_dict for Flow:\n",
      "\tsize mismatch for base._0: copying a param with shape torch.Size([1, 7]) from checkpoint, the shape in current model is torch.Size([7]).. Please check the model path /home/luca/paik/weights/panda/0115-0234/model.pth.\n",
      "[WARNING] /home/luca/paik/weights/panda/0115-0234/J_knn.pth: file not exist and return None.. Load training data instead.\n",
      "[SUCCESS] P_knn load from /home/luca/paik/weights/panda/P_knn-5000000-7-7-1.pth.\n",
      "[SUCCESS] J_knn load from /home/luca/paik/weights/panda/J_knn-5000000-7-7-1.pth.\n"
     ]
    }
   ],
   "source": [
    "robot_name = 'panda'\n",
    "nsf = get_solver(arch_name=\"nsf\", robot_name=robot_name, load=True, work_dir='/home/luca/paik')\n",
    "transforms = nsf._solver.transforms\n",
    "base = nsf._solver.base"
   ]
  },
  {
   "cell_type": "code",
   "execution_count": 3,
   "metadata": {},
   "outputs": [
    {
     "name": "stdout",
     "output_type": "stream",
     "text": [
      "input z.shape: torch.Size([100, 10, 7]).\n",
      "                l2          ang\n",
      "count  1000.000000  1000.000000\n",
      "mean      0.003696     1.478805\n",
      "std       0.002848     3.012355\n",
      "min       0.000198     0.065961\n",
      "25%       0.002012     0.506973\n",
      "50%       0.002878     0.791711\n",
      "75%       0.004526     1.335286\n",
      "max       0.027557    50.243552\n",
      "  l2 (mm)    ang (deg)    inference_time (ms)\n",
      "---------  -----------  ---------------------\n",
      "      3.7         1.48                     34\n"
     ]
    },
    {
     "data": {
      "text/plain": [
       "(0.0036955545727540393, 0.025810013919472505, 0.034)"
      ]
     },
     "execution_count": 3,
     "metadata": {},
     "output_type": "execute_result"
    }
   ],
   "source": [
    "nsf.random_ikp(num_poses=10, num_sols=100)"
   ]
  },
  {
   "cell_type": "code",
   "execution_count": 4,
   "metadata": {},
   "outputs": [],
   "source": [
    "from zuko.transforms import ComposedTransform\n",
    "\n",
    "num_poses = 10\n",
    "num_sols = 1000\n",
    "Q, P = nsf.robot.sample_joint_angles_and_poses(n=num_poses)\n",
    "\n",
    "# P.shape = (100, 7)\n",
    "# P = torch.from_numpy(P).to('cuda')\n",
    "# s = torch.ones(P.shape[0], 1).to('cuda')\n",
    "# c = torch.column_stack([P, s])\n",
    "# c_base = base(c)\n",
    "# c_transforms = ComposedTransform(*[t(c) for t in transforms])"
   ]
  },
  {
   "cell_type": "code",
   "execution_count": 5,
   "metadata": {},
   "outputs": [
    {
     "name": "stdout",
     "output_type": "stream",
     "text": [
      "[INFO] zsample: torch.Size([1000, 10, 7])\n"
     ]
    }
   ],
   "source": [
    "z = np.random.randn(num_sols, num_poses, nsf.n) * 0.25\n",
    "J_hat = nsf.generate_ik_solutions_z(P, z)"
   ]
  },
  {
   "cell_type": "code",
   "execution_count": 6,
   "metadata": {},
   "outputs": [
    {
     "data": {
      "text/plain": [
       "(0.0027180834984647, 0.02797915218292401)"
      ]
     },
     "execution_count": 6,
     "metadata": {},
     "output_type": "execute_result"
    }
   ],
   "source": [
    "l2, ang = evaluate_pose_error_J3d_P2d(\n",
    "    # input J.shape = (num_sols, num_poses, num_dofs or n)\n",
    "    nsf.robot, J_hat, P, return_all=True\n",
    ")\n",
    "l2.mean(), ang.mean()"
   ]
  },
  {
   "cell_type": "code",
   "execution_count": null,
   "metadata": {},
   "outputs": [],
   "source": [
    "conditions_torch = c.to('cuda')\n",
    "conditions_torch = conditions_torch.to(torch.float32)\n",
    "z = torch.randn((num_sols, num_poses, nsf.n), dtype=torch.float32).to('cuda') * 0.25\n",
    "J = nsf._solver(conditions_torch).zsample(z)"
   ]
  },
  {
   "cell_type": "code",
   "execution_count": null,
   "metadata": {},
   "outputs": [],
   "source": [
    "J.shape"
   ]
  },
  {
   "cell_type": "code",
   "execution_count": null,
   "metadata": {},
   "outputs": [],
   "source": [
    "c_transforms.inv(z)"
   ]
  },
  {
   "cell_type": "code",
   "execution_count": null,
   "metadata": {},
   "outputs": [],
   "source": [
    "from zuko.transforms import ComposedTransform\n",
    "from zuko.flows.core import LazyDistribution\n",
    "from torch.distributions.distribution import Distribution\n",
    "\n",
    "class CustomTransform(Distribution):\n",
    "    def __init__(self, transforms, base):\n",
    "        self.transforms = transforms\n",
    "        self.base = base\n",
    "\n",
    "    def rsample(self, sample_shape=torch.Size()):\n",
    "        z = self.base.sample(sample_shape)\n",
    "        return self.transforms.inv(z)\n",
    "\n",
    "class CustomFlow(LazyDistribution):\n",
    "    def __init__(self, transforms, base):\n",
    "        super().__init__()\n",
    "        self.transforms = transforms\n",
    "        self.base = base\n",
    "        \n",
    "    def forward(self, c):\n",
    "        base = self.base(c)\n",
    "        transforms = ComposedTransform(*(t(c) for t in self.transforms))\n",
    "        return CustomTransform(transforms, base)\n",
    "    \n",
    "def compute_transforms(c, z):\n",
    "    c_transforms = ComposedTransform(*[t(c) for t in transforms])\n",
    "    return c_transforms.inv(z)\n"
   ]
  }
 ],
 "metadata": {
  "kernelspec": {
   "display_name": "base",
   "language": "python",
   "name": "python3"
  },
  "language_info": {
   "codemirror_mode": {
    "name": "ipython",
    "version": 3
   },
   "file_extension": ".py",
   "mimetype": "text/x-python",
   "name": "python",
   "nbconvert_exporter": "python",
   "pygments_lexer": "ipython3",
   "version": "3.9.12"
  }
 },
 "nbformat": 4,
 "nbformat_minor": 2
}
