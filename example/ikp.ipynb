{
 "cells": [
  {
   "cell_type": "code",
   "execution_count": 1,
   "metadata": {},
   "outputs": [
    {
     "data": {
      "text/plain": [
       "<torch._C.Generator at 0x7f1df4266170>"
      ]
     },
     "execution_count": 1,
     "metadata": {},
     "output_type": "execute_result"
    }
   ],
   "source": [
    "import numpy as np\n",
    "\n",
    "from common.evaluate import evaluate_pose_error_J3d_P2d, mmd_J3d_J3d\n",
    "from paik.solver import NSF, PAIK, Solver, get_solver\n",
    "import torch\n",
    "# set the same random seed for reproducibility\n",
    "np.random.seed(0)\n",
    "torch.manual_seed(0)"
   ]
  },
  {
   "cell_type": "code",
   "execution_count": 2,
   "metadata": {},
   "outputs": [
    {
     "name": "stdout",
     "output_type": "stream",
     "text": [
      "WorldModel::LoadRobot: /home/luca/.cache/jrl/temp_urdfs/panda_arm_hand_formatted_link_filepaths_absolute.urdf\n",
      "joint mimic: no multiplier, using default value of 1 \n",
      "joint mimic: no offset, using default value of 0 \n",
      "URDFParser: Link size: 17\n",
      "URDFParser: Joint size: 12\n",
      "LoadAssimp: Loaded model /home/luca/miniconda3/lib/python3.9/site-packages/jrl/urdfs/panda/meshes/visual/link0.dae (59388 verts, 20478 tris)\n",
      "LoadAssimp: Loaded model /home/luca/miniconda3/lib/python3.9/site-packages/jrl/urdfs/panda/meshes/visual/link1.dae (37309 verts, 12516 tris)\n",
      "LoadAssimp: Loaded model /home/luca/miniconda3/lib/python3.9/site-packages/jrl/urdfs/panda/meshes/visual/link2.dae (37892 verts, 12716 tris)\n",
      "LoadAssimp: Loaded model /home/luca/miniconda3/lib/python3.9/site-packages/jrl/urdfs/panda/meshes/visual/link3.dae (42512 verts, 14233 tris)\n",
      "LoadAssimp: Loaded model /home/luca/miniconda3/lib/python3.9/site-packages/jrl/urdfs/panda/meshes/visual/link4.dae (43520 verts, 14620 tris)\n",
      "LoadAssimp: Loaded model /home/luca/miniconda3/lib/python3.9/site-packages/jrl/urdfs/panda/meshes/visual/link5.dae (54770 verts, 18327 tris)\n",
      "LoadAssimp: Loaded model /home/luca/miniconda3/lib/python3.9/site-packages/jrl/urdfs/panda/meshes/visual/link6.dae (64086 verts, 21620 tris)\n",
      "LoadAssimp: Loaded model /home/luca/miniconda3/lib/python3.9/site-packages/jrl/urdfs/panda/meshes/visual/link7.dae (35829 verts, 12077 tris)\n",
      "LoadAssimp: Loaded model /home/luca/miniconda3/lib/python3.9/site-packages/jrl/urdfs/panda/meshes/visual/hand.dae (20896 verts, 7078 tris)\n",
      "LoadAssimp: Loaded model /home/luca/miniconda3/lib/python3.9/site-packages/jrl/urdfs/panda/meshes/visual/finger.dae (1849 verts, 624 tris)\n",
      "LoadAssimp: Loaded model /home/luca/miniconda3/lib/python3.9/site-packages/jrl/urdfs/panda/meshes/visual/finger.dae (1849 verts, 624 tris)\n",
      "URDFParser: Done loading robot file /home/luca/.cache/jrl/temp_urdfs/panda_arm_hand_formatted_link_filepaths_absolute.urdf\n",
      "Initialized robot collision data structures in time 0.41499\n",
      "[Warning] Error(s) in loading state_dict for Flow:\n",
      "\tsize mismatch for base._0: copying a param with shape torch.Size([1, 7]) from checkpoint, the shape in current model is torch.Size([7]).. Please check the model path /home/luca/paik/weights/panda/0115-0234/model.pth.\n",
      "[WARNING] /home/luca/paik/weights/panda/0115-0234/J_knn.pth: file not exist and return None.. Load training data instead.\n",
      "[SUCCESS] P_knn load from /home/luca/paik/weights/panda/P_knn-5000000-7-7-1.pth.\n",
      "[SUCCESS] J_knn load from /home/luca/paik/weights/panda/J_knn-5000000-7-7-1.pth.\n",
      "[INFO] Load latent variable from /home/luca/paik/weights/panda/Z.npy.\n"
     ]
    }
   ],
   "source": [
    "robot_name = 'panda'\n",
    "nsf = get_solver(arch_name=\"nsf\", robot_name=robot_name, load=True, work_dir='/home/luca/paik')"
   ]
  },
  {
   "cell_type": "code",
   "execution_count": 3,
   "metadata": {},
   "outputs": [
    {
     "name": "stdout",
     "output_type": "stream",
     "text": [
      "[INFO] Retrieve latent ids: [3 4 3 6 5 8 8 9 4 9]\n",
      "              l2        ang\n",
      "count  10.000000  10.000000\n",
      "mean    0.004062   0.711490\n",
      "std     0.000673   0.366385\n",
      "min     0.003397   0.197257\n",
      "25%     0.003495   0.402913\n",
      "50%     0.004000   0.802059\n",
      "75%     0.004172   0.872497\n",
      "max     0.005201   1.172909\n",
      "  l2 (mm)    ang (deg)    inference_time (ms)\n",
      "---------  -----------  ---------------------\n",
      "     4.06         0.71                    242\n"
     ]
    }
   ],
   "source": [
    "num_poses = 1\n",
    "num_sols = 10\n",
    "nsf.random_ikp(num_poses=num_poses, num_sols=num_sols)\n",
    "Q, P = nsf.robot.sample_joint_angles_and_poses(n=num_poses)"
   ]
  },
  {
   "cell_type": "code",
   "execution_count": 5,
   "metadata": {},
   "outputs": [
    {
     "name": "stdout",
     "output_type": "stream",
     "text": [
      "[INFO] Retrieve latent ids: [9 0 8 2 2 8 2 6 2 9]\n"
     ]
    }
   ],
   "source": [
    "ik_1 = nsf.generate_ik_solutions(P, num_sols=num_sols)"
   ]
  },
  {
   "cell_type": "code",
   "execution_count": 7,
   "metadata": {},
   "outputs": [
    {
     "data": {
      "text/plain": [
       "(array([[ 0.68666255,  0.60162404, -1.89308982, -2.32056342, -1.63677905,\n",
       "          1.40748783,  3.02942408]]),\n",
       " array([[ 0.68666255,  0.60162404, -1.89308982, -2.32056342, -1.63677905,\n",
       "          1.40748783,  3.02942408]]))"
      ]
     },
     "execution_count": 7,
     "metadata": {},
     "output_type": "execute_result"
    }
   ],
   "source": [
    "ik_1[3], ik_1[4]"
   ]
  },
  {
   "cell_type": "code",
   "execution_count": null,
   "metadata": {},
   "outputs": [],
   "source": []
  },
  {
   "cell_type": "code",
   "execution_count": 4,
   "metadata": {},
   "outputs": [
    {
     "name": "stdout",
     "output_type": "stream",
     "text": [
      "[INFO] zsample: torch.Size([10, 10, 7])\n"
     ]
    }
   ],
   "source": [
    "z = np.random.randn(num_sols, num_poses, nsf.n) * 0.25\n",
    "J_hat = nsf.generate_ik_solutions_z(P, z)"
   ]
  },
  {
   "cell_type": "code",
   "execution_count": 5,
   "metadata": {},
   "outputs": [
    {
     "data": {
      "text/plain": [
       "(0.002391491343725345, 0.026514987178270357)"
      ]
     },
     "execution_count": 5,
     "metadata": {},
     "output_type": "execute_result"
    }
   ],
   "source": [
    "l2, ang = evaluate_pose_error_J3d_P2d(\n",
    "    # input J.shape = (num_sols, num_poses, num_dofs or n)\n",
    "    nsf.robot, J_hat, P, return_all=True\n",
    ")\n",
    "l2.mean(), ang.mean()"
   ]
  },
  {
   "cell_type": "code",
   "execution_count": 6,
   "metadata": {},
   "outputs": [],
   "source": [
    "Z = nsf.generate_z_from_ik_solutions(P, J_hat)"
   ]
  },
  {
   "cell_type": "code",
   "execution_count": 7,
   "metadata": {},
   "outputs": [],
   "source": [
    "C = nsf._get_conditions(nsf.P)\n",
    "        \n",
    "batch_size = 4000\n",
    "C_batch, complementary = nsf._get_divisible_conditions(C, batch_size)\n",
    "J_batch, _ = nsf._get_divisible_conditions(nsf.J, batch_size)\n",
    "C_batch = C_batch.reshape(-1, batch_size, C_batch.shape[-1])\n",
    "J_batch = J_batch.reshape(-1, batch_size, J_batch.shape[-1])\n",
    "C_batch = nsf.normalize_input_data(C_batch, \"C\", return_torch=True)\n",
    "J_batch = nsf.normalize_input_data(J_batch, \"J\", return_torch=True)"
   ]
  },
  {
   "cell_type": "code",
   "execution_count": 8,
   "metadata": {},
   "outputs": [
    {
     "data": {
      "text/plain": [
       "torch.Size([1250, 4000, 8])"
      ]
     },
     "execution_count": 8,
     "metadata": {},
     "output_type": "execute_result"
    }
   ],
   "source": [
    "C_batch.shape"
   ]
  },
  {
   "cell_type": "code",
   "execution_count": 10,
   "metadata": {},
   "outputs": [
    {
     "name": "stderr",
     "output_type": "stream",
     "text": [
      "100%|██████████| 1250/1250 [00:46<00:00, 27.06it/s]\n"
     ]
    }
   ],
   "source": [
    "Z = nsf.generate_z_from_dataset()\n",
    "nsf.Z = Z"
   ]
  },
  {
   "cell_type": "code",
   "execution_count": 11,
   "metadata": {},
   "outputs": [
    {
     "data": {
      "text/plain": [
       "(5000000, 7)"
      ]
     },
     "execution_count": 11,
     "metadata": {},
     "output_type": "execute_result"
    }
   ],
   "source": [
    "Z.shape"
   ]
  },
  {
   "cell_type": "code",
   "execution_count": 24,
   "metadata": {},
   "outputs": [
    {
     "data": {
      "text/plain": [
       "((10, 7), (10, 7))"
      ]
     },
     "execution_count": 24,
     "metadata": {},
     "output_type": "execute_result"
    }
   ],
   "source": [
    "P.shape, Q.shape"
   ]
  },
  {
   "cell_type": "code",
   "execution_count": 25,
   "metadata": {},
   "outputs": [
    {
     "data": {
      "text/plain": [
       "(3, 10, 7)"
      ]
     },
     "execution_count": 25,
     "metadata": {},
     "output_type": "execute_result"
    }
   ],
   "source": [
    "k = 3\n",
    "ids = nsf.J_knn.kneighbors(Q, n_neighbors=k, return_distance=False)\n",
    "# shape: (num_poses, k) -> shape: (k, num_poses)  -> shape: (k * num_poses)   \n",
    "ids = ids.T.flatten()\n",
    "Z_from_retriever = nsf.Z[ids].reshape(k, -1, nsf.n)\n",
    "Z_from_retriever.shape"
   ]
  },
  {
   "cell_type": "code",
   "execution_count": 26,
   "metadata": {},
   "outputs": [
    {
     "name": "stdout",
     "output_type": "stream",
     "text": [
      "[INFO] zsample: torch.Size([3, 10, 7])\n"
     ]
    }
   ],
   "source": [
    "J_hat = nsf.generate_ik_solutions(P)"
   ]
  },
  {
   "cell_type": "code",
   "execution_count": 29,
   "metadata": {},
   "outputs": [
    {
     "data": {
      "text/plain": [
       "(array([[[-3.31831395e-01,  5.53793683e-01, -2.93761987e-01,\n",
       "          -1.00853130e+00,  2.98260301e-01,  3.52948691e+00,\n",
       "           2.86497496e+00],\n",
       "         [ 9.58107473e-01,  1.53841400e+00, -1.60083879e+00,\n",
       "          -1.03044418e+00, -2.81750608e+00,  1.17028075e+00,\n",
       "           2.65757530e+00],\n",
       "         [ 1.26421746e+00, -1.08115221e+00, -6.19726572e-01,\n",
       "          -9.68137730e-01,  1.75946170e+00,  5.96916836e-01,\n",
       "           6.98580843e-04],\n",
       "         [ 2.95476622e+00, -1.60395111e+00, -2.41647105e+00,\n",
       "          -1.71153156e+00,  2.55749870e+00,  3.80441753e-01,\n",
       "           2.64321100e+00],\n",
       "         [ 1.63458720e-01, -5.87918855e-01,  2.15731162e+00,\n",
       "          -2.05632113e+00,  5.77481415e-01,  1.74245126e+00,\n",
       "           2.04423553e+00],\n",
       "         [-1.98495390e+00,  1.50547179e+00, -1.42433026e+00,\n",
       "          -2.81718394e+00, -1.20824063e-02,  2.98994683e+00,\n",
       "          -4.54542510e-01],\n",
       "         [ 1.52867439e+00,  2.00881696e-01, -2.63599288e+00,\n",
       "          -9.19316771e-01,  5.36244304e-01,  2.77497439e+00,\n",
       "           1.30229129e+00],\n",
       "         [-6.35939911e-02, -1.03460022e+00,  2.04291220e+00,\n",
       "          -2.34397659e+00, -2.12096949e+00,  4.90325909e-01,\n",
       "           7.27370969e-01],\n",
       "         [ 5.01767331e-01,  1.14192918e+00,  7.44160139e-01,\n",
       "          -1.99460563e+00, -1.01198149e+00,  3.49050072e+00,\n",
       "          -3.04513387e+00],\n",
       "         [-2.86175579e+00,  9.17173110e-01,  6.65087951e-01,\n",
       "          -6.33580428e-01,  7.67078172e-01,  1.96249768e+00,\n",
       "           3.45990280e-01]],\n",
       " \n",
       "        [[-4.78346912e-01,  7.85774072e-01,  4.96828828e-01,\n",
       "          -3.01989281e-01,  1.44736606e+00,  3.38075914e+00,\n",
       "           1.25255130e+00],\n",
       "         [ 9.54973759e-01,  1.53335852e+00, -1.60142807e+00,\n",
       "          -1.03048173e+00, -2.84684841e+00,  1.16987514e+00,\n",
       "           2.64939482e+00],\n",
       "         [ 1.25158433e+00, -1.06983804e+00, -6.41582598e-01,\n",
       "          -9.59562375e-01,  1.77972474e+00,  5.88982129e-01,\n",
       "           4.86333204e-03],\n",
       "         [ 1.54149371e+00,  1.70151100e+00, -9.35621579e-01,\n",
       "          -1.66094734e+00, -9.13577051e-01,  1.49325159e+00,\n",
       "          -2.70179596e+00],\n",
       "         [ 3.25333770e-01, -7.93860714e-01,  1.95252199e+00,\n",
       "          -2.03179665e+00,  7.53415229e-01,  1.60847250e+00,\n",
       "           1.91313941e+00],\n",
       "         [-1.97640762e+00,  1.52470682e+00, -1.38363895e+00,\n",
       "          -2.81495570e+00,  1.71202142e-01,  2.98508120e+00,\n",
       "          -5.95746197e-01],\n",
       "         [ 1.17448067e+00,  2.50554345e-01, -2.43910409e+00,\n",
       "          -8.95285717e-01,  7.82054024e-01,  2.72910299e+00,\n",
       "           1.18961652e+00],\n",
       "         [-1.26242062e-01, -9.21201488e-01,  2.09504038e+00,\n",
       "          -2.36391509e+00, -2.27831382e+00,  4.07205661e-01,\n",
       "           6.37524060e-01],\n",
       "         [-2.66928627e+00, -1.24659822e+00, -2.35208321e+00,\n",
       "          -1.79662822e+00, -1.73621281e+00,  3.42625224e+00,\n",
       "          -2.39803674e+00],\n",
       "         [-2.88504321e+00,  9.08592481e-01,  7.05673817e-01,\n",
       "          -6.67757032e-01,  7.36986553e-01,  1.98407191e+00,\n",
       "           3.38394126e-01]],\n",
       " \n",
       "        [[-5.02183313e-01,  5.75306773e-01,  1.55221476e-01,\n",
       "          -8.83362417e-01,  6.98327552e-01,  3.50398306e+00,\n",
       "           2.23839663e+00],\n",
       "         [ 9.55500015e-01,  1.51971185e+00, -1.58168674e+00,\n",
       "          -1.03527853e+00, -2.87598392e+00,  1.16191501e+00,\n",
       "           2.65169695e+00],\n",
       "         [ 8.65444378e-01, -7.53532690e-01, -1.06375454e+00,\n",
       "          -1.06531572e+00,  2.81989427e+00,  3.05192293e-01,\n",
       "           3.55448617e-01],\n",
       "         [ 1.54601821e+00,  1.70431308e+00, -9.39598520e-01,\n",
       "          -1.66415976e+00, -9.21402993e-01,  1.50465069e+00,\n",
       "          -2.70078945e+00],\n",
       "         [ 3.85526030e-01, -9.31854742e-01,  1.85055353e+00,\n",
       "          -2.02000401e+00,  8.52799434e-01,  1.52203697e+00,\n",
       "           1.82880812e+00],\n",
       "         [-1.99142664e+00,  1.44196988e+00, -1.50021010e+00,\n",
       "          -2.80497035e+00, -3.39059540e-01,  2.96630467e+00,\n",
       "          -2.20433254e-01],\n",
       "         [ 1.38209190e+00,  2.15635985e-01, -2.53615318e+00,\n",
       "          -9.01625384e-01,  6.77456291e-01,  2.75586328e+00,\n",
       "           1.23698300e+00],\n",
       "         [-2.08833935e-01, -8.12323309e-01,  2.15468432e+00,\n",
       "          -2.39955530e+00, -2.53700814e+00,  3.14866251e-01,\n",
       "           4.63910425e-01],\n",
       "         [-2.83138903e+00, -1.36907557e+00, -2.18357083e+00,\n",
       "          -1.98370717e+00, -1.20505771e+00,  3.28446419e+00,\n",
       "           3.16560020e+00],\n",
       "         [-2.80121743e+00,  9.32931581e-01,  5.34331533e-01,\n",
       "          -5.62932246e-01,  8.45032550e-01,  1.92505415e+00,\n",
       "           3.43602361e-01]]]),\n",
       " 0.0033581111242543494,\n",
       " 0.031820959108544586)"
      ]
     },
     "execution_count": 29,
     "metadata": {},
     "output_type": "execute_result"
    }
   ],
   "source": [
    "l2, ang = evaluate_pose_error_J3d_P2d(\n",
    "    # input J.shape = (num_sols, num_poses, num_dofs or n)\n",
    "    nsf.robot, J_hat, P, return_all=True\n",
    ")\n",
    "\n",
    "J_hat, l2.mean(), ang.mean()"
   ]
  },
  {
   "cell_type": "code",
   "execution_count": 28,
   "metadata": {},
   "outputs": [
    {
     "data": {
      "text/plain": [
       "array([[-0.47813367,  0.75401898,  0.38477857, -0.34651987,  1.56624594,\n",
       "         3.37616003,  1.23805015],\n",
       "       [ 0.9516884 ,  1.61753734, -1.71370916, -1.02782358, -2.69299185,\n",
       "         1.19453485,  2.69865112],\n",
       "       [ 1.17901648, -1.02719825, -0.73656699, -0.97782709,  1.95747637,\n",
       "         0.52060569,  0.0307969 ],\n",
       "       [ 2.85962467, -1.70733469, -2.34655172, -1.67812004,  2.29232654,\n",
       "         0.45315506,  2.48292335],\n",
       "       [ 0.34651804, -0.83356563,  1.9193927 , -2.0292541 ,  0.7855137 ,\n",
       "         1.59226584,  1.89213008],\n",
       "       [-1.96927503,  1.56327791, -1.35026079, -2.80812454,  0.30779575,\n",
       "         2.97060507, -0.69504103],\n",
       "       [ 0.36424706,  0.49430428, -2.40168094, -0.83186423,  1.63553567,\n",
       "         2.44896337,  1.07883102],\n",
       "       [-0.17201711, -0.84923803,  2.13306025, -2.38871523, -2.44976751,\n",
       "         0.34778621,  0.51843398],\n",
       "       [-2.72520849, -1.30546461, -2.28180756, -1.75879815, -1.92776707,\n",
       "         3.37079207, -2.25003372],\n",
       "       [-2.81876333,  0.88991483,  0.52411238, -0.63887844,  0.89396463,\n",
       "         1.94465123,  0.30749143]])"
      ]
     },
     "execution_count": 28,
     "metadata": {},
     "output_type": "execute_result"
    }
   ],
   "source": [
    "Q"
   ]
  },
  {
   "cell_type": "code",
   "execution_count": 15,
   "metadata": {},
   "outputs": [
    {
     "data": {
      "text/plain": [
       "array([0.00188191, 0.0018762 , 0.00262504])"
      ]
     },
     "execution_count": 15,
     "metadata": {},
     "output_type": "execute_result"
    }
   ],
   "source": [
    "from sklearn.neighbors import KernelDensity\n",
    "import numpy as np\n",
    "rng = np.random.RandomState(42)\n",
    "X = rng.random_sample((1000, 10))\n",
    "kde = KernelDensity(kernel='gaussian', bandwidth='scott').fit(X)\n",
    "log_density = kde.score_samples(X[:3])\n",
    "density = np.exp(log_density)\n",
    "density"
   ]
  },
  {
   "cell_type": "code",
   "execution_count": 17,
   "metadata": {},
   "outputs": [
    {
     "name": "stdout",
     "output_type": "stream",
     "text": [
      "[INFO] zsample: torch.Size([3, 10, 7])\n"
     ]
    },
    {
     "data": {
      "text/plain": [
       "(array([[[-0.56983889, -1.75718682,  1.92132765, -1.49288864,\n",
       "           2.63523365,  2.13125222, -1.31622444],\n",
       "         [-2.53703618, -1.08433767,  2.46056838, -1.2939548 ,\n",
       "           0.36704743,  1.0854832 ,  0.09402749],\n",
       "         [ 2.11695889,  1.54050658, -1.53919242, -1.42744076,\n",
       "          -1.04969303,  2.17757248,  0.03774959],\n",
       "         [-1.63435316, -0.33219711,  0.35427749, -2.13327943,\n",
       "          -2.43783981,  2.29258477, -0.27085495],\n",
       "         [-2.18398905,  1.25297939,  2.3516816 , -2.46395189,\n",
       "           0.07793708,  1.37128505, -1.19071427],\n",
       "         [ 0.55906822,  1.69489908, -2.7262792 , -2.11871862,\n",
       "           2.55428871,  2.8924417 , -3.25569602],\n",
       "         [-0.57813888, -1.42137614,  0.87403833, -0.33850012,\n",
       "          -1.9896887 ,  0.93833362, -2.51586121],\n",
       "         [ 0.9807585 , -0.49972024, -0.42998273, -2.06959917,\n",
       "           0.3926429 ,  1.943103  , -0.0969265 ],\n",
       "         [ 0.66406813, -1.19950841,  1.33142633, -0.60559512,\n",
       "           1.80216964,  2.95753846, -2.6173239 ],\n",
       "         [-1.03575983,  0.52596024,  1.01331682, -1.72626072,\n",
       "           1.52803196,  3.28967102,  2.7119394 ]],\n",
       " \n",
       "        [[ 1.13143882,  1.38699816,  0.80196527, -1.50678533,\n",
       "           0.4266981 ,  3.35082564, -1.23136317],\n",
       "         [ 2.54285419, -1.67530756, -1.62267388, -1.19467603,\n",
       "          -1.02277899,  0.69863527,  1.13318676],\n",
       "         [ 0.54018879,  1.22147209,  1.13186049, -1.49092688,\n",
       "           2.89594381,  1.13070844, -0.58191077],\n",
       "         [ 0.74536594,  0.57395468, -2.22059429, -2.07311335,\n",
       "          -2.37357168,  2.5438545 ,  0.04366204],\n",
       "         [ 0.55640336, -0.93619144, -0.60602823, -2.44595425,\n",
       "           0.28488927,  1.29112942, -1.55531002],\n",
       "         [-2.07317113, -1.45842262,  0.38332648, -2.07135125,\n",
       "          -2.75107089,  2.98692795,  1.44754903],\n",
       "         [ 2.56829048,  1.08729563, -0.71255473, -0.43429176,\n",
       "           2.54819078,  0.84264519, -2.78970387],\n",
       "         [-1.87944198,  0.57971678,  2.52364785, -2.07947637,\n",
       "           0.21660735,  1.9891483 ,  0.03207681],\n",
       "         [ 0.54879741, -0.79257421,  2.31428503, -0.78208155,\n",
       "          -0.01839257,  3.25984426, -1.75786435],\n",
       "         [ 2.15888913, -0.4884806 , -2.20776191, -1.69448453,\n",
       "           1.71057882,  3.22293419,  2.58936392]],\n",
       " \n",
       "        [[-2.02106143, -1.39473228, -2.41578007, -1.53138389,\n",
       "          -0.024504  ,  3.36276785, -0.75023779],\n",
       "         [ 2.77944906, -1.1035381 , -2.40531196, -1.29425051,\n",
       "          -0.44490047,  1.06971164,  0.76348818],\n",
       "         [-1.42087956, -0.8771113 ,  2.57794168, -1.41124649,\n",
       "          -1.96068761,  1.53369423,  0.07554974],\n",
       "         [ 2.83920342,  0.46963274,  2.37356165, -2.18248666,\n",
       "          -2.56666171,  2.04571331, -0.60185175],\n",
       "         [-2.15215535, -1.63014697,  0.81628534, -2.18065944,\n",
       "          -0.0569608 ,  0.31789479,  2.06983853],\n",
       "         [ 1.32483526,  1.37303719, -2.75918074, -2.13671626,\n",
       "          -2.51314047,  2.85965421,  1.00258124],\n",
       "         [-0.80217199, -1.4976967 , -0.35678542, -0.38696183,\n",
       "          -0.73631233,  1.1367589 , -2.54231738],\n",
       "         [-1.73959626, -1.45657743,  0.61764618, -1.97683935,\n",
       "           1.96445776,  0.44237229, -0.58904776],\n",
       "         [-2.54598911,  0.8412008 , -0.93059113, -0.76699773,\n",
       "           0.2635827 ,  3.2524946 , -1.99995929],\n",
       "         [-2.36780704, -1.75660752,  1.2589164 , -1.94611125,\n",
       "           2.61467198,  1.79531639, -2.65056246]]]),\n",
       " 0.003168489432825687,\n",
       " 0.020308712462088267)"
      ]
     },
     "execution_count": 17,
     "metadata": {},
     "output_type": "execute_result"
    }
   ],
   "source": [
    "def retrieve_latent_random(nsf, P, k=3):\n",
    "    # shape: (num_poses, k) -> shape: (k, num_poses)  -> shape: (k * num_poses)   \n",
    "    ids = np.random.choice(nsf.Z.shape[0], size=k * P.shape[0])\n",
    "    Z_from_retriever = nsf.Z[ids].reshape(k, -1, nsf.n)\n",
    "    return Z_from_retriever\n",
    "\n",
    "J_hat = nsf.generate_ik_solutions(P, latent=retrieve_latent_random(nsf, P, k=3))\n",
    "\n",
    "l2, ang = evaluate_pose_error_J3d_P2d(\n",
    "    # input J.shape = (num_sols, num_poses, num_dofs or n)\n",
    "    nsf.robot, J_hat, P, return_all=True\n",
    ")\n",
    "\n",
    "J_hat, l2.mean(), ang.mean()"
   ]
  },
  {
   "cell_type": "code",
   "execution_count": null,
   "metadata": {},
   "outputs": [],
   "source": []
  }
 ],
 "metadata": {
  "kernelspec": {
   "display_name": "base",
   "language": "python",
   "name": "python3"
  },
  "language_info": {
   "codemirror_mode": {
    "name": "ipython",
    "version": 3
   },
   "file_extension": ".py",
   "mimetype": "text/x-python",
   "name": "python",
   "nbconvert_exporter": "python",
   "pygments_lexer": "ipython3",
   "version": "3.9.12"
  }
 },
 "nbformat": 4,
 "nbformat_minor": 2
}
