{
 "cells": [
  {
   "cell_type": "code",
   "execution_count": null,
   "metadata": {},
   "outputs": [],
   "source": [
    "# Import required packages\n",
    "from paik.solver import (\n",
    "    Solver,\n",
    "    DEFAULT_SOLVER_PARAM_M7,\n",
    "    DEFAULT_SOLVER_PARAM_M3,\n",
    "    DEFAULT_SOLVER_PARAM_M7_NORM,\n",
    ")\n",
    "\n",
    "num_poses = 100  # 100\n",
    "num_sols = 1000  # 1000\n",
    "solver = Solver(solver_param=DEFAULT_SOLVER_PARAM_M7_NORM)\n",
    "\n",
    "# solver.latent = torch.zeros(1, 7).cuda()\n",
    "solver.shrink_ratio = 0.25\n",
    "solver.random_sample_solutions_with_evaluation(num_poses, num_sols, return_time=True)"
   ]
  },
  {
   "cell_type": "code",
   "execution_count": null,
   "metadata": {},
   "outputs": [],
   "source": [
    "import numpy as np\n",
    "import pandas as pd\n",
    "from ikflow.utils import set_seed\n",
    "from ikflow.model_loading import get_ik_solver\n",
    "\n",
    "set_seed()\n",
    "\n",
    "# Build IKFlowSolver and set weights\n",
    "ik_solver, hyper_parameters = get_ik_solver(\"panda__full__lp191_5.25m\")\n",
    "robot = ik_solver.robot\n",
    "\n",
    "P = solver._random_sample_poses(num_poses)  # type: ignore\n",
    "\n",
    "# -> unrefined solutions\n",
    "l2_errs = np.zeros((len(P), num_sols))\n",
    "ang_errs = np.zeros((len(P), num_sols))\n",
    "\n",
    "time_diffs = np.zeros((len(P)))\n",
    "\n",
    "for i, p in enumerate(P):\n",
    "    (\n",
    "        solutions,\n",
    "        l2_errors,\n",
    "        angular_errors,\n",
    "        joint_limits_exceeded,\n",
    "        self_colliding,\n",
    "        runtime,\n",
    "    ) = ik_solver.solve(\n",
    "        p, n=num_sols, refine_solutions=False, return_detailed=True\n",
    "    )  # type: ignore\n",
    "\n",
    "    solutions = solutions.detach().cpu().numpy()\n",
    "\n",
    "    l2_errs[i] = l2_errors\n",
    "    ang_errs[i] = angular_errors\n",
    "    time_diffs[i] = runtime\n",
    "\n",
    "l2_errs = l2_errs.flatten()\n",
    "\n",
    "l2_errs.mean(), ang_errs.mean(), time_diffs.mean()"
   ]
  }
 ],
 "metadata": {
  "kernelspec": {
   "display_name": "base",
   "language": "python",
   "name": "python3"
  },
  "language_info": {
   "codemirror_mode": {
    "name": "ipython",
    "version": 3
   },
   "file_extension": ".py",
   "mimetype": "text/x-python",
   "name": "python",
   "nbconvert_exporter": "python",
   "pygments_lexer": "ipython3",
   "version": "3.9.12"
  }
 },
 "nbformat": 4,
 "nbformat_minor": 4
}
