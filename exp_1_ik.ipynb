{
 "cells": [
  {
   "cell_type": "code",
   "execution_count": 1,
   "metadata": {},
   "outputs": [],
   "source": [
    "# Import required packages\n",
    "from datetime import datetime\n",
    "import numpy as np\n",
    "import pandas as pd\n",
    "import torch\n",
    "\n",
    "from utils.model import *\n",
    "from utils.robot import Robot\n",
    "from utils.settings import config as cfg\n",
    "from utils.utils import *"
   ]
  },
  {
   "cell_type": "code",
   "execution_count": 2,
   "metadata": {},
   "outputs": [
    {
     "name": "stdout",
     "output_type": "stream",
     "text": [
      "F load successfully from /home/luca/ikpflow/data/panda/train/F-2500000-7-7-1.npy\n",
      "Model load successfully from /home/luca/ikpflow/weights/panda/nsf.pth\n",
      "knn load successfully from /home/luca/ikpflow/data/panda/train/knn-2500000-7-7-1-normFalse.pickle\n"
     ]
    }
   ],
   "source": [
    "panda = Robot(verbose=False)\n",
    "# data generation\n",
    "J_tr, P_tr, P_ts, F = load_all_data(panda)\n",
    "# Build Generative model, NSF\n",
    "config = {\n",
    "        'subnet_width': 1400,\n",
    "        'subnet_num_layers': 3,\n",
    "        'num_transforms': 9,\n",
    "        'lr': 2.1e-4,\n",
    "        'lr_weight_decay': 2.7e-2,\n",
    "        'decay_step_size': 4e4,\n",
    "        'gamma': 5e-2,\n",
    "        'batch_size': 128,\n",
    "        'num_epochs': 10,\n",
    "    }\n",
    "# Neural spline flow (NSF) with 3 sample features and 5 context features\n",
    "flow, optimizer, scheduler = get_flow_model(\n",
    "        enable_load_model=cfg.use_pretrained,\n",
    "        num_transforms=config[\"num_transforms\"],\n",
    "        subnet_width=config[\"subnet_width\"],\n",
    "        subnet_num_layers=config[\"subnet_num_layers\"],\n",
    "        lr=config[\"lr\"],\n",
    "        lr_weight_decay=config[\"lr_weight_decay\"],\n",
    "        decay_step_size=config[\"decay_step_size\"],\n",
    "        gamma=config[\"gamma\"],\n",
    "        device='cuda')\n",
    "knn = get_knn(P_tr=P_tr)"
   ]
  },
  {
   "cell_type": "code",
   "execution_count": 4,
   "metadata": {},
   "outputs": [],
   "source": [
    "mu = torch.zeros(size=(cfg.n,))\n",
    "NUM_DATA = 100\n",
    "NUM_SAMPLES = 1000"
   ]
  },
  {
   "cell_type": "code",
   "execution_count": 5,
   "metadata": {},
   "outputs": [
    {
     "name": "stdout",
     "output_type": "stream",
     "text": [
      "       position errors (m)  orientation_errors (rad)\n",
      "count        100000.000000             100000.000000\n",
      "mean              0.026235                  1.519135\n",
      "std               0.042640                  0.864285\n",
      "min               0.000143                  0.084533\n",
      "25%               0.007563                  0.733106\n",
      "50%               0.013285                  1.519492\n",
      "75%               0.027014                  2.307794\n",
      "max               0.964838                  3.062079\n",
      "average inference time (of 100 P): 0.12 sec.\n"
     ]
    },
    {
     "data": {
      "text/html": [
       "<div>\n",
       "<style scoped>\n",
       "    .dataframe tbody tr th:only-of-type {\n",
       "        vertical-align: middle;\n",
       "    }\n",
       "\n",
       "    .dataframe tbody tr th {\n",
       "        vertical-align: top;\n",
       "    }\n",
       "\n",
       "    .dataframe thead th {\n",
       "        text-align: right;\n",
       "    }\n",
       "</style>\n",
       "<table border=\"1\" class=\"dataframe\">\n",
       "  <thead>\n",
       "    <tr style=\"text-align: right;\">\n",
       "      <th></th>\n",
       "      <th>position errors (m)</th>\n",
       "      <th>orientation_errors (rad)</th>\n",
       "    </tr>\n",
       "  </thead>\n",
       "  <tbody>\n",
       "    <tr>\n",
       "      <th>0</th>\n",
       "      <td>0.016075</td>\n",
       "      <td>0.665450</td>\n",
       "    </tr>\n",
       "    <tr>\n",
       "      <th>1</th>\n",
       "      <td>0.006808</td>\n",
       "      <td>0.665450</td>\n",
       "    </tr>\n",
       "    <tr>\n",
       "      <th>2</th>\n",
       "      <td>0.022177</td>\n",
       "      <td>0.665450</td>\n",
       "    </tr>\n",
       "    <tr>\n",
       "      <th>3</th>\n",
       "      <td>0.001656</td>\n",
       "      <td>0.665450</td>\n",
       "    </tr>\n",
       "    <tr>\n",
       "      <th>4</th>\n",
       "      <td>0.003833</td>\n",
       "      <td>0.665450</td>\n",
       "    </tr>\n",
       "    <tr>\n",
       "      <th>...</th>\n",
       "      <td>...</td>\n",
       "      <td>...</td>\n",
       "    </tr>\n",
       "    <tr>\n",
       "      <th>99995</th>\n",
       "      <td>0.075019</td>\n",
       "      <td>0.736967</td>\n",
       "    </tr>\n",
       "    <tr>\n",
       "      <th>99996</th>\n",
       "      <td>0.155709</td>\n",
       "      <td>0.736967</td>\n",
       "    </tr>\n",
       "    <tr>\n",
       "      <th>99997</th>\n",
       "      <td>0.024577</td>\n",
       "      <td>0.736967</td>\n",
       "    </tr>\n",
       "    <tr>\n",
       "      <th>99998</th>\n",
       "      <td>0.057846</td>\n",
       "      <td>0.736967</td>\n",
       "    </tr>\n",
       "    <tr>\n",
       "      <th>99999</th>\n",
       "      <td>0.111862</td>\n",
       "      <td>0.736967</td>\n",
       "    </tr>\n",
       "  </tbody>\n",
       "</table>\n",
       "<p>100000 rows × 2 columns</p>\n",
       "</div>"
      ],
      "text/plain": [
       "       position errors (m)  orientation_errors (rad)\n",
       "0                 0.016075                  0.665450\n",
       "1                 0.006808                  0.665450\n",
       "2                 0.022177                  0.665450\n",
       "3                 0.001656                  0.665450\n",
       "4                 0.003833                  0.665450\n",
       "...                    ...                       ...\n",
       "99995             0.075019                  0.736967\n",
       "99996             0.155709                  0.736967\n",
       "99997             0.024577                  0.736967\n",
       "99998             0.057846                  0.736967\n",
       "99999             0.111862                  0.736967\n",
       "\n",
       "[100000 rows x 2 columns]"
      ]
     },
     "execution_count": 5,
     "metadata": {},
     "output_type": "execute_result"
    }
   ],
   "source": [
    "test(robot=panda, P_ts=P_ts[:NUM_DATA], F=F, solver=flow, knn=knn, K=NUM_SAMPLES, print_report=True)"
   ]
  },
  {
   "cell_type": "code",
   "execution_count": 4,
   "metadata": {},
   "outputs": [
    {
     "name": "stdout",
     "output_type": "stream",
     "text": [
      "       position errors (m)\n",
      "count        100000.000000\n",
      "mean              0.031947\n",
      "std               0.113357\n",
      "min               0.000019\n",
      "25%               0.002447\n",
      "50%               0.004964\n",
      "75%               0.015272\n",
      "max               1.615940\n",
      "       inference time (sec) of 1000 samples\n",
      "count                            100.000000\n",
      "mean                               0.116700\n",
      "std                                0.033995\n",
      "min                                0.110000\n",
      "25%                                0.110000\n",
      "50%                                0.110000\n",
      "75%                                0.120000\n",
      "max                                0.450000\n"
     ]
    }
   ],
   "source": [
    "nflow = get_nflow_model(flow=flow)\n",
    "inference(robot=panda, P_inf=P_ts[:NUM_DATA], F=F, solver=nflow, knn=knn, K=NUM_SAMPLES, print_report=True)"
   ]
  },
  {
   "cell_type": "code",
   "execution_count": null,
   "metadata": {},
   "outputs": [],
   "source": [
    "iflow = get_iflow_model(flow, init_sample=mu, shrink_ratio=0.31)\n",
    "test(robot=panda, P_ts=P_ts[:NUM_DATA], F=F, solver=iflow, knn=knn, K=NUM_SAMPLES, print_report=True)"
   ]
  },
  {
   "cell_type": "code",
   "execution_count": null,
   "metadata": {},
   "outputs": [],
   "source": [
    "from ikflow.utils import set_seed\n",
    "from ikflow.model_loading import get_ik_solver"
   ]
  },
  {
   "cell_type": "code",
   "execution_count": null,
   "metadata": {},
   "outputs": [],
   "source": [
    "file_names = ['ang_errs_avg', 'ang_errs_min', 'F_avg', 'F_min', 'ikflow_ang', 'ikflow_l2', 'l2_errs_avg', 'l2_errs_min', 'n_evals']\n",
    "exp_5_fig_dir = config.traj_dir + f'figs/exp_5_{datetime.now().strftime(\"%m%d%H%M\")}/'\n",
    "if not os.path.exists(path=exp_5_fig_dir):\n",
    "    os.makedirs(exp_5_fig_dir)\n",
    "set_seed()\n",
    "num_trails = 100\n",
    "num_generation = 100\n",
    "num_ikflow_trails = num_generation\n",
    "num_solutions = 500\n",
    "# Build IKFlowSolver and set weights\n",
    "ik_solver, hyper_parameters = get_ik_solver(\"panda__full__lp191_5.25m\")\n",
    "robot = ik_solver.robot\n",
    "panda = Robot(verbose=False)"
   ]
  },
  {
   "cell_type": "code",
   "execution_count": null,
   "metadata": {},
   "outputs": [],
   "source": [
    "def get_target_poses(P_ts):\n",
    "    quaternions = np.zeros((len(P_ts), 4))\n",
    "    quaternions[:, 0] = np.random.randn() * 2e-2 + 1\n",
    "    target_poses = np.column_stack((P_ts, quaternions))\n",
    "    return target_poses"
   ]
  },
  {
   "cell_type": "code",
   "execution_count": null,
   "metadata": {},
   "outputs": [],
   "source": [
    "target_poses = get_target_poses(P_ts[:NUM_DATA])\n",
    "target_poses.shape"
   ]
  },
  {
   "cell_type": "code",
   "execution_count": null,
   "metadata": {},
   "outputs": [],
   "source": [
    "# -> unrefined solutions\n",
    "l2_errs = np.zeros((len(target_poses), NUM_SAMPLES))\n",
    "time_diffs = np.zeros((len(target_poses), NUM_SAMPLES))\n",
    "\n",
    "for i, target_pose in enumerate(target_poses):\n",
    "    iksols, l2_err, _, _, _, dt = ik_solver.solve(\n",
    "        target_pose, \n",
    "        n=NUM_SAMPLES,\n",
    "        refine_solutions=False, \n",
    "        return_detailed=True)\n",
    "\n",
    "    iksols = iksols.detach().cpu().numpy()\n",
    "    dt = np.zeros_like(l2_err) + dt\n",
    "    \n",
    "    l2_errs[i] = l2_err\n",
    "    time_diffs[i] = dt\n",
    "\n",
    "l2_errs = l2_errs.reshape((-1))\n",
    "time_diffs = time_diffs.reshape((-1))\n",
    "\n",
    "    \n",
    "df = pd.DataFrame(\n",
    "    data=np.column_stack((l2_errs, time_diffs)),\n",
    "    columns=[\"l2_err\", \"time_diff\"],\n",
    ")"
   ]
  },
  {
   "cell_type": "code",
   "execution_count": null,
   "metadata": {},
   "outputs": [],
   "source": [
    "df.describe()"
   ]
  },
  {
   "cell_type": "code",
   "execution_count": null,
   "metadata": {},
   "outputs": [],
   "source": []
  }
 ],
 "metadata": {
  "kernelspec": {
   "display_name": "base",
   "language": "python",
   "name": "python3"
  },
  "language_info": {
   "codemirror_mode": {
    "name": "ipython",
    "version": 3
   },
   "file_extension": ".py",
   "mimetype": "text/x-python",
   "name": "python",
   "nbconvert_exporter": "python",
   "pygments_lexer": "ipython3",
   "version": "3.9.12"
  }
 },
 "nbformat": 4,
 "nbformat_minor": 4
}
