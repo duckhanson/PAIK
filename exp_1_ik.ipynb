{
 "cells": [
  {
   "cell_type": "code",
   "execution_count": 3,
   "metadata": {},
   "outputs": [],
   "source": [
    "# Import required packages\n",
    "from os import path \n",
    "import time\n",
    "from datetime import datetime\n",
    "import numpy as np\n",
    "import pandas as pd\n",
    "import torch\n",
    "from torch import nn, Tensor\n",
    "from torch.optim import AdamW\n",
    "from tqdm import tqdm, trange\n",
    "import zuko\n",
    "from zuko.flows import Distribution, NSF\n",
    "from zuko.distributions import DiagNormal, BoxUniform, Minimum\n",
    "from zuko.flows import DistributionModule, FlowModule, Unconditional\n",
    "from hnne import HNNE\n",
    "\n",
    "from utils.settings import config\n",
    "from utils.utils import *\n",
    "from utils.model import *\n",
    "from utils.robot import Robot"
   ]
  },
  {
   "cell_type": "code",
   "execution_count": 4,
   "metadata": {},
   "outputs": [
    {
     "name": "stdout",
     "output_type": "stream",
     "text": [
      "hnne load successfully from /home/luca/ikpflow/weights/panda/hnne.pickle\n",
      "Model load successfully from /home/luca/ikpflow/weights/panda/nsf.pth\n"
     ]
    }
   ],
   "source": [
    "panda = Robot(verbose=False)\n",
    "# data generation\n",
    "J_tr, P_tr = data_collection(robot=panda, N=config.N_train)\n",
    "J_ts, P_ts = data_collection(robot=panda, N=config.N_test)\n",
    "F = posture_feature_extraction(J_tr)\n",
    "# Build Generative model, NSF\n",
    "# Neural spline flow (NSF) with 3 sample features and 5 context features\n",
    "flow, optimizer, scheduler = get_flow_model()\n",
    "# knn = get_knn(P_tr)\n",
    "knn = load_pickle(file_path=config.path_knn)"
   ]
  },
  {
   "cell_type": "code",
   "execution_count": 5,
   "metadata": {},
   "outputs": [],
   "source": [
    "mu = torch.zeros(size=(config.n,))\n",
    "NUM_DATA = 100\n",
    "NUM_SAMPLES = 1000"
   ]
  },
  {
   "cell_type": "code",
   "execution_count": 6,
   "metadata": {},
   "outputs": [
    {
     "name": "stdout",
     "output_type": "stream",
     "text": [
      "       position errors (m)\n",
      "count        100000.000000\n",
      "mean              0.002860\n",
      "std               0.007244\n",
      "min               0.000018\n",
      "25%               0.001274\n",
      "50%               0.002025\n",
      "75%               0.003084\n",
      "max               0.416129\n",
      "average inference time (of 100 P): 0.05 sec.\n"
     ]
    },
    {
     "data": {
      "text/html": [
       "<div>\n",
       "<style scoped>\n",
       "    .dataframe tbody tr th:only-of-type {\n",
       "        vertical-align: middle;\n",
       "    }\n",
       "\n",
       "    .dataframe tbody tr th {\n",
       "        vertical-align: top;\n",
       "    }\n",
       "\n",
       "    .dataframe thead th {\n",
       "        text-align: right;\n",
       "    }\n",
       "</style>\n",
       "<table border=\"1\" class=\"dataframe\">\n",
       "  <thead>\n",
       "    <tr style=\"text-align: right;\">\n",
       "      <th></th>\n",
       "      <th>position errors (m)</th>\n",
       "    </tr>\n",
       "  </thead>\n",
       "  <tbody>\n",
       "    <tr>\n",
       "      <th>0</th>\n",
       "      <td>0.002492</td>\n",
       "    </tr>\n",
       "    <tr>\n",
       "      <th>1</th>\n",
       "      <td>0.001688</td>\n",
       "    </tr>\n",
       "    <tr>\n",
       "      <th>2</th>\n",
       "      <td>0.001801</td>\n",
       "    </tr>\n",
       "    <tr>\n",
       "      <th>3</th>\n",
       "      <td>0.000903</td>\n",
       "    </tr>\n",
       "    <tr>\n",
       "      <th>4</th>\n",
       "      <td>0.002171</td>\n",
       "    </tr>\n",
       "    <tr>\n",
       "      <th>...</th>\n",
       "      <td>...</td>\n",
       "    </tr>\n",
       "    <tr>\n",
       "      <th>99995</th>\n",
       "      <td>0.007103</td>\n",
       "    </tr>\n",
       "    <tr>\n",
       "      <th>99996</th>\n",
       "      <td>0.005881</td>\n",
       "    </tr>\n",
       "    <tr>\n",
       "      <th>99997</th>\n",
       "      <td>0.005787</td>\n",
       "    </tr>\n",
       "    <tr>\n",
       "      <th>99998</th>\n",
       "      <td>0.003426</td>\n",
       "    </tr>\n",
       "    <tr>\n",
       "      <th>99999</th>\n",
       "      <td>0.004801</td>\n",
       "    </tr>\n",
       "  </tbody>\n",
       "</table>\n",
       "<p>100000 rows × 1 columns</p>\n",
       "</div>"
      ],
      "text/plain": [
       "       position errors (m)\n",
       "0                 0.002492\n",
       "1                 0.001688\n",
       "2                 0.001801\n",
       "3                 0.000903\n",
       "4                 0.002171\n",
       "...                    ...\n",
       "99995             0.007103\n",
       "99996             0.005881\n",
       "99997             0.005787\n",
       "99998             0.003426\n",
       "99999             0.004801\n",
       "\n",
       "[100000 rows x 1 columns]"
      ]
     },
     "execution_count": 6,
     "metadata": {},
     "output_type": "execute_result"
    }
   ],
   "source": [
    "iflow = get_iflow_model(flow, init_sample=mu, shrink_ratio=0.31)\n",
    "test(robot=panda, P_ts=P_ts[:NUM_DATA], F=F, solver=iflow, knn=knn, K=NUM_SAMPLES, print_report=True)"
   ]
  },
  {
   "cell_type": "code",
   "execution_count": 7,
   "metadata": {},
   "outputs": [
    {
     "name": "stdout",
     "output_type": "stream",
     "text": [
      "       position errors (m)\n",
      "count        100000.000000\n",
      "mean              0.003033\n",
      "std               0.008861\n",
      "min               0.000025\n",
      "25%               0.001306\n",
      "50%               0.002073\n",
      "75%               0.003150\n",
      "max               0.452436\n",
      "       inference time (sec) of 1000 samples\n",
      "count                            100.000000\n",
      "mean                               0.080200\n",
      "std                                0.001407\n",
      "min                                0.080000\n",
      "25%                                0.080000\n",
      "50%                                0.080000\n",
      "75%                                0.080000\n",
      "max                                0.090000\n"
     ]
    }
   ],
   "source": [
    "nflow = get_nflow_model(flow=flow)\n",
    "inference(robot=panda, P_inf=P_ts[:NUM_DATA], F=F, solver=nflow, knn=knn, K=NUM_SAMPLES, print_report=True)"
   ]
  },
  {
   "cell_type": "code",
   "execution_count": 12,
   "metadata": {},
   "outputs": [
    {
     "name": "stdout",
     "output_type": "stream",
     "text": [
      "config.py: Using device 'cuda:0'\n"
     ]
    }
   ],
   "source": [
    "from ikflow.utils import set_seed\n",
    "from ikflow.model_loading import get_ik_solver"
   ]
  },
  {
   "cell_type": "code",
   "execution_count": 13,
   "metadata": {},
   "outputs": [
    {
     "name": "stdout",
     "output_type": "stream",
     "text": [
      "set_seed() - random int:  44\n",
      "WorldModel::LoadRobot: /tmp/panda_arm_hand_formatted_link_filepaths_absolute.urdf\n",
      "ndim_tot=7\n",
      "dim_cond=8\n",
      "joint mimic: no multiplier, using default value of 1 \n",
      "joint mimic: no offset, using default value of 0 \n",
      "URDFParser: Link size: 17\n",
      "URDFParser: Joint size: 12\n",
      "LoadAssimp: Loaded model /home/luca/miniconda3/lib/python3.9/site-packages/jkinpylib/urdfs/panda/meshes/collision/link0.stl (595 verts, 200 tris)\n",
      "LoadAssimp: Loaded model /home/luca/miniconda3/lib/python3.9/site-packages/jkinpylib/urdfs/panda/meshes/collision/link1.stl (887 verts, 300 tris)\n",
      "LoadAssimp: Loaded model /home/luca/miniconda3/lib/python3.9/site-packages/jkinpylib/urdfs/panda/meshes/collision/link2.stl (889 verts, 300 tris)\n",
      "LoadAssimp: Loaded model /home/luca/miniconda3/lib/python3.9/site-packages/jkinpylib/urdfs/panda/meshes/collision/link3.stl (900 verts, 300 tris)\n",
      "LoadAssimp: Loaded model /home/luca/miniconda3/lib/python3.9/site-packages/jkinpylib/urdfs/panda/meshes/collision/link4.stl (900 verts, 300 tris)\n",
      "LoadAssimp: Loaded model /home/luca/miniconda3/lib/python3.9/site-packages/jkinpylib/urdfs/panda/meshes/collision/link5.stl (900 verts, 300 tris)\n",
      "LoadAssimp: Loaded model /home/luca/miniconda3/lib/python3.9/site-packages/jkinpylib/urdfs/panda/meshes/collision/link6.stl (600 verts, 200 tris)\n",
      "LoadAssimp: Loaded model /home/luca/miniconda3/lib/python3.9/site-packages/jkinpylib/urdfs/panda/meshes/collision/link7.stl (600 verts, 200 tris)\n",
      "LoadAssimp: Loaded model /home/luca/miniconda3/lib/python3.9/site-packages/jkinpylib/urdfs/panda/meshes/collision/hand.stl (600 verts, 200 tris)\n",
      "LoadAssimp: Loaded model /home/luca/miniconda3/lib/python3.9/site-packages/jkinpylib/urdfs/panda/meshes/collision/finger.stl (96 verts, 32 tris)\n",
      "URDFParser: Done loading robot file /tmp/panda_arm_hand_formatted_link_filepaths_absolute.urdf\n"
     ]
    }
   ],
   "source": [
    "file_names = ['ang_errs_avg', 'ang_errs_min', 'F_avg', 'F_min', 'ikflow_ang', 'ikflow_l2', 'l2_errs_avg', 'l2_errs_min', 'n_evals']\n",
    "exp_5_fig_dir = config.traj_dir + f'figs/exp_5_{datetime.now().strftime(\"%m%d%H%M\")}/'\n",
    "if not os.path.exists(path=exp_5_fig_dir):\n",
    "    os.makedirs(exp_5_fig_dir)\n",
    "set_seed()\n",
    "num_trails = 100\n",
    "num_generation = 100\n",
    "num_ikflow_trails = num_generation\n",
    "num_solutions = 500\n",
    "# Build IKFlowSolver and set weights\n",
    "ik_solver, hyper_parameters = get_ik_solver(\"panda__full__lp191_5.25m\")\n",
    "robot = ik_solver.robot\n",
    "panda = Robot(verbose=False)"
   ]
  },
  {
   "cell_type": "code",
   "execution_count": 8,
   "metadata": {},
   "outputs": [],
   "source": [
    "def get_target_poses(P_ts):\n",
    "    quaternions = np.zeros((len(P_ts), 4))\n",
    "    quaternions[:, 0] = np.random.randn() * 2e-2 + 1\n",
    "    target_poses = np.column_stack((P_ts, quaternions))\n",
    "    return target_poses"
   ]
  },
  {
   "cell_type": "code",
   "execution_count": 10,
   "metadata": {},
   "outputs": [
    {
     "data": {
      "text/plain": [
       "(100, 7)"
      ]
     },
     "execution_count": 10,
     "metadata": {},
     "output_type": "execute_result"
    }
   ],
   "source": [
    "target_poses = get_target_poses(P_ts[:NUM_DATA])\n",
    "target_poses.shape"
   ]
  },
  {
   "cell_type": "code",
   "execution_count": 15,
   "metadata": {},
   "outputs": [
    {
     "name": "stdout",
     "output_type": "stream",
     "text": [
      "Heads up: It may be faster to run solution_pose_errors() with pytorch directly on the cpu/gpu\n",
      "Heads up: It may be faster to run solution_pose_errors() with pytorch directly on the cpu/gpu\n",
      "Heads up: It may be faster to run solution_pose_errors() with pytorch directly on the cpu/gpu\n",
      "Heads up: It may be faster to run solution_pose_errors() with pytorch directly on the cpu/gpu\n",
      "Heads up: It may be faster to run solution_pose_errors() with pytorch directly on the cpu/gpu\n",
      "Heads up: It may be faster to run solution_pose_errors() with pytorch directly on the cpu/gpu\n",
      "Heads up: It may be faster to run solution_pose_errors() with pytorch directly on the cpu/gpu\n",
      "Heads up: It may be faster to run solution_pose_errors() with pytorch directly on the cpu/gpu\n",
      "Heads up: It may be faster to run solution_pose_errors() with pytorch directly on the cpu/gpu\n",
      "Heads up: It may be faster to run solution_pose_errors() with pytorch directly on the cpu/gpu\n",
      "Heads up: It may be faster to run solution_pose_errors() with pytorch directly on the cpu/gpu\n",
      "Heads up: It may be faster to run solution_pose_errors() with pytorch directly on the cpu/gpu\n",
      "Heads up: It may be faster to run solution_pose_errors() with pytorch directly on the cpu/gpu\n",
      "Heads up: It may be faster to run solution_pose_errors() with pytorch directly on the cpu/gpu\n",
      "Heads up: It may be faster to run solution_pose_errors() with pytorch directly on the cpu/gpu\n",
      "Heads up: It may be faster to run solution_pose_errors() with pytorch directly on the cpu/gpu\n",
      "Heads up: It may be faster to run solution_pose_errors() with pytorch directly on the cpu/gpu\n",
      "Heads up: It may be faster to run solution_pose_errors() with pytorch directly on the cpu/gpu\n",
      "Heads up: It may be faster to run solution_pose_errors() with pytorch directly on the cpu/gpu\n",
      "Heads up: It may be faster to run solution_pose_errors() with pytorch directly on the cpu/gpu\n",
      "Heads up: It may be faster to run solution_pose_errors() with pytorch directly on the cpu/gpu\n",
      "Heads up: It may be faster to run solution_pose_errors() with pytorch directly on the cpu/gpu\n",
      "Heads up: It may be faster to run solution_pose_errors() with pytorch directly on the cpu/gpu\n",
      "Heads up: It may be faster to run solution_pose_errors() with pytorch directly on the cpu/gpu\n",
      "Heads up: It may be faster to run solution_pose_errors() with pytorch directly on the cpu/gpu\n",
      "Heads up: It may be faster to run solution_pose_errors() with pytorch directly on the cpu/gpu\n",
      "Heads up: It may be faster to run solution_pose_errors() with pytorch directly on the cpu/gpu\n",
      "Heads up: It may be faster to run solution_pose_errors() with pytorch directly on the cpu/gpu\n",
      "Heads up: It may be faster to run solution_pose_errors() with pytorch directly on the cpu/gpu\n",
      "Heads up: It may be faster to run solution_pose_errors() with pytorch directly on the cpu/gpu\n",
      "Heads up: It may be faster to run solution_pose_errors() with pytorch directly on the cpu/gpu\n",
      "Heads up: It may be faster to run solution_pose_errors() with pytorch directly on the cpu/gpu\n",
      "Heads up: It may be faster to run solution_pose_errors() with pytorch directly on the cpu/gpu\n",
      "Heads up: It may be faster to run solution_pose_errors() with pytorch directly on the cpu/gpu\n",
      "Heads up: It may be faster to run solution_pose_errors() with pytorch directly on the cpu/gpu\n",
      "Heads up: It may be faster to run solution_pose_errors() with pytorch directly on the cpu/gpu\n",
      "Heads up: It may be faster to run solution_pose_errors() with pytorch directly on the cpu/gpu\n",
      "Heads up: It may be faster to run solution_pose_errors() with pytorch directly on the cpu/gpu\n",
      "Heads up: It may be faster to run solution_pose_errors() with pytorch directly on the cpu/gpu\n",
      "Heads up: It may be faster to run solution_pose_errors() with pytorch directly on the cpu/gpu\n",
      "Heads up: It may be faster to run solution_pose_errors() with pytorch directly on the cpu/gpu\n",
      "Heads up: It may be faster to run solution_pose_errors() with pytorch directly on the cpu/gpu\n",
      "Heads up: It may be faster to run solution_pose_errors() with pytorch directly on the cpu/gpu\n",
      "Heads up: It may be faster to run solution_pose_errors() with pytorch directly on the cpu/gpu\n",
      "Heads up: It may be faster to run solution_pose_errors() with pytorch directly on the cpu/gpu\n",
      "Heads up: It may be faster to run solution_pose_errors() with pytorch directly on the cpu/gpu\n",
      "Heads up: It may be faster to run solution_pose_errors() with pytorch directly on the cpu/gpu\n",
      "Heads up: It may be faster to run solution_pose_errors() with pytorch directly on the cpu/gpu\n",
      "Heads up: It may be faster to run solution_pose_errors() with pytorch directly on the cpu/gpu\n",
      "Heads up: It may be faster to run solution_pose_errors() with pytorch directly on the cpu/gpu\n",
      "Heads up: It may be faster to run solution_pose_errors() with pytorch directly on the cpu/gpu\n",
      "Heads up: It may be faster to run solution_pose_errors() with pytorch directly on the cpu/gpu\n",
      "Heads up: It may be faster to run solution_pose_errors() with pytorch directly on the cpu/gpu\n",
      "Heads up: It may be faster to run solution_pose_errors() with pytorch directly on the cpu/gpu\n",
      "Heads up: It may be faster to run solution_pose_errors() with pytorch directly on the cpu/gpu\n",
      "Heads up: It may be faster to run solution_pose_errors() with pytorch directly on the cpu/gpu\n",
      "Heads up: It may be faster to run solution_pose_errors() with pytorch directly on the cpu/gpu\n",
      "Heads up: It may be faster to run solution_pose_errors() with pytorch directly on the cpu/gpu\n",
      "Heads up: It may be faster to run solution_pose_errors() with pytorch directly on the cpu/gpu\n",
      "Heads up: It may be faster to run solution_pose_errors() with pytorch directly on the cpu/gpu\n",
      "Heads up: It may be faster to run solution_pose_errors() with pytorch directly on the cpu/gpu\n",
      "Heads up: It may be faster to run solution_pose_errors() with pytorch directly on the cpu/gpu\n",
      "Heads up: It may be faster to run solution_pose_errors() with pytorch directly on the cpu/gpu\n",
      "Heads up: It may be faster to run solution_pose_errors() with pytorch directly on the cpu/gpu\n",
      "Heads up: It may be faster to run solution_pose_errors() with pytorch directly on the cpu/gpu\n",
      "Heads up: It may be faster to run solution_pose_errors() with pytorch directly on the cpu/gpu\n",
      "Heads up: It may be faster to run solution_pose_errors() with pytorch directly on the cpu/gpu\n",
      "Heads up: It may be faster to run solution_pose_errors() with pytorch directly on the cpu/gpu\n",
      "Heads up: It may be faster to run solution_pose_errors() with pytorch directly on the cpu/gpu\n",
      "Heads up: It may be faster to run solution_pose_errors() with pytorch directly on the cpu/gpu\n",
      "Heads up: It may be faster to run solution_pose_errors() with pytorch directly on the cpu/gpu\n",
      "Heads up: It may be faster to run solution_pose_errors() with pytorch directly on the cpu/gpu\n",
      "Heads up: It may be faster to run solution_pose_errors() with pytorch directly on the cpu/gpu\n",
      "Heads up: It may be faster to run solution_pose_errors() with pytorch directly on the cpu/gpu\n",
      "Heads up: It may be faster to run solution_pose_errors() with pytorch directly on the cpu/gpu\n",
      "Heads up: It may be faster to run solution_pose_errors() with pytorch directly on the cpu/gpu\n",
      "Heads up: It may be faster to run solution_pose_errors() with pytorch directly on the cpu/gpu\n",
      "Heads up: It may be faster to run solution_pose_errors() with pytorch directly on the cpu/gpu\n",
      "Heads up: It may be faster to run solution_pose_errors() with pytorch directly on the cpu/gpu\n",
      "Heads up: It may be faster to run solution_pose_errors() with pytorch directly on the cpu/gpu\n",
      "Heads up: It may be faster to run solution_pose_errors() with pytorch directly on the cpu/gpu\n",
      "Heads up: It may be faster to run solution_pose_errors() with pytorch directly on the cpu/gpu\n",
      "Heads up: It may be faster to run solution_pose_errors() with pytorch directly on the cpu/gpu\n",
      "Heads up: It may be faster to run solution_pose_errors() with pytorch directly on the cpu/gpu\n",
      "Heads up: It may be faster to run solution_pose_errors() with pytorch directly on the cpu/gpu\n",
      "Heads up: It may be faster to run solution_pose_errors() with pytorch directly on the cpu/gpu\n",
      "Heads up: It may be faster to run solution_pose_errors() with pytorch directly on the cpu/gpu\n",
      "Heads up: It may be faster to run solution_pose_errors() with pytorch directly on the cpu/gpu\n",
      "Heads up: It may be faster to run solution_pose_errors() with pytorch directly on the cpu/gpu\n",
      "Heads up: It may be faster to run solution_pose_errors() with pytorch directly on the cpu/gpu\n",
      "Heads up: It may be faster to run solution_pose_errors() with pytorch directly on the cpu/gpu\n",
      "Heads up: It may be faster to run solution_pose_errors() with pytorch directly on the cpu/gpu\n",
      "Heads up: It may be faster to run solution_pose_errors() with pytorch directly on the cpu/gpu\n",
      "Heads up: It may be faster to run solution_pose_errors() with pytorch directly on the cpu/gpu\n",
      "Heads up: It may be faster to run solution_pose_errors() with pytorch directly on the cpu/gpu\n",
      "Heads up: It may be faster to run solution_pose_errors() with pytorch directly on the cpu/gpu\n",
      "Heads up: It may be faster to run solution_pose_errors() with pytorch directly on the cpu/gpu\n",
      "Heads up: It may be faster to run solution_pose_errors() with pytorch directly on the cpu/gpu\n",
      "Heads up: It may be faster to run solution_pose_errors() with pytorch directly on the cpu/gpu\n",
      "Heads up: It may be faster to run solution_pose_errors() with pytorch directly on the cpu/gpu\n"
     ]
    }
   ],
   "source": [
    "# -> unrefined solutions\n",
    "l2_errs = np.zeros((len(target_poses), NUM_SAMPLES))\n",
    "time_diffs = np.zeros((len(target_poses), NUM_SAMPLES))\n",
    "\n",
    "for i, target_pose in enumerate(target_poses):\n",
    "    iksols, l2_err, _, _, _, dt = ik_solver.solve(\n",
    "        target_pose, \n",
    "        n=NUM_SAMPLES,\n",
    "        refine_solutions=False, \n",
    "        return_detailed=True)\n",
    "\n",
    "    iksols = iksols.detach().cpu().numpy()\n",
    "    dt = np.zeros_like(l2_err) + dt\n",
    "    \n",
    "    l2_errs[i] = l2_err\n",
    "    time_diffs[i] = dt\n",
    "\n",
    "l2_errs = l2_errs.reshape((-1))\n",
    "time_diffs = time_diffs.reshape((-1))\n",
    "\n",
    "    \n",
    "df = pd.DataFrame(\n",
    "    data=np.column_stack((l2_errs, time_diffs)),\n",
    "    columns=[\"l2_err\", \"time_diff\"],\n",
    ")"
   ]
  },
  {
   "cell_type": "code",
   "execution_count": 16,
   "metadata": {},
   "outputs": [
    {
     "data": {
      "text/html": [
       "<div>\n",
       "<style scoped>\n",
       "    .dataframe tbody tr th:only-of-type {\n",
       "        vertical-align: middle;\n",
       "    }\n",
       "\n",
       "    .dataframe tbody tr th {\n",
       "        vertical-align: top;\n",
       "    }\n",
       "\n",
       "    .dataframe thead th {\n",
       "        text-align: right;\n",
       "    }\n",
       "</style>\n",
       "<table border=\"1\" class=\"dataframe\">\n",
       "  <thead>\n",
       "    <tr style=\"text-align: right;\">\n",
       "      <th></th>\n",
       "      <th>l2_err</th>\n",
       "      <th>time_diff</th>\n",
       "    </tr>\n",
       "  </thead>\n",
       "  <tbody>\n",
       "    <tr>\n",
       "      <th>count</th>\n",
       "      <td>100000.000000</td>\n",
       "      <td>100000.000000</td>\n",
       "    </tr>\n",
       "    <tr>\n",
       "      <th>mean</th>\n",
       "      <td>0.061731</td>\n",
       "      <td>0.195984</td>\n",
       "    </tr>\n",
       "    <tr>\n",
       "      <th>std</th>\n",
       "      <td>0.173679</td>\n",
       "      <td>0.022551</td>\n",
       "    </tr>\n",
       "    <tr>\n",
       "      <th>min</th>\n",
       "      <td>0.000122</td>\n",
       "      <td>0.162961</td>\n",
       "    </tr>\n",
       "    <tr>\n",
       "      <th>25%</th>\n",
       "      <td>0.003596</td>\n",
       "      <td>0.186114</td>\n",
       "    </tr>\n",
       "    <tr>\n",
       "      <th>50%</th>\n",
       "      <td>0.005818</td>\n",
       "      <td>0.193867</td>\n",
       "    </tr>\n",
       "    <tr>\n",
       "      <th>75%</th>\n",
       "      <td>0.027328</td>\n",
       "      <td>0.203522</td>\n",
       "    </tr>\n",
       "    <tr>\n",
       "      <th>max</th>\n",
       "      <td>1.525950</td>\n",
       "      <td>0.352305</td>\n",
       "    </tr>\n",
       "  </tbody>\n",
       "</table>\n",
       "</div>"
      ],
      "text/plain": [
       "              l2_err      time_diff\n",
       "count  100000.000000  100000.000000\n",
       "mean        0.061731       0.195984\n",
       "std         0.173679       0.022551\n",
       "min         0.000122       0.162961\n",
       "25%         0.003596       0.186114\n",
       "50%         0.005818       0.193867\n",
       "75%         0.027328       0.203522\n",
       "max         1.525950       0.352305"
      ]
     },
     "execution_count": 16,
     "metadata": {},
     "output_type": "execute_result"
    }
   ],
   "source": [
    "df.describe()"
   ]
  },
  {
   "cell_type": "code",
   "execution_count": null,
   "metadata": {},
   "outputs": [],
   "source": []
  }
 ],
 "metadata": {
  "kernelspec": {
   "display_name": "base",
   "language": "python",
   "name": "python3"
  },
  "language_info": {
   "codemirror_mode": {
    "name": "ipython",
    "version": 3
   },
   "file_extension": ".py",
   "mimetype": "text/x-python",
   "name": "python",
   "nbconvert_exporter": "python",
   "pygments_lexer": "ipython3",
   "version": "3.9.12"
  }
 },
 "nbformat": 4,
 "nbformat_minor": 4
}
