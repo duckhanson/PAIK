{
 "cells": [
  {
   "cell_type": "code",
   "execution_count": 1,
   "metadata": {},
   "outputs": [],
   "source": [
    "# Import required packages\n",
    "from os import path \n",
    "import time\n",
    "from datetime import datetime\n",
    "import numpy as np\n",
    "import pandas as pd\n",
    "import torch\n",
    "from torch import nn, Tensor\n",
    "from torch.optim import AdamW\n",
    "from tqdm import tqdm, trange\n",
    "import zuko\n",
    "from zuko.flows import Distribution, NSF\n",
    "from zuko.distributions import DiagNormal, BoxUniform, Minimum\n",
    "from zuko.flows import DistributionModule, FlowModule, Unconditional\n",
    "from hnne import HNNE\n",
    "\n",
    "from utils.settings import config\n",
    "from utils.utils import *\n",
    "from utils.model import *\n",
    "from utils.robot import Robot\n",
    "from utils.dataset import create_dataset"
   ]
  },
  {
   "cell_type": "code",
   "execution_count": 3,
   "metadata": {},
   "outputs": [
    {
     "name": "stdout",
     "output_type": "stream",
     "text": [
      "hnne load successfully from ./weights/hnne.pickle\n",
      "Finding nearest centroids to new data...\n",
      "Setting up once a knn index for the last level centroids...\n",
      "Tue May 23 14:33:07 2023 Building RP forest with 32 trees\n",
      "Tue May 23 14:33:09 2023 NN descent for 19 iterations\n",
      "\t 1  /  19\n",
      "\t 2  /  19\n",
      "\tStopping threshold met -- exiting after 2 iterations\n",
      "Tue May 23 14:34:29 2023 Worst tree score: 0.94756640\n",
      "Tue May 23 14:34:29 2023 Mean tree score: 0.94826018\n",
      "Tue May 23 14:34:29 2023 Best tree score: 0.94890674\n",
      "Tue May 23 14:34:31 2023 Forward diversification reduced edges from 20009880 to 6167081\n",
      "Tue May 23 14:34:31 2023 Reverse diversification reduced edges from 6167081 to 6167081\n",
      "Tue May 23 14:34:31 2023 Degree pruning reduced edges from 6697860 to 6697860\n",
      "Tue May 23 14:34:31 2023 Resorting data and graph based on tree order\n",
      "Tue May 23 14:34:32 2023 Building and compiling search function\n",
      "Projecting data...\n",
      "Model load successfully from ./weights/nsf.pth\n"
     ]
    }
   ],
   "source": [
    "panda = Robot(verbose=False)\n",
    "# data generation\n",
    "X, y = load_data(robot=panda)\n",
    "# build dimension reduction model\n",
    "hnne, ds, loader = get_hnne_model(X, y)\n",
    "# Build Generative model, NSF\n",
    "# Neural spline flow (NSF) with 3 sample features and 5 context features\n",
    "flow, optimizer, scheduler = get_flow_model()"
   ]
  },
  {
   "cell_type": "code",
   "execution_count": 4,
   "metadata": {},
   "outputs": [
    {
     "data": {
      "text/html": [
       "<div>\n",
       "<style scoped>\n",
       "    .dataframe tbody tr th:only-of-type {\n",
       "        vertical-align: middle;\n",
       "    }\n",
       "\n",
       "    .dataframe tbody tr th {\n",
       "        vertical-align: top;\n",
       "    }\n",
       "\n",
       "    .dataframe thead th {\n",
       "        text-align: right;\n",
       "    }\n",
       "</style>\n",
       "<table border=\"1\" class=\"dataframe\">\n",
       "  <thead>\n",
       "    <tr style=\"text-align: right;\">\n",
       "      <th></th>\n",
       "      <th>l2_err</th>\n",
       "      <th>log_prob</th>\n",
       "    </tr>\n",
       "  </thead>\n",
       "  <tbody>\n",
       "    <tr>\n",
       "      <th>count</th>\n",
       "      <td>2400.000000</td>\n",
       "      <td>2400.000000</td>\n",
       "    </tr>\n",
       "    <tr>\n",
       "      <th>mean</th>\n",
       "      <td>0.006581</td>\n",
       "      <td>-9.405962</td>\n",
       "    </tr>\n",
       "    <tr>\n",
       "      <th>std</th>\n",
       "      <td>0.012701</td>\n",
       "      <td>2.052080</td>\n",
       "    </tr>\n",
       "    <tr>\n",
       "      <th>min</th>\n",
       "      <td>0.000338</td>\n",
       "      <td>-14.202006</td>\n",
       "    </tr>\n",
       "    <tr>\n",
       "      <th>25%</th>\n",
       "      <td>0.002965</td>\n",
       "      <td>-10.853506</td>\n",
       "    </tr>\n",
       "    <tr>\n",
       "      <th>50%</th>\n",
       "      <td>0.004610</td>\n",
       "      <td>-9.722914</td>\n",
       "    </tr>\n",
       "    <tr>\n",
       "      <th>75%</th>\n",
       "      <td>0.006944</td>\n",
       "      <td>-8.239238</td>\n",
       "    </tr>\n",
       "    <tr>\n",
       "      <th>max</th>\n",
       "      <td>0.265855</td>\n",
       "      <td>0.880608</td>\n",
       "    </tr>\n",
       "  </tbody>\n",
       "</table>\n",
       "</div>"
      ],
      "text/plain": [
       "            l2_err     log_prob\n",
       "count  2400.000000  2400.000000\n",
       "mean      0.006581    -9.405962\n",
       "std       0.012701     2.052080\n",
       "min       0.000338   -14.202006\n",
       "25%       0.002965   -10.853506\n",
       "50%       0.004610    -9.722914\n",
       "75%       0.006944    -8.239238\n",
       "max       0.265855     0.880608"
      ]
     },
     "execution_count": 4,
     "metadata": {},
     "output_type": "execute_result"
    },
    {
     "data": {
      "image/png": "[encoded data removed]",
      "text/plain": [
       "<Figure size 640x480 with 1 Axes>"
      ]
     },
     "metadata": {},
     "output_type": "display_data"
    }
   ],
   "source": [
    "df, err = test_l2_err(config, robot=panda, loader=loader, model=flow)\n",
    "ax1 = df.plot.scatter(x='log_prob', y='l2_err')\n",
    "df.describe()"
   ]
  },
  {
   "cell_type": "code",
   "execution_count": 5,
   "metadata": {},
   "outputs": [
    {
     "data": {
      "text/html": [
       "<div>\n",
       "<style scoped>\n",
       "    .dataframe tbody tr th:only-of-type {\n",
       "        vertical-align: middle;\n",
       "    }\n",
       "\n",
       "    .dataframe tbody tr th {\n",
       "        vertical-align: top;\n",
       "    }\n",
       "\n",
       "    .dataframe thead th {\n",
       "        text-align: right;\n",
       "    }\n",
       "</style>\n",
       "<table border=\"1\" class=\"dataframe\">\n",
       "  <thead>\n",
       "    <tr style=\"text-align: right;\">\n",
       "      <th></th>\n",
       "      <th>l2_err</th>\n",
       "      <th>log_prob</th>\n",
       "    </tr>\n",
       "  </thead>\n",
       "  <tbody>\n",
       "    <tr>\n",
       "      <th>count</th>\n",
       "      <td>2400.000000</td>\n",
       "      <td>2400.000000</td>\n",
       "    </tr>\n",
       "    <tr>\n",
       "      <th>mean</th>\n",
       "      <td>0.005676</td>\n",
       "      <td>-13.984208</td>\n",
       "    </tr>\n",
       "    <tr>\n",
       "      <th>std</th>\n",
       "      <td>0.008811</td>\n",
       "      <td>1.098563</td>\n",
       "    </tr>\n",
       "    <tr>\n",
       "      <th>min</th>\n",
       "      <td>0.000208</td>\n",
       "      <td>-16.978479</td>\n",
       "    </tr>\n",
       "    <tr>\n",
       "      <th>25%</th>\n",
       "      <td>0.002572</td>\n",
       "      <td>-14.694010</td>\n",
       "    </tr>\n",
       "    <tr>\n",
       "      <th>50%</th>\n",
       "      <td>0.004031</td>\n",
       "      <td>-14.170993</td>\n",
       "    </tr>\n",
       "    <tr>\n",
       "      <th>75%</th>\n",
       "      <td>0.006187</td>\n",
       "      <td>-13.469451</td>\n",
       "    </tr>\n",
       "    <tr>\n",
       "      <th>max</th>\n",
       "      <td>0.162211</td>\n",
       "      <td>-5.543342</td>\n",
       "    </tr>\n",
       "  </tbody>\n",
       "</table>\n",
       "</div>"
      ],
      "text/plain": [
       "            l2_err     log_prob\n",
       "count  2400.000000  2400.000000\n",
       "mean      0.005676   -13.984208\n",
       "std       0.008811     1.098563\n",
       "min       0.000208   -16.978479\n",
       "25%       0.002572   -14.694010\n",
       "50%       0.004031   -14.170993\n",
       "75%       0.006187   -13.469451\n",
       "max       0.162211    -5.543342"
      ]
     },
     "execution_count": 5,
     "metadata": {},
     "output_type": "execute_result"
    },
    {
     "data": {
      "image/png": "[encoded data removed]",
      "text/plain": [
       "<Figure size 640x480 with 1 Axes>"
      ]
     },
     "metadata": {},
     "output_type": "display_data"
    }
   ],
   "source": [
    "nflow = get_nflow_model(flow=flow)\n",
    "df, err = test_l2_err(config, robot=panda, loader=loader, model=nflow)\n",
    "ax1 = df.plot.scatter(x='log_prob', y='l2_err')\n",
    "df.describe()"
   ]
  },
  {
   "cell_type": "code",
   "execution_count": 46,
   "metadata": {},
   "outputs": [
    {
     "name": "stderr",
     "output_type": "stream",
     "text": [
      "100%|██████████| 20/20 [00:00<00:00, 15756.21it/s]"
     ]
    },
    {
     "name": "stdout",
     "output_type": "stream",
     "text": [
      "mkdir ./data/trajectory/05231707\n"
     ]
    },
    {
     "name": "stderr",
     "output_type": "stream",
     "text": [
      "\n"
     ]
    }
   ],
   "source": [
    "generate_new = True\n",
    " \n",
    "traj_dir = config.traj_dir + datetime.now().strftime('%m%d%H%M') + '/'\n",
    "ee_traj_path = traj_dir + 'ee_traj.npy'\n",
    "q_traj_path = traj_dir + 'q_traj.npy'\n",
    "\n",
    "if not generate_new and path.exists(path=q_traj_path):\n",
    "    ee_traj = load_numpy(file_path=ee_traj_path)\n",
    "    q_traj = load_numpy(file_path=q_traj_path)\n",
    "else:\n",
    "    ee_traj, q_traj = panda.path_generate_via_stable_joint_traj(dist_ratio=0.9, t=20)\n",
    "    save_numpy(file_path=ee_traj_path, arr=ee_traj)\n",
    "    save_numpy(file_path=q_traj_path, arr=q_traj)"
   ]
  },
  {
   "cell_type": "code",
   "execution_count": 47,
   "metadata": {},
   "outputs": [
    {
     "data": {
      "text/plain": [
       "array([[-1.35489216, -0.44877287, -0.7785531 ,  0.29536053],\n",
       "       [-0.22975776, -0.58198573,  0.30859385,  0.48558931],\n",
       "       [-1.35939817, -0.4307186 , -0.77051118,  0.2951554 ]])"
      ]
     },
     "execution_count": 47,
     "metadata": {},
     "output_type": "execute_result"
    }
   ],
   "source": [
    "num_traj = 3\n",
    "rand = np.random.randint(low=0, high=len(q_traj), size=num_traj)\n",
    "pidx = hnne.transform(X=q_traj[rand])\n",
    "pidx"
   ]
  },
  {
   "cell_type": "code",
   "execution_count": 48,
   "metadata": {},
   "outputs": [
    {
     "name": "stdout",
     "output_type": "stream",
     "text": [
      "          l2_err   log_prob\n",
      "count  20.000000  20.000000\n",
      "mean    0.004280 -14.729406\n",
      "std     0.002386   0.870248\n",
      "min     0.000798 -15.946003\n",
      "25%     0.002485 -15.191445\n",
      "50%     0.003705 -14.925140\n",
      "75%     0.005952 -14.559724\n",
      "max     0.010591 -12.246136\n",
      "          l2_err   log_prob\n",
      "count  20.000000  20.000000\n",
      "mean    0.005203 -13.661718\n",
      "std     0.004584   1.723907\n",
      "min     0.001470 -15.885427\n",
      "25%     0.002419 -14.943780\n",
      "50%     0.003361 -13.905260\n",
      "75%     0.005251 -12.872104\n",
      "max     0.018935  -9.752435\n",
      "          l2_err   log_prob\n",
      "count  20.000000  20.000000\n",
      "mean    0.004061 -14.527898\n",
      "std     0.001549   0.766943\n",
      "min     0.001295 -15.748295\n",
      "25%     0.002671 -15.060972\n",
      "50%     0.004026 -14.543785\n",
      "75%     0.005050 -14.208925\n",
      "max     0.007070 -12.846766\n"
     ]
    }
   ],
   "source": [
    "for i, px in enumerate(pidx):\n",
    "    df, qs = sample_jtraj(ee_traj, px, nflow)\n",
    "    print(df.describe())\n",
    "    save_numpy(file_path=traj_dir + f'/exp_{i}.npy', arr=qs)"
   ]
  },
  {
   "cell_type": "code",
   "execution_count": 49,
   "metadata": {},
   "outputs": [
    {
     "name": "stdout",
     "output_type": "stream",
     "text": [
      "(array([], dtype=int64),)\n",
      "[]\n",
      "0.08560259922450161\n",
      "(array([], dtype=int64),)\n",
      "[]\n",
      "0.10406966966654146\n",
      "(array([], dtype=int64),)\n",
      "[]\n",
      "0.0812243886422167\n"
     ]
    }
   ],
   "source": [
    "ee_traj = load_numpy(file_path=ee_traj_path)\n",
    "err = np.zeros((100,))\n",
    "\n",
    "for i in range(3):\n",
    "    step = 0\n",
    "    qs = load_numpy(file_path=traj_dir + f'/exp_{i}.npy')\n",
    "    for i in range(len(qs)):\n",
    "        err[i] = panda.dist_fk(q=qs[i], ee_pos=ee_traj[i])\n",
    "    outliner = np.where(err > 0.05)\n",
    "    print(outliner)\n",
    "    print(err[outliner])\n",
    "    print(np.sum(err))\n",
    "    panda.plot_qs(qs)"
   ]
  },
  {
   "cell_type": "code",
   "execution_count": null,
   "metadata": {},
   "outputs": [],
   "source": []
  }
 ],
 "metadata": {
  "kernelspec": {
   "display_name": "base",
   "language": "python",
   "name": "python3"
  },
  "language_info": {
   "codemirror_mode": {
    "name": "ipython",
    "version": 3
   },
   "file_extension": ".py",
   "mimetype": "text/x-python",
   "name": "python",
   "nbconvert_exporter": "python",
   "pygments_lexer": "ipython3",
   "version": "3.9.12"
  },
  "orig_nbformat": 4
 },
 "nbformat": 4,
 "nbformat_minor": 2
}
