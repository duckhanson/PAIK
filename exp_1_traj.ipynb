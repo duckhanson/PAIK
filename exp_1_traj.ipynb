{
 "cells": [
  {
   "cell_type": "code",
   "execution_count": 1,
   "metadata": {},
   "outputs": [],
   "source": [
    "# Import required packages\n",
    "from os import path \n",
    "import time\n",
    "from datetime import datetime\n",
    "import numpy as np\n",
    "import pandas as pd\n",
    "import torch\n",
    "from torch import nn, Tensor\n",
    "from torch.optim import AdamW\n",
    "from tqdm import tqdm, trange\n",
    "import zuko\n",
    "from zuko.flows import Distribution, NSF\n",
    "from zuko.distributions import DiagNormal, BoxUniform, Minimum\n",
    "from zuko.flows import DistributionModule, FlowModule, Unconditional\n",
    "from hnne import HNNE\n",
    "\n",
    "from utils.settings import config\n",
    "from utils.utils import *\n",
    "from utils.model import *\n",
    "from utils.robot import Robot"
   ]
  },
  {
   "cell_type": "code",
   "execution_count": 2,
   "metadata": {},
   "outputs": [
    {
     "name": "stdout",
     "output_type": "stream",
     "text": [
      "hnne load successfully from ./weights/panda/hnne.pickle\n",
      "Model load successfully from ./weights/panda/nsf.pth\n"
     ]
    }
   ],
   "source": [
    "panda = Robot(verbose=False)\n",
    "# data generation\n",
    "X, y = load_data(robot=panda)\n",
    "# build dimension reduction model\n",
    "hnne, ds, loader = get_hnne_model(X, y)\n",
    "# Build Generative model, NSF\n",
    "# Neural spline flow (NSF) with 3 sample features and 5 context features\n",
    "flow, optimizer, scheduler = get_flow_model()"
   ]
  },
  {
   "cell_type": "code",
   "execution_count": 5,
   "metadata": {},
   "outputs": [
    {
     "data": {
      "text/html": [
       "<div>\n",
       "<style scoped>\n",
       "    .dataframe tbody tr th:only-of-type {\n",
       "        vertical-align: middle;\n",
       "    }\n",
       "\n",
       "    .dataframe tbody tr th {\n",
       "        vertical-align: top;\n",
       "    }\n",
       "\n",
       "    .dataframe thead th {\n",
       "        text-align: right;\n",
       "    }\n",
       "</style>\n",
       "<table border=\"1\" class=\"dataframe\">\n",
       "  <thead>\n",
       "    <tr style=\"text-align: right;\">\n",
       "      <th></th>\n",
       "      <th>l2_err</th>\n",
       "      <th>time_diff(per 1000)</th>\n",
       "    </tr>\n",
       "  </thead>\n",
       "  <tbody>\n",
       "    <tr>\n",
       "      <th>count</th>\n",
       "      <td>100.000000</td>\n",
       "      <td>100.000000</td>\n",
       "    </tr>\n",
       "    <tr>\n",
       "      <th>mean</th>\n",
       "      <td>0.007130</td>\n",
       "      <td>0.062600</td>\n",
       "    </tr>\n",
       "    <tr>\n",
       "      <th>std</th>\n",
       "      <td>0.003279</td>\n",
       "      <td>0.023034</td>\n",
       "    </tr>\n",
       "    <tr>\n",
       "      <th>min</th>\n",
       "      <td>0.003543</td>\n",
       "      <td>0.060000</td>\n",
       "    </tr>\n",
       "    <tr>\n",
       "      <th>25%</th>\n",
       "      <td>0.005114</td>\n",
       "      <td>0.060000</td>\n",
       "    </tr>\n",
       "    <tr>\n",
       "      <th>50%</th>\n",
       "      <td>0.006194</td>\n",
       "      <td>0.060000</td>\n",
       "    </tr>\n",
       "    <tr>\n",
       "      <th>75%</th>\n",
       "      <td>0.007670</td>\n",
       "      <td>0.060000</td>\n",
       "    </tr>\n",
       "    <tr>\n",
       "      <th>max</th>\n",
       "      <td>0.020976</td>\n",
       "      <td>0.290000</td>\n",
       "    </tr>\n",
       "  </tbody>\n",
       "</table>\n",
       "</div>"
      ],
      "text/plain": [
       "           l2_err  time_diff(per 1000)\n",
       "count  100.000000           100.000000\n",
       "mean     0.007130             0.062600\n",
       "std      0.003279             0.023034\n",
       "min      0.003543             0.060000\n",
       "25%      0.005114             0.060000\n",
       "50%      0.006194             0.060000\n",
       "75%      0.007670             0.060000\n",
       "max      0.020976             0.290000"
      ]
     },
     "execution_count": 5,
     "metadata": {},
     "output_type": "execute_result"
    }
   ],
   "source": [
    "df, err = test_l2_err(config, \n",
    "                      robot=panda, \n",
    "                      loader=loader, \n",
    "                      model=flow, \n",
    "                      num_data=100, \n",
    "                      num_samples=1000, \n",
    "                      inference=True)\n",
    "# ax1 = df.plot.scatter(x='log_prob', y='l2_err')\n",
    "df.describe()"
   ]
  },
  {
   "cell_type": "code",
   "execution_count": 6,
   "metadata": {},
   "outputs": [
    {
     "data": {
      "text/html": [
       "<div>\n",
       "<style scoped>\n",
       "    .dataframe tbody tr th:only-of-type {\n",
       "        vertical-align: middle;\n",
       "    }\n",
       "\n",
       "    .dataframe tbody tr th {\n",
       "        vertical-align: top;\n",
       "    }\n",
       "\n",
       "    .dataframe thead th {\n",
       "        text-align: right;\n",
       "    }\n",
       "</style>\n",
       "<table border=\"1\" class=\"dataframe\">\n",
       "  <thead>\n",
       "    <tr style=\"text-align: right;\">\n",
       "      <th></th>\n",
       "      <th>l2_err</th>\n",
       "      <th>time_diff(per 1000)</th>\n",
       "    </tr>\n",
       "  </thead>\n",
       "  <tbody>\n",
       "    <tr>\n",
       "      <th>count</th>\n",
       "      <td>100.000000</td>\n",
       "      <td>100.000000</td>\n",
       "    </tr>\n",
       "    <tr>\n",
       "      <th>mean</th>\n",
       "      <td>0.004753</td>\n",
       "      <td>0.062700</td>\n",
       "    </tr>\n",
       "    <tr>\n",
       "      <th>std</th>\n",
       "      <td>0.002501</td>\n",
       "      <td>0.018305</td>\n",
       "    </tr>\n",
       "    <tr>\n",
       "      <th>min</th>\n",
       "      <td>0.002221</td>\n",
       "      <td>0.060000</td>\n",
       "    </tr>\n",
       "    <tr>\n",
       "      <th>25%</th>\n",
       "      <td>0.003361</td>\n",
       "      <td>0.060000</td>\n",
       "    </tr>\n",
       "    <tr>\n",
       "      <th>50%</th>\n",
       "      <td>0.004230</td>\n",
       "      <td>0.060000</td>\n",
       "    </tr>\n",
       "    <tr>\n",
       "      <th>75%</th>\n",
       "      <td>0.005440</td>\n",
       "      <td>0.060000</td>\n",
       "    </tr>\n",
       "    <tr>\n",
       "      <th>max</th>\n",
       "      <td>0.024142</td>\n",
       "      <td>0.240000</td>\n",
       "    </tr>\n",
       "  </tbody>\n",
       "</table>\n",
       "</div>"
      ],
      "text/plain": [
       "           l2_err  time_diff(per 1000)\n",
       "count  100.000000           100.000000\n",
       "mean     0.004753             0.062700\n",
       "std      0.002501             0.018305\n",
       "min      0.002221             0.060000\n",
       "25%      0.003361             0.060000\n",
       "50%      0.004230             0.060000\n",
       "75%      0.005440             0.060000\n",
       "max      0.024142             0.240000"
      ]
     },
     "execution_count": 6,
     "metadata": {},
     "output_type": "execute_result"
    }
   ],
   "source": [
    "nflow = get_nflow_model(flow=flow)\n",
    "df, err = test_l2_err(config, \n",
    "                      robot=panda, \n",
    "                      loader=loader, \n",
    "                      model=nflow, \n",
    "                      num_data=100, \n",
    "                      num_samples=1000, \n",
    "                      inference=True)\n",
    "# ax1 = df.plot.scatter(x='log_prob', y='l2_err')\n",
    "df.describe()"
   ]
  },
  {
   "cell_type": "code",
   "execution_count": 7,
   "metadata": {},
   "outputs": [
    {
     "name": "stderr",
     "output_type": "stream",
     "text": [
      "100%|██████████| 20/20 [00:00<00:00, 38251.75it/s]"
     ]
    },
    {
     "name": "stdout",
     "output_type": "stream",
     "text": [
      "mkdir ./data/panda/trajectory/05251543\n",
      "./data/panda/trajectory/05251543/ load successfully.\n"
     ]
    },
    {
     "name": "stderr",
     "output_type": "stream",
     "text": [
      "\n"
     ]
    }
   ],
   "source": [
    "traj_dir = sample_ee_traj(robot=panda, load_time='')"
   ]
  },
  {
   "cell_type": "code",
   "execution_count": 8,
   "metadata": {},
   "outputs": [
    {
     "name": "stdout",
     "output_type": "stream",
     "text": [
      "[[0.76221121 0.27924557 0.83192703 0.28457488]\n",
      " [0.71377316 0.26820641 0.80690692 0.27729773]\n",
      " [0.7307427  0.33987673 0.87146256 0.25010577]]\n",
      "          l2_err   log_prob\n",
      "count  20.000000  20.000000\n",
      "mean    0.007993 -14.597330\n",
      "std     0.009960   1.576296\n",
      "min     0.001536 -16.112041\n",
      "25%     0.002456 -15.426632\n",
      "50%     0.004100 -15.261176\n",
      "75%     0.005885 -14.518756\n",
      "max     0.035703  -9.935677\n",
      "          l2_err   log_prob\n",
      "count  20.000000  20.000000\n",
      "mean    0.005665 -14.874350\n",
      "std     0.005969   1.716685\n",
      "min     0.001138 -16.640348\n",
      "25%     0.002923 -15.826204\n",
      "50%     0.003729 -15.479504\n",
      "75%     0.005544 -14.775248\n",
      "max     0.027604  -9.923030\n",
      "          l2_err   log_prob\n",
      "count  20.000000  20.000000\n",
      "mean    0.005263 -14.791424\n",
      "std     0.005021   1.614270\n",
      "min     0.001000 -16.192394\n",
      "25%     0.002333 -15.809322\n",
      "50%     0.004656 -15.047681\n",
      "75%     0.005901 -14.554054\n",
      "max     0.024531  -9.193552\n",
      "(array([], dtype=int64),)\n",
      "[]\n",
      "0.15986617295315575\n",
      "(array([], dtype=int64),)\n",
      "[]\n",
      "0.11329430243102129\n",
      "(array([], dtype=int64),)\n",
      "[]\n",
      "0.10526919017708636\n"
     ]
    }
   ],
   "source": [
    "generate_traj_via_model(hnne=hnne, num_traj=3, model=nflow, robot=panda, traj_dir=traj_dir)"
   ]
  },
  {
   "cell_type": "code",
   "execution_count": 11,
   "metadata": {},
   "outputs": [
    {
     "name": "stdout",
     "output_type": "stream",
     "text": [
      "(array([], dtype=int64),)\n",
      "[]\n",
      "0.15986617295315575\n",
      "(array([], dtype=int64),)\n",
      "[]\n",
      "0.11329430243102129\n",
      "(array([], dtype=int64),)\n",
      "[]\n",
      "0.10526919017708636\n"
     ]
    }
   ],
   "source": [
    "generate_traj_via_model(hnne=hnne, num_traj=3, model=nflow, robot=panda, traj_dir=traj_dir)"
   ]
  },
  {
   "cell_type": "code",
   "execution_count": null,
   "metadata": {},
   "outputs": [],
   "source": []
  }
 ],
 "metadata": {
  "kernelspec": {
   "display_name": "base",
   "language": "python",
   "name": "python3"
  },
  "language_info": {
   "codemirror_mode": {
    "name": "ipython",
    "version": 3
   },
   "file_extension": ".py",
   "mimetype": "text/x-python",
   "name": "python",
   "nbconvert_exporter": "python",
   "pygments_lexer": "ipython3",
   "version": "3.9.12"
  },
  "orig_nbformat": 4
 },
 "nbformat": 4,
 "nbformat_minor": 2
}
