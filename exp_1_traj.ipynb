{
 "cells": [
  {
   "cell_type": "code",
   "execution_count": 1,
   "metadata": {},
   "outputs": [],
   "source": [
    "# Import required packages\n",
    "from os import path \n",
    "import time\n",
    "from datetime import datetime\n",
    "import numpy as np\n",
    "import pandas as pd\n",
    "import torch\n",
    "from torch import nn, Tensor\n",
    "from torch.optim import AdamW\n",
    "from tqdm import tqdm, trange\n",
    "import zuko\n",
    "from zuko.flows import Distribution, NSF\n",
    "from zuko.distributions import DiagNormal, BoxUniform, Minimum\n",
    "from zuko.flows import DistributionModule, FlowModule, Unconditional\n",
    "from hnne import HNNE\n",
    "\n",
    "from utils.settings import config\n",
    "from utils.utils import *\n",
    "from utils.model import *\n",
    "from utils.robot import Robot\n",
    "from utils.dataset import create_dataset"
   ]
  },
  {
   "cell_type": "code",
   "execution_count": 2,
   "metadata": {},
   "outputs": [
    {
     "name": "stdout",
     "output_type": "stream",
     "text": [
      "hnne load successfully from ./weights/hnne.pickle\n",
      "Finding nearest centroids to new data...\n",
      "Setting up once a knn index for the last level centroids...\n",
      "Tue May 23 18:28:25 2023 Building RP forest with 32 trees\n",
      "Tue May 23 18:28:29 2023 NN descent for 19 iterations\n",
      "\t 1  /  19\n",
      "\t 2  /  19\n",
      "\tStopping threshold met -- exiting after 2 iterations\n",
      "Tue May 23 18:30:22 2023 Worst tree score: 0.94792173\n",
      "Tue May 23 18:30:22 2023 Mean tree score: 0.94840575\n",
      "Tue May 23 18:30:22 2023 Best tree score: 0.94966836\n",
      "Tue May 23 18:30:25 2023 Forward diversification reduced edges from 20009880 to 6167096\n",
      "Tue May 23 18:30:28 2023 Reverse diversification reduced edges from 6167096 to 6167096\n",
      "Tue May 23 18:30:30 2023 Degree pruning reduced edges from 6697886 to 6697886\n",
      "Tue May 23 18:30:30 2023 Resorting data and graph based on tree order\n",
      "Tue May 23 18:30:30 2023 Building and compiling search function\n",
      "Projecting data...\n",
      "Model load successfully from ./weights/nsf.pth\n"
     ]
    }
   ],
   "source": [
    "panda = Robot(verbose=False)\n",
    "# data generation\n",
    "X, y = load_data(robot=panda)\n",
    "# build dimension reduction model\n",
    "hnne, ds, loader = get_hnne_model(X, y)\n",
    "# Build Generative model, NSF\n",
    "# Neural spline flow (NSF) with 3 sample features and 5 context features\n",
    "flow, optimizer, scheduler = get_flow_model()"
   ]
  },
  {
   "cell_type": "code",
   "execution_count": 3,
   "metadata": {},
   "outputs": [
    {
     "data": {
      "text/html": [
       "<div>\n",
       "<style scoped>\n",
       "    .dataframe tbody tr th:only-of-type {\n",
       "        vertical-align: middle;\n",
       "    }\n",
       "\n",
       "    .dataframe tbody tr th {\n",
       "        vertical-align: top;\n",
       "    }\n",
       "\n",
       "    .dataframe thead th {\n",
       "        text-align: right;\n",
       "    }\n",
       "</style>\n",
       "<table border=\"1\" class=\"dataframe\">\n",
       "  <thead>\n",
       "    <tr style=\"text-align: right;\">\n",
       "      <th></th>\n",
       "      <th>l2_err</th>\n",
       "      <th>log_prob</th>\n",
       "    </tr>\n",
       "  </thead>\n",
       "  <tbody>\n",
       "    <tr>\n",
       "      <th>count</th>\n",
       "      <td>2400.000000</td>\n",
       "      <td>2400.000000</td>\n",
       "    </tr>\n",
       "    <tr>\n",
       "      <th>mean</th>\n",
       "      <td>0.006535</td>\n",
       "      <td>-9.183444</td>\n",
       "    </tr>\n",
       "    <tr>\n",
       "      <th>std</th>\n",
       "      <td>0.009226</td>\n",
       "      <td>2.198816</td>\n",
       "    </tr>\n",
       "    <tr>\n",
       "      <th>min</th>\n",
       "      <td>0.000304</td>\n",
       "      <td>-14.368955</td>\n",
       "    </tr>\n",
       "    <tr>\n",
       "      <th>25%</th>\n",
       "      <td>0.002986</td>\n",
       "      <td>-10.722239</td>\n",
       "    </tr>\n",
       "    <tr>\n",
       "      <th>50%</th>\n",
       "      <td>0.004806</td>\n",
       "      <td>-9.447618</td>\n",
       "    </tr>\n",
       "    <tr>\n",
       "      <th>75%</th>\n",
       "      <td>0.007241</td>\n",
       "      <td>-7.955671</td>\n",
       "    </tr>\n",
       "    <tr>\n",
       "      <th>max</th>\n",
       "      <td>0.157211</td>\n",
       "      <td>1.850196</td>\n",
       "    </tr>\n",
       "  </tbody>\n",
       "</table>\n",
       "</div>"
      ],
      "text/plain": [
       "            l2_err     log_prob\n",
       "count  2400.000000  2400.000000\n",
       "mean      0.006535    -9.183444\n",
       "std       0.009226     2.198816\n",
       "min       0.000304   -14.368955\n",
       "25%       0.002986   -10.722239\n",
       "50%       0.004806    -9.447618\n",
       "75%       0.007241    -7.955671\n",
       "max       0.157211     1.850196"
      ]
     },
     "execution_count": 3,
     "metadata": {},
     "output_type": "execute_result"
    },
    {
     "data": {
      "image/png": "[encoded data removed]",
      "text/plain": [
       "<Figure size 640x480 with 1 Axes>"
      ]
     },
     "metadata": {},
     "output_type": "display_data"
    }
   ],
   "source": [
    "df, err = test_l2_err(config, robot=panda, loader=loader, model=flow)\n",
    "ax1 = df.plot.scatter(x='log_prob', y='l2_err')\n",
    "df.describe()"
   ]
  },
  {
   "cell_type": "code",
   "execution_count": 4,
   "metadata": {},
   "outputs": [
    {
     "data": {
      "text/html": [
       "<div>\n",
       "<style scoped>\n",
       "    .dataframe tbody tr th:only-of-type {\n",
       "        vertical-align: middle;\n",
       "    }\n",
       "\n",
       "    .dataframe tbody tr th {\n",
       "        vertical-align: top;\n",
       "    }\n",
       "\n",
       "    .dataframe thead th {\n",
       "        text-align: right;\n",
       "    }\n",
       "</style>\n",
       "<table border=\"1\" class=\"dataframe\">\n",
       "  <thead>\n",
       "    <tr style=\"text-align: right;\">\n",
       "      <th></th>\n",
       "      <th>l2_err</th>\n",
       "      <th>log_prob</th>\n",
       "    </tr>\n",
       "  </thead>\n",
       "  <tbody>\n",
       "    <tr>\n",
       "      <th>count</th>\n",
       "      <td>2400.000000</td>\n",
       "      <td>2400.000000</td>\n",
       "    </tr>\n",
       "    <tr>\n",
       "      <th>mean</th>\n",
       "      <td>0.005578</td>\n",
       "      <td>-13.771702</td>\n",
       "    </tr>\n",
       "    <tr>\n",
       "      <th>std</th>\n",
       "      <td>0.009360</td>\n",
       "      <td>1.404367</td>\n",
       "    </tr>\n",
       "    <tr>\n",
       "      <th>min</th>\n",
       "      <td>0.000204</td>\n",
       "      <td>-17.725368</td>\n",
       "    </tr>\n",
       "    <tr>\n",
       "      <th>25%</th>\n",
       "      <td>0.002723</td>\n",
       "      <td>-14.699298</td>\n",
       "    </tr>\n",
       "    <tr>\n",
       "      <th>50%</th>\n",
       "      <td>0.004236</td>\n",
       "      <td>-14.074979</td>\n",
       "    </tr>\n",
       "    <tr>\n",
       "      <th>75%</th>\n",
       "      <td>0.006308</td>\n",
       "      <td>-12.969445</td>\n",
       "    </tr>\n",
       "    <tr>\n",
       "      <th>max</th>\n",
       "      <td>0.266781</td>\n",
       "      <td>-6.656440</td>\n",
       "    </tr>\n",
       "  </tbody>\n",
       "</table>\n",
       "</div>"
      ],
      "text/plain": [
       "            l2_err     log_prob\n",
       "count  2400.000000  2400.000000\n",
       "mean      0.005578   -13.771702\n",
       "std       0.009360     1.404367\n",
       "min       0.000204   -17.725368\n",
       "25%       0.002723   -14.699298\n",
       "50%       0.004236   -14.074979\n",
       "75%       0.006308   -12.969445\n",
       "max       0.266781    -6.656440"
      ]
     },
     "execution_count": 4,
     "metadata": {},
     "output_type": "execute_result"
    },
    {
     "data": {
      "image/png": "[encoded data removed]",
      "text/plain": [
       "<Figure size 640x480 with 1 Axes>"
      ]
     },
     "metadata": {},
     "output_type": "display_data"
    }
   ],
   "source": [
    "nflow = get_nflow_model(flow=flow)\n",
    "df, err = test_l2_err(config, robot=panda, loader=loader, model=nflow)\n",
    "ax1 = df.plot.scatter(x='log_prob', y='l2_err')\n",
    "df.describe()"
   ]
  },
  {
   "cell_type": "code",
   "execution_count": 5,
   "metadata": {},
   "outputs": [
    {
     "name": "stderr",
     "output_type": "stream",
     "text": [
      "100%|██████████| 20/20 [00:00<00:00, 12501.65it/s]\n"
     ]
    },
    {
     "name": "stdout",
     "output_type": "stream",
     "text": [
      "mkdir ./data/trajectory/05231831\n",
      "[[ 0.218868   -0.4819177   0.80006504 -0.05264571]\n",
      " [ 0.218868   -0.4819177   0.80006504 -0.05264571]\n",
      " [ 0.2188682  -0.48191514  0.8000678  -0.05264675]]\n",
      "          l2_err   log_prob\n",
      "count  20.000000  20.000000\n",
      "mean    0.003474 -14.557306\n",
      "std     0.002009   0.478737\n",
      "min     0.001740 -15.489088\n",
      "25%     0.002437 -14.785043\n",
      "50%     0.002919 -14.662383\n",
      "75%     0.003524 -14.333390\n",
      "max     0.009491 -13.613035\n",
      "          l2_err   log_prob\n",
      "count  20.000000  20.000000\n",
      "mean    0.004038 -14.507372\n",
      "std     0.002413   0.525141\n",
      "min     0.000325 -15.741920\n",
      "25%     0.002474 -14.731403\n",
      "50%     0.003500 -14.517317\n",
      "75%     0.005539 -14.299921\n",
      "max     0.009440 -13.341654\n",
      "          l2_err   log_prob\n",
      "count  20.000000  20.000000\n",
      "mean    0.003569 -14.637557\n",
      "std     0.001805   0.567232\n",
      "min     0.001740 -15.714819\n",
      "25%     0.002317 -14.944946\n",
      "50%     0.002767 -14.589903\n",
      "75%     0.004250 -14.402074\n",
      "max     0.008431 -13.613806\n",
      "(array([], dtype=int64),)\n",
      "[]\n",
      "0.06948801861085258\n",
      "(array([], dtype=int64),)\n",
      "[]\n",
      "0.08075141535454711\n",
      "(array([], dtype=int64),)\n",
      "[]\n",
      "0.07138848015994853\n"
     ]
    }
   ],
   "source": [
    "sample_traj(hnne, model=nflow, robot=panda, num_traj=3)"
   ]
  },
  {
   "cell_type": "code",
   "execution_count": null,
   "metadata": {},
   "outputs": [],
   "source": [
    "generate_new = True\n",
    " \n",
    "traj_dir = config.traj_dir + datetime.now().strftime('%m%d%H%M') + '/'\n",
    "ee_traj_path = traj_dir + 'ee_traj.npy'\n",
    "q_traj_path = traj_dir + 'q_traj.npy'\n",
    "\n",
    "if not generate_new and path.exists(path=q_traj_path):\n",
    "    ee_traj = load_numpy(file_path=ee_traj_path)\n",
    "    q_traj = load_numpy(file_path=q_traj_path)\n",
    "else:\n",
    "    ee_traj, q_traj = panda.path_generate_via_stable_joint_traj(dist_ratio=0.9, t=20)\n",
    "    save_numpy(file_path=ee_traj_path, arr=ee_traj)\n",
    "    save_numpy(file_path=q_traj_path, arr=q_traj)"
   ]
  },
  {
   "cell_type": "code",
   "execution_count": null,
   "metadata": {},
   "outputs": [],
   "source": [
    "num_traj = 3\n",
    "rand = np.random.randint(low=0, high=len(q_traj), size=num_traj)\n",
    "pidx = hnne.transform(X=q_traj[rand])\n",
    "pidx"
   ]
  },
  {
   "cell_type": "code",
   "execution_count": null,
   "metadata": {},
   "outputs": [],
   "source": [
    "for i, px in enumerate(pidx):\n",
    "    df, qs = sample_jtraj(ee_traj, px, nflow)\n",
    "    print(df.describe())\n",
    "    save_numpy(file_path=traj_dir + f'/exp_{i}.npy', arr=qs)"
   ]
  },
  {
   "cell_type": "code",
   "execution_count": null,
   "metadata": {},
   "outputs": [],
   "source": [
    "ee_traj = load_numpy(file_path=ee_traj_path)\n",
    "err = np.zeros((100,))\n",
    "\n",
    "for i in range(3):\n",
    "    step = 0\n",
    "    qs = load_numpy(file_path=traj_dir + f'/exp_{i}.npy')\n",
    "    for i in range(len(qs)):\n",
    "        err[i] = panda.dist_fk(q=qs[i], ee_pos=ee_traj[i])\n",
    "    outliner = np.where(err > 0.05)\n",
    "    print(outliner)\n",
    "    print(err[outliner])\n",
    "    print(np.sum(err))\n",
    "    panda.plot_qs(qs)"
   ]
  },
  {
   "cell_type": "code",
   "execution_count": null,
   "metadata": {},
   "outputs": [],
   "source": []
  }
 ],
 "metadata": {
  "kernelspec": {
   "display_name": "base",
   "language": "python",
   "name": "python3"
  },
  "language_info": {
   "codemirror_mode": {
    "name": "ipython",
    "version": 3
   },
   "file_extension": ".py",
   "mimetype": "text/x-python",
   "name": "python",
   "nbconvert_exporter": "python",
   "pygments_lexer": "ipython3",
   "version": "3.9.12"
  },
  "orig_nbformat": 4
 },
 "nbformat": 4,
 "nbformat_minor": 2
}
