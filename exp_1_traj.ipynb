{
    "cells": [
        {
            "cell_type": "code",
            "execution_count": 1,
            "metadata": {},
            "outputs": [],
            "source": [
                "# Import required packages\n",
                "from os import path \n",
                "import time\n",
                "from datetime import datetime\n",
                "import numpy as np\n",
                "import pandas as pd\n",
                "import torch\n",
                "from torch import nn, Tensor\n",
                "from torch.optim import AdamW\n",
                "from tqdm import tqdm, trange\n",
                "import zuko\n",
                "from zuko.flows import Distribution, NSF\n",
                "from zuko.distributions import DiagNormal, BoxUniform, Minimum\n",
                "from zuko.flows import DistributionModule, FlowModule, Unconditional\n",
                "from hnne import HNNE\n",
                "\n",
                "from utils.settings import config\n",
                "from utils.utils import *\n",
                "from utils.model import *\n",
                "from utils.robot import Robot"
            ]
        },
        {
            "cell_type": "code",
            "execution_count": 2,
            "metadata": {},
            "outputs": [
                {
                    "name": "stdout",
                    "output_type": "stream",
                    "text": [
                        "hnne load successfully from /home/luca/ikpflow/weights/panda/hnne.pickle\n",
                        "Model load successfully from /home/luca/ikpflow/weights/panda/nsf.pth\n"
                    ]
                }
            ],
            "source": [
                "panda = Robot(verbose=False)\n",
                "# data generation\n",
                "X, y = load_data(robot=panda, num_samples=config.num_train_size)\n",
                "# build dimension reduction model\n",
                "hnne = get_hnne_model(X, y)\n",
                "# get loader\n",
                "loader = get_loader(X, y, hnne=hnne)\n",
                "# get val loader\n",
                "val_loader = get_val_loader(robot=panda, hnne=hnne)\n",
                "# Build Generative model, NSF\n",
                "# Neural spline flow (NSF) with 3 sample features and 5 context features\n",
                "flow, optimizer, scheduler = get_flow_model()"
            ]
        },
        {
            "cell_type": "code",
            "execution_count": 3,
            "metadata": {},
            "outputs": [
                {
                    "data": {
                        "text/plain": [
                            "tensor([ 2.0480, -0.1503, -1.0315, -0.1740,  1.7608, -0.2033, -0.8924])"
                        ]
                    },
                    "execution_count": 3,
                    "metadata": {},
                    "output_type": "execute_result"
                }
            ],
            "source": [
                "mu = torch.randn(size=(7,))\n",
                "mu"
            ]
        },
        {
            "cell_type": "code",
            "execution_count": 4,
            "metadata": {},
            "outputs": [
                {
                    "name": "stdout",
                    "output_type": "stream",
                    "text": [
                        "tensor([ 0.5225,  0.0390, -1.5867,  0.7135,  0.8892, -0.0216, -0.0104])\n"
                    ]
                },
                {
                    "data": {
                        "text/html": [
                            "<div>\n",
                            "<style scoped>\n",
                            "    .dataframe tbody tr th:only-of-type {\n",
                            "        vertical-align: middle;\n",
                            "    }\n",
                            "\n",
                            "    .dataframe tbody tr th {\n",
                            "        vertical-align: top;\n",
                            "    }\n",
                            "\n",
                            "    .dataframe thead th {\n",
                            "        text-align: right;\n",
                            "    }\n",
                            "</style>\n",
                            "<table border=\"1\" class=\"dataframe\">\n",
                            "  <thead>\n",
                            "    <tr style=\"text-align: right;\">\n",
                            "      <th></th>\n",
                            "      <th>l2_err</th>\n",
                            "      <th>time_diff(per 1000)</th>\n",
                            "    </tr>\n",
                            "  </thead>\n",
                            "  <tbody>\n",
                            "    <tr>\n",
                            "      <th>count</th>\n",
                            "      <td>1.000000</td>\n",
                            "      <td>1.00</td>\n",
                            "    </tr>\n",
                            "    <tr>\n",
                            "      <th>mean</th>\n",
                            "      <td>0.004353</td>\n",
                            "      <td>0.26</td>\n",
                            "    </tr>\n",
                            "    <tr>\n",
                            "      <th>std</th>\n",
                            "      <td>NaN</td>\n",
                            "      <td>NaN</td>\n",
                            "    </tr>\n",
                            "    <tr>\n",
                            "      <th>min</th>\n",
                            "      <td>0.004353</td>\n",
                            "      <td>0.26</td>\n",
                            "    </tr>\n",
                            "    <tr>\n",
                            "      <th>25%</th>\n",
                            "      <td>0.004353</td>\n",
                            "      <td>0.26</td>\n",
                            "    </tr>\n",
                            "    <tr>\n",
                            "      <th>50%</th>\n",
                            "      <td>0.004353</td>\n",
                            "      <td>0.26</td>\n",
                            "    </tr>\n",
                            "    <tr>\n",
                            "      <th>75%</th>\n",
                            "      <td>0.004353</td>\n",
                            "      <td>0.26</td>\n",
                            "    </tr>\n",
                            "    <tr>\n",
                            "      <th>max</th>\n",
                            "      <td>0.004353</td>\n",
                            "      <td>0.26</td>\n",
                            "    </tr>\n",
                            "  </tbody>\n",
                            "</table>\n",
                            "</div>"
                        ],
                        "text/plain": [
                            "         l2_err  time_diff(per 1000)\n",
                            "count  1.000000                 1.00\n",
                            "mean   0.004353                 0.26\n",
                            "std         NaN                  NaN\n",
                            "min    0.004353                 0.26\n",
                            "25%    0.004353                 0.26\n",
                            "50%    0.004353                 0.26\n",
                            "75%    0.004353                 0.26\n",
                            "max    0.004353                 0.26"
                        ]
                    },
                    "execution_count": 4,
                    "metadata": {},
                    "output_type": "execute_result"
                }
            ],
            "source": [
                "mu = torch.randn(size=(7,))\n",
                "print(mu)\n",
                "iflow = get_iflow_model(flow, init_sample=mu, shrink_ratio=0)\n",
                "df, err = test_l2_err(robot=panda, \n",
                "                      loader=val_loader, \n",
                "                      model=iflow, \n",
                "                      num_data=1, \n",
                "                      num_samples=1000, \n",
                "                      inference=True)\n",
                "# ax1 = df.plot.scatter(x='log_prob', y='l2_err')\n",
                "df.describe()"
            ]
        },
        {
            "cell_type": "code",
            "execution_count": 5,
            "metadata": {},
            "outputs": [
                {
                    "data": {
                        "text/html": [
                            "<div>\n",
                            "<style scoped>\n",
                            "    .dataframe tbody tr th:only-of-type {\n",
                            "        vertical-align: middle;\n",
                            "    }\n",
                            "\n",
                            "    .dataframe tbody tr th {\n",
                            "        vertical-align: top;\n",
                            "    }\n",
                            "\n",
                            "    .dataframe thead th {\n",
                            "        text-align: right;\n",
                            "    }\n",
                            "</style>\n",
                            "<table border=\"1\" class=\"dataframe\">\n",
                            "  <thead>\n",
                            "    <tr style=\"text-align: right;\">\n",
                            "      <th></th>\n",
                            "      <th>l2_err</th>\n",
                            "      <th>time_diff(per 1000)</th>\n",
                            "    </tr>\n",
                            "  </thead>\n",
                            "  <tbody>\n",
                            "    <tr>\n",
                            "      <th>count</th>\n",
                            "      <td>100.000000</td>\n",
                            "      <td>100.000000</td>\n",
                            "    </tr>\n",
                            "    <tr>\n",
                            "      <th>mean</th>\n",
                            "      <td>0.003999</td>\n",
                            "      <td>0.101100</td>\n",
                            "    </tr>\n",
                            "    <tr>\n",
                            "      <th>std</th>\n",
                            "      <td>0.001941</td>\n",
                            "      <td>0.004691</td>\n",
                            "    </tr>\n",
                            "    <tr>\n",
                            "      <th>min</th>\n",
                            "      <td>0.001950</td>\n",
                            "      <td>0.100000</td>\n",
                            "    </tr>\n",
                            "    <tr>\n",
                            "      <th>25%</th>\n",
                            "      <td>0.002719</td>\n",
                            "      <td>0.100000</td>\n",
                            "    </tr>\n",
                            "    <tr>\n",
                            "      <th>50%</th>\n",
                            "      <td>0.003151</td>\n",
                            "      <td>0.100000</td>\n",
                            "    </tr>\n",
                            "    <tr>\n",
                            "      <th>75%</th>\n",
                            "      <td>0.004864</td>\n",
                            "      <td>0.100000</td>\n",
                            "    </tr>\n",
                            "    <tr>\n",
                            "      <th>max</th>\n",
                            "      <td>0.012350</td>\n",
                            "      <td>0.130000</td>\n",
                            "    </tr>\n",
                            "  </tbody>\n",
                            "</table>\n",
                            "</div>"
                        ],
                        "text/plain": [
                            "           l2_err  time_diff(per 1000)\n",
                            "count  100.000000           100.000000\n",
                            "mean     0.003999             0.101100\n",
                            "std      0.001941             0.004691\n",
                            "min      0.001950             0.100000\n",
                            "25%      0.002719             0.100000\n",
                            "50%      0.003151             0.100000\n",
                            "75%      0.004864             0.100000\n",
                            "max      0.012350             0.130000"
                        ]
                    },
                    "execution_count": 5,
                    "metadata": {},
                    "output_type": "execute_result"
                }
            ],
            "source": [
                "df, err = test_l2_err(robot=panda, \n",
                "                      loader=val_loader, \n",
                "                      model=flow, \n",
                "                      num_data=100, \n",
                "                      num_samples=1000, \n",
                "                      inference=True)\n",
                "# ax1 = df.plot.scatter(x='log_prob', y='l2_err')\n",
                "df.describe()"
            ]
        },
        {
            "cell_type": "code",
            "execution_count": 6,
            "metadata": {},
            "outputs": [
                {
                    "data": {
                        "text/html": [
                            "<div>\n",
                            "<style scoped>\n",
                            "    .dataframe tbody tr th:only-of-type {\n",
                            "        vertical-align: middle;\n",
                            "    }\n",
                            "\n",
                            "    .dataframe tbody tr th {\n",
                            "        vertical-align: top;\n",
                            "    }\n",
                            "\n",
                            "    .dataframe thead th {\n",
                            "        text-align: right;\n",
                            "    }\n",
                            "</style>\n",
                            "<table border=\"1\" class=\"dataframe\">\n",
                            "  <thead>\n",
                            "    <tr style=\"text-align: right;\">\n",
                            "      <th></th>\n",
                            "      <th>l2_err</th>\n",
                            "      <th>time_diff(per 1000)</th>\n",
                            "    </tr>\n",
                            "  </thead>\n",
                            "  <tbody>\n",
                            "    <tr>\n",
                            "      <th>count</th>\n",
                            "      <td>100.000000</td>\n",
                            "      <td>100.000000</td>\n",
                            "    </tr>\n",
                            "    <tr>\n",
                            "      <th>mean</th>\n",
                            "      <td>0.003075</td>\n",
                            "      <td>0.100600</td>\n",
                            "    </tr>\n",
                            "    <tr>\n",
                            "      <th>std</th>\n",
                            "      <td>0.004337</td>\n",
                            "      <td>0.002387</td>\n",
                            "    </tr>\n",
                            "    <tr>\n",
                            "      <th>min</th>\n",
                            "      <td>0.001355</td>\n",
                            "      <td>0.100000</td>\n",
                            "    </tr>\n",
                            "    <tr>\n",
                            "      <th>25%</th>\n",
                            "      <td>0.001963</td>\n",
                            "      <td>0.100000</td>\n",
                            "    </tr>\n",
                            "    <tr>\n",
                            "      <th>50%</th>\n",
                            "      <td>0.002237</td>\n",
                            "      <td>0.100000</td>\n",
                            "    </tr>\n",
                            "    <tr>\n",
                            "      <th>75%</th>\n",
                            "      <td>0.002948</td>\n",
                            "      <td>0.100000</td>\n",
                            "    </tr>\n",
                            "    <tr>\n",
                            "      <th>max</th>\n",
                            "      <td>0.043407</td>\n",
                            "      <td>0.110000</td>\n",
                            "    </tr>\n",
                            "  </tbody>\n",
                            "</table>\n",
                            "</div>"
                        ],
                        "text/plain": [
                            "           l2_err  time_diff(per 1000)\n",
                            "count  100.000000           100.000000\n",
                            "mean     0.003075             0.100600\n",
                            "std      0.004337             0.002387\n",
                            "min      0.001355             0.100000\n",
                            "25%      0.001963             0.100000\n",
                            "50%      0.002237             0.100000\n",
                            "75%      0.002948             0.100000\n",
                            "max      0.043407             0.110000"
                        ]
                    },
                    "execution_count": 6,
                    "metadata": {},
                    "output_type": "execute_result"
                }
            ],
            "source": [
                "nflow = get_nflow_model(flow=flow)\n",
                "df, err = test_l2_err(robot=panda, \n",
                "                      loader=val_loader, \n",
                "                      model=nflow, \n",
                "                      num_data=100, \n",
                "                      num_samples=1000, \n",
                "                      inference=True)\n",
                "# ax1 = df.plot.scatter(x='log_prob', y='l2_err')\n",
                "df.describe()"
            ]
        },
        {
            "cell_type": "code",
            "execution_count": 7,
            "metadata": {},
            "outputs": [
                {
                    "name": "stderr",
                    "output_type": "stream",
                    "text": [
                        "100%|██████████| 20/20 [00:00<00:00, 12850.20it/s]"
                    ]
                },
                {
                    "name": "stdout",
                    "output_type": "stream",
                    "text": [
                        "mkdir /home/luca/ikpflow/data/panda/trajectory/06041430\n",
                        "/home/luca/ikpflow/data/panda/trajectory/06041430/ load successfully.\n"
                    ]
                },
                {
                    "name": "stderr",
                    "output_type": "stream",
                    "text": [
                        "\n"
                    ]
                }
            ],
            "source": [
                "traj_dir = sample_ee_traj(robot=panda, load_time='')"
            ]
        },
        {
            "cell_type": "code",
            "execution_count": 8,
            "metadata": {},
            "outputs": [
                {
                    "name": "stdout",
                    "output_type": "stream",
                    "text": [
                        "[[-0.59238789  0.33397016 -0.91804107  0.98448652]\n",
                        " [-0.31615348 -0.71505912  0.09302807  0.41516754]\n",
                        " [-0.1603414  -0.46532428  0.38606396  0.45180204]]\n",
                        "          l2_err   log_prob  ang_errs(sum)\n",
                        "count  20.000000  20.000000      20.000000\n",
                        "mean    0.010824 -17.724793     195.867638\n",
                        "std     0.019139   1.055945     111.418037\n",
                        "min     0.000301 -18.888065      64.115587\n",
                        "25%     0.002101 -18.520704      98.826977\n",
                        "50%     0.003717 -17.851616     188.717123\n",
                        "75%     0.008523 -17.388684     250.383697\n",
                        "max     0.080124 -14.752312     430.623155\n",
                        "          l2_err   log_prob  ang_errs(sum)\n",
                        "count  20.000000  20.000000      20.000000\n",
                        "mean    0.003006 -17.487901     115.052131\n",
                        "std     0.003818   0.801651      47.202314\n",
                        "min     0.000449 -18.517200      36.687197\n",
                        "25%     0.001436 -17.921692      83.809362\n",
                        "50%     0.002198 -17.483829     102.307293\n",
                        "75%     0.003102 -17.340517     138.299781\n",
                        "max     0.018603 -14.767996     216.607019\n",
                        "          l2_err   log_prob  ang_errs(sum)\n",
                        "count  20.000000  20.000000      20.000000\n",
                        "mean    0.003471 -17.164422     140.775014\n",
                        "std     0.003707   0.617172     101.494855\n",
                        "min     0.000851 -18.412539      22.726362\n",
                        "25%     0.001720 -17.570538      85.357871\n",
                        "50%     0.002657 -16.994792     117.106052\n",
                        "75%     0.003496 -16.795863     142.762673\n",
                        "max     0.017817 -15.951784     442.951756\n",
                        "(array([19]),)\n",
                        "[0.08012434]\n",
                        "0.21647558413938872\n",
                        "(array([], dtype=int64),)\n",
                        "[]\n",
                        "0.06012103115099455\n",
                        "(array([], dtype=int64),)\n",
                        "[]\n",
                        "0.06942253967815118\n"
                    ]
                }
            ],
            "source": [
                "generate_traj_via_model(hnne=hnne, num_traj=3, model=nflow, robot=panda, traj_dir=traj_dir, enable_regenerate=True)"
            ]
        },
        {
            "cell_type": "code",
            "execution_count": 9,
            "metadata": {},
            "outputs": [
                {
                    "name": "stdout",
                    "output_type": "stream",
                    "text": [
                        "[[-0.59245341  0.33401809 -0.91784283  0.98451249]\n",
                        " [-0.33908641 -0.69984875  0.14089201  0.4359056 ]\n",
                        " [-0.59238789  0.33397016 -0.91804107  0.98448652]]\n",
                        "          l2_err  log_prob  ang_errs(sum)\n",
                        "count  20.000000       0.0      20.000000\n",
                        "mean    0.005037       NaN      52.809407\n",
                        "std     0.003041       NaN      48.134939\n",
                        "min     0.001502       NaN       1.283280\n",
                        "25%     0.003321       NaN      20.126191\n",
                        "50%     0.004372       NaN      45.827027\n",
                        "75%     0.005664       NaN      69.137046\n",
                        "max     0.015146       NaN     194.691141\n",
                        "          l2_err  log_prob  ang_errs(sum)\n",
                        "count  20.000000       0.0      20.000000\n",
                        "mean    0.008960       NaN      70.788223\n",
                        "std     0.012011       NaN      59.930885\n",
                        "min     0.001437       NaN       0.415931\n",
                        "25%     0.002660       NaN      17.864066\n",
                        "50%     0.004913       NaN      60.642043\n",
                        "75%     0.006686       NaN     113.749574\n",
                        "max     0.039619       NaN     204.484225\n",
                        "          l2_err  log_prob  ang_errs(sum)\n",
                        "count  20.000000       0.0      20.000000\n",
                        "mean    0.005042       NaN      52.862719\n",
                        "std     0.003082       NaN      47.974155\n",
                        "min     0.001522       NaN       1.376925\n",
                        "25%     0.003256       NaN      20.149338\n",
                        "50%     0.004447       NaN      45.843350\n",
                        "75%     0.005588       NaN      68.910612\n",
                        "max     0.015398       NaN     193.866491\n",
                        "(array([], dtype=int64),)\n",
                        "[]\n",
                        "0.10074461761737363\n",
                        "(array([], dtype=int64),)\n",
                        "[]\n",
                        "0.17920111545690057\n",
                        "(array([], dtype=int64),)\n",
                        "[]\n",
                        "0.10084181209612506\n"
                    ]
                }
            ],
            "source": [
                "generate_traj_via_model(hnne=hnne, num_traj=3, model=iflow, robot=panda, traj_dir=traj_dir, enable_regenerate=True)"
            ]
        },
        {
            "cell_type": "code",
            "execution_count": null,
            "metadata": {},
            "outputs": [],
            "source": []
        }
    ],
    "metadata": {
        "kernelspec": {
            "display_name": "base",
            "language": "python",
            "name": "python3"
        },
        "language_info": {
            "codemirror_mode": {
                "name": "ipython",
                "version": 3
            },
            "file_extension": ".py",
            "mimetype": "text/x-python",
            "name": "python",
            "nbconvert_exporter": "python",
            "pygments_lexer": "ipython3",
            "version": "3.9.12"
        },
        "orig_nbformat": 4
    },
    "nbformat": 4,
    "nbformat_minor": 2
}
