{
    "cells": [
        {
            "cell_type": "code",
            "execution_count": 1,
            "metadata": {},
            "outputs": [],
            "source": [
                "# Import required packages\n",
                "from os import path \n",
                "import time\n",
                "from datetime import datetime\n",
                "import numpy as np\n",
                "import pandas as pd\n",
                "import torch\n",
                "from torch import nn, Tensor\n",
                "from torch.optim import AdamW\n",
                "from tqdm import tqdm, trange\n",
                "import zuko\n",
                "from zuko.flows import Distribution, NSF\n",
                "from zuko.distributions import DiagNormal, BoxUniform, Minimum\n",
                "from zuko.flows import DistributionModule, FlowModule, Unconditional\n",
                "from hnne import HNNE\n",
                "\n",
                "from utils.settings import config\n",
                "from utils.utils import *\n",
                "from utils.model import *\n",
                "from utils.robot import Robot"
            ]
        },
        {
            "cell_type": "code",
            "execution_count": 2,
            "metadata": {},
            "outputs": [
                {
                    "name": "stdout",
                    "output_type": "stream",
                    "text": [
                        "hnne load successfully from ./weights/panda/hnne.pickle\n",
                        "Model load successfully from ./weights/panda/nsf.pth\n"
                    ]
                }
            ],
            "source": [
                "panda = Robot(verbose=False)\n",
                "# data generation\n",
                "X, y = load_data(robot=panda, num_samples=config.num_train_size)\n",
                "# build dimension reduction model\n",
                "hnne = get_hnne_model(X, y)\n",
                "# get loader\n",
                "loader = get_loader(X, y, hnne=hnne)\n",
                "# get val loader\n",
                "val_loader = get_val_loader(robot=panda, hnne=hnne)\n",
                "# Build Generative model, NSF\n",
                "# Neural spline flow (NSF) with 3 sample features and 5 context features\n",
                "flow, optimizer, scheduler = get_flow_model()"
            ]
        },
        {
            "cell_type": "code",
            "execution_count": 3,
            "metadata": {},
            "outputs": [
                {
                    "data": {
                        "text/plain": [
                            "tensor([0.1923, 0.6574, 0.9909, 0.6380, 1.6717, 1.3232, 0.1037])"
                        ]
                    },
                    "execution_count": 3,
                    "metadata": {},
                    "output_type": "execute_result"
                }
            ],
            "source": [
                "mu = torch.randn(size=(7,))\n",
                "mu"
            ]
        },
        {
            "cell_type": "code",
            "execution_count": 4,
            "metadata": {},
            "outputs": [
                {
                    "data": {
                        "text/html": [
                            "<div>\n",
                            "<style scoped>\n",
                            "    .dataframe tbody tr th:only-of-type {\n",
                            "        vertical-align: middle;\n",
                            "    }\n",
                            "\n",
                            "    .dataframe tbody tr th {\n",
                            "        vertical-align: top;\n",
                            "    }\n",
                            "\n",
                            "    .dataframe thead th {\n",
                            "        text-align: right;\n",
                            "    }\n",
                            "</style>\n",
                            "<table border=\"1\" class=\"dataframe\">\n",
                            "  <thead>\n",
                            "    <tr style=\"text-align: right;\">\n",
                            "      <th></th>\n",
                            "      <th>l2_err</th>\n",
                            "      <th>time_diff(per 1000)</th>\n",
                            "    </tr>\n",
                            "  </thead>\n",
                            "  <tbody>\n",
                            "    <tr>\n",
                            "      <th>count</th>\n",
                            "      <td>1.000000</td>\n",
                            "      <td>1.00</td>\n",
                            "    </tr>\n",
                            "    <tr>\n",
                            "      <th>mean</th>\n",
                            "      <td>0.003971</td>\n",
                            "      <td>0.26</td>\n",
                            "    </tr>\n",
                            "    <tr>\n",
                            "      <th>std</th>\n",
                            "      <td>NaN</td>\n",
                            "      <td>NaN</td>\n",
                            "    </tr>\n",
                            "    <tr>\n",
                            "      <th>min</th>\n",
                            "      <td>0.003971</td>\n",
                            "      <td>0.26</td>\n",
                            "    </tr>\n",
                            "    <tr>\n",
                            "      <th>25%</th>\n",
                            "      <td>0.003971</td>\n",
                            "      <td>0.26</td>\n",
                            "    </tr>\n",
                            "    <tr>\n",
                            "      <th>50%</th>\n",
                            "      <td>0.003971</td>\n",
                            "      <td>0.26</td>\n",
                            "    </tr>\n",
                            "    <tr>\n",
                            "      <th>75%</th>\n",
                            "      <td>0.003971</td>\n",
                            "      <td>0.26</td>\n",
                            "    </tr>\n",
                            "    <tr>\n",
                            "      <th>max</th>\n",
                            "      <td>0.003971</td>\n",
                            "      <td>0.26</td>\n",
                            "    </tr>\n",
                            "  </tbody>\n",
                            "</table>\n",
                            "</div>"
                        ],
                        "text/plain": [
                            "         l2_err  time_diff(per 1000)\n",
                            "count  1.000000                 1.00\n",
                            "mean   0.003971                 0.26\n",
                            "std         NaN                  NaN\n",
                            "min    0.003971                 0.26\n",
                            "25%    0.003971                 0.26\n",
                            "50%    0.003971                 0.26\n",
                            "75%    0.003971                 0.26\n",
                            "max    0.003971                 0.26"
                        ]
                    },
                    "execution_count": 4,
                    "metadata": {},
                    "output_type": "execute_result"
                }
            ],
            "source": [
                "iflow = get_iflow_model(flow, init_sample=mu, shrink_ratio=0)\n",
                "df, err = test_l2_err(config, \n",
                "                      robot=panda, \n",
                "                      loader=val_loader, \n",
                "                      model=iflow, \n",
                "                      num_data=1, \n",
                "                      num_samples=1000, \n",
                "                      inference=True)\n",
                "# ax1 = df.plot.scatter(x='log_prob', y='l2_err')\n",
                "df.describe()"
            ]
        },
        {
            "cell_type": "code",
            "execution_count": 5,
            "metadata": {},
            "outputs": [
                {
                    "data": {
                        "text/html": [
                            "<div>\n",
                            "<style scoped>\n",
                            "    .dataframe tbody tr th:only-of-type {\n",
                            "        vertical-align: middle;\n",
                            "    }\n",
                            "\n",
                            "    .dataframe tbody tr th {\n",
                            "        vertical-align: top;\n",
                            "    }\n",
                            "\n",
                            "    .dataframe thead th {\n",
                            "        text-align: right;\n",
                            "    }\n",
                            "</style>\n",
                            "<table border=\"1\" class=\"dataframe\">\n",
                            "  <thead>\n",
                            "    <tr style=\"text-align: right;\">\n",
                            "      <th></th>\n",
                            "      <th>l2_err</th>\n",
                            "      <th>time_diff(per 1000)</th>\n",
                            "    </tr>\n",
                            "  </thead>\n",
                            "  <tbody>\n",
                            "    <tr>\n",
                            "      <th>count</th>\n",
                            "      <td>100.000000</td>\n",
                            "      <td>100.000000</td>\n",
                            "    </tr>\n",
                            "    <tr>\n",
                            "      <th>mean</th>\n",
                            "      <td>0.004205</td>\n",
                            "      <td>0.054300</td>\n",
                            "    </tr>\n",
                            "    <tr>\n",
                            "      <th>std</th>\n",
                            "      <td>0.003059</td>\n",
                            "      <td>0.011215</td>\n",
                            "    </tr>\n",
                            "    <tr>\n",
                            "      <th>min</th>\n",
                            "      <td>0.002082</td>\n",
                            "      <td>0.050000</td>\n",
                            "    </tr>\n",
                            "    <tr>\n",
                            "      <th>25%</th>\n",
                            "      <td>0.002687</td>\n",
                            "      <td>0.050000</td>\n",
                            "    </tr>\n",
                            "    <tr>\n",
                            "      <th>50%</th>\n",
                            "      <td>0.003515</td>\n",
                            "      <td>0.050000</td>\n",
                            "    </tr>\n",
                            "    <tr>\n",
                            "      <th>75%</th>\n",
                            "      <td>0.004399</td>\n",
                            "      <td>0.060000</td>\n",
                            "    </tr>\n",
                            "    <tr>\n",
                            "      <th>max</th>\n",
                            "      <td>0.024869</td>\n",
                            "      <td>0.150000</td>\n",
                            "    </tr>\n",
                            "  </tbody>\n",
                            "</table>\n",
                            "</div>"
                        ],
                        "text/plain": [
                            "           l2_err  time_diff(per 1000)\n",
                            "count  100.000000           100.000000\n",
                            "mean     0.004205             0.054300\n",
                            "std      0.003059             0.011215\n",
                            "min      0.002082             0.050000\n",
                            "25%      0.002687             0.050000\n",
                            "50%      0.003515             0.050000\n",
                            "75%      0.004399             0.060000\n",
                            "max      0.024869             0.150000"
                        ]
                    },
                    "execution_count": 5,
                    "metadata": {},
                    "output_type": "execute_result"
                }
            ],
            "source": [
                "df, err = test_l2_err(config, \n",
                "                      robot=panda, \n",
                "                      loader=val_loader, \n",
                "                      model=flow, \n",
                "                      num_data=100, \n",
                "                      num_samples=1000, \n",
                "                      inference=True)\n",
                "# ax1 = df.plot.scatter(x='log_prob', y='l2_err')\n",
                "df.describe()"
            ]
        },
        {
            "cell_type": "code",
            "execution_count": 6,
            "metadata": {},
            "outputs": [
                {
                    "data": {
                        "text/html": [
                            "<div>\n",
                            "<style scoped>\n",
                            "    .dataframe tbody tr th:only-of-type {\n",
                            "        vertical-align: middle;\n",
                            "    }\n",
                            "\n",
                            "    .dataframe tbody tr th {\n",
                            "        vertical-align: top;\n",
                            "    }\n",
                            "\n",
                            "    .dataframe thead th {\n",
                            "        text-align: right;\n",
                            "    }\n",
                            "</style>\n",
                            "<table border=\"1\" class=\"dataframe\">\n",
                            "  <thead>\n",
                            "    <tr style=\"text-align: right;\">\n",
                            "      <th></th>\n",
                            "      <th>l2_err</th>\n",
                            "      <th>time_diff(per 1000)</th>\n",
                            "    </tr>\n",
                            "  </thead>\n",
                            "  <tbody>\n",
                            "    <tr>\n",
                            "      <th>count</th>\n",
                            "      <td>100.000000</td>\n",
                            "      <td>100.000000</td>\n",
                            "    </tr>\n",
                            "    <tr>\n",
                            "      <th>mean</th>\n",
                            "      <td>0.003119</td>\n",
                            "      <td>0.052000</td>\n",
                            "    </tr>\n",
                            "    <tr>\n",
                            "      <th>std</th>\n",
                            "      <td>0.002933</td>\n",
                            "      <td>0.004264</td>\n",
                            "    </tr>\n",
                            "    <tr>\n",
                            "      <th>min</th>\n",
                            "      <td>0.001524</td>\n",
                            "      <td>0.050000</td>\n",
                            "    </tr>\n",
                            "    <tr>\n",
                            "      <th>25%</th>\n",
                            "      <td>0.002007</td>\n",
                            "      <td>0.050000</td>\n",
                            "    </tr>\n",
                            "    <tr>\n",
                            "      <th>50%</th>\n",
                            "      <td>0.002378</td>\n",
                            "      <td>0.050000</td>\n",
                            "    </tr>\n",
                            "    <tr>\n",
                            "      <th>75%</th>\n",
                            "      <td>0.002927</td>\n",
                            "      <td>0.050000</td>\n",
                            "    </tr>\n",
                            "    <tr>\n",
                            "      <th>max</th>\n",
                            "      <td>0.021238</td>\n",
                            "      <td>0.070000</td>\n",
                            "    </tr>\n",
                            "  </tbody>\n",
                            "</table>\n",
                            "</div>"
                        ],
                        "text/plain": [
                            "           l2_err  time_diff(per 1000)\n",
                            "count  100.000000           100.000000\n",
                            "mean     0.003119             0.052000\n",
                            "std      0.002933             0.004264\n",
                            "min      0.001524             0.050000\n",
                            "25%      0.002007             0.050000\n",
                            "50%      0.002378             0.050000\n",
                            "75%      0.002927             0.050000\n",
                            "max      0.021238             0.070000"
                        ]
                    },
                    "execution_count": 6,
                    "metadata": {},
                    "output_type": "execute_result"
                }
            ],
            "source": [
                "nflow = get_nflow_model(flow=flow)\n",
                "df, err = test_l2_err(config, \n",
                "                      robot=panda, \n",
                "                      loader=val_loader, \n",
                "                      model=nflow, \n",
                "                      num_data=100, \n",
                "                      num_samples=1000, \n",
                "                      inference=True)\n",
                "# ax1 = df.plot.scatter(x='log_prob', y='l2_err')\n",
                "df.describe()"
            ]
        },
        {
            "cell_type": "code",
            "execution_count": null,
            "metadata": {},
            "outputs": [],
            "source": [
                "traj_dir = sample_ee_traj(robot=panda, load_time='')"
            ]
        },
        {
            "cell_type": "code",
            "execution_count": null,
            "metadata": {},
            "outputs": [],
            "source": [
                "generate_traj_via_model(hnne=hnne, num_traj=3, model=nflow, robot=panda, traj_dir=traj_dir, enable_regenerate=True)"
            ]
        },
        {
            "cell_type": "code",
            "execution_count": null,
            "metadata": {},
            "outputs": [],
            "source": [
                "generate_traj_via_model(hnne=hnne, num_traj=3, model=iflow, robot=panda, traj_dir=traj_dir, enable_regenerate=True)"
            ]
        },
        {
            "cell_type": "code",
            "execution_count": null,
            "metadata": {},
            "outputs": [],
            "source": []
        }
    ],
    "metadata": {
        "kernelspec": {
            "display_name": "base",
            "language": "python",
            "name": "python3"
        },
        "language_info": {
            "codemirror_mode": {
                "name": "ipython",
                "version": 3
            },
            "file_extension": ".py",
            "mimetype": "text/x-python",
            "name": "python",
            "nbconvert_exporter": "python",
            "pygments_lexer": "ipython3",
            "version": "3.9.12"
        },
        "orig_nbformat": 4
    },
    "nbformat": 4,
    "nbformat_minor": 2
}
