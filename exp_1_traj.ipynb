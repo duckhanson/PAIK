{
    "cells": [
        {
            "cell_type": "code",
            "execution_count": 1,
            "metadata": {},
            "outputs": [],
            "source": [
                "# Import required packages\n",
                "from os import path \n",
                "import time\n",
                "from datetime import datetime\n",
                "import numpy as np\n",
                "import pandas as pd\n",
                "import torch\n",
                "from torch import nn, Tensor\n",
                "from torch.optim import AdamW\n",
                "from tqdm import tqdm, trange\n",
                "import zuko\n",
                "from zuko.flows import Distribution, NSF\n",
                "from zuko.distributions import DiagNormal, BoxUniform, Minimum\n",
                "from zuko.flows import DistributionModule, FlowModule, Unconditional\n",
                "from hnne import HNNE\n",
                "\n",
                "from utils.settings import config\n",
                "from utils.utils import *\n",
                "from utils.model import *\n",
                "from utils.robot import Robot"
            ]
        },
        {
            "cell_type": "code",
            "execution_count": 2,
            "metadata": {},
            "outputs": [
                {
                    "name": "stdout",
                    "output_type": "stream",
                    "text": [
                        "hnne load successfully from /home/luca/ikpflow/weights/panda/hnne.pickle\n",
                        "Model load successfully from /home/luca/ikpflow/weights/panda/nsf.pth\n"
                    ]
                }
            ],
            "source": [
                "panda = Robot(verbose=False)\n",
                "# data generation\n",
                "X, y = load_data(robot=panda, num_samples=config.num_train_size)\n",
                "# build dimension reduction model\n",
                "hnne = get_hnne_model(X, y)\n",
                "# get loader\n",
                "loader = get_loader(X, y, hnne=hnne)\n",
                "# get val loader\n",
                "val_loader = get_val_loader(robot=panda, hnne=hnne)\n",
                "# Build Generative model, NSF\n",
                "# Neural spline flow (NSF) with 3 sample features and 5 context features\n",
                "flow, optimizer, scheduler = get_flow_model()"
            ]
        },
        {
            "cell_type": "code",
            "execution_count": 3,
            "metadata": {},
            "outputs": [
                {
                    "data": {
                        "text/plain": [
                            "tensor([ 0.9267, -0.0254, -0.1134,  1.0052,  0.9972, -0.8964,  1.8243])"
                        ]
                    },
                    "execution_count": 3,
                    "metadata": {},
                    "output_type": "execute_result"
                }
            ],
            "source": [
                "mu = torch.randn(size=(7,))\n",
                "mu"
            ]
        },
        {
            "cell_type": "code",
            "execution_count": 16,
            "metadata": {},
            "outputs": [],
            "source": [
                "iflow = get_iflow_model(flow, init_sample=mu, shrink_ratio=0.01)\n",
                "# df, err = test_l2_err(robot=panda, \n",
                "#                       loader=val_loader, \n",
                "#                       model=iflow, \n",
                "#                       num_data=1, \n",
                "#                       num_samples=1000, \n",
                "#                       inference=True)\n",
                "# # ax1 = df.plot.scatter(x='log_prob', y='l2_err')\n",
                "# df.describe()"
            ]
        },
        {
            "cell_type": "code",
            "execution_count": 5,
            "metadata": {},
            "outputs": [],
            "source": [
                "# df, err = test_l2_err(robot=panda, \n",
                "#                       loader=val_loader, \n",
                "#                       model=flow, \n",
                "#                       num_data=100, \n",
                "#                       num_samples=1000, \n",
                "#                       inference=True)\n",
                "# ax1 = df.plot.scatter(x='log_prob', y='l2_err')\n",
                "# df.describe()"
            ]
        },
        {
            "cell_type": "code",
            "execution_count": 6,
            "metadata": {},
            "outputs": [],
            "source": [
                "nflow = get_nflow_model(flow=flow)\n",
                "# df, err = test_l2_err(robot=panda, \n",
                "#                       loader=val_loader, \n",
                "#                       model=nflow, \n",
                "#                       num_data=100, \n",
                "#                       num_samples=1000, \n",
                "#                       inference=True)\n",
                "# # ax1 = df.plot.scatter(x='log_prob', y='l2_err')\n",
                "# df.describe()"
            ]
        },
        {
            "cell_type": "code",
            "execution_count": 7,
            "metadata": {},
            "outputs": [
                {
                    "name": "stdout",
                    "output_type": "stream",
                    "text": [
                        "31928526\n"
                    ]
                }
            ],
            "source": [
                "total_params = sum(\n",
                "\tparam.numel() for param in flow.parameters()\n",
                ")\n",
                "print(total_params)"
            ]
        },
        {
            "cell_type": "code",
            "execution_count": 18,
            "metadata": {},
            "outputs": [
                {
                    "name": "stdout",
                    "output_type": "stream",
                    "text": [
                        "mkdir /home/luca/ikpflow/data/panda/trajectory/0710013602\n",
                        "/home/luca/ikpflow/data/panda/trajectory/0710013602/ load successfully.\n"
                    ]
                }
            ],
            "source": [
                "traj_dir = sample_ee_traj(robot=panda, load_time='')"
            ]
        },
        {
            "cell_type": "code",
            "execution_count": 11,
            "metadata": {},
            "outputs": [],
            "source": [
                "# generate_traj_via_model(hnne=hnne, num_traj=3, model=nflow, robot=panda, traj_dir=traj_dir, enable_regenerate=True)"
            ]
        },
        {
            "cell_type": "code",
            "execution_count": 21,
            "metadata": {},
            "outputs": [
                {
                    "name": "stdout",
                    "output_type": "stream",
                    "text": [
                        "[[-1.20496055 -0.53399416 -0.77719017  0.07978494]\n",
                        " [-1.20496055 -0.53399416 -0.77719017  0.07978494]\n",
                        " [-0.59070492 -0.15764597  0.18517167 -0.45069594]]\n",
                        "          l2_err   log_prob  ang_errs(sum)\n",
                        "count  20.000000  20.000000      20.000000\n",
                        "mean    0.002378 -42.023571      13.606661\n",
                        "std     0.001347   2.514380      10.724709\n",
                        "min     0.000543 -45.375336       1.641745\n",
                        "25%     0.001347 -43.609903       4.233523\n",
                        "50%     0.002159 -42.818270      11.861476\n",
                        "75%     0.002819 -40.901116      19.000035\n",
                        "max     0.005865 -35.047337      38.152351\n",
                        "          l2_err   log_prob  ang_errs(sum)\n",
                        "count  20.000000  20.000000      20.000000\n",
                        "mean    0.002389 -42.843613      13.490562\n",
                        "std     0.001345   1.978864      10.299752\n",
                        "min     0.000708 -45.219070       1.077927\n",
                        "25%     0.001629 -43.931144       5.528476\n",
                        "50%     0.001937 -43.214842      11.719595\n",
                        "75%     0.002826 -42.470798      18.084763\n",
                        "max     0.005826 -38.008644      37.043166\n",
                        "          l2_err   log_prob  ang_errs(sum)\n",
                        "count  20.000000  20.000000      20.000000\n",
                        "mean    0.005845 -40.593074      24.865996\n",
                        "std     0.007897   1.699616      24.460152\n",
                        "min     0.000551 -42.759628       3.855249\n",
                        "25%     0.001609 -41.930527       6.528819\n",
                        "50%     0.002583 -40.918016      24.268476\n",
                        "75%     0.003638 -38.881734      29.603897\n",
                        "max     0.028140 -37.508335     114.586744\n",
                        "[[-0.6163179   0.37275746  0.35756952 -0.40655398 -0.23797333  1.2433883\n",
                        "  -0.28608072]\n",
                        " [-0.6093012   0.37097272  0.34533173 -0.4093004  -0.2366978   1.2446786\n",
                        "  -0.2927342 ]\n",
                        " [-0.60832316  0.37719327  0.35445037 -0.40241003 -0.23716044  1.2422128\n",
                        "  -0.29525197]\n",
                        " [-0.60755503  0.3764047   0.3643508  -0.4154927  -0.2283616   1.247959\n",
                        "  -0.29273528]\n",
                        " [-0.60946786  0.38149774  0.3995655  -0.43124032 -0.22664821  1.2518271\n",
                        "  -0.29546583]\n",
                        " [-0.6085967   0.38877782  0.42893222 -0.46018827 -0.19623554  1.2571414\n",
                        "  -0.27886283]\n",
                        " [-0.5690425   0.39500004  0.42437303 -0.50737494 -0.18121433  1.2592028\n",
                        "  -0.26717985]\n",
                        " [-0.50898665  0.41667432  0.41461083 -0.55775744 -0.14600742  1.2534981\n",
                        "  -0.27477455]\n",
                        " [-0.41056168  0.45153594  0.39250362 -0.61183995 -0.1258229   1.2360337\n",
                        "  -0.2917565 ]\n",
                        " [-0.3203277   0.49210775  0.44800296 -0.69327325 -0.12807369  1.2226801\n",
                        "  -0.2693069 ]\n",
                        " [-0.3145784   0.5292112   0.60674495 -0.82707196 -0.09116542  1.2470773\n",
                        "  -0.28168333]\n",
                        " [-0.32258898  0.5749447   0.8034     -1.0002586  -0.0934999   1.3196639\n",
                        "  -0.3113563 ]\n",
                        " [-0.2312969   0.5621879   0.85020006 -1.1803184  -0.10435891  1.428086\n",
                        "  -0.34346747]\n",
                        " [-0.1945275   0.51477796  0.89275694 -1.3998122  -0.01724626  1.6213937\n",
                        "  -0.30423373]\n",
                        " [-0.11479115  0.5363712   0.9128036  -1.4840958   0.06822713  1.6905297\n",
                        "  -0.21553898]\n",
                        " [-0.03475447  0.54993427  0.9124675  -1.5384767   0.12490143  1.7385538\n",
                        "  -0.17178273]\n",
                        " [-0.00323613  0.5707041   0.9420954  -1.5829926   0.16307229  1.7835054\n",
                        "  -0.15767479]\n",
                        " [ 0.02207529  0.5632571   0.93951327 -1.6255205   0.21454741  1.8296432\n",
                        "  -0.15796268]\n",
                        " [ 0.04983246  0.57212657  0.92781043 -1.6182516   0.22241852  1.8190478\n",
                        "  -0.15560246]\n",
                        " [ 0.04460996  0.5822261   0.937839   -1.6165819   0.22248212  1.816888\n",
                        "  -0.15656078]]\n",
                        "[[-0.6107459   0.37141967  0.34614223 -0.40789014 -0.23572671  1.2440151\n",
                        "  -0.29182845]\n",
                        " [-0.61302835  0.37028384  0.34907955 -0.4108616  -0.2335217   1.2454357\n",
                        "  -0.28596777]\n",
                        " [-0.6027494   0.37489185  0.34331104 -0.40572143 -0.2358787   1.243638\n",
                        "  -0.29390597]\n",
                        " [-0.61126727  0.37991065  0.37407717 -0.4099843  -0.23060155  1.2455738\n",
                        "  -0.29824382]\n",
                        " [-0.6074653   0.3805812   0.39566103 -0.4326275  -0.22631288  1.2524569\n",
                        "  -0.2870044 ]\n",
                        " [-0.6014339   0.38146636  0.41931844 -0.47224313 -0.20712233  1.2618353\n",
                        "  -0.28081316]\n",
                        " [-0.57167804  0.39005488  0.4191887  -0.5160793  -0.1727413   1.263746\n",
                        "  -0.27345634]\n",
                        " [-0.50131816  0.41341388  0.40331483 -0.56158257 -0.14806032  1.2554566\n",
                        "  -0.2724291 ]\n",
                        " [-0.41668403  0.4519865   0.4005646  -0.6129599  -0.12440324  1.2367296\n",
                        "  -0.29508436]\n",
                        " [-0.3249035   0.48947442  0.45087117 -0.698653   -0.12415409  1.2261872\n",
                        "  -0.28078806]\n",
                        " [-0.3163576   0.5343167   0.6141705  -0.82054454 -0.0962981   1.242282\n",
                        "  -0.27808   ]\n",
                        " [-0.31740147  0.58174074  0.80206895 -0.98858804 -0.09557033  1.3099539\n",
                        "  -0.3175565 ]\n",
                        " [-0.2268436   0.56314045  0.84571314 -1.1764028  -0.10385573  1.4243433\n",
                        "  -0.33845836]\n",
                        " [-0.19010103  0.5194013   0.8893913  -1.3920655  -0.0153045   1.6129738\n",
                        "  -0.30893743]\n",
                        " [-0.11850381  0.55017984  0.9206853  -1.4733636   0.06718379  1.6781727\n",
                        "  -0.20712769]\n",
                        " [-0.0457865   0.5606561   0.9278522  -1.5348108   0.11855605  1.7345961\n",
                        "  -0.17429209]\n",
                        " [ 0.00419384  0.56736314  0.92920625 -1.5808649   0.17725742  1.7799009\n",
                        "  -0.16239643]\n",
                        " [ 0.02610028  0.5785265   0.9408688  -1.6083338   0.20788838  1.8088409\n",
                        "  -0.15697575]\n",
                        " [ 0.04377936  0.56346864  0.92938524 -1.6316988   0.23437929  1.8343871\n",
                        "  -0.15620148]\n",
                        " [ 0.04957289  0.5777565   0.93241036 -1.6166109   0.22092003  1.817123\n",
                        "  -0.15752888]]\n",
                        "[[-0.55262566  0.37976682  0.7673176  -0.8942784  -1.7343111   1.058842\n",
                        "   1.19349   ]\n",
                        " [-0.5583568   0.37462693  0.7644964  -0.9260576  -1.7603245   1.0564134\n",
                        "   1.1838102 ]\n",
                        " [-0.54811937  0.37914017  0.7637403  -0.9054712  -1.7396708   1.0600638\n",
                        "   1.191941  ]\n",
                        " [-0.54944634  0.36802286  0.76214904 -0.9363427  -1.7294099   1.0738299\n",
                        "   1.1745865 ]\n",
                        " [-0.54469997  0.3620494   0.7645899  -0.97702295 -1.7299384   1.0830195\n",
                        "   1.1783143 ]\n",
                        " [-0.5472954   0.32652742  0.75665796 -1.064353   -1.6840389   1.1311357\n",
                        "   1.1178946 ]\n",
                        " [-0.5525827   0.2856552   0.7653178  -1.1970671  -1.6692758   1.1855052\n",
                        "   1.1152893 ]\n",
                        " [-0.5836224   0.21421558  0.7940266  -1.3218342  -1.5085051   1.343072\n",
                        "   1.1485502 ]\n",
                        " [-0.5940659   0.16475405  0.8138528  -1.3755056  -1.2153631   1.5252783\n",
                        "   1.0572628 ]\n",
                        " [-0.6716927   0.10388178  0.9340673  -1.5664461  -1.1387126   1.7307507\n",
                        "   1.0432233 ]\n",
                        " [-0.6542511   0.10473724  1.0530615  -1.7254187  -1.2168703   1.8342042\n",
                        "   1.0866935 ]\n",
                        " [-0.64371485  0.12108511  1.183828   -1.8483588  -1.2622662   1.934959\n",
                        "   1.1088943 ]\n",
                        " [-0.58982563  0.14393862  1.2722695  -1.9428028  -1.2722127   2.0447211\n",
                        "   1.1586604 ]\n",
                        " [-0.55179226  0.18764421  1.3449965  -1.9986463  -1.1941737   2.1686475\n",
                        "   1.2615178 ]\n",
                        " [-0.5571207   0.24203318  1.4330068  -2.0706286  -1.1941513   2.325954\n",
                        "   1.3025055 ]\n",
                        " [-0.4853059   0.20192242  1.3853018  -2.141007   -1.1908987   2.5605268\n",
                        "   1.3282983 ]\n",
                        " [-1.1140282  -0.05120122  2.0263324  -2.1852007  -1.228078    2.760692\n",
                        "   1.5237997 ]\n",
                        " [-1.0519022  -0.0427649   2.0080419  -2.186912   -1.253568    2.7600918\n",
                        "   1.5214758 ]\n",
                        " [-1.1507816  -0.08805692  2.1211085  -2.1872597  -1.2561479   2.766584\n",
                        "   1.5505704 ]\n",
                        " [-1.1738672  -0.06653631  2.1541035  -2.1875505  -1.2506967   2.7657375\n",
                        "   1.5358973 ]]\n"
                    ]
                }
            ],
            "source": [
                "generate_traj_via_model(hnne=hnne, num_traj=3, model=iflow, robot=panda, traj_dir=traj_dir, enable_regenerate=True)"
            ]
        },
        {
            "cell_type": "code",
            "execution_count": 22,
            "metadata": {},
            "outputs": [
                {
                    "name": "stdout",
                    "output_type": "stream",
                    "text": [
                        "config.py: Using device 'cuda:0'\n"
                    ]
                }
            ],
            "source": [
                "from ikflow.utils import set_seed\n",
                "from ikflow.model_loading import get_ik_solver"
            ]
        },
        {
            "cell_type": "code",
            "execution_count": null,
            "metadata": {},
            "outputs": [],
            "source": [
                "file_names = ['ang_errs_avg', 'ang_errs_min', 'F_avg', 'F_min', 'ikflow_ang', 'ikflow_l2', 'l2_errs_avg', 'l2_errs_min', 'n_evals']\n",
                "exp_5_fig_dir = config.traj_dir + f'figs/exp_5_{datetime.now().strftime(\"%m%d%H%M\")}/'\n",
                "if not os.path.exists(path=exp_5_fig_dir):\n",
                "    os.makedirs(exp_5_fig_dir)\n",
                "set_seed()\n",
                "num_trails = 100\n",
                "num_generation = 100\n",
                "num_ikflow_trails = num_generation\n",
                "num_solutions = 500\n",
                "# Build IKFlowSolver and set weights\n",
                "ik_solver, hyper_parameters = get_ik_solver(\"panda__full__lp191_5.25m\")\n",
                "robot = ik_solver.robot\n",
                "panda = Robot(verbose=False)"
            ]
        },
        {
            "cell_type": "code",
            "execution_count": null,
            "metadata": {},
            "outputs": [],
            "source": [
                "ee_traj = load_numpy(file_path=traj_dir + 'ee_traj.npy')\n",
                "traj_dir, target_poses = get_target_poses(robot=panda)\n",
                "exp_dir = traj_dir + f'exp_5_single_obj/'\n",
                "data = {fn: [] for fn in file_names}\n",
                "\n",
                "# -> unrefined solutions\n",
                "l2_errs = np.zeros((num_ikflow_trails,))\n",
                "ang_errs = np.zeros((num_ikflow_trails,))\n",
                "for ikflow_i in range(num_ikflow_trails):\n",
                "    solutions, l2_err, _, _, _, _ = ik_solver.solve_n_poses(\n",
                "        target_poses, \n",
                "        refine_solutions=False, \n",
                "        return_detailed=True)\n",
                "\n",
                "    iksols = solutions.detach().cpu().numpy()\n",
                "    df = qtraj_evaluation(robot=panda, qs=iksols, l2_errs=l2_err)\n",
                "    l2_errs[ikflow_i], ang_errs[ikflow_i] = df.mean().values\n",
                "data['ikflow_l2'] = l2_errs\n",
                "data['ikflow_ang'] = ang_errs    \n"
            ]
        }
    ],
    "metadata": {
        "kernelspec": {
            "display_name": "base",
            "language": "python",
            "name": "python3"
        },
        "language_info": {
            "codemirror_mode": {
                "name": "ipython",
                "version": 3
            },
            "file_extension": ".py",
            "mimetype": "text/x-python",
            "name": "python",
            "nbconvert_exporter": "python",
            "pygments_lexer": "ipython3",
            "version": "3.9.12"
        },
        "orig_nbformat": 4
    },
    "nbformat": 4,
    "nbformat_minor": 2
}
