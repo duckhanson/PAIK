{
 "cells": [
  {
   "cell_type": "code",
   "execution_count": 1,
   "metadata": {},
   "outputs": [],
   "source": [
    "# Import required packages\n",
    "from os import path \n",
    "import time\n",
    "from datetime import datetime\n",
    "import numpy as np\n",
    "import pandas as pd\n",
    "import torch\n",
    "from torch import nn, Tensor\n",
    "from torch.optim import AdamW\n",
    "from tqdm import tqdm, trange\n",
    "import zuko\n",
    "from zuko.flows import Distribution, NSF\n",
    "from zuko.distributions import DiagNormal, BoxUniform, Minimum\n",
    "from zuko.flows import DistributionModule, FlowModule, Unconditional\n",
    "from hnne import HNNE\n",
    "\n",
    "from utils.settings import config\n",
    "from utils.utils import *\n",
    "from utils.model import *\n",
    "from utils.robot import Robot"
   ]
  },
  {
   "cell_type": "code",
   "execution_count": 2,
   "metadata": {},
   "outputs": [
    {
     "name": "stdout",
     "output_type": "stream",
     "text": [
      "hnne load successfully from ./weights/panda/hnne.pickle\n",
      "Model load successfully from ./weights/panda/nsf.pth\n"
     ]
    }
   ],
   "source": [
    "panda = Robot(verbose=False)\n",
    "# data generation\n",
    "X, y = load_data(robot=panda)\n",
    "# build dimension reduction model\n",
    "hnne, ds, loader = get_hnne_model(X, y)\n",
    "# Build Generative model, NSF\n",
    "# Neural spline flow (NSF) with 3 sample features and 5 context features\n",
    "flow, optimizer, scheduler = get_flow_model()"
   ]
  },
  {
   "cell_type": "code",
   "execution_count": 3,
   "metadata": {},
   "outputs": [
    {
     "data": {
      "text/plain": [
       "tensor([ 1.6594, -0.6866, -0.4550, -0.0094,  0.2435, -0.0994, -0.0403])"
      ]
     },
     "execution_count": 3,
     "metadata": {},
     "output_type": "execute_result"
    }
   ],
   "source": [
    "mu = torch.randn(size=(7,))\n",
    "mu"
   ]
  },
  {
   "cell_type": "code",
   "execution_count": 4,
   "metadata": {},
   "outputs": [
    {
     "data": {
      "text/html": [
       "<div>\n",
       "<style scoped>\n",
       "    .dataframe tbody tr th:only-of-type {\n",
       "        vertical-align: middle;\n",
       "    }\n",
       "\n",
       "    .dataframe tbody tr th {\n",
       "        vertical-align: top;\n",
       "    }\n",
       "\n",
       "    .dataframe thead th {\n",
       "        text-align: right;\n",
       "    }\n",
       "</style>\n",
       "<table border=\"1\" class=\"dataframe\">\n",
       "  <thead>\n",
       "    <tr style=\"text-align: right;\">\n",
       "      <th></th>\n",
       "      <th>l2_err</th>\n",
       "      <th>time_diff(per 1000)</th>\n",
       "    </tr>\n",
       "  </thead>\n",
       "  <tbody>\n",
       "    <tr>\n",
       "      <th>count</th>\n",
       "      <td>1.000000</td>\n",
       "      <td>1.00</td>\n",
       "    </tr>\n",
       "    <tr>\n",
       "      <th>mean</th>\n",
       "      <td>0.000682</td>\n",
       "      <td>0.23</td>\n",
       "    </tr>\n",
       "    <tr>\n",
       "      <th>std</th>\n",
       "      <td>NaN</td>\n",
       "      <td>NaN</td>\n",
       "    </tr>\n",
       "    <tr>\n",
       "      <th>min</th>\n",
       "      <td>0.000682</td>\n",
       "      <td>0.23</td>\n",
       "    </tr>\n",
       "    <tr>\n",
       "      <th>25%</th>\n",
       "      <td>0.000682</td>\n",
       "      <td>0.23</td>\n",
       "    </tr>\n",
       "    <tr>\n",
       "      <th>50%</th>\n",
       "      <td>0.000682</td>\n",
       "      <td>0.23</td>\n",
       "    </tr>\n",
       "    <tr>\n",
       "      <th>75%</th>\n",
       "      <td>0.000682</td>\n",
       "      <td>0.23</td>\n",
       "    </tr>\n",
       "    <tr>\n",
       "      <th>max</th>\n",
       "      <td>0.000682</td>\n",
       "      <td>0.23</td>\n",
       "    </tr>\n",
       "  </tbody>\n",
       "</table>\n",
       "</div>"
      ],
      "text/plain": [
       "         l2_err  time_diff(per 1000)\n",
       "count  1.000000                 1.00\n",
       "mean   0.000682                 0.23\n",
       "std         NaN                  NaN\n",
       "min    0.000682                 0.23\n",
       "25%    0.000682                 0.23\n",
       "50%    0.000682                 0.23\n",
       "75%    0.000682                 0.23\n",
       "max    0.000682                 0.23"
      ]
     },
     "execution_count": 4,
     "metadata": {},
     "output_type": "execute_result"
    }
   ],
   "source": [
    "iflow = get_iflow_model(flow, init_sample=mu, shrink_ratio=0)\n",
    "df, err = test_l2_err(config, \n",
    "                      robot=panda, \n",
    "                      loader=loader, \n",
    "                      model=iflow, \n",
    "                      num_data=1, \n",
    "                      num_samples=1000, \n",
    "                      inference=True)\n",
    "# ax1 = df.plot.scatter(x='log_prob', y='l2_err')\n",
    "df.describe()"
   ]
  },
  {
   "cell_type": "code",
   "execution_count": 5,
   "metadata": {},
   "outputs": [
    {
     "data": {
      "text/html": [
       "<div>\n",
       "<style scoped>\n",
       "    .dataframe tbody tr th:only-of-type {\n",
       "        vertical-align: middle;\n",
       "    }\n",
       "\n",
       "    .dataframe tbody tr th {\n",
       "        vertical-align: top;\n",
       "    }\n",
       "\n",
       "    .dataframe thead th {\n",
       "        text-align: right;\n",
       "    }\n",
       "</style>\n",
       "<table border=\"1\" class=\"dataframe\">\n",
       "  <thead>\n",
       "    <tr style=\"text-align: right;\">\n",
       "      <th></th>\n",
       "      <th>l2_err</th>\n",
       "      <th>time_diff(per 1000)</th>\n",
       "    </tr>\n",
       "  </thead>\n",
       "  <tbody>\n",
       "    <tr>\n",
       "      <th>count</th>\n",
       "      <td>100.000000</td>\n",
       "      <td>100.000000</td>\n",
       "    </tr>\n",
       "    <tr>\n",
       "      <th>mean</th>\n",
       "      <td>0.007491</td>\n",
       "      <td>0.061400</td>\n",
       "    </tr>\n",
       "    <tr>\n",
       "      <th>std</th>\n",
       "      <td>0.005600</td>\n",
       "      <td>0.004269</td>\n",
       "    </tr>\n",
       "    <tr>\n",
       "      <th>min</th>\n",
       "      <td>0.003665</td>\n",
       "      <td>0.060000</td>\n",
       "    </tr>\n",
       "    <tr>\n",
       "      <th>25%</th>\n",
       "      <td>0.005048</td>\n",
       "      <td>0.060000</td>\n",
       "    </tr>\n",
       "    <tr>\n",
       "      <th>50%</th>\n",
       "      <td>0.005811</td>\n",
       "      <td>0.060000</td>\n",
       "    </tr>\n",
       "    <tr>\n",
       "      <th>75%</th>\n",
       "      <td>0.007762</td>\n",
       "      <td>0.060000</td>\n",
       "    </tr>\n",
       "    <tr>\n",
       "      <th>max</th>\n",
       "      <td>0.045556</td>\n",
       "      <td>0.090000</td>\n",
       "    </tr>\n",
       "  </tbody>\n",
       "</table>\n",
       "</div>"
      ],
      "text/plain": [
       "           l2_err  time_diff(per 1000)\n",
       "count  100.000000           100.000000\n",
       "mean     0.007491             0.061400\n",
       "std      0.005600             0.004269\n",
       "min      0.003665             0.060000\n",
       "25%      0.005048             0.060000\n",
       "50%      0.005811             0.060000\n",
       "75%      0.007762             0.060000\n",
       "max      0.045556             0.090000"
      ]
     },
     "execution_count": 5,
     "metadata": {},
     "output_type": "execute_result"
    }
   ],
   "source": [
    "df, err = test_l2_err(config, \n",
    "                      robot=panda, \n",
    "                      loader=loader, \n",
    "                      model=flow, \n",
    "                      num_data=100, \n",
    "                      num_samples=1000, \n",
    "                      inference=True)\n",
    "# ax1 = df.plot.scatter(x='log_prob', y='l2_err')\n",
    "df.describe()"
   ]
  },
  {
   "cell_type": "code",
   "execution_count": 6,
   "metadata": {},
   "outputs": [
    {
     "data": {
      "text/html": [
       "<div>\n",
       "<style scoped>\n",
       "    .dataframe tbody tr th:only-of-type {\n",
       "        vertical-align: middle;\n",
       "    }\n",
       "\n",
       "    .dataframe tbody tr th {\n",
       "        vertical-align: top;\n",
       "    }\n",
       "\n",
       "    .dataframe thead th {\n",
       "        text-align: right;\n",
       "    }\n",
       "</style>\n",
       "<table border=\"1\" class=\"dataframe\">\n",
       "  <thead>\n",
       "    <tr style=\"text-align: right;\">\n",
       "      <th></th>\n",
       "      <th>l2_err</th>\n",
       "      <th>time_diff(per 1000)</th>\n",
       "    </tr>\n",
       "  </thead>\n",
       "  <tbody>\n",
       "    <tr>\n",
       "      <th>count</th>\n",
       "      <td>100.000000</td>\n",
       "      <td>100.000000</td>\n",
       "    </tr>\n",
       "    <tr>\n",
       "      <th>mean</th>\n",
       "      <td>0.005104</td>\n",
       "      <td>0.061700</td>\n",
       "    </tr>\n",
       "    <tr>\n",
       "      <th>std</th>\n",
       "      <td>0.003237</td>\n",
       "      <td>0.004034</td>\n",
       "    </tr>\n",
       "    <tr>\n",
       "      <th>min</th>\n",
       "      <td>0.002405</td>\n",
       "      <td>0.060000</td>\n",
       "    </tr>\n",
       "    <tr>\n",
       "      <th>25%</th>\n",
       "      <td>0.003682</td>\n",
       "      <td>0.060000</td>\n",
       "    </tr>\n",
       "    <tr>\n",
       "      <th>50%</th>\n",
       "      <td>0.004626</td>\n",
       "      <td>0.060000</td>\n",
       "    </tr>\n",
       "    <tr>\n",
       "      <th>75%</th>\n",
       "      <td>0.005526</td>\n",
       "      <td>0.060000</td>\n",
       "    </tr>\n",
       "    <tr>\n",
       "      <th>max</th>\n",
       "      <td>0.031924</td>\n",
       "      <td>0.080000</td>\n",
       "    </tr>\n",
       "  </tbody>\n",
       "</table>\n",
       "</div>"
      ],
      "text/plain": [
       "           l2_err  time_diff(per 1000)\n",
       "count  100.000000           100.000000\n",
       "mean     0.005104             0.061700\n",
       "std      0.003237             0.004034\n",
       "min      0.002405             0.060000\n",
       "25%      0.003682             0.060000\n",
       "50%      0.004626             0.060000\n",
       "75%      0.005526             0.060000\n",
       "max      0.031924             0.080000"
      ]
     },
     "execution_count": 6,
     "metadata": {},
     "output_type": "execute_result"
    }
   ],
   "source": [
    "nflow = get_nflow_model(flow=flow)\n",
    "df, err = test_l2_err(config, \n",
    "                      robot=panda, \n",
    "                      loader=loader, \n",
    "                      model=nflow, \n",
    "                      num_data=100, \n",
    "                      num_samples=1000, \n",
    "                      inference=True)\n",
    "# ax1 = df.plot.scatter(x='log_prob', y='l2_err')\n",
    "df.describe()"
   ]
  },
  {
   "cell_type": "code",
   "execution_count": 7,
   "metadata": {},
   "outputs": [
    {
     "name": "stderr",
     "output_type": "stream",
     "text": [
      "100%|██████████| 20/20 [00:00<00:00, 11908.87it/s]"
     ]
    },
    {
     "name": "stdout",
     "output_type": "stream",
     "text": [
      "mkdir ./data/panda/trajectory/05270002\n",
      "./data/panda/trajectory/05270002/ load successfully.\n"
     ]
    },
    {
     "name": "stderr",
     "output_type": "stream",
     "text": [
      "\n"
     ]
    }
   ],
   "source": [
    "traj_dir = sample_ee_traj(robot=panda, load_time='')"
   ]
  },
  {
   "cell_type": "code",
   "execution_count": 17,
   "metadata": {},
   "outputs": [
    {
     "name": "stdout",
     "output_type": "stream",
     "text": [
      "[[ 0.15556125 -0.153328    0.93654864  0.54758967]\n",
      " [-0.31405448  0.11573337  0.05309009 -0.26536473]\n",
      " [ 0.15558422 -0.15335853  0.93653168  0.54757972]]\n",
      "          l2_err   log_prob  ang_errs(sum)\n",
      "count  20.000000  20.000000      20.000000\n",
      "mean    0.015611 -13.576136     109.203966\n",
      "std     0.040748   1.766252      59.970886\n",
      "min     0.000894 -14.990849      14.934485\n",
      "25%     0.002558 -14.512943      58.277267\n",
      "50%     0.004321 -14.093352      96.973089\n",
      "75%     0.005977 -13.615041     154.681406\n",
      "max     0.180599  -7.551800     253.159541\n",
      "          l2_err   log_prob  ang_errs(sum)\n",
      "count  20.000000  20.000000      20.000000\n",
      "mean    0.003897 -14.639510      42.840789\n",
      "std     0.001393   0.596778      30.498264\n",
      "min     0.002122 -15.776011       1.308722\n",
      "25%     0.002996 -15.025955      20.224026\n",
      "50%     0.003446 -14.684079      35.578676\n",
      "75%     0.004612 -14.271796      61.051255\n",
      "max     0.007517 -13.456232     131.438494\n",
      "          l2_err   log_prob  ang_errs(sum)\n",
      "count  20.000000  20.000000      20.000000\n",
      "mean    0.003395 -14.037376      71.134169\n",
      "std     0.001732   1.031422      55.749534\n",
      "min     0.000981 -15.144537       7.747642\n",
      "25%     0.002151 -14.590351      36.672933\n",
      "50%     0.003004 -14.180552      55.640871\n",
      "75%     0.003949 -13.857142      91.022362\n",
      "max     0.007152 -10.344684     215.207240\n",
      "(array([0, 2]),)\n",
      "[0.05845455 0.18059901]\n",
      "0.3122179509697683\n",
      "(array([], dtype=int64),)\n",
      "[]\n",
      "0.0779385379026048\n",
      "(array([], dtype=int64),)\n",
      "[]\n",
      "0.06790453452304791\n"
     ]
    }
   ],
   "source": [
    "generate_traj_via_model(hnne=hnne, num_traj=3, model=nflow, robot=panda, traj_dir=traj_dir, enable_regenerate=True)"
   ]
  },
  {
   "cell_type": "code",
   "execution_count": 18,
   "metadata": {},
   "outputs": [
    {
     "name": "stdout",
     "output_type": "stream",
     "text": [
      "[[ 0.15621272 -0.15448435  0.93693022  0.54855924]\n",
      " [-0.51362493 -0.15450349  0.31226371 -0.43338048]\n",
      " [-0.31405745  0.11573153  0.05308288 -0.265363  ]]\n",
      "          l2_err  log_prob  ang_errs(sum)\n",
      "count  20.000000       0.0      20.000000\n",
      "mean    0.003677       NaN      19.219002\n",
      "std     0.002013       NaN      18.285670\n",
      "min     0.001140       NaN       0.168251\n",
      "25%     0.002270       NaN       1.849405\n",
      "50%     0.003396       NaN      15.588828\n",
      "75%     0.004468       NaN      29.328557\n",
      "max     0.008090       NaN      63.307452\n",
      "          l2_err  log_prob  ang_errs(sum)\n",
      "count  20.000000       0.0      20.000000\n",
      "mean    0.003840       NaN      10.774111\n",
      "std     0.002419       NaN      10.340183\n",
      "min     0.000780       NaN       0.017562\n",
      "25%     0.001443       NaN       2.832153\n",
      "50%     0.004068       NaN       9.472603\n",
      "75%     0.006057       NaN      13.851911\n",
      "max     0.007734       NaN      36.032974\n",
      "          l2_err  log_prob  ang_errs(sum)\n",
      "count  20.000000       0.0      20.000000\n",
      "mean    0.006547       NaN      19.740704\n",
      "std     0.004904       NaN      23.756147\n",
      "min     0.000903       NaN       0.174436\n",
      "25%     0.003680       NaN       3.249538\n",
      "50%     0.004834       NaN      16.452158\n",
      "75%     0.007120       NaN      21.182202\n",
      "max     0.018163       NaN     103.121103\n",
      "(array([], dtype=int64),)\n",
      "[]\n",
      "0.07353566318060886\n",
      "(array([], dtype=int64),)\n",
      "[]\n",
      "0.07679837926381357\n",
      "(array([], dtype=int64),)\n",
      "[]\n",
      "0.1309458569216047\n"
     ]
    }
   ],
   "source": [
    "generate_traj_via_model(hnne=hnne, num_traj=3, model=iflow, robot=panda, traj_dir=traj_dir, enable_regenerate=True)"
   ]
  },
  {
   "cell_type": "code",
   "execution_count": null,
   "metadata": {},
   "outputs": [],
   "source": []
  }
 ],
 "metadata": {
  "kernelspec": {
   "display_name": "base",
   "language": "python",
   "name": "python3"
  },
  "language_info": {
   "codemirror_mode": {
    "name": "ipython",
    "version": 3
   },
   "file_extension": ".py",
   "mimetype": "text/x-python",
   "name": "python",
   "nbconvert_exporter": "python",
   "pygments_lexer": "ipython3",
   "version": "3.9.12"
  },
  "orig_nbformat": 4
 },
 "nbformat": 4,
 "nbformat_minor": 2
}
