{
 "cells": [
  {
   "cell_type": "code",
   "execution_count": null,
   "metadata": {},
   "outputs": [],
   "source": [
    "# Import required packages\n",
    "from os import path \n",
    "import time\n",
    "import numpy as np\n",
    "import pandas as pd\n",
    "import torch\n",
    "from torch import nn, Tensor\n",
    "from torch.optim import AdamW\n",
    "from tqdm import tqdm, trange\n",
    "import zuko\n",
    "from zuko.flows import Distribution, NSF\n",
    "from zuko.distributions import DiagNormal, BoxUniform, Minimum\n",
    "from zuko.flows import DistributionModule, FlowModule, Unconditional\n",
    "from hnne import HNNE\n",
    "\n",
    "from utils.settings import config\n",
    "from utils.utils import *\n",
    "from utils.model import *\n",
    "from utils.robot import Robot\n",
    "from utils.dataset import create_dataset"
   ]
  },
  {
   "cell_type": "code",
   "execution_count": null,
   "metadata": {},
   "outputs": [],
   "source": [
    "panda = Robot(verbose=False)\n",
    "# data generation\n",
    "X, y = load_data(robot=panda, num_samples=250_0000)\n",
    "# build dimension reduction model\n",
    "hnne, ds, loader = get_hnne_model(X, y)\n",
    "# Build Generative model, NSF\n",
    "# Neural spline flow (NSF) with 3 sample features and 5 context features\n",
    "flow, optimizer = get_flow_model()"
   ]
  },
  {
   "cell_type": "code",
   "execution_count": null,
   "metadata": {},
   "outputs": [],
   "source": [
    "df, err = test_l2_err(config, robot=panda, loader=loader, model=flow)\n",
    "ax1 = df.plot.scatter(x='log_prob', y='l2_err')\n",
    "df.describe()"
   ]
  },
  {
   "cell_type": "code",
   "execution_count": null,
   "metadata": {},
   "outputs": [],
   "source": [
    "nflow = get_nflow_model(flow=flow)\n",
    "df, err = test_l2_err(config, robot=panda, loader=loader, model=nflow)\n",
    "ax1 = df.plot.scatter(x='log_prob', y='l2_err')\n",
    "df.describe()"
   ]
  },
  {
   "cell_type": "code",
   "execution_count": null,
   "metadata": {},
   "outputs": [],
   "source": [
    "if path.exists(path=config.ee_traj_path):\n",
    "    ee_traj = load_numpy(file_path=config.ee_traj_path)\n",
    "    q_traj = load_numpy(file_path=config.q_traj_path)\n",
    "else:\n",
    "    ee_traj, q_traj = panda.path_generate_via_stable_joint_traj()\n",
    "    save_numpy(file_path=config.ee_traj_path, arr=ee_traj)\n",
    "    save_numpy(file_path=config.q_traj_path, arr=q_traj)"
   ]
  },
  {
   "cell_type": "code",
   "execution_count": null,
   "metadata": {},
   "outputs": [],
   "source": [
    "def sample_jtraj(path, pidx, model=flow):\n",
    "    path_len = len(path)\n",
    "    pidx = np.tile(pidx, (path_len,1))\n",
    "    cstd = np.zeros((path_len,))\n",
    "    \n",
    "    y = np.column_stack((path, pidx, cstd))\n",
    "    y = torch.tensor(data=y, device='cuda', dtype=torch.float32)\n",
    "    \n",
    "    errs = np.zeros((len(path),))\n",
    "    log_probs = np.zeros((len(path),))\n",
    "    \n",
    "    step = 0\n",
    "    x_hat = model(y).sample((1,))\n",
    "    log_prob = model(y).log_prob(x_hat)\n",
    "    \n",
    "    x_hat = x_hat.detach().cpu().numpy()[0]\n",
    "    log_prob = -log_prob.detach().cpu().numpy()[0]\n",
    "    print(path.shape)\n",
    "    print(x_hat.shape)\n",
    "    print(log_prob.shape)\n",
    "    for q, lp, ee_pos in zip(x_hat, log_prob, path):\n",
    "        errs[step] = panda.dist_fk(q=q, ee_pos=ee_pos)\n",
    "        log_probs[step] = lp     \n",
    "        step += 1\n",
    "    print(f'step={step}')\n",
    "    df = pd.DataFrame(np.column_stack((errs, log_probs)), columns=['l2_err', 'log_prob'])\n",
    "    qs = x_hat\n",
    "    return df, qs"
   ]
  },
  {
   "cell_type": "code",
   "execution_count": null,
   "metadata": {},
   "outputs": [],
   "source": [
    "pidx = hnne.transform(X=q_traj[0:3])\n",
    "pidx"
   ]
  },
  {
   "cell_type": "code",
   "execution_count": null,
   "metadata": {},
   "outputs": [],
   "source": [
    "for i, px in enumerate(pidx):\n",
    "    df, qs = sample_jtraj(ee_traj, px, flow)\n",
    "    print(df.describe())\n",
    "    save_numpy(file_path=f'./data/exp_qs_{i}.npy', arr=qs)"
   ]
  },
  {
   "cell_type": "code",
   "execution_count": null,
   "metadata": {},
   "outputs": [],
   "source": [
    "ee_traj = load_numpy(file_path=config.ee_traj_path)\n",
    "err = np.zeros((100,))\n",
    "\n",
    "for i in range(3):\n",
    "    step = 0\n",
    "    qs = load_numpy(file_path=f'./data/exp_qs_{i}.npy')\n",
    "    for i in range(100):\n",
    "        err[i] = panda.dist_fk(q=qs[i], ee_pos=ee_traj[i])\n",
    "    outliner = np.where(err > 0.05)\n",
    "    print(outliner)\n",
    "    print(err[outliner])\n",
    "    print(np.sum(err))\n",
    "    # panda.plot_qs(qs)"
   ]
  }
 ],
 "metadata": {
  "kernelspec": {
   "display_name": "base",
   "language": "python",
   "name": "python3"
  },
  "language_info": {
   "codemirror_mode": {
    "name": "ipython",
    "version": 3
   },
   "file_extension": ".py",
   "mimetype": "text/x-python",
   "name": "python",
   "nbconvert_exporter": "python",
   "pygments_lexer": "ipython3",
   "version": "3.9.12"
  },
  "orig_nbformat": 4
 },
 "nbformat": 4,
 "nbformat_minor": 2
}
