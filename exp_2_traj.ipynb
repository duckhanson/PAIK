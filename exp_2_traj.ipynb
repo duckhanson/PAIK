{
    "cells": [
        {
            "cell_type": "code",
            "execution_count": 1,
            "metadata": {},
            "outputs": [],
            "source": [
                "# Import required packages\n",
                "from os import path \n",
                "import time\n",
                "from datetime import datetime\n",
                "import numpy as np\n",
                "import pandas as pd\n",
                "import torch\n",
                "from torch import nn, Tensor\n",
                "from torch.optim import AdamW\n",
                "from tqdm import tqdm, trange\n",
                "import zuko\n",
                "from zuko.flows import Distribution, NSF\n",
                "from zuko.distributions import DiagNormal, BoxUniform, Minimum\n",
                "from zuko.flows import DistributionModule, FlowModule, Unconditional\n",
                "from hnne import HNNE\n",
                "\n",
                "from utils.settings import config\n",
                "from utils.utils import *\n",
                "from utils.model import *\n",
                "from utils.robot import Robot"
            ]
        },
        {
            "cell_type": "code",
            "execution_count": 2,
            "metadata": {},
            "outputs": [
                {
                    "name": "stdout",
                    "output_type": "stream",
                    "text": [
                        "hnne load successfully from /home/luca/ikpflow/weights/panda/hnne.pickle\n",
                        "Model load successfully from /home/luca/ikpflow/weights/panda/nsf.pth\n"
                    ]
                }
            ],
            "source": [
                "panda = Robot(verbose=False)\n",
                "# data generation\n",
                "J_tr, P_tr = data_collection(robot=panda, N=config.N_train)\n",
                "J_ts, P_ts = data_collection(robot=panda, N=config.N_test)\n",
                "F = posture_feature_extraction(J_tr)\n",
                "# Build Generative model, NSF\n",
                "# Neural spline flow (NSF) with 3 sample features and 5 context features\n",
                "flow, optimizer, scheduler = get_flow_model()\n",
                "knn = get_knn(P_tr=P_tr)"
            ]
        },
        {
            "cell_type": "code",
            "execution_count": 3,
            "metadata": {},
            "outputs": [],
            "source": [
                "# mu = torch.randn(size=(7,))\n",
                "mu = torch.zeros(size=(7,))"
            ]
        },
        {
            "cell_type": "code",
            "execution_count": null,
            "metadata": {},
            "outputs": [],
            "source": [
                "iflow = get_iflow_model(flow, init_sample=mu, shrink_ratio=0.01)\n",
                "test(robot=panda, P_ts=P_ts[:NUM_DATA], F=F, solver=iflow, knn=knn, K=NUM_SAMPLES, print_report=True)"
            ]
        },
        {
            "cell_type": "code",
            "execution_count": null,
            "metadata": {},
            "outputs": [],
            "source": [
                "nflow = get_nflow_model(flow=flow)\n",
                "test(robot=panda, P_ts=P_ts[:NUM_DATA], F=F, solver=nflow, knn=knn, K=NUM_SAMPLES, print_report=True)"
            ]
        },
        {
            "cell_type": "code",
            "execution_count": 5,
            "metadata": {},
            "outputs": [
                {
                    "name": "stdout",
                    "output_type": "stream",
                    "text": [
                        "15964263\n"
                    ]
                }
            ],
            "source": [
                "total_params = sum(\n",
                "\tparam.numel() for param in flow.parameters()\n",
                ")\n",
                "print(total_params)"
            ]
        },
        {
            "cell_type": "code",
            "execution_count": 4,
            "metadata": {},
            "outputs": [
                {
                    "name": "stdout",
                    "output_type": "stream",
                    "text": [
                        "/home/luca/ikpflow/data/panda/trajectory/0816002845/ load successfully.\n"
                    ]
                }
            ],
            "source": [
                "Path_dir = sample_P_path(robot=panda, load_time='0816002845')"
            ]
        },
        {
            "cell_type": "code",
            "execution_count": 45,
            "metadata": {},
            "outputs": [],
            "source": [
                "def path_following(\n",
                "    robot,\n",
                "    Path_dir: str,\n",
                "    model,\n",
                "    knn,\n",
                "    F,\n",
                "    num_traj: int = 3,\n",
                ") -> None:\n",
                "    \"\"\"\n",
                "    path following generation for our method\n",
                "    \n",
                "    Parameters\n",
                "    ----------\n",
                "    robot : _type_\n",
                "        robotic arm\n",
                "    Path_dir : str\n",
                "        path to ee Path, generated by sample_P_path\n",
                "    model : _type_\n",
                "        flow, iflow, or nflow\n",
                "    knn : _type_\n",
                "        knn of P_train\n",
                "    F : _type_\n",
                "        F_train\n",
                "    num_traj : int, optional\n",
                "        the number of generated joint trajectory samples, by default 3\n",
                "    \"\"\"\n",
                "\n",
                "    def load_and_plot(exp_traj_path: str, ee_path: np.array):\n",
                "        if os.path.exists(path=exp_traj_path):\n",
                "            robot.plot(qs=qs)\n",
                "        else:\n",
                "            print(f\"{exp_traj_path} does not exist !\")\n",
                "\n",
                "    Path = load_numpy(file_path=Path_dir + \"ee_traj.npy\")\n",
                "    Path = Path[:, :3]\n",
                "\n",
                "    ref_F = nearest_neighbor_F(knn, np.atleast_2d(Path[0]), F, n_neighbors=40_0000) # knn\n",
                "    # ref_F = F\n",
                "    # ref_F = rand_F(Path[0], F)\n",
                "    \n",
                "    exp_path = lambda idx: Path_dir + f\"exp_{idx}.npy\"\n",
                "    \n",
                "    rand_idxs = np.random.randint(low=0, high=len(ref_F), size=num_traj)\n",
                "    \n",
                "    # rand_idxs = list(range(num_traj))\n",
                "    for i, rand in enumerate(rand_idxs):\n",
                "        # ref_F = rand_F(Path[0], F)\n",
                "        \n",
                "        df, qs = sample_J_traj(Path, ref_F[rand], model, robot) \n",
                "        print(\"=\"*6 + str(rand) + f\"=({ref_F[rand]})\" + \"=\"*6)\n",
                "        print(df.describe())\n",
                "        save_numpy(file_path=exp_path(i), arr=qs)\n",
                "\n",
                "    # for i in range(num_traj):\n",
                "    #     load_and_plot(exp_traj_path=exp_path(i), ee_path=Path)"
            ]
        },
        {
            "cell_type": "code",
            "execution_count": 46,
            "metadata": {},
            "outputs": [],
            "source": [
                "iflow = get_iflow_model(flow, init_sample=mu, shrink_ratio=0)\n",
                "nflow = get_nflow_model(flow=flow, shrink_ratio=0.2)"
            ]
        },
        {
            "cell_type": "code",
            "execution_count": 47,
            "metadata": {},
            "outputs": [
                {
                    "name": "stdout",
                    "output_type": "stream",
                    "text": [
                        "======237507=([ 0.34613949 -0.49850781 -0.97209309 -0.77293011])======\n",
                        "       position_errors  ang_errs(sum)\n",
                        "count        20.000000      20.000000\n",
                        "mean          0.004503      32.037345\n",
                        "std           0.005157      63.856751\n",
                        "min           0.000699       0.281547\n",
                        "25%           0.002206       5.649660\n",
                        "50%           0.003106      18.931518\n",
                        "75%           0.004377      29.771475\n",
                        "max           0.024761     296.944977\n",
                        "======70381=([-0.6071551   0.49470081 -0.86732943  1.08439235])======\n",
                        "       position_errors  ang_errs(sum)\n",
                        "count        20.000000      20.000000\n",
                        "mean          0.002559       9.185927\n",
                        "std           0.001563       5.861401\n",
                        "min           0.000581       0.266429\n",
                        "25%           0.001076       4.653818\n",
                        "50%           0.002381       9.553985\n",
                        "75%           0.003832      13.829163\n",
                        "max           0.005061      21.070053\n",
                        "======316412=([-0.08868511 -0.63099161 -0.97494804 -1.02603948])======\n",
                        "       position_errors  ang_errs(sum)\n",
                        "count        20.000000      20.000000\n",
                        "mean          0.003050      14.789540\n",
                        "std           0.001102      11.705368\n",
                        "min           0.001064       0.369404\n",
                        "25%           0.002540       7.036182\n",
                        "50%           0.003103      13.441273\n",
                        "75%           0.003662      18.167103\n",
                        "max           0.005333      45.811588\n"
                    ]
                }
            ],
            "source": [
                "path_following(robot=panda, Path_dir=Path_dir, model=iflow, knn=knn, F=F, num_traj=3)"
            ]
        },
        {
            "cell_type": "code",
            "execution_count": 11,
            "metadata": {},
            "outputs": [
                {
                    "name": "stdout",
                    "output_type": "stream",
                    "text": [
                        "       position_errors  ang_errs(sum)\n",
                        "count        20.000000      20.000000\n",
                        "mean          0.001615      48.994754\n",
                        "std           0.000586      19.788968\n",
                        "min           0.000328      21.897610\n",
                        "25%           0.001247      39.527138\n",
                        "50%           0.001596      42.718073\n",
                        "75%           0.002032      53.504387\n",
                        "max           0.002788      92.368759\n",
                        "       position_errors  ang_errs(sum)\n",
                        "count        20.000000      20.000000\n",
                        "mean          0.001724      33.983042\n",
                        "std           0.000923      12.528462\n",
                        "min           0.000521      12.911550\n",
                        "25%           0.001027      24.164518\n",
                        "50%           0.001665      34.077032\n",
                        "75%           0.002172      45.908035\n",
                        "max           0.003786      55.757313\n",
                        "       position_errors  ang_errs(sum)\n",
                        "count        20.000000      20.000000\n",
                        "mean          0.001445      45.234315\n",
                        "std           0.000660      21.635774\n",
                        "min           0.000423      17.352730\n",
                        "25%           0.000955      30.166533\n",
                        "50%           0.001461      43.818924\n",
                        "75%           0.001965      57.768088\n",
                        "max           0.002545      90.562126\n"
                    ]
                }
            ],
            "source": [
                "path_following(robot=panda, Path_dir=Path_dir, model=nflow, knn=knn, F=F)"
            ]
        },
        {
            "cell_type": "code",
            "execution_count": null,
            "metadata": {},
            "outputs": [],
            "source": [
                "from ikflow.utils import set_seed\n",
                "from ikflow.model_loading import get_ik_solver"
            ]
        },
        {
            "cell_type": "code",
            "execution_count": null,
            "metadata": {},
            "outputs": [],
            "source": [
                "file_names = ['ang_errs_avg', 'ang_errs_min', 'F_avg', 'F_min', 'ikflow_ang', 'ikflow_l2', 'l2_errs_avg', 'l2_errs_min', 'n_evals']\n",
                "exp_5_fig_dir = config.traj_dir + f'figs/exp_5_{datetime.now().strftime(\"%m%d%H%M\")}/'\n",
                "if not os.path.exists(path=exp_5_fig_dir):\n",
                "    os.makedirs(exp_5_fig_dir)\n",
                "set_seed()\n",
                "num_trails = 100\n",
                "num_generation = 100\n",
                "num_ikflow_trails = num_generation\n",
                "num_solutions = 500\n",
                "# Build IKFlowSolver and set weights\n",
                "ik_solver, hyper_parameters = get_ik_solver(\"panda__full__lp191_5.25m\")\n",
                "robot = ik_solver.robot\n",
                "panda = Robot(verbose=False)"
            ]
        },
        {
            "cell_type": "code",
            "execution_count": null,
            "metadata": {},
            "outputs": [],
            "source": [
                "target_poses = load_numpy(file_path=traj_dir + 'ee_traj.npy')\n",
                "# traj_dir, target_poses = get_target_poses(robot=panda)\n",
                "exp_dir = traj_dir + f'exp_5_single_obj/'\n",
                "data = {fn: [] for fn in file_names}\n",
                "\n",
                "# -> unrefined solutions\n",
                "mean_position_errors = np.zeros((num_ikflow_trails,))\n",
                "mean_ang_errs = np.zeros((num_ikflow_trails,))\n",
                "for ikflow_i in range(num_ikflow_trails):\n",
                "    solutions, position_errors, _, _, _, _ = ik_solver.solve_n_poses(\n",
                "        target_poses, \n",
                "        refine_solutions=False, \n",
                "        return_detailed=True)\n",
                "\n",
                "    iksols = solutions.detach().cpu().numpy()\n",
                "    df = eval_J_traj(robot=panda, J_traj=solutions.to('cpu'), P_path=target_poses, position_errors=position_errors)\n",
                "    mean_position_errors[ikflow_i], mean_ang_errs[ikflow_i]  = df.mean().values\n",
                "data['ikflow_l2'] = mean_position_errors\n",
                "data['ikflow_ang'] = mean_ang_errs    \n"
            ]
        },
        {
            "cell_type": "code",
            "execution_count": null,
            "metadata": {},
            "outputs": [],
            "source": [
                "df = pd.DataFrame(mean_position_errors)\n",
                "df.describe()"
            ]
        },
        {
            "cell_type": "code",
            "execution_count": null,
            "metadata": {},
            "outputs": [],
            "source": [
                "df = pd.DataFrame(mean_ang_errs)\n",
                "df.describe()"
            ]
        },
        {
            "cell_type": "code",
            "execution_count": null,
            "metadata": {},
            "outputs": [],
            "source": []
        }
    ],
    "metadata": {
        "kernelspec": {
            "display_name": "base",
            "language": "python",
            "name": "python3"
        },
        "language_info": {
            "codemirror_mode": {
                "name": "ipython",
                "version": 3
            },
            "file_extension": ".py",
            "mimetype": "text/x-python",
            "name": "python",
            "nbconvert_exporter": "python",
            "pygments_lexer": "ipython3",
            "version": "3.9.12"
        },
        "orig_nbformat": 4
    },
    "nbformat": 4,
    "nbformat_minor": 2
}
