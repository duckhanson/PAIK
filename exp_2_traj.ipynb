{
 "cells": [
  {
   "cell_type": "code",
   "execution_count": null,
   "metadata": {},
   "outputs": [],
   "source": [
    "# Import required packages\n",
    "from paik.solver import Solver, DEFAULT_SOLVER_PARAM_M7, DEFAULT_SOLVER_PARAM_M3\n",
    "\n",
    "solver = Solver(solver_param=DEFAULT_SOLVER_PARAM_M7)\n",
    "solver.path_following(\n",
    "    load_time=\"1111215818\",\n",
    "    num_traj=100,\n",
    "    shrink_ratio=0,\n",
    "    enable_evaluation=True,\n",
    "    enable_plot=False,\n",
    ")"
   ]
  },
  {
   "cell_type": "code",
   "execution_count": null,
   "metadata": {},
   "outputs": [],
   "source": [
    "import numpy as np\n",
    "import pandas as pd\n",
    "from time import time\n",
    "from ikflow.utils import set_seed\n",
    "from ikflow.model_loading import get_ik_solver\n",
    "from paik.solver import max_joint_angle_change\n",
    "\n",
    "set_seed()\n",
    "\n",
    "# Build IKFlowSolver and set weights\n",
    "ik_solver, hyper_parameters = get_ik_solver(\"panda__full__lp191_5.25m\")\n",
    "robot = ik_solver.robot\n",
    "\n",
    "P = solver.sample_P_path(load_time=\"1111215818\")\n",
    "\n",
    "num_traj = 100\n",
    "num_steps = P.shape[0]\n",
    "\n",
    "l2_err_arr = np.empty((num_traj, num_steps))\n",
    "ang_err_arr = np.empty((num_traj, num_steps))\n",
    "mjac_arr = np.empty((num_traj,))\n",
    "runtime_arr = np.empty((num_traj))\n",
    "\n",
    "begin = time()\n",
    "for i in range(num_traj):\n",
    "    sol, l2_err_arr[i], ang_err_arr[i], _, _, runtime = ik_solver.solve_n_poses(\n",
    "        P, latent_scale=0.01, refine_solutions=False, return_detailed=True\n",
    "    )  # type: ignore\n",
    "    mjac_arr[i] = max_joint_angle_change(sol)  # type: ignore\n",
    "\n",
    "df = pd.DataFrame(\n",
    "    {\n",
    "        \"l2_err\": l2_err_arr.mean(axis=1),\n",
    "        \"ang_err\": ang_err_arr.mean(axis=1),\n",
    "        \"mjac\": mjac_arr,\n",
    "    }\n",
    ")\n",
    "print(df.describe())\n",
    "print(f\"avg_inference_time: {round((time() - begin) / num_traj, 3)}\")"
   ]
  }
 ],
 "metadata": {
  "kernelspec": {
   "display_name": "base",
   "language": "python",
   "name": "python3"
  },
  "language_info": {
   "codemirror_mode": {
    "name": "ipython",
    "version": 3
   },
   "file_extension": ".py",
   "mimetype": "text/x-python",
   "name": "python",
   "nbconvert_exporter": "python",
   "pygments_lexer": "ipython3",
   "version": "3.9.12"
  },
  "orig_nbformat": 4
 },
 "nbformat": 4,
 "nbformat_minor": 2
}
