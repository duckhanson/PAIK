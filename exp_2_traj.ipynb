{
 "cells": [
  {
   "cell_type": "code",
   "execution_count": null,
   "metadata": {},
   "outputs": [],
   "source": [
    "# Import required packages\n",
    "import numpy as np\n",
    "import pandas as pd\n",
    "from time import time\n",
    "from tabulate import tabulate\n",
    "\n",
    "from paik.solver import (\n",
    "    DEFAULT_SOLVER_PARAM_M7_NORM,\n",
    "    max_joint_angle_change,\n",
    ")\n",
    "\n",
    "from path_follower import PathFollower\n",
    "\n",
    "ddjc_thres = [40, 50, 60, 70, 80, 90, 100]\n",
    "\n",
    "solver = PathFollower(solver_param=DEFAULT_SOLVER_PARAM_M7_NORM)\n",
    "\n",
    "num_traj = 500\n",
    "load_time = \"1124134231\"\n",
    "J, P = solver.sample_Jtraj_Ppath(load_time=load_time, num_steps=20)\n",
    "begin_time = time()\n",
    "J_hat, l2_errs, ang_errs, mjac_arr, ddjc = solver.solve_path(J, P, num_traj=num_traj, return_numpy=True, return_evaluation=True)\n",
    "end_time = time()"
   ]
  },
  {
   "cell_type": "code",
   "execution_count": null,
   "metadata": {},
   "outputs": [],
   "source": [
    "df = pd.DataFrame(\n",
    "    {\n",
    "        \"l2_errs\": l2_errs,\n",
    "        \"ang_errs\": np.rad2deg(ang_errs),\n",
    "        \"mjac\": mjac_arr,\n",
    "        \"ddjc\": np.rad2deg(ddjc),\n",
    "    }\n",
    ")\n",
    "\n",
    "table = np.empty((len(ddjc_thres), 3))\n",
    "for i, thres in enumerate(ddjc_thres):\n",
    "    sr = df.query(f\"ddjc < {thres}\")[\"ddjc\"].count() / df.shape[0]\n",
    "    table[i] = (thres, sr, round(1 / sr)) if sr != 0 else (thres, sr, np.inf)\n",
    "print(tabulate(table, headers=[\"ddjc\", \"success rate\", \"min num sols\"]))\n",
    "print(f\"avg_inference_time: {round((end_time - begin_time) / num_traj, 3)}\")\n",
    "df.describe()"
   ]
  },
  {
   "cell_type": "code",
   "execution_count": null,
   "metadata": {},
   "outputs": [],
   "source": [
    "import numpy as np\n",
    "import pandas as pd\n",
    "from time import time\n",
    "import torch\n",
    "from tqdm import trange\n",
    "from ikflow.utils import set_seed\n",
    "from ikflow.model_loading import get_ik_solver\n",
    "from paik.solver import max_joint_angle_change\n",
    "\n",
    "set_seed()\n",
    "\n",
    "# Build IKFlowSolver and set weights\n",
    "ik_solver, hyper_parameters = get_ik_solver(\"panda__full__lp191_5.25m\")\n",
    "robot = ik_solver.robot"
   ]
  },
  {
   "cell_type": "code",
   "execution_count": null,
   "metadata": {},
   "outputs": [],
   "source": [
    "num_traj = 1000\n",
    "num_steps = P.shape[0]\n",
    "\n",
    "F_l2_err = np.empty((num_traj,))\n",
    "F_ang_err = np.empty((num_traj,))\n",
    "F_mjac = np.empty((num_traj,))\n",
    "F_ddjc = np.empty((num_traj,))\n",
    "F_runtime = np.empty((num_traj))\n",
    "\n",
    "shape = (P.shape[0], ik_solver._network_width)\n",
    "begin_time = time()\n",
    "for i in trange(num_traj):\n",
    "    latent = torch.from_numpy(\n",
    "        np.tile(np.random.randn(1, shape[1]), (shape[0], 1)).astype(np.float32)\n",
    "    ).to(\"cuda\")\n",
    "    sol, l2, ang, _, _, runtime = ik_solver.solve_n_poses(\n",
    "        P, latent=latent, refine_solutions=False, return_detailed=True\n",
    "    )  # type: ignore\n",
    "    sol = sol.cpu().numpy()\n",
    "    F_l2_err[i] = l2.mean()\n",
    "    F_ang_err[i] = ang.mean()\n",
    "    F_mjac[i] = max_joint_angle_change(sol)  # type: ignore\n",
    "    F_ddjc[i] = np.linalg.norm(sol - J, axis=-1).mean()\n",
    "    F_runtime[i] = runtime\n",
    "end_time = time()\n",
    "F_df = pd.DataFrame(\n",
    "    {\n",
    "        \"l2_err\": F_l2_err,\n",
    "        \"ang_err\": np.rad2deg(F_ang_err),\n",
    "        \"mjac\": F_mjac,\n",
    "        \"ddjc\": np.rad2deg(F_ddjc),\n",
    "    }\n",
    ")"
   ]
  },
  {
   "cell_type": "code",
   "execution_count": null,
   "metadata": {},
   "outputs": [],
   "source": [
    "table = np.empty((len(ddjc_thres), 3))\n",
    "for i, thres in enumerate(ddjc_thres):\n",
    "    sr = F_df.query(f\"ddjc < {thres}\")[\"ddjc\"].count() / F_df.shape[0]\n",
    "    table[i] = (thres, sr, round(1 / sr))\n",
    "print(tabulate(table, headers=[\"ddjc\", \"success rate\", \"min num sols\"]))\n",
    "print(f\"avg_inference_time: {round((end_time - begin_time) / num_traj, 3)}\")\n",
    "F_df.describe()"
   ]
  },
  {
   "cell_type": "code",
   "execution_count": null,
   "metadata": {},
   "outputs": [],
   "source": []
  }
 ],
 "metadata": {
  "kernelspec": {
   "display_name": "base",
   "language": "python",
   "name": "python3"
  },
  "language_info": {
   "codemirror_mode": {
    "name": "ipython",
    "version": 3
   },
   "file_extension": ".py",
   "mimetype": "text/x-python",
   "name": "python",
   "nbconvert_exporter": "python",
   "pygments_lexer": "ipython3",
   "version": "3.9.12"
  },
  "orig_nbformat": 4
 },
 "nbformat": 4,
 "nbformat_minor": 2
}
