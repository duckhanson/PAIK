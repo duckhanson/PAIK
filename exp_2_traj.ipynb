{
    "cells": [
        {
            "cell_type": "code",
            "execution_count": 1,
            "metadata": {},
            "outputs": [],
            "source": [
                "# Import required packages\n",
                "import torch\n",
                "import os\n",
                "import numpy as np\n",
                "\n",
                "from utils.solver import Solver, DEFAULT_SOLVER_PARAM_M7, DEFAULT_SOLVER_PARAM_M3\n",
                "from utils.robot import get_robot, sample_P_path, sample_J_traj\n",
                "from utils.utils import load_numpy, save_numpy, nearest_neighbor_F"
            ]
        },
        {
            "cell_type": "code",
            "execution_count": 2,
            "metadata": {},
            "outputs": [
                {
                    "name": "stdout",
                    "output_type": "stream",
                    "text": [
                        "WorldModel::LoadRobot: /home/luca/.cache/jrl/temp_urdfs/panda_arm_hand_formatted_link_filepaths_absolute.urdf\n",
                        "joint mimic: no multiplier, using default value of 1 \n",
                        "joint mimic: no offset, using default value of 0 \n",
                        "URDFParser: Link size: 17\n",
                        "URDFParser: Joint size: 12\n",
                        "LoadAssimp: Loaded model /home/luca/miniconda3/lib/python3.9/site-packages/jrl/urdfs/panda/meshes/visual/link0.dae (59388 verts, 20478 tris)\n",
                        "LoadAssimp: Loaded model /home/luca/miniconda3/lib/python3.9/site-packages/jrl/urdfs/panda/meshes/visual/link1.dae (37309 verts, 12516 tris)\n",
                        "LoadAssimp: Loaded model /home/luca/miniconda3/lib/python3.9/site-packages/jrl/urdfs/panda/meshes/visual/link2.dae (37892 verts, 12716 tris)\n",
                        "LoadAssimp: Loaded model /home/luca/miniconda3/lib/python3.9/site-packages/jrl/urdfs/panda/meshes/visual/link3.dae (42512 verts, 14233 tris)\n",
                        "LoadAssimp: Loaded model /home/luca/miniconda3/lib/python3.9/site-packages/jrl/urdfs/panda/meshes/visual/link4.dae (43520 verts, 14620 tris)\n",
                        "LoadAssimp: Loaded model /home/luca/miniconda3/lib/python3.9/site-packages/jrl/urdfs/panda/meshes/visual/link5.dae (54770 verts, 18327 tris)\n",
                        "LoadAssimp: Loaded model /home/luca/miniconda3/lib/python3.9/site-packages/jrl/urdfs/panda/meshes/visual/link6.dae (64086 verts, 21620 tris)\n",
                        "LoadAssimp: Loaded model /home/luca/miniconda3/lib/python3.9/site-packages/jrl/urdfs/panda/meshes/visual/link7.dae (35829 verts, 12077 tris)\n",
                        "LoadAssimp: Loaded model /home/luca/miniconda3/lib/python3.9/site-packages/jrl/urdfs/panda/meshes/visual/hand.dae (20896 verts, 7078 tris)\n",
                        "LoadAssimp: Loaded model /home/luca/miniconda3/lib/python3.9/site-packages/jrl/urdfs/panda/meshes/visual/finger.dae (1849 verts, 624 tris)\n",
                        "LoadAssimp: Loaded model /home/luca/miniconda3/lib/python3.9/site-packages/jrl/urdfs/panda/meshes/visual/finger.dae (1849 verts, 624 tris)\n",
                        "URDFParser: Done loading robot file /home/luca/.cache/jrl/temp_urdfs/panda_arm_hand_formatted_link_filepaths_absolute.urdf\n",
                        "Initialized robot collision data structures in time 0.442003\n",
                        "Model load successfully from /home/luca/ikpflow/weights/panda/1107-1013.pth\n",
                        "F load successfully from /home/luca/ikpflow/data/panda/train/F-2400000-7-7-1.npy\n",
                        "knn load successfully from /home/luca/ikpflow/data/panda/train/knn-2400000-7-7-1-normFalse.pickle\n"
                    ]
                }
            ],
            "source": [
                "robot = get_robot()\n",
                "solver = Solver(robot=robot, solver_param=DEFAULT_SOLVER_PARAM_M7)"
            ]
        },
        {
            "cell_type": "code",
            "execution_count": 3,
            "metadata": {},
            "outputs": [
                {
                    "name": "stdout",
                    "output_type": "stream",
                    "text": [
                        "using shrink_ratio: 0\n",
                        "/home/luca/ikpflow/data/panda/trajectory/1111215818/ load successfully.\n",
                        "move C to cuda\n",
                        "            l2_err      ang_err         mjac\n",
                        "count  2000.000000  2000.000000  2000.000000\n",
                        "mean      0.035136     1.060670   137.958635\n",
                        "std       0.017537     0.358031   135.707758\n",
                        "min       0.001242     0.003967    12.962336\n",
                        "25%       0.020649     0.913385    15.068072\n",
                        "50%       0.037627     1.177167    30.609131\n",
                        "75%       0.049131     1.354921   262.808334\n",
                        "max       0.099063     2.959451   348.367615\n",
                        "avg_inference_time: 0.003\n"
                    ]
                }
            ],
            "source": [
                "solver.path_following(load_time='1111215818', num_traj=100, shrink_ratio=0, enable_evaluation=True, enable_plot=False)"
            ]
        },
        {
            "cell_type": "code",
            "execution_count": null,
            "metadata": {},
            "outputs": [],
            "source": [
                "import numpy as np\n",
                "import pandas as pd\n",
                "from time import time\n",
                "from ikflow.utils import set_seed\n",
                "from ikflow.model_loading import get_ik_solver"
            ]
        },
        {
            "cell_type": "code",
            "execution_count": null,
            "metadata": {},
            "outputs": [],
            "source": [
                "set_seed()\n",
                "\n",
                "# Build IKFlowSolver and set weights\n",
                "ik_solver, hyper_parameters = get_ik_solver(\"panda__full__lp191_5.25m\")\n",
                "robot = ik_solver.robot\n",
                "\n",
                "P = solver._sample_P_path(load_time='1111215818')"
            ]
        },
        {
            "cell_type": "code",
            "execution_count": null,
            "metadata": {},
            "outputs": [],
            "source": [
                "num_traj = 100\n",
                "num_steps = P.shape[0]\n",
                "\n",
                "Qs = np.empty((num_traj, num_steps, solver._robot.n_dofs))\n",
                "l2_err_arr = np.empty((num_traj, num_steps))\n",
                "ang_err_arr = np.empty((num_traj, num_steps))\n",
                "mjac_arr = np.empty((num_traj, num_steps))\n",
                "runtime_arr = np.empty((num_traj))"
            ]
        },
        {
            "cell_type": "code",
            "execution_count": null,
            "metadata": {},
            "outputs": [],
            "source": [
                "begin = time()\n",
                "for i in range(num_traj):\n",
                "    sol, l2_err_arr[i], ang_err_arr[i], _, _, runtime = ik_solver.solve_n_poses(\n",
                "        P, \n",
                "        latent_scale=.01,\n",
                "        refine_solutions=False, \n",
                "        return_detailed=True)\n",
                "    # runtime_arr[i] = runtime\n",
                "    mjac_arr[i] = solver.max_joint_angle_change(sol)\n",
                "    Qs[i] = sol.detach().cpu().numpy()\n",
                "\n",
                "avg_runtime = (time() - begin) / num_traj"
            ]
        },
        {
            "cell_type": "code",
            "execution_count": null,
            "metadata": {},
            "outputs": [],
            "source": [
                "df = pd.DataFrame({'l2_err': l2_err_arr.flatten(), 'ang_err': ang_err_arr.flatten(), 'mjac': mjac_arr.flatten()})\n",
                "print(df.describe())\n",
                "print(f\"avg_inference_time: {avg_runtime}\")"
            ]
        },
        {
            "cell_type": "code",
            "execution_count": null,
            "metadata": {},
            "outputs": [],
            "source": []
        }
    ],
    "metadata": {
        "kernelspec": {
            "display_name": "base",
            "language": "python",
            "name": "python3"
        },
        "language_info": {
            "codemirror_mode": {
                "name": "ipython",
                "version": 3
            },
            "file_extension": ".py",
            "mimetype": "text/x-python",
            "name": "python",
            "nbconvert_exporter": "python",
            "pygments_lexer": "ipython3",
            "version": "3.9.12"
        },
        "orig_nbformat": 4
    },
    "nbformat": 4,
    "nbformat_minor": 2
}
