{
    "cells": [
        {
            "cell_type": "code",
            "execution_count": 1,
            "metadata": {},
            "outputs": [],
            "source": [
                "# Import required packages\n",
                "from os import path \n",
                "import time\n",
                "from datetime import datetime\n",
                "import numpy as np\n",
                "import pandas as pd\n",
                "import torch\n",
                "from torch import nn, Tensor\n",
                "from torch.optim import AdamW\n",
                "from tqdm import tqdm, trange\n",
                "\n",
                "from utils.settings import config as cfg\n",
                "from utils.utils import *\n",
                "from utils.model import *\n",
                "from utils.robot import Robot"
            ]
        },
        {
            "cell_type": "code",
            "execution_count": 2,
            "metadata": {},
            "outputs": [
                {
                    "name": "stdout",
                    "output_type": "stream",
                    "text": [
                        "F load successfully from /home/luca/ikpflow/data/panda/train/F-2500000-7-7-1.npy\n",
                        "Model load successfully from /home/luca/ikpflow/weights/panda/nsf.pth\n",
                        "knn load successfully from /home/luca/ikpflow/data/panda/train/knn-2500000-7-7-1-normFalse.pickle\n"
                    ]
                }
            ],
            "source": [
                "panda = Robot(verbose=False)\n",
                "# data generation\n",
                "J_tr, P_tr, P_ts, F = load_all_data(panda)\n",
                "# Build Generative model, NSF\n",
                "config = {\n",
                "        'subnet_width': 1400,\n",
                "        'subnet_num_layers': 3,\n",
                "        'num_transforms': 9,\n",
                "        'lr': 2.1e-4,\n",
                "        'lr_weight_decay': 2.7e-2,\n",
                "        'decay_step_size': 4e4,\n",
                "        'gamma': 5e-2,\n",
                "        'batch_size': 128,\n",
                "        'num_epochs': 10,\n",
                "    }\n",
                "# Neural spline flow (NSF) with 3 sample features and 5 context features\n",
                "flow, optimizer, scheduler = get_flow_model(\n",
                "        enable_load_model=cfg.use_pretrained,\n",
                "        num_transforms=config[\"num_transforms\"],\n",
                "        subnet_width=config[\"subnet_width\"],\n",
                "        subnet_num_layers=config[\"subnet_num_layers\"],\n",
                "        lr=config[\"lr\"],\n",
                "        lr_weight_decay=config[\"lr_weight_decay\"],\n",
                "        decay_step_size=config[\"decay_step_size\"],\n",
                "        gamma=config[\"gamma\"],\n",
                "        device='cuda')\n",
                "knn = get_knn(P_tr=P_tr)"
            ]
        },
        {
            "cell_type": "code",
            "execution_count": 3,
            "metadata": {},
            "outputs": [],
            "source": [
                "# mu = torch.randn(size=(7,))\n",
                "mu = torch.zeros(size=(cfg.n,))\n",
                "NUM_DATA = 100\n",
                "NUM_SAMPLES = 1000"
            ]
        },
        {
            "cell_type": "code",
            "execution_count": 4,
            "metadata": {},
            "outputs": [],
            "source": [
                "# iflow = get_iflow_model(flow, init_sample=mu, shrink_ratio=0.01)\n",
                "# test(robot=panda, P_ts=P_ts[:NUM_DATA], F=F, solver=iflow, knn=knn, K=NUM_SAMPLES, print_report=True)"
            ]
        },
        {
            "cell_type": "code",
            "execution_count": 5,
            "metadata": {},
            "outputs": [],
            "source": [
                "# nflow = get_nflow_model(flow=flow)\n",
                "# test(robot=panda, P_ts=P_ts[:NUM_DATA], F=F, solver=nflow, knn=knn, K=NUM_SAMPLES, print_report=True)"
            ]
        },
        {
            "cell_type": "code",
            "execution_count": 6,
            "metadata": {},
            "outputs": [],
            "source": [
                "# total_params = sum(\n",
                "# \tparam.numel() for param in flow.parameters()\n",
                "# )\n",
                "# print(total_params)"
            ]
        },
        {
            "cell_type": "code",
            "execution_count": 7,
            "metadata": {},
            "outputs": [
                {
                    "name": "stdout",
                    "output_type": "stream",
                    "text": [
                        "/home/luca/ikpflow/data/panda/trajectory/0816002845/ load successfully.\n"
                    ]
                }
            ],
            "source": [
                "Path_dir = sample_P_path(robot=panda, load_time='0816002845')"
            ]
        },
        {
            "cell_type": "code",
            "execution_count": 9,
            "metadata": {},
            "outputs": [],
            "source": [
                "def path_following(\n",
                "    robot,\n",
                "    Path_dir: str,\n",
                "    model,\n",
                "    knn,\n",
                "    F,\n",
                "    num_traj: int = 3,\n",
                ") -> None:\n",
                "    \"\"\"\n",
                "    path following generation for our method\n",
                "    \n",
                "    Parameters\n",
                "    ----------\n",
                "    robot : _type_\n",
                "        robotic arm\n",
                "    Path_dir : str\n",
                "        path to ee Path, generated by sample_P_path\n",
                "    model : _type_\n",
                "        flow, iflow, or nflow\n",
                "    knn : _type_\n",
                "        knn of P_train\n",
                "    F : _type_\n",
                "        F_train\n",
                "    num_traj : int, optional\n",
                "        the number of generated joint trajectory samples, by default 3\n",
                "    \"\"\"\n",
                "\n",
                "    def load_and_plot(exp_traj_path: str, ee_path: np.array):\n",
                "        if os.path.exists(path=exp_traj_path):\n",
                "            robot.plot(qs=qs)\n",
                "        else:\n",
                "            print(f\"{exp_traj_path} does not exist !\")\n",
                "\n",
                "    Path = load_numpy(file_path=Path_dir + \"ee_traj.npy\")\n",
                "    # Path = Path[:, :3]\n",
                "\n",
                "    ref_F = nearest_neighbor_F(knn, np.atleast_2d(Path[0]), F, n_neighbors=40_0000) # knn\n",
                "    # ref_F = F\n",
                "    # ref_F = rand_F(Path[0], F)\n",
                "    \n",
                "    exp_path = lambda idx: Path_dir + f\"exp_{idx}.npy\"\n",
                "    \n",
                "    rand_idxs = np.random.randint(low=0, high=len(ref_F), size=num_traj)\n",
                "    \n",
                "    # rand_idxs = list(range(num_traj))\n",
                "    for i, rand in enumerate(rand_idxs):\n",
                "        # ref_F = rand_F(Path[0], F)\n",
                "        \n",
                "        # df, qs = sample_J_traj(Path, ref_F[rand], model, robot) \n",
                "        df, qs = sample_J_traj(Path, ref_F[rand], model, robot) \n",
                "        print(\"=\"*6 + str(rand) + f\"=({ref_F[rand]})\" + \"=\"*6)\n",
                "        print(df.describe())\n",
                "        save_numpy(file_path=exp_path(i), arr=qs)\n",
                "\n",
                "    for i in range(num_traj):\n",
                "        load_and_plot(exp_traj_path=exp_path(i), ee_path=Path)"
            ]
        },
        {
            "cell_type": "code",
            "execution_count": 10,
            "metadata": {},
            "outputs": [],
            "source": [
                "iflow = get_iflow_model(flow, init_sample=mu, shrink_ratio=0)\n",
                "nflow = get_nflow_model(flow=flow, shrink_ratio=0.2)"
            ]
        },
        {
            "cell_type": "code",
            "execution_count": 12,
            "metadata": {},
            "outputs": [
                {
                    "name": "stdout",
                    "output_type": "stream",
                    "text": [
                        "======358083=([0.12083742])======\n",
                        "       position_errors  ang_errs(sum)\n",
                        "count        20.000000      20.000000\n",
                        "mean          0.008655      23.594593\n",
                        "std           0.004306      17.352919\n",
                        "min           0.002421       0.418049\n",
                        "25%           0.005614       8.219036\n",
                        "50%           0.006798      24.395612\n",
                        "75%           0.012703      36.982781\n",
                        "max           0.015653      54.462841\n",
                        "======359783=([0.1912336])======\n",
                        "       position_errors  ang_errs(sum)\n",
                        "count        20.000000      20.000000\n",
                        "mean          0.014673      99.511118\n",
                        "std           0.023193     167.050366\n",
                        "min           0.001143       0.532058\n",
                        "25%           0.006719       8.711460\n",
                        "50%           0.008205      27.402031\n",
                        "75%           0.015246      73.422478\n",
                        "max           0.110852     522.031250\n",
                        "======304137=([0.17975176])======\n",
                        "       position_errors  ang_errs(sum)\n",
                        "count        20.000000      20.000000\n",
                        "mean          0.011594      56.769429\n",
                        "std           0.013596     106.831039\n",
                        "min           0.003089       0.596576\n",
                        "25%           0.006001      12.607132\n",
                        "50%           0.007993      28.185098\n",
                        "75%           0.013540      54.800186\n",
                        "max           0.066824     492.526276\n"
                    ]
                }
            ],
            "source": [
                "path_following(robot=panda, Path_dir=Path_dir, model=iflow, knn=knn, F=F, num_traj=3)"
            ]
        },
        {
            "cell_type": "code",
            "execution_count": null,
            "metadata": {},
            "outputs": [],
            "source": [
                "path_following(robot=panda, Path_dir=Path_dir, model=nflow, knn=knn, F=F)"
            ]
        },
        {
            "cell_type": "code",
            "execution_count": null,
            "metadata": {},
            "outputs": [],
            "source": [
                "from ikflow.utils import set_seed\n",
                "from ikflow.model_loading import get_ik_solver"
            ]
        },
        {
            "cell_type": "code",
            "execution_count": null,
            "metadata": {},
            "outputs": [],
            "source": [
                "file_names = ['ang_errs_avg', 'ang_errs_min', 'F_avg', 'F_min', 'ikflow_ang', 'ikflow_l2', 'l2_errs_avg', 'l2_errs_min', 'n_evals']\n",
                "exp_5_fig_dir = config.traj_dir + f'figs/exp_5_{datetime.now().strftime(\"%m%d%H%M\")}/'\n",
                "if not os.path.exists(path=exp_5_fig_dir):\n",
                "    os.makedirs(exp_5_fig_dir)\n",
                "set_seed()\n",
                "num_trails = 100\n",
                "num_generation = 100\n",
                "num_ikflow_trails = num_generation\n",
                "num_solutions = 500\n",
                "# Build IKFlowSolver and set weights\n",
                "ik_solver, hyper_parameters = get_ik_solver(\"panda__full__lp191_5.25m\")\n",
                "robot = ik_solver.robot\n",
                "panda = Robot(verbose=False)"
            ]
        },
        {
            "cell_type": "code",
            "execution_count": null,
            "metadata": {},
            "outputs": [],
            "source": [
                "target_poses = load_numpy(file_path=traj_dir + 'ee_traj.npy')\n",
                "# traj_dir, target_poses = get_target_poses(robot=panda)\n",
                "exp_dir = traj_dir + f'exp_5_single_obj/'\n",
                "data = {fn: [] for fn in file_names}\n",
                "\n",
                "# -> unrefined solutions\n",
                "mean_position_errors = np.zeros((num_ikflow_trails,))\n",
                "mean_ang_errs = np.zeros((num_ikflow_trails,))\n",
                "for ikflow_i in range(num_ikflow_trails):\n",
                "    solutions, position_errors, _, _, _, _ = ik_solver.solve_n_poses(\n",
                "        target_poses, \n",
                "        refine_solutions=False, \n",
                "        return_detailed=True)\n",
                "\n",
                "    iksols = solutions.detach().cpu().numpy()\n",
                "    df = eval_J_traj(robot=panda, J_traj=solutions.to('cpu'), P_path=target_poses, position_errors=position_errors)\n",
                "    mean_position_errors[ikflow_i], mean_ang_errs[ikflow_i]  = df.mean().values\n",
                "data['ikflow_l2'] = mean_position_errors\n",
                "data['ikflow_ang'] = mean_ang_errs    \n"
            ]
        },
        {
            "cell_type": "code",
            "execution_count": null,
            "metadata": {},
            "outputs": [],
            "source": [
                "df = pd.DataFrame(mean_position_errors)\n",
                "df.describe()"
            ]
        },
        {
            "cell_type": "code",
            "execution_count": null,
            "metadata": {},
            "outputs": [],
            "source": [
                "df = pd.DataFrame(mean_ang_errs)\n",
                "df.describe()"
            ]
        },
        {
            "cell_type": "code",
            "execution_count": null,
            "metadata": {},
            "outputs": [],
            "source": []
        }
    ],
    "metadata": {
        "kernelspec": {
            "display_name": "base",
            "language": "python",
            "name": "python3"
        },
        "language_info": {
            "codemirror_mode": {
                "name": "ipython",
                "version": 3
            },
            "file_extension": ".py",
            "mimetype": "text/x-python",
            "name": "python",
            "nbconvert_exporter": "python",
            "pygments_lexer": "ipython3",
            "version": "3.9.12"
        },
        "orig_nbformat": 4
    },
    "nbformat": 4,
    "nbformat_minor": 2
}
