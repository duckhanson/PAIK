{
    "cells": [
        {
            "cell_type": "code",
            "execution_count": 1,
            "metadata": {},
            "outputs": [],
            "source": [
                "# Import required packages\n",
                "from os import path \n",
                "import time\n",
                "from datetime import datetime\n",
                "import numpy as np\n",
                "import pandas as pd\n",
                "import torch\n",
                "from torch import nn, Tensor\n",
                "from torch.optim import AdamW\n",
                "from tqdm import tqdm, trange\n",
                "\n",
                "from utils.settings import config as cfg\n",
                "from utils.utils import *\n",
                "from utils.model import *\n",
                "from utils.robot import Robot"
            ]
        },
        {
            "cell_type": "code",
            "execution_count": 2,
            "metadata": {},
            "outputs": [],
            "source": [
                "def init_seeds(seed=0):\n",
                "    torch.manual_seed(seed) # sets the seed for generating random numbers.\n",
                "    torch.cuda.manual_seed(seed) # Sets the seed for generating random numbers for the current GPU. It’s safe to call this function if CUDA is not available; in that case, it is silently ignored.\n",
                "    torch.cuda.manual_seed_all(seed) # Sets the seed for generating random numbers on all GPUs. It’s safe to call this function if CUDA is not available; in that case, it is silently ignored.\n",
                "\n",
                "    if seed == 0:\n",
                "        torch.backends.cudnn.deterministic = True\n",
                "        torch.backends.cudnn.benchmark = False\n",
                "init_seeds()"
            ]
        },
        {
            "cell_type": "code",
            "execution_count": 3,
            "metadata": {},
            "outputs": [
                {
                    "name": "stdout",
                    "output_type": "stream",
                    "text": [
                        "F load successfully from /home/luca/ikpflow/data/panda/train/F-2500000-7-3-4.npy\n",
                        "Model load successfully from /home/luca/ikpflow/weights/panda/nsf.pth\n",
                        "knn load successfully from /home/luca/ikpflow/data/panda/train/knn-2500000-7-3-4-normFalse.pickle\n"
                    ]
                }
            ],
            "source": [
                "panda = Robot(verbose=False)\n",
                "# data generation\n",
                "J_tr, P_tr, P_ts, F = load_all_data(panda)\n",
                "# Build Generative model, NSF\n",
                "config = {\n",
                "        'subnet_width': 1024,\n",
                "        'subnet_num_layers': 3,\n",
                "        'num_transforms': 8,\n",
                "        'lr': 4.1e-4,\n",
                "        'lr_weight_decay': 2e-2,\n",
                "        'decay_step_size': 6e4,\n",
                "        'gamma': 8.7e-2,\n",
                "        'batch_size': 128,\n",
                "        'num_epochs': 10,\n",
                "    }\n",
                "# Neural spline flow (NSF) with 3 sample features and 5 context features\n",
                "flow, optimizer, scheduler = get_flow_model(\n",
                "        enable_load_model=cfg.use_pretrained,\n",
                "        num_transforms=config[\"num_transforms\"],\n",
                "        subnet_width=config[\"subnet_width\"],\n",
                "        subnet_num_layers=config[\"subnet_num_layers\"],\n",
                "        lr=config[\"lr\"],\n",
                "        lr_weight_decay=config[\"lr_weight_decay\"],\n",
                "        decay_step_size=config[\"decay_step_size\"],\n",
                "        gamma=config[\"gamma\"],\n",
                "        device='cuda')\n",
                "knn = get_knn(P_tr=P_tr)"
            ]
        },
        {
            "cell_type": "code",
            "execution_count": 4,
            "metadata": {},
            "outputs": [],
            "source": [
                "# mu = torch.randn(size=(7,))\n",
                "mu = torch.zeros(size=(cfg.n,))\n",
                "NUM_DATA = 100\n",
                "NUM_SAMPLES = 1000"
            ]
        },
        {
            "cell_type": "code",
            "execution_count": 5,
            "metadata": {},
            "outputs": [],
            "source": [
                "# iflow = get_iflow_model(flow, init_sample=mu, shrink_ratio=0.01)\n",
                "# test(robot=panda, P_ts=P_ts[:NUM_DATA], F=F, solver=iflow, knn=knn, K=NUM_SAMPLES, print_report=True)"
            ]
        },
        {
            "cell_type": "code",
            "execution_count": 6,
            "metadata": {},
            "outputs": [],
            "source": [
                "# nflow = get_nflow_model(flow=flow)\n",
                "# test(robot=panda, P_ts=P_ts[:NUM_DATA], F=F, solver=nflow, knn=knn, K=NUM_SAMPLES, print_report=True)"
            ]
        },
        {
            "cell_type": "code",
            "execution_count": 7,
            "metadata": {},
            "outputs": [],
            "source": [
                "# total_params = sum(\n",
                "# \tparam.numel() for param in flow.parameters()\n",
                "# )\n",
                "# print(total_params)"
            ]
        },
        {
            "cell_type": "code",
            "execution_count": 50,
            "metadata": {},
            "outputs": [
                {
                    "name": "stdout",
                    "output_type": "stream",
                    "text": [
                        "mkdir /home/luca/ikpflow/data/panda/trajectory/0925141003\n",
                        "/home/luca/ikpflow/data/panda/trajectory/0925141003/ load successfully.\n"
                    ]
                }
            ],
            "source": [
                "Path_dir = sample_P_path(robot=panda, load_time='0925141003')"
            ]
        },
        {
            "cell_type": "code",
            "execution_count": 51,
            "metadata": {},
            "outputs": [],
            "source": [
                "def path_following(\n",
                "    robot,\n",
                "    Path_dir: str,\n",
                "    model,\n",
                "    knn,\n",
                "    F,\n",
                "    num_traj: int = 3,\n",
                ") -> None:\n",
                "    \"\"\"\n",
                "    path following generation for our method\n",
                "    \n",
                "    Parameters\n",
                "    ----------\n",
                "    robot : _type_\n",
                "        robotic arm\n",
                "    Path_dir : str\n",
                "        path to ee Path, generated by sample_P_path\n",
                "    model : _type_\n",
                "        flow, iflow, or nflow\n",
                "    knn : _type_\n",
                "        knn of P_train\n",
                "    F : _type_\n",
                "        F_train\n",
                "    num_traj : int, optional\n",
                "        the number of generated joint trajectory samples, by default 3\n",
                "    \"\"\"\n",
                "\n",
                "    def load_and_plot(exp_traj_path: str):\n",
                "        if os.path.exists(path=exp_traj_path):\n",
                "            qs = load_numpy(exp_traj_path)\n",
                "            robot.plot(qs=qs)\n",
                "        else:\n",
                "            print(f\"{exp_traj_path} does not exist !\")\n",
                "\n",
                "    Path = load_numpy(file_path=Path_dir + \"ee_traj.npy\")\n",
                "    # Path = Path[:, :3]\n",
                "\n",
                "    ref_F = nearest_neighbor_F(knn, np.atleast_2d(Path[0]), F, n_neighbors=40_0000) # knn\n",
                "    # ref_F = F\n",
                "    # ref_F = rand_F(Path[0], F)\n",
                "    \n",
                "    exp_path = lambda idx: Path_dir + f\"exp_{idx}.npy\"\n",
                "    \n",
                "    # rand_idxs = np.random.randint(low=0, high=len(ref_F), size=num_traj)\n",
                "    rand_idxs = [0, 0, 0]\n",
                "\n",
                "    # rand_idxs = list(range(num_traj))\n",
                "    for i, rand in enumerate(rand_idxs):\n",
                "        # ref_F = rand_F(Path[0], F)\n",
                "        \n",
                "        # df, qs = sample_J_traj(Path, ref_F[rand], model, robot) \n",
                "        df, qs = sample_J_traj(Path, ref_F[rand], model, robot) \n",
                "        print(\"=\"*6 + str(rand) + f\"=({ref_F[rand]})\" + \"=\"*6)\n",
                "        print(df.describe())\n",
                "        save_numpy(file_path=exp_path(i), arr=qs)\n",
                "        load_and_plot(exp_traj_path=exp_path(i))"
            ]
        },
        {
            "cell_type": "code",
            "execution_count": 52,
            "metadata": {},
            "outputs": [],
            "source": [
                "iflow = get_iflow_model(flow, init_sample=mu, shrink_ratio=0.1)\n",
                "nflow = get_nflow_model(flow=flow, shrink_ratio=0.2)"
            ]
        },
        {
            "cell_type": "code",
            "execution_count": 53,
            "metadata": {},
            "outputs": [
                {
                    "name": "stdout",
                    "output_type": "stream",
                    "text": [
                        "======0=([-0.01014882 -0.14512376  0.20029698  0.57698549])======\n",
                        "       position_errors  ang_errs(sum)\n",
                        "count        20.000000      20.000000\n",
                        "mean          0.003456      60.764851\n",
                        "std           0.002047      31.326494\n",
                        "min           0.000504      19.083036\n",
                        "25%           0.002279      43.887614\n",
                        "50%           0.002992      49.754499\n",
                        "75%           0.004504      71.584299\n",
                        "max           0.009133     148.332687\n",
                        "======0=([-0.01014882 -0.14512376  0.20029698  0.57698549])======\n",
                        "       position_errors  ang_errs(sum)\n",
                        "count        20.000000      20.000000\n",
                        "mean          0.003294      53.404072\n",
                        "std           0.001815      27.112625\n",
                        "min           0.000411      20.482630\n",
                        "25%           0.001831      34.068739\n",
                        "50%           0.003255      48.873785\n",
                        "75%           0.004138      62.836220\n",
                        "max           0.008593     136.959579\n",
                        "======0=([-0.01014882 -0.14512376  0.20029698  0.57698549])======\n",
                        "       position_errors  ang_errs(sum)\n",
                        "count        20.000000      20.000000\n",
                        "mean          0.003858      56.276626\n",
                        "std           0.002026      26.563554\n",
                        "min           0.001178      18.781517\n",
                        "25%           0.002369      43.879613\n",
                        "50%           0.003398      52.293037\n",
                        "75%           0.005075      58.337375\n",
                        "max           0.007335     128.815933\n"
                    ]
                }
            ],
            "source": [
                "path_following(robot=panda, Path_dir=Path_dir, model=iflow, knn=knn, F=F, num_traj=3)"
            ]
        },
        {
            "cell_type": "code",
            "execution_count": null,
            "metadata": {},
            "outputs": [],
            "source": [
                "path_following(robot=panda, Path_dir=Path_dir, model=nflow, knn=knn, F=F)"
            ]
        },
        {
            "cell_type": "code",
            "execution_count": null,
            "metadata": {},
            "outputs": [],
            "source": [
                "from ikflow.utils import set_seed\n",
                "from ikflow.model_loading import get_ik_solver"
            ]
        },
        {
            "cell_type": "code",
            "execution_count": null,
            "metadata": {},
            "outputs": [],
            "source": [
                "file_names = ['ang_errs_avg', 'ang_errs_min', 'F_avg', 'F_min', 'ikflow_ang', 'ikflow_l2', 'l2_errs_avg', 'l2_errs_min', 'n_evals']\n",
                "exp_5_fig_dir = config.traj_dir + f'figs/exp_5_{datetime.now().strftime(\"%m%d%H%M\")}/'\n",
                "if not os.path.exists(path=exp_5_fig_dir):\n",
                "    os.makedirs(exp_5_fig_dir)\n",
                "set_seed()\n",
                "num_trails = 100\n",
                "num_generation = 100\n",
                "num_ikflow_trails = num_generation\n",
                "num_solutions = 500\n",
                "# Build IKFlowSolver and set weights\n",
                "ik_solver, hyper_parameters = get_ik_solver(\"panda__full__lp191_5.25m\")\n",
                "robot = ik_solver.robot\n",
                "panda = Robot(verbose=False)"
            ]
        },
        {
            "cell_type": "code",
            "execution_count": null,
            "metadata": {},
            "outputs": [],
            "source": [
                "target_poses = load_numpy(file_path=traj_dir + 'ee_traj.npy')\n",
                "# traj_dir, target_poses = get_target_poses(robot=panda)\n",
                "exp_dir = traj_dir + f'exp_5_single_obj/'\n",
                "data = {fn: [] for fn in file_names}\n",
                "\n",
                "# -> unrefined solutions\n",
                "mean_position_errors = np.zeros((num_ikflow_trails,))\n",
                "mean_ang_errs = np.zeros((num_ikflow_trails,))\n",
                "for ikflow_i in range(num_ikflow_trails):\n",
                "    solutions, position_errors, _, _, _, _ = ik_solver.solve_n_poses(\n",
                "        target_poses, \n",
                "        refine_solutions=False, \n",
                "        return_detailed=True)\n",
                "\n",
                "    iksols = solutions.detach().cpu().numpy()\n",
                "    df = eval_J_traj(robot=panda, J_traj=solutions.to('cpu'), P_path=target_poses, position_errors=position_errors)\n",
                "    mean_position_errors[ikflow_i], mean_ang_errs[ikflow_i]  = df.mean().values\n",
                "data['ikflow_l2'] = mean_position_errors\n",
                "data['ikflow_ang'] = mean_ang_errs    \n"
            ]
        },
        {
            "cell_type": "code",
            "execution_count": null,
            "metadata": {},
            "outputs": [],
            "source": [
                "df = pd.DataFrame(mean_position_errors)\n",
                "df.describe()"
            ]
        },
        {
            "cell_type": "code",
            "execution_count": null,
            "metadata": {},
            "outputs": [],
            "source": [
                "df = pd.DataFrame(mean_ang_errs)\n",
                "df.describe()"
            ]
        },
        {
            "cell_type": "code",
            "execution_count": null,
            "metadata": {},
            "outputs": [],
            "source": []
        }
    ],
    "metadata": {
        "kernelspec": {
            "display_name": "base",
            "language": "python",
            "name": "python3"
        },
        "language_info": {
            "codemirror_mode": {
                "name": "ipython",
                "version": 3
            },
            "file_extension": ".py",
            "mimetype": "text/x-python",
            "name": "python",
            "nbconvert_exporter": "python",
            "pygments_lexer": "ipython3",
            "version": "3.9.12"
        },
        "orig_nbformat": 4
    },
    "nbformat": 4,
    "nbformat_minor": 2
}
