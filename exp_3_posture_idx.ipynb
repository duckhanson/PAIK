{
    "cells": [
        {
            "cell_type": "code",
            "execution_count": 1,
            "metadata": {},
            "outputs": [],
            "source": [
                "# Import required packages\n",
                "from datetime import datetime\n",
                "import numpy as np\n",
                "import pandas as pd\n",
                "import torch\n",
                "\n",
                "from utils.model import *\n",
                "from utils.robot import Robot\n",
                "from utils.settings import config as cfg\n",
                "from utils.utils import *"
            ]
        },
        {
            "cell_type": "code",
            "execution_count": 2,
            "metadata": {},
            "outputs": [
                {
                    "name": "stdout",
                    "output_type": "stream",
                    "text": [
                        "F load successfully from /home/luca/ikpflow/data/panda/train/F-2500000-7-3-4.npy\n",
                        "Model load successfully from /home/luca/ikpflow/weights/panda/nsf.pth\n",
                        "knn load successfully from /home/luca/ikpflow/data/panda/train/knn-2500000-7-3-4-normFalse.pickle\n"
                    ]
                }
            ],
            "source": [
                "panda = Robot(verbose=False)\n",
                "# data generation\n",
                "J_tr, P_tr, P_ts, F = load_all_data(panda)\n",
                "# Build Generative model, NSF\n",
                "config = {\n",
                "        'subnet_width': 1024,\n",
                "        'subnet_num_layers': 3,\n",
                "        'num_transforms': 9,\n",
                "        'lr': 2.1e-4,\n",
                "        'lr_weight_decay': 2.7e-2,\n",
                "        'decay_step_size': 4e4,\n",
                "        'gamma': 5e-2,\n",
                "        'batch_size': 128,\n",
                "        'num_epochs': 10,\n",
                "    }\n",
                "# Neural spline flow (NSF) with 3 sample features and 5 context features\n",
                "flow, optimizer, scheduler = get_flow_model(\n",
                "        enable_load_model=cfg.use_pretrained,\n",
                "        num_transforms=config[\"num_transforms\"],\n",
                "        subnet_width=config[\"subnet_width\"],\n",
                "        subnet_num_layers=config[\"subnet_num_layers\"],\n",
                "        lr=config[\"lr\"],\n",
                "        lr_weight_decay=config[\"lr_weight_decay\"],\n",
                "        decay_step_size=config[\"decay_step_size\"],\n",
                "        gamma=config[\"gamma\"],\n",
                "        device='cuda')\n",
                "knn = get_knn(P_tr=P_tr)"
            ]
        },
        {
            "cell_type": "code",
            "execution_count": 3,
            "metadata": {},
            "outputs": [],
            "source": [
                "mu = torch.zeros(size=(cfg.n,))\n",
                "NUM_DATA = 100\n",
                "NUM_SAMPLES = 1000"
            ]
        },
        {
            "cell_type": "code",
            "execution_count": 4,
            "metadata": {},
            "outputs": [
                {
                    "name": "stdout",
                    "output_type": "stream",
                    "text": [
                        "       position errors (m)\n",
                        "count        100000.000000\n",
                        "mean              0.004769\n",
                        "std               0.006784\n",
                        "min               0.000061\n",
                        "25%               0.002320\n",
                        "50%               0.003715\n",
                        "75%               0.005678\n",
                        "max               0.500852\n",
                        "average inference time (of 100 P): 0.09 sec.\n"
                    ]
                },
                {
                    "data": {
                        "text/html": [
                            "<div>\n",
                            "<style scoped>\n",
                            "    .dataframe tbody tr th:only-of-type {\n",
                            "        vertical-align: middle;\n",
                            "    }\n",
                            "\n",
                            "    .dataframe tbody tr th {\n",
                            "        vertical-align: top;\n",
                            "    }\n",
                            "\n",
                            "    .dataframe thead th {\n",
                            "        text-align: right;\n",
                            "    }\n",
                            "</style>\n",
                            "<table border=\"1\" class=\"dataframe\">\n",
                            "  <thead>\n",
                            "    <tr style=\"text-align: right;\">\n",
                            "      <th></th>\n",
                            "      <th>position errors (m)</th>\n",
                            "    </tr>\n",
                            "  </thead>\n",
                            "  <tbody>\n",
                            "    <tr>\n",
                            "      <th>0</th>\n",
                            "      <td>0.004814</td>\n",
                            "    </tr>\n",
                            "    <tr>\n",
                            "      <th>1</th>\n",
                            "      <td>0.009589</td>\n",
                            "    </tr>\n",
                            "    <tr>\n",
                            "      <th>2</th>\n",
                            "      <td>0.004205</td>\n",
                            "    </tr>\n",
                            "    <tr>\n",
                            "      <th>3</th>\n",
                            "      <td>0.004369</td>\n",
                            "    </tr>\n",
                            "    <tr>\n",
                            "      <th>4</th>\n",
                            "      <td>0.004447</td>\n",
                            "    </tr>\n",
                            "    <tr>\n",
                            "      <th>...</th>\n",
                            "      <td>...</td>\n",
                            "    </tr>\n",
                            "    <tr>\n",
                            "      <th>99995</th>\n",
                            "      <td>0.002365</td>\n",
                            "    </tr>\n",
                            "    <tr>\n",
                            "      <th>99996</th>\n",
                            "      <td>0.002878</td>\n",
                            "    </tr>\n",
                            "    <tr>\n",
                            "      <th>99997</th>\n",
                            "      <td>0.005684</td>\n",
                            "    </tr>\n",
                            "    <tr>\n",
                            "      <th>99998</th>\n",
                            "      <td>0.003119</td>\n",
                            "    </tr>\n",
                            "    <tr>\n",
                            "      <th>99999</th>\n",
                            "      <td>0.001797</td>\n",
                            "    </tr>\n",
                            "  </tbody>\n",
                            "</table>\n",
                            "<p>100000 rows × 1 columns</p>\n",
                            "</div>"
                        ],
                        "text/plain": [
                            "       position errors (m)\n",
                            "0                 0.004814\n",
                            "1                 0.009589\n",
                            "2                 0.004205\n",
                            "3                 0.004369\n",
                            "4                 0.004447\n",
                            "...                    ...\n",
                            "99995             0.002365\n",
                            "99996             0.002878\n",
                            "99997             0.005684\n",
                            "99998             0.003119\n",
                            "99999             0.001797\n",
                            "\n",
                            "[100000 rows x 1 columns]"
                        ]
                    },
                    "execution_count": 4,
                    "metadata": {},
                    "output_type": "execute_result"
                }
            ],
            "source": [
                "test(robot=panda, P_ts=P_ts[:NUM_DATA], F=F, solver=flow, knn=knn, K=NUM_SAMPLES, print_report=True)"
            ]
        },
        {
            "cell_type": "code",
            "execution_count": 26,
            "metadata": {},
            "outputs": [
                {
                    "name": "stdout",
                    "output_type": "stream",
                    "text": [
                        "WorldModel::LoadRobot: /home/luca/.cache/jrl/temp_urdfs/panda_arm_hand_formatted_link_filepaths_absolute.urdf\n",
                        "joint mimic: no multiplier, using default value of 1 \n",
                        "joint mimic: no offset, using default value of 0 \n",
                        "URDFParser: Link size: 17\n",
                        "URDFParser: Joint size: 12\n",
                        "LoadAssimp: Loaded model /home/luca/miniconda3/lib/python3.9/site-packages/jrl/urdfs/panda/meshes/visual/link0.dae (59388 verts, 20478 tris)\n",
                        "LoadAssimp: Loaded model /home/luca/miniconda3/lib/python3.9/site-packages/jrl/urdfs/panda/meshes/visual/link1.dae (37309 verts, 12516 tris)\n",
                        "LoadAssimp: Loaded model /home/luca/miniconda3/lib/python3.9/site-packages/jrl/urdfs/panda/meshes/visual/link2.dae (37892 verts, 12716 tris)\n",
                        "LoadAssimp: Loaded model /home/luca/miniconda3/lib/python3.9/site-packages/jrl/urdfs/panda/meshes/visual/link3.dae (42512 verts, 14233 tris)\n",
                        "LoadAssimp: Loaded model /home/luca/miniconda3/lib/python3.9/site-packages/jrl/urdfs/panda/meshes/visual/link4.dae (43520 verts, 14620 tris)\n",
                        "LoadAssimp: Loaded model /home/luca/miniconda3/lib/python3.9/site-packages/jrl/urdfs/panda/meshes/visual/link5.dae (54770 verts, 18327 tris)\n",
                        "LoadAssimp: Loaded model /home/luca/miniconda3/lib/python3.9/site-packages/jrl/urdfs/panda/meshes/visual/link6.dae (64086 verts, 21620 tris)\n",
                        "LoadAssimp: Loaded model /home/luca/miniconda3/lib/python3.9/site-packages/jrl/urdfs/panda/meshes/visual/link7.dae (35829 verts, 12077 tris)\n",
                        "LoadAssimp: Loaded model /home/luca/miniconda3/lib/python3.9/site-packages/jrl/urdfs/panda/meshes/visual/hand.dae (20896 verts, 7078 tris)\n",
                        "LoadAssimp: Loaded model /home/luca/miniconda3/lib/python3.9/site-packages/jrl/urdfs/panda/meshes/visual/finger.dae (1849 verts, 624 tris)\n",
                        "LoadAssimp: Loaded model /home/luca/miniconda3/lib/python3.9/site-packages/jrl/urdfs/panda/meshes/visual/finger.dae (1849 verts, 624 tris)\n",
                        "URDFParser: Done loading robot file /home/luca/.cache/jrl/temp_urdfs/panda_arm_hand_formatted_link_filepaths_absolute.urdf\n",
                        "Initialized robot collision data structures in time 0.465947\n"
                    ]
                }
            ],
            "source": [
                "from jrl.robots import Panda\n",
                "from jrl.evaluation import pose_errors_cm_deg\n",
                "import torch\n",
                "\n",
                "def assert_poses_almost_equal(poses_1, poses_2):\n",
                "    pos_errors_cm, rot_errors_deg = pose_errors_cm_deg(poses_1, poses_2)\n",
                "    assert (pos_errors_cm.max().item() < 0.01) and (rot_errors_deg.max().item() < 0.1)\n",
                "\n",
                "robot = Panda()\n",
                "joint_angles, poses = robot.sample_joint_angles_and_poses(n=5, return_torch=True) # sample 5 random joint angles and matching poses\n",
                "\n",
                "# Run forward-kinematics\n",
                "poses_fk = robot.forward_kinematics_batch(joint_angles) \n",
                "assert_poses_almost_equal(poses, poses_fk)\n",
                "\n",
                "# Run inverse-kinematics\n",
                "ik_sols = joint_angles + 0.1 * torch.randn_like(joint_angles) \n",
                "for i in range(5):\n",
                "    ik_sols = robot.inverse_kinematics_single_step_levenburg_marquardt(poses, ik_sols)\n",
                "assert_poses_almost_equal(poses, robot.forward_kinematics_batch(ik_sols))"
            ]
        },
        {
            "cell_type": "code",
            "execution_count": 27,
            "metadata": {},
            "outputs": [
                {
                    "data": {
                        "text/plain": [
                            "tensor([[-1.0819,  1.6305, -2.4557, -0.1891, -0.1327,  1.6261,  2.0100],\n",
                            "        [ 1.9208, -1.2904,  1.8064, -1.5387, -1.0249,  0.3911,  0.5344],\n",
                            "        [ 1.6244,  1.3597,  2.7328, -2.7020, -0.5981,  0.1660,  0.7866],\n",
                            "        [ 2.2464,  0.6602, -0.6449, -0.7905,  2.8777, -0.0133,  1.9010],\n",
                            "        [-1.0067,  0.8711, -1.5237, -2.4659,  1.7940,  2.8756,  1.8034]],\n",
                            "       device='cuda:0')"
                        ]
                    },
                    "execution_count": 27,
                    "metadata": {},
                    "output_type": "execute_result"
                }
            ],
            "source": [
                "joint_angles"
            ]
        },
        {
            "cell_type": "code",
            "execution_count": null,
            "metadata": {},
            "outputs": [],
            "source": [
                "df = pd.DataFrame(data=data, columns=[f'jt_{i}' for i in range(7)] + ['ml'])"
            ]
        },
        {
            "cell_type": "code",
            "execution_count": null,
            "metadata": {},
            "outputs": [],
            "source": [
                "df.boxplot(by='ml', figsize=(10, 10), layout=(5, 2), fontsize=10)"
            ]
        },
        {
            "cell_type": "code",
            "execution_count": null,
            "metadata": {},
            "outputs": [],
            "source": [
                "x_trans = load_numpy(file_path=config.x_trans_train_path)\n",
                "data = np.column_stack((x_trans, label))\n",
                "df_trans = pd.DataFrame(data=data, columns=[i for i in range(4)] + ['ml'])"
            ]
        },
        {
            "cell_type": "code",
            "execution_count": null,
            "metadata": {},
            "outputs": [],
            "source": [
                "df_trans.boxplot(by='ml', figsize=(10, 10), layout=(5, 2), fontsize=10)"
            ]
        },
        {
            "cell_type": "code",
            "execution_count": null,
            "metadata": {},
            "outputs": [],
            "source": [
                "for i in range(4):\n",
                "    print(df_trans.groupby('ml')[i].describe())"
            ]
        },
        {
            "cell_type": "code",
            "execution_count": null,
            "metadata": {},
            "outputs": [],
            "source": [
                "for i in range(7):\n",
                "    print(df.groupby('ml')[f'jt_{i}'].describe())"
            ]
        }
    ],
    "metadata": {
        "kernelspec": {
            "display_name": "base",
            "language": "python",
            "name": "python3"
        },
        "language_info": {
            "codemirror_mode": {
                "name": "ipython",
                "version": 3
            },
            "file_extension": ".py",
            "mimetype": "text/x-python",
            "name": "python",
            "nbconvert_exporter": "python",
            "pygments_lexer": "ipython3",
            "version": "3.9.12"
        },
        "orig_nbformat": 4
    },
    "nbformat": 4,
    "nbformat_minor": 2
}
