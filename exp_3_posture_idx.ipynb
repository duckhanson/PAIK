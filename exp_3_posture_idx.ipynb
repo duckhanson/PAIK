{
    "cells": [
        {
            "cell_type": "code",
            "execution_count": null,
            "metadata": {},
            "outputs": [],
            "source": [
                "from jrl.robots import Panda\n",
                "from jrl.evaluation import pose_errors_cm_deg\n",
                "import torch\n",
                "\n",
                "def assert_poses_almost_equal(poses_1, poses_2):\n",
                "    pos_errors_cm, rot_errors_deg = pose_errors_cm_deg(poses_1, poses_2)\n",
                "    assert (pos_errors_cm.max().item() < 0.01) and (rot_errors_deg.max().item() < 0.1)\n",
                "\n",
                "robot = Panda()\n",
                "joint_angles, poses = robot.sample_joint_angles_and_poses(n=5, return_torch=True) # sample 5 random joint angles and matching poses\n",
                "\n",
                "# Run forward-kinematics\n",
                "poses_fk = robot.forward_kinematics_batch(joint_angles) \n",
                "assert_poses_almost_equal(poses, poses_fk)\n",
                "\n",
                "# Run inverse-kinematics\n",
                "ik_sols = joint_angles + 0.1 * torch.randn_like(joint_angles) \n",
                "for i in range(5):\n",
                "    ik_sols = robot.inverse_kinematics_single_step_levenburg_marquardt(poses, ik_sols)\n",
                "assert_poses_almost_equal(poses, robot.forward_kinematics_batch(ik_sols))"
            ]
        },
        {
            "cell_type": "code",
            "execution_count": null,
            "metadata": {},
            "outputs": [],
            "source": [
                "from utils.model import get_robot\n",
                "robot = get_robot()"
            ]
        },
        {
            "cell_type": "code",
            "execution_count": null,
            "metadata": {},
            "outputs": [],
            "source": [
                "from klampt.model import trajectory\n",
                "milestones = [[0,0,0],[0.02,0,0],[1,0,0],[2,0,1],[2.2,0,1.5],[3,0,1],[4,0,-0.3]]\n",
                "traj = trajectory.Trajectory(milestones=milestones)"
            ]
        },
        {
            "cell_type": "code",
            "execution_count": null,
            "metadata": {},
            "outputs": [],
            "source": [
                "import numpy as np\n",
                "endPoints = np.random.rand(2, 3)\n",
                "traj = trajectory.Trajectory(milestones=endPoints)\n",
                "endPoints"
            ]
        },
        {
            "cell_type": "code",
            "execution_count": null,
            "metadata": {},
            "outputs": [],
            "source": [
                "from utils.settings import config as cfg\n",
                "\n",
                "numSteps = 20\n",
                "P_path = np.empty((numSteps, cfg.m))\n",
                "\n",
                "for i in range(numSteps):\n",
                "    iStep = i/numSteps\n",
                "    point = traj.eval(iStep)\n",
                "    print(f\"{iStep}: {point}\")\n",
                "    P_path[i] = point\n",
                "\n",
                "P_path"
            ]
        },
        {
            "cell_type": "code",
            "execution_count": null,
            "metadata": {},
            "outputs": [],
            "source": [
                "mu = torch.zeros(size=(cfg.n,))\n",
                "NUM_DATA = 100\n",
                "NUM_SAMPLES = 1000"
            ]
        },
        {
            "cell_type": "code",
            "execution_count": null,
            "metadata": {},
            "outputs": [],
            "source": [
                "test(robot=panda, P_ts=P_ts[:NUM_DATA], F=F, solver=flow, knn=knn, K=NUM_SAMPLES, print_report=True)"
            ]
        },
        {
            "cell_type": "code",
            "execution_count": 3,
            "metadata": {},
            "outputs": [
                {
                    "data": {
                        "text/plain": [
                            "array([False, False, False, False, False, False, False, False, False,\n",
                            "       False, False, False, False, False, False])"
                        ]
                    },
                    "execution_count": 3,
                    "metadata": {},
                    "output_type": "execute_result"
                }
            ],
            "source": [
                "import numpy as np\n",
                "np.isnan(np.array([1,2,3,4,5,6,7,8,9,10,11,12,13,14,15]))"
            ]
        },
        {
            "cell_type": "code",
            "execution_count": null,
            "metadata": {},
            "outputs": [],
            "source": [
                "from jrl.robots import Panda\n",
                "from utils.settings import config as cfg\n",
                "from utils.model import get_knn, get_flow_model\n",
                "from utils.dataset import load_all_data, get_train_loader\n",
                "robot = Panda()\n",
                "J_tr, P_tr, P_ts, F = load_all_data(robot)\n",
                "train_loader = get_train_loader(J=J_tr, P=P_tr, F=F, batch_size=128)\n",
                "batch = next(iter(train_loader))\n",
                "# knn = get_knn(P_tr=P_tr)\n",
                "\n",
                "# # Build Generative model, NSF\n",
                "# config = {\n",
                "#         'subnet_width': 1024,\n",
                "#         'subnet_num_layers': 3,\n",
                "#         'num_transforms': 9,\n",
                "#         'lr': 2.1e-4,\n",
                "#         'lr_weight_decay': 2.7e-2,\n",
                "#         'decay_step_size': 4e4,\n",
                "#         'gamma': 5e-2,\n",
                "#         'batch_size': 128,\n",
                "#         'num_epochs': 10,\n",
                "#     }\n",
                "# # Neural spline flow (NSF) with 3 sample features and 5 context features\n",
                "# solver, _, _ = get_flow_model(\n",
                "#         enable_load_model=cfg.use_pretrained,\n",
                "#         num_transforms=config[\"num_transforms\"],\n",
                "#         subnet_width=config[\"subnet_width\"],\n",
                "#         subnet_num_layers=config[\"subnet_num_layers\"],\n",
                "#         lr=config[\"lr\"],\n",
                "#         lr_weight_decay=config[\"lr_weight_decay\"],\n",
                "#         decay_step_size=config[\"decay_step_size\"],\n",
                "#         gamma=config[\"gamma\"],\n",
                "#         device='cuda')"
            ]
        },
        {
            "cell_type": "code",
            "execution_count": null,
            "metadata": {},
            "outputs": [],
            "source": [
                "# import time \n",
                "# import torch\n",
                "# import numpy as np\n",
                "# from utils.utils import data_preprocess_for_inference\n",
                "# K = 10\n",
                "# position_errors = np.zeros(shape=(len(P_ts), K))\n",
                "# orientation_errors = np.zeros(shape=(len(P_ts), K))\n",
                "\n",
                "\n",
                "# # Data Preprocessing\n",
                "# C = data_preprocess_for_inference(P=P_ts, F=F, knn=knn)\n",
                "\n",
                "\n",
                "# time_begin = time.time()\n",
                "# # Begin inference\n",
                "# with torch.inference_mode():\n",
                "#     J_hat = solver(C).sample((K,))\n",
                "# J_hat = J_hat.detach().cpu().numpy()\n",
                "\n",
                "# P_hat = robot.forward_kinematics_batch(torch.from_numpy(J_hat.reshape(-1, cfg.n)).to(cfg.device))\n",
                "# P_hat = P_hat.reshape(J_hat.shape)\n",
                "\n",
                "# P_ts_e = np.column_stack((P_ts, np.zeros(shape=(len(P_ts), 4))))\n",
                "# P_ts_e.shape\n",
                "\n",
                "# for i in range(len(J_hat)):\n",
                "#     J_hat_i = torch.from_numpy(J_hat[i]).to(cfg.device)\n",
                "#     results = solution_pose_errors(robot=robot, solutions=J_hat_i, target_poses=P_ts)\n",
                "#     l2_errors, angular_errors = results\n",
                "#     df = pd.DataFrame(l2_errors)\n",
                "#     print(df.describe())"
            ]
        },
        {
            "cell_type": "code",
            "execution_count": null,
            "metadata": {},
            "outputs": [],
            "source": [
                "# import numpy as np\n",
                "# import pandas as pd\n",
                "# import torch\n",
                "# from jrl.evaluation import pose_errors, evaluate_solutions, solution_pose_errors\n",
                "# from utils.utils import data_preprocess_for_inference\n",
                "\n",
                "\n",
                "# def evaluate_solver(robot, solver, P_ts, F, knn, K=10):\n",
                "#     C = data_preprocess_for_inference(P=P_ts, F=F, knn=knn)\n",
                "\n",
                "#     with torch.inference_mode():\n",
                "#         J_hat = solver(C).sample((K,))\n",
                "\n",
                "#     l2_errs = np.empty((J_hat.shape[0], J_hat.shape[1]))\n",
                "#     ang_errs = np.empty((J_hat.shape[0], J_hat.shape[1]))\n",
                "#     if P_ts.shape[-1] == 3:\n",
                "#         P_ts = np.column_stack((P_ts, np.ones(shape=(len(P_ts), 4))))\n",
                "#     for i, J in enumerate(J_hat):\n",
                "#         l2_errs[i], ang_errs[i] = solution_pose_errors(robot=robot, solutions=J, target_poses=P_ts)\n",
                "        \n",
                "#     l2_errs = l2_errs.flatten()\n",
                "#     ang_errs = ang_errs.flatten()\n",
                "\n",
                "#     # df = pd.DataFrame()\n",
                "#     # df['l2_errs'] = l2_errs\n",
                "#     # df['ang_errs'] = ang_errs\n",
                "#     # print(df.describe())\n",
                "#     return l2_errs.mean(), ang_errs.mean()\n"
            ]
        },
        {
            "cell_type": "code",
            "execution_count": null,
            "metadata": {},
            "outputs": [],
            "source": [
                "from utils.utils import evaluate_solver\n",
                "evaluate_solver(robot=robot, solver=solver, P_ts=P_ts, F=F, knn=knn, K=10)"
            ]
        },
        {
            "cell_type": "code",
            "execution_count": null,
            "metadata": {},
            "outputs": [],
            "source": [
                "from jrl.robots import Panda\n",
                "from jrl.evaluation import pose_errors_cm_deg\n",
                "import torch\n",
                "\n",
                "def assert_poses_almost_equal(poses_1, poses_2):\n",
                "    pos_errors_cm, rot_errors_deg = pose_errors_cm_deg(poses_1, poses_2)\n",
                "    assert (pos_errors_cm.max().item() < 0.01) and (rot_errors_deg.max().item() < 0.1)\n",
                "\n",
                "robot = Panda()\n",
                "joint_angles, poses = robot.sample_joint_angles_and_poses(n=5, return_torch=True) # sample 5 random joint angles and matching poses\n",
                "\n",
                "# Run forward-kinematics\n",
                "poses_fk = robot.forward_kinematics_batch(joint_angles) \n",
                "assert_poses_almost_equal(poses, poses_fk)\n",
                "\n",
                "# Run inverse-kinematics\n",
                "ik_sols = joint_angles + 0.1 * torch.randn_like(joint_angles) \n",
                "for i in range(5):\n",
                "    ik_sols = robot.inverse_kinematics_single_step_levenburg_marquardt(poses, ik_sols)\n",
                "assert_poses_almost_equal(poses, robot.forward_kinematics_batch(ik_sols))"
            ]
        },
        {
            "cell_type": "code",
            "execution_count": null,
            "metadata": {},
            "outputs": [],
            "source": [
                "joint_angles"
            ]
        },
        {
            "cell_type": "code",
            "execution_count": null,
            "metadata": {},
            "outputs": [],
            "source": [
                "df = pd.DataFrame(data=data, columns=[f'jt_{i}' for i in range(7)] + ['ml'])"
            ]
        },
        {
            "cell_type": "code",
            "execution_count": null,
            "metadata": {},
            "outputs": [],
            "source": [
                "df.boxplot(by='ml', figsize=(10, 10), layout=(5, 2), fontsize=10)"
            ]
        },
        {
            "cell_type": "code",
            "execution_count": null,
            "metadata": {},
            "outputs": [],
            "source": [
                "x_trans = load_numpy(file_path=config.x_trans_train_path)\n",
                "data = np.column_stack((x_trans, label))\n",
                "df_trans = pd.DataFrame(data=data, columns=[i for i in range(4)] + ['ml'])"
            ]
        },
        {
            "cell_type": "code",
            "execution_count": null,
            "metadata": {},
            "outputs": [],
            "source": [
                "df_trans.boxplot(by='ml', figsize=(10, 10), layout=(5, 2), fontsize=10)"
            ]
        },
        {
            "cell_type": "code",
            "execution_count": null,
            "metadata": {},
            "outputs": [],
            "source": [
                "for i in range(4):\n",
                "    print(df_trans.groupby('ml')[i].describe())"
            ]
        },
        {
            "cell_type": "code",
            "execution_count": null,
            "metadata": {},
            "outputs": [],
            "source": [
                "for i in range(7):\n",
                "    print(df.groupby('ml')[f'jt_{i}'].describe())"
            ]
        }
    ],
    "metadata": {
        "kernelspec": {
            "display_name": "base",
            "language": "python",
            "name": "python3"
        },
        "language_info": {
            "codemirror_mode": {
                "name": "ipython",
                "version": 3
            },
            "file_extension": ".py",
            "mimetype": "text/x-python",
            "name": "python",
            "nbconvert_exporter": "python",
            "pygments_lexer": "ipython3",
            "version": "3.9.12"
        },
        "orig_nbformat": 4
    },
    "nbformat": 4,
    "nbformat_minor": 2
}
