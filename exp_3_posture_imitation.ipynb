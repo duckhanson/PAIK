{
 "cells": [
  {
   "cell_type": "code",
   "execution_count": null,
   "metadata": {},
   "outputs": [],
   "source": [
    "import numpy as np\n",
    "from paik.solver import Solver, DEFAULT_SOLVER_PARAM_M7_NORM\n",
    "\n",
    "solver = Solver(solver_param=DEFAULT_SOLVER_PARAM_M7_NORM)"
   ]
  },
  {
   "cell_type": "code",
   "execution_count": null,
   "metadata": {},
   "outputs": [],
   "source": [
    "num_im = 100\n",
    "num_ta = 100\n",
    "num_sols = 1\n",
    "\n",
    "solver.shrink_ratio = 0.0\n",
    "J_im, P_im, F_im = solver.random_sample_JPF(num_samples=num_im)\n",
    "J_ta, P_ta, F_ta = solver.random_sample_JPF(num_samples=num_ta)"
   ]
  },
  {
   "cell_type": "code",
   "execution_count": null,
   "metadata": {},
   "outputs": [],
   "source": [
    "l2_errs = np.zeros((num_im, num_ta))\n",
    "ang_errs = np.zeros((num_im, num_ta))\n",
    "config_errs = np.zeros((num_im, num_ta))\n",
    "\n",
    "for i, (j_im, f_im) in enumerate(zip(J_im, F_im)):\n",
    "    F = np.full_like(F_ta, *f_im)\n",
    "    J = solver.solve(P=P_ta, F=F, num_sols=num_sols, return_numpy=True)\n",
    "    l2_errs[i], ang_errs[i] = solver.evaluate_solutions(J, P_ta, return_col=True)\n",
    "    config_errs[i] = np.linalg.norm(J - j_im, axis=2).mean(axis=0)"
   ]
  },
  {
   "cell_type": "code",
   "execution_count": null,
   "metadata": {},
   "outputs": [],
   "source": [
    "import pandas as pd\n",
    "\n",
    "df = pd.DataFrame(\n",
    "    {\n",
    "        \"l2_err\": l2_errs.flatten(),\n",
    "        \"ang_err\": ang_errs.flatten(),\n",
    "        \"config_err\": config_errs.flatten(),\n",
    "    }\n",
    ")\n",
    "\n",
    "df.describe()"
   ]
  },
  {
   "cell_type": "code",
   "execution_count": null,
   "metadata": {},
   "outputs": [],
   "source": [
    "import numpy as np\n",
    "import pandas as pd\n",
    "from ikflow.utils import set_seed\n",
    "from ikflow.model_loading import get_ik_solver\n",
    "\n",
    "set_seed()\n",
    "\n",
    "# Build IKFlowSolver and set weights\n",
    "ik_solver, hyper_parameters = get_ik_solver(\"panda__full__lp191_5.25m\")\n",
    "robot = ik_solver.robot\n",
    "\n",
    "# -> unrefined solutions\n",
    "l2_errs = np.zeros((num_im, num_ta))\n",
    "ang_errs = np.zeros((num_im, num_ta))\n",
    "config_errs = np.zeros((num_im, num_ta))\n",
    "\n",
    "for i, p in enumerate(P_ta):\n",
    "    (\n",
    "        solutions,\n",
    "        l2_errors,\n",
    "        angular_errors,\n",
    "        _,\n",
    "        _,\n",
    "        _,\n",
    "    ) = ik_solver.solve(\n",
    "        p, n=num_im, refine_solutions=False, return_detailed=True\n",
    "    )  # type: ignore\n",
    "\n",
    "    solutions = solutions.detach().cpu().numpy()\n",
    "\n",
    "    l2_errs[:, i] = l2_errors\n",
    "    ang_errs[:, i] = angular_errors\n",
    "\n",
    "    for j, j_im in enumerate(J_im):\n",
    "        config_errs[j, i] = np.linalg.norm(solutions - j_im, axis=1).mean()"
   ]
  },
  {
   "cell_type": "code",
   "execution_count": null,
   "metadata": {},
   "outputs": [],
   "source": [
    "df = pd.DataFrame(\n",
    "    {\n",
    "        \"l2_err\": l2_errs.flatten(),\n",
    "        \"ang_err\": ang_errs.flatten(),\n",
    "        \"config_err\": config_errs.flatten(),\n",
    "    }\n",
    ")\n",
    "\n",
    "df.describe()"
   ]
  },
  {
   "cell_type": "code",
   "execution_count": null,
   "metadata": {},
   "outputs": [],
   "source": []
  }
 ],
 "metadata": {
  "kernelspec": {
   "display_name": "base",
   "language": "python",
   "name": "python3"
  },
  "language_info": {
   "codemirror_mode": {
    "name": "ipython",
    "version": 3
   },
   "file_extension": ".py",
   "mimetype": "text/x-python",
   "name": "python",
   "nbconvert_exporter": "python",
   "pygments_lexer": "ipython3",
   "version": "3.9.12"
  }
 },
 "nbformat": 4,
 "nbformat_minor": 2
}
