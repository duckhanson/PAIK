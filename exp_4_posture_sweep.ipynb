{
 "cells": [
  {
   "cell_type": "code",
   "execution_count": 1,
   "metadata": {},
   "outputs": [
    {
     "name": "stdout",
     "output_type": "stream",
     "text": [
      "WorldModel::LoadRobot: /home/luca/.cache/jrl/temp_urdfs/panda_arm_hand_formatted_link_filepaths_absolute.urdf\n",
      "joint mimic: no multiplier, using default value of 1 \n",
      "joint mimic: no offset, using default value of 0 \n",
      "URDFParser: Link size: 17\n",
      "URDFParser: Joint size: 12\n",
      "LoadAssimp: Loaded model /home/luca/miniconda3/lib/python3.9/site-packages/jrl/urdfs/panda/meshes/visual/link0.dae (59388 verts, 20478 tris)\n",
      "LoadAssimp: Loaded model /home/luca/miniconda3/lib/python3.9/site-packages/jrl/urdfs/panda/meshes/visual/link1.dae (37309 verts, 12516 tris)\n",
      "LoadAssimp: Loaded model /home/luca/miniconda3/lib/python3.9/site-packages/jrl/urdfs/panda/meshes/visual/link2.dae (37892 verts, 12716 tris)\n",
      "LoadAssimp: Loaded model /home/luca/miniconda3/lib/python3.9/site-packages/jrl/urdfs/panda/meshes/visual/link3.dae (42512 verts, 14233 tris)\n",
      "LoadAssimp: Loaded model /home/luca/miniconda3/lib/python3.9/site-packages/jrl/urdfs/panda/meshes/visual/link4.dae (43520 verts, 14620 tris)\n",
      "LoadAssimp: Loaded model /home/luca/miniconda3/lib/python3.9/site-packages/jrl/urdfs/panda/meshes/visual/link5.dae (54770 verts, 18327 tris)\n",
      "LoadAssimp: Loaded model /home/luca/miniconda3/lib/python3.9/site-packages/jrl/urdfs/panda/meshes/visual/link6.dae (64086 verts, 21620 tris)\n",
      "LoadAssimp: Loaded model /home/luca/miniconda3/lib/python3.9/site-packages/jrl/urdfs/panda/meshes/visual/link7.dae (35829 verts, 12077 tris)\n",
      "LoadAssimp: Loaded model /home/luca/miniconda3/lib/python3.9/site-packages/jrl/urdfs/panda/meshes/visual/hand.dae (20896 verts, 7078 tris)\n",
      "LoadAssimp: Loaded model /home/luca/miniconda3/lib/python3.9/site-packages/jrl/urdfs/panda/meshes/visual/finger.dae (1849 verts, 624 tris)\n",
      "LoadAssimp: Loaded model /home/luca/miniconda3/lib/python3.9/site-packages/jrl/urdfs/panda/meshes/visual/finger.dae (1849 verts, 624 tris)\n",
      "URDFParser: Done loading robot file /home/luca/.cache/jrl/temp_urdfs/panda_arm_hand_formatted_link_filepaths_absolute.urdf\n",
      "Initialized robot collision data structures in time 0.439369\n",
      "[Warning] load error from /home/luca/paik/weights/panda/1118-0317.pth, Error(s) in loading state_dict for Flow:\n",
      "\tsize mismatch for base._0: copying a param with shape torch.Size([1, 7]) from checkpoint, the shape in current model is torch.Size([7])..\n",
      "F load successfully from /home/luca/paik/data/panda/train/F-2400000-7-7-1.npy\n",
      "knn load successfully from /home/luca/paik/data/panda/train/knn-2400000-7-7-1-normFalse.pickle\n"
     ]
    }
   ],
   "source": [
    "import numpy as np\n",
    "from paik.solver import Solver, DEFAULT_SOLVER_PARAM_M7_NORM\n",
    "\n",
    "solver = Solver(solver_param=DEFAULT_SOLVER_PARAM_M7_NORM)"
   ]
  },
  {
   "cell_type": "code",
   "execution_count": 2,
   "metadata": {},
   "outputs": [],
   "source": [
    "num_poses = 1\n",
    "num_sols = 10000\n",
    "\n",
    "solver.shrink_ratio = 0.0\n",
    "J, P, F = solver.get_random_JPF(num_samples=num_poses)"
   ]
  },
  {
   "cell_type": "code",
   "execution_count": 3,
   "metadata": {},
   "outputs": [
    {
     "name": "stdout",
     "output_type": "stream",
     "text": [
      "model inference time: 0.788\n",
      "calculation errors time: 0.20799999999999996\n"
     ]
    },
    {
     "data": {
      "text/plain": [
       "(0.00409362985039085, 0.05523182392120361)"
      ]
     },
     "execution_count": 3,
     "metadata": {},
     "output_type": "execute_result"
    }
   ],
   "source": [
    "avg_pos, avg_ori = solver.random_sample_solutions_with_evaluation(\n",
    "    num_poses=100, num_sols=100\n",
    ")\n",
    "avg_pos, avg_ori"
   ]
  },
  {
   "cell_type": "code",
   "execution_count": 4,
   "metadata": {},
   "outputs": [],
   "source": [
    "l2_errs = np.zeros((num_poses, num_sols))\n",
    "ang_errs = np.zeros((num_poses, num_sols))\n",
    "config_errs = np.zeros((num_poses, num_sols, 7))\n",
    "config = np.empty((num_poses, num_sols, 7))\n",
    "\n",
    "pivot = np.random.randint(0, num_sols)\n",
    "\n",
    "for i, p in enumerate(P):\n",
    "    F = np.random.rand(num_sols, 1)\n",
    "    p = np.tile(p, (num_sols, 1))\n",
    "    J = solver.solve(P=p, F=F, num_sols=1, return_numpy=True)\n",
    "    config[i] = J.reshape((num_sols, 7))\n",
    "    l2_errs[i], ang_errs[i] = solver.evaluate_solutions(J, p, return_col=True)\n",
    "    config_errs[i] = np.abs(config[i] - config[i, pivot])"
   ]
  },
  {
   "cell_type": "code",
   "execution_count": 5,
   "metadata": {},
   "outputs": [
    {
     "data": {
      "text/plain": [
       "(            l2_errs      ang_errs   config_errs\n",
       " count  10000.000000  10000.000000  10000.000000\n",
       " mean       0.684357      1.664277      3.078865\n",
       " std        0.545449      0.987264      1.486614\n",
       " min        0.001638      0.006515      0.000000\n",
       " 25%        0.059399      0.708451      2.140899\n",
       " 50%        0.703843      1.777736      3.017987\n",
       " 75%        1.274864      2.596310      4.474493\n",
       " max        1.488197      3.141433      5.119551,\n",
       "           l2_errs    ang_errs  config_errs\n",
       " count  349.000000  349.000000   349.000000\n",
       " mean     0.003077    0.036563     3.238201\n",
       " std      0.000785    0.016779     0.234027\n",
       " min      0.001638    0.006515     2.779263\n",
       " 25%      0.002352    0.020991     3.311928\n",
       " 50%      0.003414    0.042197     3.329164\n",
       " 75%      0.003737    0.050580     3.356905\n",
       " max      0.004087    0.059592     3.670949)"
      ]
     },
     "execution_count": 5,
     "metadata": {},
     "output_type": "execute_result"
    }
   ],
   "source": [
    "import pandas as pd\n",
    "\n",
    "df = pd.DataFrame(\n",
    "    {\n",
    "        \"l2_errs\": l2_errs.flatten(),\n",
    "        \"ang_errs\": ang_errs.flatten(),\n",
    "        \"config_errs\": config_errs.mean(-1).flatten(),\n",
    "    }\n",
    ")\n",
    "\n",
    "df.describe(), df.query(f\"l2_errs < {avg_pos}\").describe()"
   ]
  },
  {
   "cell_type": "code",
   "execution_count": 6,
   "metadata": {},
   "outputs": [
    {
     "data": {
      "text/plain": [
       "Text(0.5, 0, 'Config Error (rads)')"
      ]
     },
     "execution_count": 6,
     "metadata": {},
     "output_type": "execute_result"
    },
    {
     "data": {
      "image/png": "[encoded data removed]",
      "text/plain": [
       "<Figure size 640x480 with 1 Axes>"
      ]
     },
     "metadata": {},
     "output_type": "display_data"
    }
   ],
   "source": [
    "ax = df.query(f\"l2_errs < {avg_pos}\")[\"config_errs\"].plot.hist(bins=30)\n",
    "ax.set_xlabel(\"Config Error (rads)\")"
   ]
  },
  {
   "cell_type": "code",
   "execution_count": null,
   "metadata": {},
   "outputs": [],
   "source": []
  }
 ],
 "metadata": {
  "kernelspec": {
   "display_name": "base",
   "language": "python",
   "name": "python3"
  },
  "language_info": {
   "codemirror_mode": {
    "name": "ipython",
    "version": 3
   },
   "file_extension": ".py",
   "mimetype": "text/x-python",
   "name": "python",
   "nbconvert_exporter": "python",
   "pygments_lexer": "ipython3",
   "version": "3.9.12"
  }
 },
 "nbformat": 4,
 "nbformat_minor": 2
}
