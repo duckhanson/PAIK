{
 "cells": [
  {
   "cell_type": "code",
   "execution_count": 1,
   "metadata": {},
   "outputs": [
    {
     "name": "stdout",
     "output_type": "stream",
     "text": [
      "WorldModel::LoadRobot: /home/luca/.cache/jrl/temp_urdfs/panda_arm_hand_formatted_link_filepaths_absolute.urdf\n",
      "joint mimic: no multiplier, using default value of 1 \n",
      "joint mimic: no offset, using default value of 0 \n",
      "URDFParser: Link size: 17\n",
      "URDFParser: Joint size: 12\n",
      "LoadAssimp: Loaded model /home/luca/miniconda3/lib/python3.9/site-packages/jrl/urdfs/panda/meshes/visual/link0.dae (59388 verts, 20478 tris)\n",
      "LoadAssimp: Loaded model /home/luca/miniconda3/lib/python3.9/site-packages/jrl/urdfs/panda/meshes/visual/link1.dae (37309 verts, 12516 tris)\n",
      "LoadAssimp: Loaded model /home/luca/miniconda3/lib/python3.9/site-packages/jrl/urdfs/panda/meshes/visual/link2.dae (37892 verts, 12716 tris)\n",
      "LoadAssimp: Loaded model /home/luca/miniconda3/lib/python3.9/site-packages/jrl/urdfs/panda/meshes/visual/link3.dae (42512 verts, 14233 tris)\n",
      "LoadAssimp: Loaded model /home/luca/miniconda3/lib/python3.9/site-packages/jrl/urdfs/panda/meshes/visual/link4.dae (43520 verts, 14620 tris)\n",
      "LoadAssimp: Loaded model /home/luca/miniconda3/lib/python3.9/site-packages/jrl/urdfs/panda/meshes/visual/link5.dae (54770 verts, 18327 tris)\n",
      "LoadAssimp: Loaded model /home/luca/miniconda3/lib/python3.9/site-packages/jrl/urdfs/panda/meshes/visual/link6.dae (64086 verts, 21620 tris)\n",
      "LoadAssimp: Loaded model /home/luca/miniconda3/lib/python3.9/site-packages/jrl/urdfs/panda/meshes/visual/link7.dae (35829 verts, 12077 tris)\n",
      "LoadAssimp: Loaded model /home/luca/miniconda3/lib/python3.9/site-packages/jrl/urdfs/panda/meshes/visual/hand.dae (20896 verts, 7078 tris)\n",
      "LoadAssimp: Loaded model /home/luca/miniconda3/lib/python3.9/site-packages/jrl/urdfs/panda/meshes/visual/finger.dae (1849 verts, 624 tris)\n",
      "LoadAssimp: Loaded model /home/luca/miniconda3/lib/python3.9/site-packages/jrl/urdfs/panda/meshes/visual/finger.dae (1849 verts, 624 tris)\n",
      "URDFParser: Done loading robot file /home/luca/.cache/jrl/temp_urdfs/panda_arm_hand_formatted_link_filepaths_absolute.urdf\n",
      "Initialized robot collision data structures in time 0.429914\n",
      "[Warning] load error from /home/luca/paik/weights/panda/1118-0317.pth, Error(s) in loading state_dict for Flow:\n",
      "\tsize mismatch for base._0: copying a param with shape torch.Size([1, 7]) from checkpoint, the shape in current model is torch.Size([7])..\n",
      "F load successfully from /home/luca/paik/data/panda/train/F-2400000-7-7-1.npy\n",
      "knn load successfully from /home/luca/paik/data/panda/train/knn-2400000-7-7-1-normFalse.pickle\n"
     ]
    }
   ],
   "source": [
    "import numpy as np\n",
    "from paik.solver import Solver, DEFAULT_SOLVER_PARAM_M7_NORM\n",
    "\n",
    "solver = Solver(solver_param=DEFAULT_SOLVER_PARAM_M7_NORM)"
   ]
  },
  {
   "cell_type": "code",
   "execution_count": 26,
   "metadata": {},
   "outputs": [],
   "source": [
    "num_poses = 1\n",
    "num_sols = 1000\n",
    "\n",
    "solver.shrink_ratio = 0.0\n",
    "J, P, F = solver.random_sample_JPF(num_samples=num_poses)"
   ]
  },
  {
   "cell_type": "code",
   "execution_count": 27,
   "metadata": {},
   "outputs": [],
   "source": [
    "l2_errs = np.zeros((num_poses, num_sols))\n",
    "ang_errs = np.zeros((num_poses, num_sols))\n",
    "config_errs = np.zeros((num_poses, num_sols, 7))\n",
    "config = np.empty((num_poses, num_sols, 7))\n",
    "\n",
    "pivot = np.random.randint(0, num_sols)\n",
    "\n",
    "for i, p in enumerate(P):\n",
    "    F = np.random.rand(num_sols, 1)\n",
    "    p = np.tile(p, (num_sols, 1))\n",
    "    J = solver.solve(P=p, F=F, num_sols=1, return_numpy=True)\n",
    "    config[i] = J.reshape((num_sols, 7))\n",
    "    l2_errs[i], ang_errs[i] = solver.evaluate_solutions(J, p, return_col=True)\n",
    "    config_errs[i] = np.abs(config[i] - config[i, pivot])"
   ]
  },
  {
   "cell_type": "code",
   "execution_count": 30,
   "metadata": {},
   "outputs": [
    {
     "data": {
      "text/html": [
       "<div>\n",
       "<style scoped>\n",
       "    .dataframe tbody tr th:only-of-type {\n",
       "        vertical-align: middle;\n",
       "    }\n",
       "\n",
       "    .dataframe tbody tr th {\n",
       "        vertical-align: top;\n",
       "    }\n",
       "\n",
       "    .dataframe thead th {\n",
       "        text-align: right;\n",
       "    }\n",
       "</style>\n",
       "<table border=\"1\" class=\"dataframe\">\n",
       "  <thead>\n",
       "    <tr style=\"text-align: right;\">\n",
       "      <th></th>\n",
       "      <th>l2_errs</th>\n",
       "      <th>ang_errs</th>\n",
       "      <th>config_errs</th>\n",
       "    </tr>\n",
       "  </thead>\n",
       "  <tbody>\n",
       "    <tr>\n",
       "      <th>count</th>\n",
       "      <td>212.000000</td>\n",
       "      <td>212.000000</td>\n",
       "      <td>212.000000</td>\n",
       "    </tr>\n",
       "    <tr>\n",
       "      <th>mean</th>\n",
       "      <td>0.002955</td>\n",
       "      <td>0.020073</td>\n",
       "      <td>3.977054</td>\n",
       "    </tr>\n",
       "    <tr>\n",
       "      <th>std</th>\n",
       "      <td>0.001113</td>\n",
       "      <td>0.010189</td>\n",
       "      <td>0.335959</td>\n",
       "    </tr>\n",
       "    <tr>\n",
       "      <th>min</th>\n",
       "      <td>0.000994</td>\n",
       "      <td>0.005259</td>\n",
       "      <td>3.113898</td>\n",
       "    </tr>\n",
       "    <tr>\n",
       "      <th>25%</th>\n",
       "      <td>0.001817</td>\n",
       "      <td>0.014169</td>\n",
       "      <td>3.836945</td>\n",
       "    </tr>\n",
       "    <tr>\n",
       "      <th>50%</th>\n",
       "      <td>0.003159</td>\n",
       "      <td>0.020467</td>\n",
       "      <td>3.881081</td>\n",
       "    </tr>\n",
       "    <tr>\n",
       "      <th>75%</th>\n",
       "      <td>0.003763</td>\n",
       "      <td>0.024358</td>\n",
       "      <td>4.099815</td>\n",
       "    </tr>\n",
       "    <tr>\n",
       "      <th>max</th>\n",
       "      <td>0.004977</td>\n",
       "      <td>0.083939</td>\n",
       "      <td>4.645547</td>\n",
       "    </tr>\n",
       "  </tbody>\n",
       "</table>\n",
       "</div>"
      ],
      "text/plain": [
       "          l2_errs    ang_errs  config_errs\n",
       "count  212.000000  212.000000   212.000000\n",
       "mean     0.002955    0.020073     3.977054\n",
       "std      0.001113    0.010189     0.335959\n",
       "min      0.000994    0.005259     3.113898\n",
       "25%      0.001817    0.014169     3.836945\n",
       "50%      0.003159    0.020467     3.881081\n",
       "75%      0.003763    0.024358     4.099815\n",
       "max      0.004977    0.083939     4.645547"
      ]
     },
     "execution_count": 30,
     "metadata": {},
     "output_type": "execute_result"
    }
   ],
   "source": [
    "import pandas as pd\n",
    "\n",
    "df = pd.DataFrame(\n",
    "    {\n",
    "        \"l2_errs\": l2_errs.flatten(),\n",
    "        \"ang_errs\": ang_errs.flatten(),\n",
    "        \"config_errs\": config_errs.mean(-1).flatten(),\n",
    "    }\n",
    ")\n",
    "\n",
    "df.query(\"l2_errs < 0.005\").describe()"
   ]
  },
  {
   "cell_type": "code",
   "execution_count": 31,
   "metadata": {},
   "outputs": [
    {
     "data": {
      "text/plain": [
       "<AxesSubplot: ylabel='Frequency'>"
      ]
     },
     "execution_count": 31,
     "metadata": {},
     "output_type": "execute_result"
    },
    {
     "data": {
      "image/png": "[encoded data removed]",
      "text/plain": [
       "<Figure size 640x480 with 1 Axes>"
      ]
     },
     "metadata": {},
     "output_type": "display_data"
    }
   ],
   "source": [
    "df.query(\"l2_errs < 0.01\")[\"config_errs\"].plot.hist(bins=30)"
   ]
  },
  {
   "cell_type": "code",
   "execution_count": null,
   "metadata": {},
   "outputs": [],
   "source": []
  }
 ],
 "metadata": {
  "kernelspec": {
   "display_name": "base",
   "language": "python",
   "name": "python3"
  },
  "language_info": {
   "codemirror_mode": {
    "name": "ipython",
    "version": 3
   },
   "file_extension": ".py",
   "mimetype": "text/x-python",
   "name": "python",
   "nbconvert_exporter": "python",
   "pygments_lexer": "ipython3",
   "version": "3.9.12"
  }
 },
 "nbformat": 4,
 "nbformat_minor": 2
}
