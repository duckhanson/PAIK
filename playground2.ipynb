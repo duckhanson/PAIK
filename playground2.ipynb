{
 "cells": [
  {
   "cell_type": "code",
   "execution_count": 1,
   "metadata": {},
   "outputs": [],
   "source": [
    "# Import required packages\n",
    "import time\n",
    "from typing import Any\n",
    "import numpy as np\n",
    "import pandas as pd\n",
    "import torch\n",
    "from tqdm import tqdm\n",
    "from paik.solver import Solver\n",
    "from paik.settings import (\n",
    "    PANDA_NSF,\n",
    "    PANDA_PAIK,\n",
    "    FETCH_PAIK,\n",
    "\n",
    "    FETCH_ARM_PAIK,\n",
    "    IIWA7_PAIK,\n",
    ")"
   ]
  },
  {
   "cell_type": "code",
   "execution_count": 2,
   "metadata": {},
   "outputs": [
    {
     "name": "stdout",
     "output_type": "stream",
     "text": [
      "WorldModel::LoadRobot: /home/luca/.cache/jrl/temp_urdfs/panda_arm_hand_formatted_link_filepaths_absolute.urdf\n",
      "joint mimic: no multiplier, using default value of 1 \n",
      "joint mimic: no offset, using default value of 0 \n",
      "URDFParser: Link size: 17\n",
      "URDFParser: Joint size: 12\n",
      "LoadAssimp: Loaded model /home/luca/miniconda3/lib/python3.9/site-packages/jrl/urdfs/panda/meshes/visual/link0.dae (59388 verts, 20478 tris)\n",
      "LoadAssimp: Loaded model /home/luca/miniconda3/lib/python3.9/site-packages/jrl/urdfs/panda/meshes/visual/link1.dae (37309 verts, 12516 tris)\n",
      "LoadAssimp: Loaded model /home/luca/miniconda3/lib/python3.9/site-packages/jrl/urdfs/panda/meshes/visual/link2.dae (37892 verts, 12716 tris)\n",
      "LoadAssimp: Loaded model /home/luca/miniconda3/lib/python3.9/site-packages/jrl/urdfs/panda/meshes/visual/link3.dae (42512 verts, 14233 tris)\n",
      "LoadAssimp: Loaded model /home/luca/miniconda3/lib/python3.9/site-packages/jrl/urdfs/panda/meshes/visual/link4.dae (43520 verts, 14620 tris)\n",
      "LoadAssimp: Loaded model /home/luca/miniconda3/lib/python3.9/site-packages/jrl/urdfs/panda/meshes/visual/link5.dae (54770 verts, 18327 tris)\n",
      "LoadAssimp: Loaded model /home/luca/miniconda3/lib/python3.9/site-packages/jrl/urdfs/panda/meshes/visual/link6.dae (64086 verts, 21620 tris)\n",
      "LoadAssimp: Loaded model /home/luca/miniconda3/lib/python3.9/site-packages/jrl/urdfs/panda/meshes/visual/link7.dae (35829 verts, 12077 tris)\n",
      "LoadAssimp: Loaded model /home/luca/miniconda3/lib/python3.9/site-packages/jrl/urdfs/panda/meshes/visual/hand.dae (20896 verts, 7078 tris)\n",
      "LoadAssimp: Loaded model /home/luca/miniconda3/lib/python3.9/site-packages/jrl/urdfs/panda/meshes/visual/finger.dae (1849 verts, 624 tris)\n",
      "LoadAssimp: Loaded model /home/luca/miniconda3/lib/python3.9/site-packages/jrl/urdfs/panda/meshes/visual/finger.dae (1849 verts, 624 tris)\n",
      "URDFParser: Done loading robot file /home/luca/.cache/jrl/temp_urdfs/panda_arm_hand_formatted_link_filepaths_absolute.urdf\n",
      "Initialized robot collision data structures in time 0.430875\n",
      "[SUCCESS] F load from /home/luca/paik/data/panda/train/F-5000000-7-7-1.npy\n",
      "[WARNING] P_knn not found, generate and save in /home/luca/paik/weights/panda/P_knn-5000000-7-7-1.pth.\n",
      "[SUCCESS] P_knn load from /home/luca/paik/weights/panda/P_knn-5000000-7-7-1.pth.\n",
      "[WARNING] J_knn not found, generate and save in /home/luca/paik/weights/panda/J_knn-5000000-7-7-1.pth.\n",
      "[SUCCESS] J_knn load from /home/luca/paik/weights/panda/J_knn-5000000-7-7-1.pth.\n",
      "(\"[INFO] create new model with config: SolverConfig(robot_name='panda', n=7, \"\n",
      " \"m=7, r=1, subnet_num_layers=3, model_architecture='nsf', randperm=False, \"\n",
      " 'base_std=0.68, subnet_width=1024, num_transforms=8, num_bins=10, lr=0.00037, '\n",
      " 'lr_weight_decay=0.012, lr_amsgrad=False, lr_beta=(0.9, 0.999), '\n",
      " 'noise_esp=0.0025, noise_esp_decay=0.97, gamma=0.086, batch_size=2048, '\n",
      " 'num_epochs=15, shce_patience=2, use_nsf_only=False, '\n",
      " \"select_reference_posture_method='knn', ckpt_name='0126-1535', \"\n",
      " \"enable_load_model=True, device='cuda', N=5000000, \"\n",
      " \"data_dir='/home/luca/paik/data/panda', \"\n",
      " \"train_dir='/home/luca/paik/data/panda/train', \"\n",
      " \"weight_dir='/home/luca/paik/weights/panda', max_num_data_hnne=4000000, \"\n",
      " \"traj_dir='/home/luca/paik/data/panda/trajectory/', \"\n",
      " \"dir_paths=('/home/luca/paik/data/panda', '/home/luca/paik/weights/panda', \"\n",
      " \"'/home/luca/paik/data/panda/trajectory/', \"\n",
      " \"'/home/luca/paik/data/panda/train'))\")\n",
      "[WARNING] not load model yet.\n",
      "[SUCCESS] F load from /home/luca/paik/data/panda/train/F-5000000-7-7-1.npy\n",
      "[SUCCESS] P_knn load from /home/luca/paik/weights/panda/P_knn-5000000-7-7-1.pth.\n",
      "[SUCCESS] J_knn load from /home/luca/paik/weights/panda/J_knn-5000000-7-7-1.pth.\n",
      "(\"[INFO] create new model with config: SolverConfig(robot_name='panda', n=7, \"\n",
      " \"m=7, r=1, subnet_num_layers=3, model_architecture='nsf', randperm=False, \"\n",
      " 'base_std=0.4, subnet_width=1024, num_transforms=8, num_bins=9, lr=0.00055, '\n",
      " 'lr_weight_decay=0.014, lr_amsgrad=False, lr_beta=(0.9, 0.91), '\n",
      " 'noise_esp=0.0028, noise_esp_decay=0.97, gamma=0.085, batch_size=2048, '\n",
      " 'num_epochs=15, shce_patience=2, use_nsf_only=False, '\n",
      " \"select_reference_posture_method='knn', ckpt_name='0126-1535', \"\n",
      " \"enable_load_model=False, device='cuda', N=5000000, \"\n",
      " \"data_dir='/home/luca/paik/data/panda', \"\n",
      " \"train_dir='/home/luca/paik/data/panda/train', \"\n",
      " \"weight_dir='/home/luca/paik/weights/panda', max_num_data_hnne=4000000, \"\n",
      " \"traj_dir='/home/luca/paik/data/panda/trajectory/', \"\n",
      " \"dir_paths=('/home/luca/paik/data/panda', '/home/luca/paik/weights/panda', \"\n",
      " \"'/home/luca/paik/data/panda/trajectory/', \"\n",
      " \"'/home/luca/paik/data/panda/train'))\")\n",
      "[WARNING] not load model yet.\n",
      "[SUCCESS] load model, J, P, F, J_knn, P_knn from /home/luca/paik/weights/panda/0703-0717\n"
     ]
    }
   ],
   "source": [
    "solver = Solver(solver_param=PANDA_PAIK, load_date=\"0703-0717\", work_dir=\"/home/luca/paik\")"
   ]
  },
  {
   "cell_type": "code",
   "execution_count": 3,
   "metadata": {},
   "outputs": [
    {
     "name": "stderr",
     "output_type": "stream",
     "text": [
      "100%|██████████| 20/20 [00:09<00:00,  2.21it/s]\n"
     ]
    },
    {
     "name": "stdout",
     "output_type": "stream",
     "text": [
      "  l2 (mm)    ang (deg)    inference_time (ms)\n",
      "---------  -----------  ---------------------\n",
      "     4.31          1.8                     11\n"
     ]
    },
    {
     "data": {
      "text/plain": [
       "(0.004310673440913896, 0.03149972685342673, 0.011, 0.0)"
      ]
     },
     "execution_count": 3,
     "metadata": {},
     "output_type": "execute_result"
    }
   ],
   "source": [
    "solver.evaluate_ikp_iterative(1000, 100)"
   ]
  },
  {
   "cell_type": "code",
   "execution_count": 17,
   "metadata": {},
   "outputs": [],
   "source": [
    "import os\n",
    "from paik.file import save_pickle, load_pickle\n",
    "\n",
    "def save_by_date(date: str):\n",
    "    with open(os.path.join('./', f\"{date}.pth\"), \"w\") as f:\n",
    "        f.write(date)\n",
    "    \n",
    "def remove_by_date(date: str):\n",
    "    os.remove(os.path.join('./', f\"{date}.pth\"))\n",
    "\n",
    "def save_if_top3(date: str, l2: float):\n",
    "    top3_date_path = os.path.join('./', \"top3_date.pth\")\n",
    "    if not os.path.exists(top3_date_path):\n",
    "        save_pickle(top3_date_path, {\"date\": [\"\", \"\", \"\"], \"l2\": [1000, 1000, 1000]})\n",
    "    top3_date = load_pickle(top3_date_path)\n",
    "    save_idx = -1\n",
    "    # # if the top3 date has the current date, then check if the current model is better, if so, replace it\n",
    "    if date in top3_date[\"date\"]:\n",
    "        if l2 < top3_date[\"l2\"][top3_date[\"date\"].index(date)]:\n",
    "            save_idx = top3_date[\"date\"].index(date)\n",
    "    elif l2 < max(top3_date[\"l2\"]):\n",
    "        save_idx = top3_date[\"l2\"].index(max(top3_date[\"l2\"]))\n",
    "    \n",
    "    if save_idx == -1:\n",
    "        print(f\"[INFO] current model is not better than the top3 model in {top3_date_path}\")\n",
    "    else:\n",
    "        if top3_date[\"date\"][save_idx] != \"\" and top3_date[\"date\"][save_idx] != date:\n",
    "            remove_by_date(top3_date[\"date\"][save_idx])\n",
    "        top3_date[\"date\"][save_idx] = date\n",
    "        top3_date[\"l2\"][save_idx] = l2\n",
    "        save_pickle(top3_date_path, top3_date)\n",
    "        save_by_date(date)\n",
    "        print(f\"[SUCCESS] save the date {date} with l2 {l2:.5f} in {top3_date_path}\")\n",
    "    print(f\"[INFO] top3 dates: {top3_date['date']}, top3 l2: {top3_date['l2']}\")"
   ]
  },
  {
   "cell_type": "code",
   "execution_count": 18,
   "metadata": {},
   "outputs": [
    {
     "name": "stdout",
     "output_type": "stream",
     "text": [
      "[SUCCESS] save the date 0702-1911 with l2 0.10001 in ./top3_date.pth\n",
      "[INFO] top3 dates: ['0702-1911', '', ''], top3 l2: [0.10001, 1000, 1000]\n",
      "[SUCCESS] save the date 0702-1914 with l2 0.40004 in ./top3_date.pth\n",
      "[INFO] top3 dates: ['0702-1911', '0702-1914', ''], top3 l2: [0.10001, 0.40004, 1000]\n",
      "[SUCCESS] save the date 0702-1914 with l2 0.30004 in ./top3_date.pth\n",
      "[INFO] top3 dates: ['0702-1911', '0702-1914', ''], top3 l2: [0.10001, 0.30004, 1000]\n",
      "[INFO] current model is not better than the top3 model in ./top3_date.pth\n",
      "[INFO] top3 dates: ['0702-1911', '0702-1914', ''], top3 l2: [0.10001, 0.30004, 1000]\n",
      "[SUCCESS] save the date 0702-1913 with l2 0.30003 in ./top3_date.pth\n",
      "[INFO] top3 dates: ['0702-1911', '0702-1914', '0702-1913'], top3 l2: [0.10001, 0.30004, 0.30003]\n",
      "[SUCCESS] save the date 0702-1912 with l2 0.20002 in ./top3_date.pth\n",
      "[INFO] top3 dates: ['0702-1911', '0702-1912', '0702-1913'], top3 l2: [0.10001, 0.20002, 0.30003]\n",
      "[SUCCESS] save the date 0702-1915 with l2 0.00005 in ./top3_date.pth\n",
      "[INFO] top3 dates: ['0702-1911', '0702-1912', '0702-1915'], top3 l2: [0.10001, 0.20002, 5e-05]\n",
      "[SUCCESS] save the date 0702-1916 with l2 0.00006 in ./top3_date.pth\n",
      "[INFO] top3 dates: ['0702-1911', '0702-1916', '0702-1915'], top3 l2: [0.10001, 6e-05, 5e-05]\n"
     ]
    }
   ],
   "source": [
    "# case 1 sequnece\n",
    "save_if_top3(\"0702-1911\", 0.10001)\n",
    "save_if_top3(\"0702-1914\", 0.40004)\n",
    "save_if_top3(\"0702-1914\", 0.30004)\n",
    "save_if_top3(\"0702-1914\", 0.30006)\n",
    "save_if_top3(\"0702-1913\", 0.30003)\n",
    "save_if_top3(\"0702-1912\", 0.20002)\n",
    "\n",
    "save_if_top3(\"0702-1915\", 0.00005)\n",
    "save_if_top3(\"0702-1916\", 0.00006)"
   ]
  },
  {
   "cell_type": "code",
   "execution_count": 3,
   "metadata": {},
   "outputs": [],
   "source": [
    "from paik.file import save_pickle, load_pickle\n",
    "d = load_pickle(\"/home/luca/paik/weights/panda/top3_date.pth\")"
   ]
  },
  {
   "cell_type": "code",
   "execution_count": 4,
   "metadata": {},
   "outputs": [
    {
     "data": {
      "text/plain": [
       "{'date': ['0703-0717', '', ''], 'l2': [0.004165348787780675, 1000, 1000]}"
      ]
     },
     "execution_count": 4,
     "metadata": {},
     "output_type": "execute_result"
    }
   ],
   "source": [
    "d['date'][1] = \"\"\n",
    "d['date'][2] = \"\"\n",
    "d['l2'][1] = 1000\n",
    "d['l2'][2] = 1000\n",
    "d"
   ]
  },
  {
   "cell_type": "code",
   "execution_count": 5,
   "metadata": {},
   "outputs": [],
   "source": [
    "save_pickle(\"/home/luca/paik/weights/panda/top3_date.pth\", d)"
   ]
  },
  {
   "cell_type": "code",
   "execution_count": 6,
   "metadata": {},
   "outputs": [
    {
     "data": {
      "text/plain": [
       "{'date': ['0703-0717', '', ''], 'l2': [0.004165348787780675, 1000, 1000]}"
      ]
     },
     "execution_count": 6,
     "metadata": {},
     "output_type": "execute_result"
    }
   ],
   "source": [
    "load_pickle(\"/home/luca/paik/weights/panda/top3_date.pth\")"
   ]
  },
  {
   "cell_type": "code",
   "execution_count": null,
   "metadata": {},
   "outputs": [],
   "source": [
    "from paik.model import get_robot"
   ]
  },
  {
   "cell_type": "code",
   "execution_count": null,
   "metadata": {},
   "outputs": [],
   "source": [
    "robot = get_robot(solver_param.robot_name, solver_param.dir_paths)"
   ]
  },
  {
   "cell_type": "code",
   "execution_count": null,
   "metadata": {},
   "outputs": [],
   "source": [
    "robot.n_dofs"
   ]
  },
  {
   "cell_type": "code",
   "execution_count": null,
   "metadata": {},
   "outputs": [],
   "source": [
    "import matplotlib.pyplot as plt\n",
    "import matplotx\n",
    "import numpy as np"
   ]
  },
  {
   "cell_type": "code",
   "execution_count": null,
   "metadata": {},
   "outputs": [],
   "source": [
    "fig = plt.figure()  # an empty figure with no Axes\n",
    "fig, ax = plt.subplots()  # a figure with a single Axes\n",
    "\n",
    "width = 1\n",
    "ticks =np.linspace(0, width, 11)\n",
    "\n",
    "ax.set_xlabel(\"$\\\\theta_{1}$\")\n",
    "ax.set_ylabel(\"$\\\\theta_{2}$\")\n",
    "\n",
    "plt.xticks(ticks, labels=[i for i in range(len(ticks))])\n",
    "plt.yticks(ticks, labels=[i for i in range(len(ticks))])\n",
    "\n",
    "# xtickslabls = [\"\" for i in range(4)] + [\"$\\\\theta^{max}_{1}$\", \"\"]\n",
    "# # Set ticks labels for x-axis\n",
    "# ax.set_xticklabels(xtickslabls)\n",
    "\n",
    "\n",
    "\n",
    "\n",
    "for n, label in enumerate(ax.xaxis.get_ticklabels()):\n",
    "    if n != 1 and n != 9:\n",
    "        label.set_visible(False)\n",
    "\n",
    "for n, label in enumerate(ax.yaxis.get_ticklabels()):\n",
    "    if n != 1 and n != 9:\n",
    "        label.set_visible(False)\n",
    "        \n",
    "\n",
    "min_line_num = 1\n",
    "max_line_num = 8\n",
    "buffer_width = .5\n",
    "nbins = 10\n",
    "\n",
    "lower_bound = (min_line_num-buffer_width)/nbins * width\n",
    "upper_bound = (max_line_num+buffer_width)/nbins * width\n",
    "min_line = min_line_num/nbins * width\n",
    "max_line = max_line_num/nbins * width\n",
    "\n",
    "print(lower_bound, upper_bound, min_line, max_line)\n",
    "# line axvline is dashed\n",
    "plt.axvline(\n",
    "    x=max_line, ymin=lower_bound, ymax=upper_bound, color=\"black\", linestyle=\"--\", label=\"theta_1 max\"\n",
    ")\n",
    "\n",
    "# line axvline is dashed\n",
    "plt.axvline(\n",
    "    x=min_line, ymin=lower_bound, ymax=upper_bound, color=\"black\", linestyle=\"--\", label=\"theta_1 min\"\n",
    ")\n",
    "\n",
    "# line colour is white\n",
    "plt.axhline(y=max_line, xmin=lower_bound, xmax=upper_bound, color=\"black\", linestyle=\"--\", label=\"theta_2 max\")\n",
    "\n",
    "plt.axhline(y=min_line, xmin=lower_bound, xmax=upper_bound, color=\"black\", linestyle=\"--\", label=\"theta_2 max\")\n",
    "\n",
    "\n",
    "ax.spines['left'].set_position('zero')\n",
    "ax.spines['right'].set_visible(False)\n",
    "ax.spines['bottom'].set_position('zero')\n",
    "ax.spines['top'].set_visible(False)\n",
    "ax.xaxis.set_ticks_position('bottom')\n",
    "ax.yaxis.set_ticks_position('left')\n",
    "\n",
    "# make arrows\n",
    "# ax.plot((1), (0), ls=\"\", marker=\">\", ms=10, color=\"k\",\n",
    "#         transform=ax.get_yaxis_transform(), clip_on=False)\n",
    "# ax.plot((0), (1), ls=\"\", marker=\"^\", ms=10, color=\"k\",\n",
    "#         transform=ax.get_xaxis_transform(), clip_on=False)\n",
    "# place legend outside\n",
    "# plt.legend(bbox_to_anchor=(1.0, 1), loc=\"upper left\")"
   ]
  },
  {
   "cell_type": "code",
   "execution_count": null,
   "metadata": {},
   "outputs": [],
   "source": [
    "import matplotlib.pyplot as plt\n",
    "import numpy as np\n",
    "\n",
    "# Define the limits for the plot\n",
    "theta1_min, theta1_max = 0, 10\n",
    "theta2_min, theta2_max = 0, 5\n",
    "\n",
    "# Create a figure and axis\n",
    "fig, ax = plt.subplots()\n",
    "\n",
    "# Set the limits of the plot\n",
    "ax.set_xlim(theta1_min, theta1_max)\n",
    "ax.set_ylim(theta2_min, theta2_max)\n",
    "\n",
    "# Set the labels for the axes\n",
    "ax.set_xlabel(r'$\\theta_1$')\n",
    "ax.set_ylabel(r'$\\theta_2$')\n",
    "\n",
    "# Draw the grid lines\n",
    "ax.grid(True, which='both')\n",
    "\n",
    "# Draw horizontal and vertical lines (grid-like appearance)\n",
    "for y in np.linspace(theta2_min, theta2_max, 100):\n",
    "    ax.axhline(y, color='gray', linewidth=0.5, linestyle='--', alpha=0.5)\n",
    "for x in np.linspace(theta1_min, theta1_max, 100):\n",
    "    ax.axvline(x, color='gray', linewidth=0.5, linestyle='--', alpha=0.5)\n",
    "\n",
    "# Example coordinates for the irregular polygons\n",
    "polygon1 = np.array([[1, 2], [2, 3], [3, 2.5], [2.5, 1.5], [1.5, 1]])\n",
    "polygon2 = np.array([[6, 3], [7, 4], [8, 3.5], [7.5, 2.5], [6.5, 2]])\n",
    "polygon3 = np.array([[4, 1], [5, 2], [6, 1.5], [5.5, 0.5], [4.5, 0]])\n",
    "\n",
    "# Draw the polygons\n",
    "ax.plot(polygon1[:, 0], polygon1[:, 1], 'ko-')  # Black circles connected by lines\n",
    "ax.plot(polygon2[:, 0], polygon2[:, 1], 'ko-')\n",
    "ax.plot(polygon3[:, 0], polygon3[:, 1], 'ko-')\n",
    "\n",
    "# Draw filled areas (for illustration, using one filled area)\n",
    "polygon_fill = np.array([[4, 2], [5, 3], [6, 2.5], [5.5, 1.5], [4.5, 1]])\n",
    "ax.fill(polygon_fill[:, 0], polygon_fill[:, 1], 'gray', alpha=0.5)\n",
    "\n",
    "# Set the major ticks\n",
    "ax.set_xticks(np.arange(theta1_min, theta1_max + 1, 1))\n",
    "ax.set_yticks(np.arange(theta2_min, theta2_max + 1, 1))\n",
    "\n",
    "# Set the minor ticks\n",
    "ax.set_xticks(np.arange(theta1_min, theta1_max + 1, 0.2), minor=True)\n",
    "ax.set_yticks(np.arange(theta2_min, theta2_max + 1, 0.2), minor=True)\n",
    "\n",
    "\n",
    "# Adding arrow labels to the ends of the axes\n",
    "ax.annotate(r'$\\theta_1$', xy=(theta1_max, theta2_min), xytext=(theta1_max + 0.5, theta2_min - 0.5),\n",
    "            arrowprops=dict(facecolor='black', shrink=0.05, width=1, headwidth=8),\n",
    "            fontsize=12, ha='center')\n",
    "ax.annotate(r'$\\theta_2$', xy=(theta1_min, theta2_max), xytext=(theta1_min - 0.5, theta2_max + 0.5),\n",
    "            arrowprops=dict(facecolor='black', shrink=0.05, width=1, headwidth=8),\n",
    "            fontsize=12, ha='center')\n",
    "\n",
    "# Display the plot\n",
    "plt.show()\n"
   ]
  },
  {
   "cell_type": "code",
   "execution_count": null,
   "metadata": {},
   "outputs": [],
   "source": [
    "import numpy as np\n",
    "import matplotlib.pyplot as plt\n",
    "from matplotlib.patches import Polygon\n",
    "\n",
    "theta_min = 1.5\n",
    "theta_max = 8.5\n",
    "font_size = 14\n",
    "\n",
    "# Set up the figure and axis\n",
    "fig, ax = plt.subplots(figsize=(10, 8))\n",
    "\n",
    "# Set axis labels and limits\n",
    "# ax.set_xlabel(r'$\\theta_1$', fontsize=14)\n",
    "# ax.set_ylabel(r'$\\theta_2$', fontsize=14)\n",
    "ax.set_xlim(0, 10)\n",
    "ax.set_ylim(0, 10)\n",
    "\n",
    "# Remove tick marks and labels\n",
    "ax.set_xticks([])\n",
    "ax.set_yticks([])\n",
    "\n",
    "# Add min and max labels\n",
    "ax.text(theta_min, -0.5, r'$\\theta_1^{min}$', fontsize=font_size)\n",
    "ax.text(theta_max, -0.5, r'$\\theta_1^{max}$', fontsize=font_size)\n",
    "ax.text(-0.5, theta_min, r'$\\theta_2^{min}$', fontsize=font_size)\n",
    "ax.text(-0.5, theta_max, r'$\\theta_2^{max}$', fontsize=font_size)\n",
    "\n",
    "# Draw the main curve\n",
    "t = np.linspace(0, 2*np.pi, 200)\n",
    "x = 3 + 1*np.cos(t) - .2*np.sin(t-.17) \n",
    "y = 6 + 1*np.sin(t) + .2*np.cos(t-.37) \n",
    "ax.plot(x, y, 'k-')\n",
    "\n",
    "# Draw the shaded circle\n",
    "circle = plt.Circle((6, 4), 1.5, fill=True, facecolor='lightgray', edgecolor='black')\n",
    "ax.add_artist(circle)\n",
    "\n",
    "ax.axvline(x=theta_min, color='k', linestyle='--', alpha=0.5)\n",
    "ax.axvline(x=theta_max, color='k', linestyle='--', alpha=0.5)\n",
    "\n",
    "ax.axhline(y=theta_min, color='k', linestyle='--', alpha=0.5)\n",
    "ax.axhline(y=theta_max, color='k', linestyle='--', alpha=0.5)\n",
    "\n",
    "# Add grid\n",
    "ax.grid(True, linestyle='--', alpha=0.7)\n",
    "\n",
    "# Remove top and right spines\n",
    "ax.spines['top'].set_visible(False)\n",
    "ax.spines['right'].set_visible(False)\n",
    "\n",
    "ax.plot(1, 0, \">k\", transform=ax.get_yaxis_transform(), clip_on=False)  \n",
    "ax.plot(0, 1, \"^k\", transform=ax.get_xaxis_transform(), clip_on=False)\n",
    "\n",
    "# Extend axis lines\n",
    "ax.spines['left'].set_bounds(0, 10)\n",
    "ax.spines['bottom'].set_bounds(0, 10)\n",
    "\n",
    "# Add axis labels at the ends\n",
    "ax.text(10.1, 0, r'$\\theta_1$', fontsize=font_size, ha='left', va='center')\n",
    "ax.text(0, 10.1, r'$\\theta_2$', fontsize=font_size, ha='center', va='bottom')\n",
    "\n",
    "# Adjust layout and display\n",
    "plt.tight_layout()\n",
    "plt.show()"
   ]
  },
  {
   "cell_type": "code",
   "execution_count": null,
   "metadata": {},
   "outputs": [],
   "source": []
  }
 ],
 "metadata": {
  "kernelspec": {
   "display_name": "base",
   "language": "python",
   "name": "python3"
  },
  "language_info": {
   "codemirror_mode": {
    "name": "ipython",
    "version": 3
   },
   "file_extension": ".py",
   "mimetype": "text/x-python",
   "name": "python",
   "nbconvert_exporter": "python",
   "pygments_lexer": "ipython3",
   "version": "3.9.12"
  }
 },
 "nbformat": 4,
 "nbformat_minor": 2
}
